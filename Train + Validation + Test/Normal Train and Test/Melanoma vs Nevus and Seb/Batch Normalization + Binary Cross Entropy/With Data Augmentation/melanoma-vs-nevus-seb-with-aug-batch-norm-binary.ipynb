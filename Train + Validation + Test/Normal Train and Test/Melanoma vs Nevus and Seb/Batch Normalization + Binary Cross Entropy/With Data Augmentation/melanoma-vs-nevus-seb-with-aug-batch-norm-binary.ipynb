{
 "cells": [
  {
   "cell_type": "code",
   "execution_count": 1,
   "id": "f5cdf657",
   "metadata": {
    "execution": {
     "iopub.execute_input": "2023-08-12T00:58:57.932944Z",
     "iopub.status.busy": "2023-08-12T00:58:57.931972Z",
     "iopub.status.idle": "2023-08-12T00:59:21.135526Z",
     "shell.execute_reply": "2023-08-12T00:59:21.134398Z"
    },
    "id": "37d225cc",
    "outputId": "e6169295-aa0e-40b9-8b1f-4aac56ae8a07",
    "papermill": {
     "duration": 23.214109,
     "end_time": "2023-08-12T00:59:21.138174",
     "exception": false,
     "start_time": "2023-08-12T00:58:57.924065",
     "status": "completed"
    },
    "tags": []
   },
   "outputs": [
    {
     "name": "stdout",
     "output_type": "stream",
     "text": [
      "Requirement already satisfied: tensorflow_addons in /opt/conda/lib/python3.10/site-packages (0.20.0)\r\n",
      "Requirement already satisfied: packaging in /opt/conda/lib/python3.10/site-packages (from tensorflow_addons) (21.3)\r\n",
      "Requirement already satisfied: typeguard<3.0.0,>=2.7 in /opt/conda/lib/python3.10/site-packages (from tensorflow_addons) (2.13.3)\r\n",
      "Requirement already satisfied: pyparsing!=3.0.5,>=2.0.2 in /opt/conda/lib/python3.10/site-packages (from packaging->tensorflow_addons) (3.0.9)\r\n"
     ]
    }
   ],
   "source": [
    "!pip install --quiet vit-keras\n",
    "!pip install tensorflow_addons"
   ]
  },
  {
   "cell_type": "code",
   "execution_count": 4,
   "id": "91050738",
   "metadata": {
    "execution": {
     "iopub.execute_input": "2023-08-12T00:59:21.203712Z",
     "iopub.status.busy": "2023-08-12T00:59:21.202972Z",
     "iopub.status.idle": "2023-08-12T00:59:30.676765Z",
     "shell.execute_reply": "2023-08-12T00:59:30.675757Z"
    },
    "id": "afe143c1",
    "outputId": "1ab54fae-01df-4b8f-f767-ecbe808344f1",
    "papermill": {
     "duration": 9.483585,
     "end_time": "2023-08-12T00:59:30.679224",
     "exception": false,
     "start_time": "2023-08-12T00:59:21.195639",
     "status": "completed"
    },
    "tags": []
   },
   "outputs": [
    {
     "name": "stderr",
     "output_type": "stream",
     "text": [
      "/opt/conda/lib/python3.10/site-packages/scipy/__init__.py:146: UserWarning: A NumPy version >=1.16.5 and <1.23.0 is required for this version of SciPy (detected version 1.23.5\n",
      "  warnings.warn(f\"A NumPy version >={np_minversion} and <{np_maxversion}\"\n",
      "/opt/conda/lib/python3.10/site-packages/tensorflow_io/python/ops/__init__.py:98: UserWarning: unable to load libtensorflow_io_plugins.so: unable to open file: libtensorflow_io_plugins.so, from paths: ['/opt/conda/lib/python3.10/site-packages/tensorflow_io/python/ops/libtensorflow_io_plugins.so']\n",
      "caused by: ['/opt/conda/lib/python3.10/site-packages/tensorflow_io/python/ops/libtensorflow_io_plugins.so: undefined symbol: _ZN3tsl6StatusC1EN10tensorflow5error4CodeESt17basic_string_viewIcSt11char_traitsIcEENS_14SourceLocationE']\n",
      "  warnings.warn(f\"unable to load libtensorflow_io_plugins.so: {e}\")\n",
      "/opt/conda/lib/python3.10/site-packages/tensorflow_io/python/ops/__init__.py:104: UserWarning: file system plugins are not loaded: unable to open file: libtensorflow_io.so, from paths: ['/opt/conda/lib/python3.10/site-packages/tensorflow_io/python/ops/libtensorflow_io.so']\n",
      "caused by: ['/opt/conda/lib/python3.10/site-packages/tensorflow_io/python/ops/libtensorflow_io.so: undefined symbol: _ZTVN10tensorflow13GcsFileSystemE']\n",
      "  warnings.warn(f\"file system plugins are not loaded: {e}\")\n",
      "/opt/conda/lib/python3.10/site-packages/tensorflow_addons/utils/tfa_eol_msg.py:23: UserWarning: \n",
      "\n",
      "TensorFlow Addons (TFA) has ended development and introduction of new features.\n",
      "TFA has entered a minimal maintenance and release mode until a planned end of life in May 2024.\n",
      "Please modify downstream libraries to take dependencies from other repositories in our TensorFlow community (e.g. Keras, Keras-CV, and Keras-NLP). \n",
      "\n",
      "For more information see: https://github.com/tensorflow/addons/issues/2807 \n",
      "\n",
      "  warnings.warn(\n"
     ]
    }
   ],
   "source": [
    "import matplotlib.pyplot as plt\n",
    "import numpy as np\n",
    "import pandas as pd\n",
    "import os\n",
    "from glob import glob\n",
    "import seaborn as sns\n",
    "from PIL import Image\n",
    "np.random.seed(123)\n",
    "from sklearn.preprocessing import label_binarize\n",
    "from sklearn.metrics import confusion_matrix\n",
    "import itertools\n",
    "import keras\n",
    "from keras import backend as K\n",
    "import tensorflow\n",
    "from tensorflow.keras.layers import Dropout, Dense, LayerNormalization, Flatten\n",
    "from tensorflow.keras.activations import gelu\n",
    "from tensorflow.keras.optimizers import Adam, SGD\n",
    "from tensorflow.keras.metrics import categorical_crossentropy\n",
    "from tensorflow.keras.preprocessing.image import ImageDataGenerator\n",
    "from tensorflow.keras.models import Model\n",
    "from tensorflow.keras.callbacks import EarlyStopping, ReduceLROnPlateau, ModelCheckpoint\n",
    "from vit_keras import vit\n",
    "import tensorflow_addons as tfa\n",
    "import math\n",
    "from sklearn.metrics import confusion_matrix\n",
    "from sklearn.model_selection import train_test_split\n",
    "import itertools\n",
    "import shutil\n",
    "import matplotlib.pyplot as plt\n",
    "from zipfile import ZipFile\n",
    "import time\n",
    "from sklearn.model_selection import StratifiedKFold, KFold\n",
    "from sklearn.metrics import roc_auc_score\n",
    "from sklearn.metrics import  precision_score, recall_score, accuracy_score\n",
    "from sklearn.metrics import roc_curve, auc\n",
    "from sklearn.metrics import classification_report\n",
    "import tensorflow as tf\n",
    "from tensorflow.keras import backend as K"
   ]
  },
  {
   "attachments": {},
   "cell_type": "markdown",
   "id": "37fd3443",
   "metadata": {},
   "source": [
    "Initializing the ViT Model"
   ]
  },
  {
   "cell_type": "code",
   "execution_count": 5,
   "id": "4c81b3b0",
   "metadata": {
    "execution": {
     "iopub.execute_input": "2023-08-12T00:59:30.696009Z",
     "iopub.status.busy": "2023-08-12T00:59:30.694082Z",
     "iopub.status.idle": "2023-08-12T00:59:44.706652Z",
     "shell.execute_reply": "2023-08-12T00:59:44.705642Z"
    },
    "id": "0d8eb2cb",
    "outputId": "a5ef6efd-3868-468f-9ba2-36b143ddcefe",
    "papermill": {
     "duration": 14.022807,
     "end_time": "2023-08-12T00:59:44.709134",
     "exception": false,
     "start_time": "2023-08-12T00:59:30.686327",
     "status": "completed"
    },
    "tags": []
   },
   "outputs": [
    {
     "name": "stdout",
     "output_type": "stream",
     "text": [
      "Downloading data from https://github.com/faustomorales/vit-keras/releases/download/dl/ViT-B_16_imagenet21k+imagenet2012.npz\n",
      "347502902/347502902 [==============================] - 7s 0us/step\n"
     ]
    },
    {
     "name": "stderr",
     "output_type": "stream",
     "text": [
      "/opt/conda/lib/python3.10/site-packages/vit_keras/utils.py:81: UserWarning: Resizing position embeddings from 24, 24 to 14, 14\n",
      "  warnings.warn(\n"
     ]
    }
   ],
   "source": [
    "vit_model = vit.vit_b16(\n",
    "        image_size = 224,\n",
    "        activation = 'softmax',\n",
    "        pretrained = True,\n",
    "        include_top = False,\n",
    "        pretrained_top = False,\n",
    "        classes = 2)"
   ]
  },
  {
   "attachments": {},
   "cell_type": "markdown",
   "id": "bf84143f",
   "metadata": {},
   "source": [
    "Adding Additional layers on top of ViT Model"
   ]
  },
  {
   "cell_type": "code",
   "execution_count": 6,
   "id": "0ca98698",
   "metadata": {
    "execution": {
     "iopub.execute_input": "2023-08-12T00:59:44.744131Z",
     "iopub.status.busy": "2023-08-12T00:59:44.743786Z",
     "iopub.status.idle": "2023-08-12T00:59:46.565703Z",
     "shell.execute_reply": "2023-08-12T00:59:46.564542Z"
    },
    "id": "cc2ced1b",
    "outputId": "931ac95d-1ad2-4be9-a8b8-f89b8a0fcfb0",
    "papermill": {
     "duration": 1.841929,
     "end_time": "2023-08-12T00:59:46.567788",
     "exception": false,
     "start_time": "2023-08-12T00:59:44.725859",
     "status": "completed"
    },
    "tags": []
   },
   "outputs": [
    {
     "name": "stdout",
     "output_type": "stream",
     "text": [
      "Model: \"vision_transformer\"\n",
      "_________________________________________________________________\n",
      " Layer (type)                Output Shape              Param #   \n",
      "=================================================================\n",
      " vit-b16 (Functional)        (None, 768)               85798656  \n",
      "                                                                 \n",
      " flatten (Flatten)           (None, 768)               0         \n",
      "                                                                 \n",
      " batch_normalization (BatchN  (None, 768)              3072      \n",
      " ormalization)                                                   \n",
      "                                                                 \n",
      " dense (Dense)               (None, 11)                8459      \n",
      "                                                                 \n",
      " batch_normalization_1 (Batc  (None, 11)               44        \n",
      " hNormalization)                                                 \n",
      "                                                                 \n",
      " dense_1 (Dense)             (None, 2)                 24        \n",
      "                                                                 \n",
      "=================================================================\n",
      "Total params: 85,810,255\n",
      "Trainable params: 85,808,697\n",
      "Non-trainable params: 1,558\n",
      "_________________________________________________________________\n"
     ]
    }
   ],
   "source": [
    "model = tf.keras.Sequential([\n",
    "        vit_model,\n",
    "        tf.keras.layers.Flatten(),\n",
    "        tf.keras.layers.BatchNormalization(),\n",
    "        tf.keras.layers.Dense(11, activation = tfa.activations.gelu),\n",
    "        tf.keras.layers.BatchNormalization(),\n",
    "        tf.keras.layers.Dense(2, 'softmax')\n",
    "    ],\n",
    "    name = 'vision_transformer')\n",
    "\n",
    "model.summary()"
   ]
  },
  {
   "attachments": {},
   "cell_type": "markdown",
   "id": "685735ff",
   "metadata": {},
   "source": [
    "Compiling model using Binary Cross Entropy and Adam optimiser"
   ]
  },
  {
   "cell_type": "code",
   "execution_count": 7,
   "id": "8dd321ca",
   "metadata": {
    "execution": {
     "iopub.execute_input": "2023-08-12T00:59:46.607031Z",
     "iopub.status.busy": "2023-08-12T00:59:46.606670Z",
     "iopub.status.idle": "2023-08-12T00:59:46.628120Z",
     "shell.execute_reply": "2023-08-12T00:59:46.627220Z"
    },
    "id": "f90cf531",
    "papermill": {
     "duration": 0.043517,
     "end_time": "2023-08-12T00:59:46.630361",
     "exception": false,
     "start_time": "2023-08-12T00:59:46.586844",
     "status": "completed"
    },
    "tags": []
   },
   "outputs": [],
   "source": [
    "model.compile(optimizer='adam',loss='binary_crossentropy',metrics=['accuracy'])"
   ]
  },
  {
   "attachments": {},
   "cell_type": "markdown",
   "id": "e59c3191",
   "metadata": {},
   "source": [
    "Function for plotting the graph of Train and Validation Accuracy and loss"
   ]
  },
  {
   "cell_type": "code",
   "execution_count": 9,
   "id": "4765133f",
   "metadata": {
    "execution": {
     "iopub.execute_input": "2023-08-12T00:59:46.714441Z",
     "iopub.status.busy": "2023-08-12T00:59:46.714175Z",
     "iopub.status.idle": "2023-08-12T00:59:46.721083Z",
     "shell.execute_reply": "2023-08-12T00:59:46.720046Z"
    },
    "id": "895825d0",
    "papermill": {
     "duration": 0.028321,
     "end_time": "2023-08-12T00:59:46.723441",
     "exception": false,
     "start_time": "2023-08-12T00:59:46.695120",
     "status": "completed"
    },
    "tags": []
   },
   "outputs": [],
   "source": [
    "def graph_it(history):\n",
    "  acc = history.history['accuracy']\n",
    "  val_acc = history.history['val_accuracy']\n",
    "  loss = history.history['loss']\n",
    "  val_loss = history.history['val_loss']\n",
    "  epochs = range(len(acc))\n",
    "\n",
    "  #Plot Train and Validation Accuracy\n",
    "  plt.plot(epochs, acc, 'r', label='Training accuracy')\n",
    "  plt.plot(epochs, val_acc, 'b', label='Validation accuracy')\n",
    "  plt.title('Model Accuracy: Training and Validation')\n",
    "  plt.legend(loc=0)\n",
    "  plt.figure()\n",
    "\n",
    "  #Plot Train and Validation Loss\n",
    "  plt.plot(epochs, loss, 'r', label='Training loss')\n",
    "  plt.plot(epochs, val_loss, 'b', label='Validation loss')\n",
    "  plt.title('Training and validation Loss')\n",
    "  plt.legend(loc=0)\n",
    "  plt.figure()\n"
   ]
  },
  {
   "attachments": {},
   "cell_type": "markdown",
   "id": "f0d2c8e6",
   "metadata": {},
   "source": [
    "Function for Model Evaluation"
   ]
  },
  {
   "cell_type": "code",
   "execution_count": 10,
   "id": "67269155",
   "metadata": {
    "execution": {
     "iopub.execute_input": "2023-08-12T00:59:46.762253Z",
     "iopub.status.busy": "2023-08-12T00:59:46.761987Z",
     "iopub.status.idle": "2023-08-12T00:59:46.773694Z",
     "shell.execute_reply": "2023-08-12T00:59:46.772843Z"
    },
    "id": "d4a7c9c8",
    "papermill": {
     "duration": 0.033534,
     "end_time": "2023-08-12T00:59:46.775698",
     "exception": false,
     "start_time": "2023-08-12T00:59:46.742164",
     "status": "completed"
    },
    "tags": []
   },
   "outputs": [],
   "source": [
    "from sklearn.metrics import confusion_matrix, roc_auc_score, classification_report, precision_score, roc_curve, ConfusionMatrixDisplay\n",
    "\n",
    "def test_it(model, test_generator):\n",
    "    test_labels = test_generator.classes\n",
    "\n",
    "    predictions = model.predict(test_generator)\n",
    "    predicted_labels = np.argmax(predictions, axis=1)\n",
    "\n",
    "    cm = confusion_matrix(test_labels, predicted_labels)\n",
    "    disp = ConfusionMatrixDisplay(confusion_matrix=cm)\n",
    "    disp.plot()\n",
    "    plt.show()\n",
    "\n",
    "    roc = roc_auc_score(test_labels, predictions[:, 1])  #Calculate ROC score\n",
    "\n",
    "    # Calculate confusion matrix\n",
    "    tn, fp, fn, tp = confusion_matrix(test_labels, predicted_labels).ravel()\n",
    "\n",
    "    # Calculate sensitivity and specificity\n",
    "    sensitivity = tp / (tp + fn)\n",
    "    specificity = tn / (tn + fp)\n",
    "\n",
    "    report = classification_report(test_labels, predicted_labels)   #Classification report\n",
    "\n",
    "    precision = precision_score(test_labels, predicted_labels, average='weighted') #Calculate Precision score\n",
    "\n",
    "    print(\"\\n\", report)\n",
    "    print(f\"Sensitivity: {round(sensitivity, 3)} Specificity: {round(specificity, 3)} Precision: {round(precision, 3)} ROC_AUC_SCORE: {round(roc, 3)}\\n\")\n",
    "\n",
    "    # Plot AUC-ROC curve\n",
    "    fpr, tpr, thresholds = roc_curve(test_labels, predictions[:, 1])\n",
    "    plt.figure(figsize=(4, 4))\n",
    "    plt.plot(fpr, tpr, label='ROC curve (area = %0.2f)' % roc)\n",
    "    plt.plot([0, 1], [0, 1], 'k--')  # Random guessing line\n",
    "    plt.xlim([0.0, 1.0])\n",
    "    plt.ylim([0.0, 1.0])\n",
    "    plt.xlabel('False Positive Rate')\n",
    "    plt.ylabel('True Positive Rate')\n",
    "    plt.title('Receiver Operating Characteristic (ROC) Curve')\n",
    "    plt.legend(loc=\"lower right\")\n",
    "    plt.show()"
   ]
  },
  {
   "cell_type": "code",
   "execution_count": 11,
   "id": "2cd94415",
   "metadata": {
    "execution": {
     "iopub.execute_input": "2023-08-12T00:59:46.813701Z",
     "iopub.status.busy": "2023-08-12T00:59:46.812970Z",
     "iopub.status.idle": "2023-08-12T00:59:46.817558Z",
     "shell.execute_reply": "2023-08-12T00:59:46.816660Z"
    },
    "id": "9671fe3a",
    "papermill": {
     "duration": 0.025793,
     "end_time": "2023-08-12T00:59:46.819654",
     "exception": false,
     "start_time": "2023-08-12T00:59:46.793861",
     "status": "completed"
    },
    "tags": []
   },
   "outputs": [],
   "source": [
    "# Set the directories for the data for task1 (SEB VS NEVUS)\n",
    "train_dir = \"/kaggle/input/isic-train-merge-aug/train_augumented-2023/train_augumented/task1\"\n",
    "test_dir = \"/kaggle/input/isic-train-merge-aug/test2023/test/task1\"\n",
    "val_dir = \"/kaggle/input/isic-train-merge-aug/val-2023/val/task1\""
   ]
  },
  {
   "cell_type": "code",
   "execution_count": 12,
   "id": "60b8c3f3",
   "metadata": {
    "execution": {
     "iopub.execute_input": "2023-08-12T00:59:46.857599Z",
     "iopub.status.busy": "2023-08-12T00:59:46.857342Z",
     "iopub.status.idle": "2023-08-12T00:59:46.861635Z",
     "shell.execute_reply": "2023-08-12T00:59:46.860771Z"
    },
    "id": "e9e4b21a",
    "papermill": {
     "duration": 0.025876,
     "end_time": "2023-08-12T00:59:46.863630",
     "exception": false,
     "start_time": "2023-08-12T00:59:46.837754",
     "status": "completed"
    },
    "tags": []
   },
   "outputs": [],
   "source": [
    "# Define the data generator\n",
    "datagen = ImageDataGenerator(\n",
    "    preprocessing_function= \\\n",
    "    tensorflow.keras.applications.mobilenet.preprocess_input)\n",
    "\n",
    "image_size = (224, 224)\n",
    "batch = 32"
   ]
  },
  {
   "cell_type": "code",
   "execution_count": 13,
   "id": "230b6cab",
   "metadata": {
    "execution": {
     "iopub.execute_input": "2023-08-12T00:59:46.901496Z",
     "iopub.status.busy": "2023-08-12T00:59:46.901236Z",
     "iopub.status.idle": "2023-08-12T00:59:46.906418Z",
     "shell.execute_reply": "2023-08-12T00:59:46.905318Z"
    },
    "id": "e95b7e5b",
    "papermill": {
     "duration": 0.026384,
     "end_time": "2023-08-12T00:59:46.908348",
     "exception": false,
     "start_time": "2023-08-12T00:59:46.881964",
     "status": "completed"
    },
    "tags": []
   },
   "outputs": [],
   "source": [
    "model_path = f'/content/drive/MyDrive/msc_project/model/{title}'\n",
    "os.makedirs(model_path, exist_ok=True)"
   ]
  },
  {
   "attachments": {},
   "cell_type": "markdown",
   "id": "fd0bc9c5",
   "metadata": {},
   "source": [
    "Creating batches to improve memory optimization"
   ]
  },
  {
   "cell_type": "code",
   "execution_count": 14,
   "id": "63b36bf9",
   "metadata": {
    "execution": {
     "iopub.execute_input": "2023-08-12T00:59:46.947175Z",
     "iopub.status.busy": "2023-08-12T00:59:46.946411Z",
     "iopub.status.idle": "2023-08-12T00:59:55.160582Z",
     "shell.execute_reply": "2023-08-12T00:59:55.159676Z"
    },
    "id": "7ATMKowsaH4V",
    "outputId": "34eacc87-86c5-4547-eca7-03fa34b9fa45",
    "papermill": {
     "duration": 8.235534,
     "end_time": "2023-08-12T00:59:55.162609",
     "exception": false,
     "start_time": "2023-08-12T00:59:46.927075",
     "status": "completed"
    },
    "tags": []
   },
   "outputs": [
    {
     "name": "stdout",
     "output_type": "stream",
     "text": [
      "Found 12000 images belonging to 2 classes.\n",
      "Found 150 images belonging to 2 classes.\n",
      "Found 600 images belonging to 2 classes.\n"
     ]
    }
   ],
   "source": [
    "train_batches = datagen.flow_from_directory(train_dir,\n",
    "                                            target_size=(image_size),\n",
    "                                            batch_size=10)\n",
    "\n",
    "valid_batches = datagen.flow_from_directory(val_dir,\n",
    "                                            target_size=(image_size),\n",
    "                                            batch_size=10)\n",
    "\n",
    "# Note: shuffle=False causes the test dataset to not be shuffled\n",
    "test_batches = datagen.flow_from_directory(test_dir,\n",
    "                                            target_size=(image_size),\n",
    "                                            batch_size=1,\n",
    "                                            shuffle=False)"
   ]
  },
  {
   "cell_type": "code",
   "execution_count": 15,
   "id": "23c9112e",
   "metadata": {
    "execution": {
     "iopub.execute_input": "2023-08-12T00:59:55.203771Z",
     "iopub.status.busy": "2023-08-12T00:59:55.202087Z",
     "iopub.status.idle": "2023-08-12T00:59:55.210096Z",
     "shell.execute_reply": "2023-08-12T00:59:55.208942Z"
    },
    "id": "2GDPYOeaVw_n",
    "outputId": "e148aec2-c404-4484-b5be-c78548d65d0d",
    "papermill": {
     "duration": 0.030331,
     "end_time": "2023-08-12T00:59:55.212072",
     "exception": false,
     "start_time": "2023-08-12T00:59:55.181741",
     "status": "completed"
    },
    "tags": []
   },
   "outputs": [
    {
     "data": {
      "text/plain": [
       "{'mel': 0, 'nevus_seb': 1}"
      ]
     },
     "execution_count": 15,
     "metadata": {},
     "output_type": "execute_result"
    }
   ],
   "source": [
    "train_batches.class_indices"
   ]
  },
  {
   "cell_type": "code",
   "execution_count": 16,
   "id": "939ab761",
   "metadata": {
    "execution": {
     "iopub.execute_input": "2023-08-12T00:59:55.252589Z",
     "iopub.status.busy": "2023-08-12T00:59:55.251012Z",
     "iopub.status.idle": "2023-08-12T00:59:55.257556Z",
     "shell.execute_reply": "2023-08-12T00:59:55.256644Z"
    },
    "id": "KiRi8zD6ZIyI",
    "outputId": "f3562ed5-6436-492c-9ac9-8706f03c2fee",
    "papermill": {
     "duration": 0.028491,
     "end_time": "2023-08-12T00:59:55.259518",
     "exception": false,
     "start_time": "2023-08-12T00:59:55.231027",
     "status": "completed"
    },
    "tags": []
   },
   "outputs": [
    {
     "data": {
      "text/plain": [
       "{'mel': 0, 'nevus_seb': 1}"
      ]
     },
     "execution_count": 16,
     "metadata": {},
     "output_type": "execute_result"
    }
   ],
   "source": [
    "valid_batches.class_indices"
   ]
  },
  {
   "cell_type": "code",
   "execution_count": 17,
   "id": "49e948ff",
   "metadata": {
    "execution": {
     "iopub.execute_input": "2023-08-12T00:59:55.299122Z",
     "iopub.status.busy": "2023-08-12T00:59:55.298571Z",
     "iopub.status.idle": "2023-08-12T00:59:55.307647Z",
     "shell.execute_reply": "2023-08-12T00:59:55.306807Z"
    },
    "id": "kunFVJitV2gZ",
    "outputId": "3ca39ef1-de2c-4974-dc7a-232d636d7fda",
    "papermill": {
     "duration": 0.031049,
     "end_time": "2023-08-12T00:59:55.309771",
     "exception": false,
     "start_time": "2023-08-12T00:59:55.278722",
     "status": "completed"
    },
    "tags": []
   },
   "outputs": [
    {
     "name": "stdout",
     "output_type": "stream",
     "text": [
      "Number of images per class: Counter({1: 9756, 0: 2244})\n"
     ]
    }
   ],
   "source": [
    "from collections import Counter\n",
    "\n",
    "class_counts = Counter(train_batches.classes)\n",
    "print(\"Number of images per class:\", class_counts)\n"
   ]
  },
  {
   "cell_type": "code",
   "execution_count": 18,
   "id": "60434ed0",
   "metadata": {
    "execution": {
     "iopub.execute_input": "2023-08-12T00:59:55.350017Z",
     "iopub.status.busy": "2023-08-12T00:59:55.348957Z",
     "iopub.status.idle": "2023-08-12T00:59:55.355437Z",
     "shell.execute_reply": "2023-08-12T00:59:55.354580Z"
    },
    "id": "pZlJ57JkV_Pp",
    "outputId": "28bc9427-3d98-4557-dc9a-ce843493362e",
    "papermill": {
     "duration": 0.02857,
     "end_time": "2023-08-12T00:59:55.357295",
     "exception": false,
     "start_time": "2023-08-12T00:59:55.328725",
     "status": "completed"
    },
    "tags": []
   },
   "outputs": [
    {
     "name": "stdout",
     "output_type": "stream",
     "text": [
      "Number of images per class: {'mel': 2244, 'nevus_seb': 9756}\n"
     ]
    }
   ],
   "source": [
    "class_names = list(train_batches.class_indices.keys())\n",
    "class_counts_with_names = {class_names[idx]: count for idx, count in class_counts.items()}\n",
    "print(\"Number of images per class:\", class_counts_with_names)"
   ]
  },
  {
   "cell_type": "code",
   "execution_count": 19,
   "id": "bf81b3e9",
   "metadata": {
    "execution": {
     "iopub.execute_input": "2023-08-12T00:59:55.397358Z",
     "iopub.status.busy": "2023-08-12T00:59:55.396617Z",
     "iopub.status.idle": "2023-08-12T00:59:55.401655Z",
     "shell.execute_reply": "2023-08-12T00:59:55.400821Z"
    },
    "id": "FjZnz8QRO8xD",
    "papermill": {
     "duration": 0.027094,
     "end_time": "2023-08-12T00:59:55.403592",
     "exception": false,
     "start_time": "2023-08-12T00:59:55.376498",
     "status": "completed"
    },
    "tags": []
   },
   "outputs": [],
   "source": [
    "train_steps = np.ceil(train_batches.n / batch)\n",
    "test_steps = np.ceil(test_batches.n / batch)\n",
    "val_steps = np.ceil(valid_batches.n / batch)"
   ]
  },
  {
   "attachments": {},
   "cell_type": "markdown",
   "id": "4992b8cf",
   "metadata": {},
   "source": [
    "Configuration of Early stopping criteria, learning rate"
   ]
  },
  {
   "cell_type": "code",
   "execution_count": 20,
   "id": "d935f97f",
   "metadata": {
    "execution": {
     "iopub.execute_input": "2023-08-12T00:59:55.444229Z",
     "iopub.status.busy": "2023-08-12T00:59:55.443954Z",
     "iopub.status.idle": "2023-08-12T00:59:55.450253Z",
     "shell.execute_reply": "2023-08-12T00:59:55.449235Z"
    },
    "id": "lQnHiksDahxQ",
    "papermill": {
     "duration": 0.028972,
     "end_time": "2023-08-12T00:59:55.452240",
     "exception": false,
     "start_time": "2023-08-12T00:59:55.423268",
     "status": "completed"
    },
    "tags": []
   },
   "outputs": [],
   "source": [
    "early_stopping = EarlyStopping(monitor='val_loss',patience=8)   #Configuring early stopping criteria\n",
    "\n",
    "checkpointer = tf.keras.callbacks.ModelCheckpoint(filepath = 'model.hdf5',\n",
    "                                                  monitor = 'val_accuracy',\n",
    "                                                  verbose = 1,\n",
    "                                                  save_best_only = True,\n",
    "                                                  save_weights_only = True,\n",
    "                                                  mode = 'max')\n",
    "#Configure dynamic learning rate\n",
    "def step_decay(epoch):\n",
    "    initial_lrate = 0.00002\n",
    "    drop = 0.1\n",
    "    epochs_drop = 10.0\n",
    "    lrate = initial_lrate * math.pow(drop, math.floor((1+epoch)/epochs_drop))\n",
    "    return lrate\n",
    "\n",
    "lr_scheduler = tf.keras.callbacks.LearningRateScheduler(step_decay, verbose=1)"
   ]
  },
  {
   "cell_type": "code",
   "execution_count": 21,
   "id": "3fb44648",
   "metadata": {
    "execution": {
     "iopub.execute_input": "2023-08-12T00:59:55.492756Z",
     "iopub.status.busy": "2023-08-12T00:59:55.492015Z",
     "iopub.status.idle": "2023-08-12T00:59:55.496570Z",
     "shell.execute_reply": "2023-08-12T00:59:55.495733Z"
    },
    "id": "t9YyA-CMalyq",
    "papermill": {
     "duration": 0.026863,
     "end_time": "2023-08-12T00:59:55.498494",
     "exception": false,
     "start_time": "2023-08-12T00:59:55.471631",
     "status": "completed"
    },
    "tags": []
   },
   "outputs": [],
   "source": [
    "callbacks = [early_stopping, checkpointer, lr_scheduler]"
   ]
  },
  {
   "attachments": {},
   "cell_type": "markdown",
   "id": "26ddc5d2",
   "metadata": {},
   "source": [
    "Model Training"
   ]
  },
  {
   "cell_type": "code",
   "execution_count": 22,
   "id": "79b19c42",
   "metadata": {
    "execution": {
     "iopub.execute_input": "2023-08-12T00:59:55.539162Z",
     "iopub.status.busy": "2023-08-12T00:59:55.538430Z",
     "iopub.status.idle": "2023-08-12T01:40:17.216241Z",
     "shell.execute_reply": "2023-08-12T01:40:17.215307Z"
    },
    "id": "h0jl4qCjapIq",
    "outputId": "dd346cff-9940-4b11-dc0f-83150996febd",
    "papermill": {
     "duration": 2421.700275,
     "end_time": "2023-08-12T01:40:17.218328",
     "exception": false,
     "start_time": "2023-08-12T00:59:55.518053",
     "status": "completed"
    },
    "tags": []
   },
   "outputs": [
    {
     "name": "stdout",
     "output_type": "stream",
     "text": [
      "\n",
      "Epoch 1: LearningRateScheduler setting learning rate to 2e-05.\n",
      "Epoch 1/20\n"
     ]
    },
    {
     "name": "stderr",
     "output_type": "stream",
     "text": [
      "/tmp/ipykernel_24/2723391100.py:1: UserWarning: `Model.fit_generator` is deprecated and will be removed in a future version. Please use `Model.fit`, which supports generators.\n",
      "  history = model.fit_generator(train_batches, steps_per_epoch=train_steps,\n"
     ]
    },
    {
     "name": "stdout",
     "output_type": "stream",
     "text": [
      "375/375 [==============================] - ETA: 0s - loss: 0.7173 - accuracy: 0.5995\n",
      "Epoch 1: val_accuracy improved from -inf to 0.80000, saving model to model.hdf5\n",
      "375/375 [==============================] - 159s 281ms/step - loss: 0.7173 - accuracy: 0.5995 - val_loss: 0.5004 - val_accuracy: 0.8000 - lr: 2.0000e-05\n",
      "\n",
      "Epoch 2: LearningRateScheduler setting learning rate to 2e-05.\n",
      "Epoch 2/20\n",
      "375/375 [==============================] - ETA: 0s - loss: 0.6095 - accuracy: 0.6984\n",
      "Epoch 2: val_accuracy improved from 0.80000 to 0.84000, saving model to model.hdf5\n",
      "375/375 [==============================] - 103s 273ms/step - loss: 0.6095 - accuracy: 0.6984 - val_loss: 0.4135 - val_accuracy: 0.8400 - lr: 2.0000e-05\n",
      "\n",
      "Epoch 3: LearningRateScheduler setting learning rate to 2e-05.\n",
      "Epoch 3/20\n",
      "375/375 [==============================] - ETA: 0s - loss: 0.5703 - accuracy: 0.7469\n",
      "Epoch 3: val_accuracy did not improve from 0.84000\n",
      "375/375 [==============================] - 101s 270ms/step - loss: 0.5703 - accuracy: 0.7469 - val_loss: 0.4300 - val_accuracy: 0.8200 - lr: 2.0000e-05\n",
      "\n",
      "Epoch 4: LearningRateScheduler setting learning rate to 2e-05.\n",
      "Epoch 4/20\n",
      "375/375 [==============================] - ETA: 0s - loss: 0.5196 - accuracy: 0.7995\n",
      "Epoch 4: val_accuracy did not improve from 0.84000\n",
      "375/375 [==============================] - 101s 270ms/step - loss: 0.5196 - accuracy: 0.7995 - val_loss: 0.4348 - val_accuracy: 0.8200 - lr: 2.0000e-05\n",
      "\n",
      "Epoch 5: LearningRateScheduler setting learning rate to 2e-05.\n",
      "Epoch 5/20\n",
      "375/375 [==============================] - ETA: 0s - loss: 0.4980 - accuracy: 0.8181\n",
      "Epoch 5: val_accuracy did not improve from 0.84000\n",
      "375/375 [==============================] - 101s 270ms/step - loss: 0.4980 - accuracy: 0.8181 - val_loss: 0.5340 - val_accuracy: 0.7800 - lr: 2.0000e-05\n",
      "\n",
      "Epoch 6: LearningRateScheduler setting learning rate to 2e-05.\n",
      "Epoch 6/20\n",
      "375/375 [==============================] - ETA: 0s - loss: 0.4473 - accuracy: 0.8501\n",
      "Epoch 6: val_accuracy improved from 0.84000 to 0.88000, saving model to model.hdf5\n",
      "375/375 [==============================] - 102s 272ms/step - loss: 0.4473 - accuracy: 0.8501 - val_loss: 0.5260 - val_accuracy: 0.8800 - lr: 2.0000e-05\n",
      "\n",
      "Epoch 7: LearningRateScheduler setting learning rate to 2e-05.\n",
      "Epoch 7/20\n",
      "375/375 [==============================] - ETA: 0s - loss: 0.4221 - accuracy: 0.8707\n",
      "Epoch 7: val_accuracy did not improve from 0.88000\n",
      "375/375 [==============================] - 102s 271ms/step - loss: 0.4221 - accuracy: 0.8707 - val_loss: 0.4918 - val_accuracy: 0.8600 - lr: 2.0000e-05\n",
      "\n",
      "Epoch 8: LearningRateScheduler setting learning rate to 2e-05.\n",
      "Epoch 8/20\n",
      "375/375 [==============================] - ETA: 0s - loss: 0.3933 - accuracy: 0.8859\n",
      "Epoch 8: val_accuracy did not improve from 0.88000\n",
      "375/375 [==============================] - 101s 270ms/step - loss: 0.3933 - accuracy: 0.8859 - val_loss: 0.4308 - val_accuracy: 0.8200 - lr: 2.0000e-05\n",
      "\n",
      "Epoch 9: LearningRateScheduler setting learning rate to 2e-05.\n",
      "Epoch 9/20\n",
      "375/375 [==============================] - ETA: 0s - loss: 0.3767 - accuracy: 0.8971\n",
      "Epoch 9: val_accuracy did not improve from 0.88000\n",
      "375/375 [==============================] - 101s 270ms/step - loss: 0.3767 - accuracy: 0.8971 - val_loss: 0.4559 - val_accuracy: 0.8600 - lr: 2.0000e-05\n",
      "\n",
      "Epoch 10: LearningRateScheduler setting learning rate to 2.0000000000000003e-06.\n",
      "Epoch 10/20\n",
      "375/375 [==============================] - ETA: 0s - loss: 0.3349 - accuracy: 0.9187\n",
      "Epoch 10: val_accuracy improved from 0.88000 to 0.90000, saving model to model.hdf5\n",
      "375/375 [==============================] - 102s 273ms/step - loss: 0.3349 - accuracy: 0.9187 - val_loss: 0.3443 - val_accuracy: 0.9000 - lr: 2.0000e-06\n",
      "\n",
      "Epoch 11: LearningRateScheduler setting learning rate to 2.0000000000000003e-06.\n",
      "Epoch 11/20\n",
      "375/375 [==============================] - ETA: 0s - loss: 0.3173 - accuracy: 0.9307\n",
      "Epoch 11: val_accuracy improved from 0.90000 to 0.92000, saving model to model.hdf5\n",
      "375/375 [==============================] - 102s 273ms/step - loss: 0.3173 - accuracy: 0.9307 - val_loss: 0.3229 - val_accuracy: 0.9200 - lr: 2.0000e-06\n",
      "\n",
      "Epoch 12: LearningRateScheduler setting learning rate to 2.0000000000000003e-06.\n",
      "Epoch 12/20\n",
      "375/375 [==============================] - ETA: 0s - loss: 0.3129 - accuracy: 0.9261\n",
      "Epoch 12: val_accuracy did not improve from 0.92000\n",
      "375/375 [==============================] - 101s 270ms/step - loss: 0.3129 - accuracy: 0.9261 - val_loss: 0.3680 - val_accuracy: 0.9000 - lr: 2.0000e-06\n",
      "\n",
      "Epoch 13: LearningRateScheduler setting learning rate to 2.0000000000000003e-06.\n",
      "Epoch 13/20\n",
      "375/375 [==============================] - ETA: 0s - loss: 0.2993 - accuracy: 0.9405\n",
      "Epoch 13: val_accuracy did not improve from 0.92000\n",
      "375/375 [==============================] - 101s 270ms/step - loss: 0.2993 - accuracy: 0.9405 - val_loss: 0.3825 - val_accuracy: 0.8600 - lr: 2.0000e-06\n",
      "\n",
      "Epoch 14: LearningRateScheduler setting learning rate to 2.0000000000000003e-06.\n",
      "Epoch 14/20\n",
      "375/375 [==============================] - ETA: 0s - loss: 0.3087 - accuracy: 0.9381\n",
      "Epoch 14: val_accuracy did not improve from 0.92000\n",
      "375/375 [==============================] - 101s 270ms/step - loss: 0.3087 - accuracy: 0.9381 - val_loss: 0.4305 - val_accuracy: 0.8400 - lr: 2.0000e-06\n",
      "\n",
      "Epoch 15: LearningRateScheduler setting learning rate to 2.0000000000000003e-06.\n",
      "Epoch 15/20\n",
      "375/375 [==============================] - ETA: 0s - loss: 0.3102 - accuracy: 0.9259\n",
      "Epoch 15: val_accuracy did not improve from 0.92000\n",
      "375/375 [==============================] - 101s 270ms/step - loss: 0.3102 - accuracy: 0.9259 - val_loss: 0.3728 - val_accuracy: 0.9000 - lr: 2.0000e-06\n",
      "\n",
      "Epoch 16: LearningRateScheduler setting learning rate to 2.0000000000000003e-06.\n",
      "Epoch 16/20\n",
      "375/375 [==============================] - ETA: 0s - loss: 0.2865 - accuracy: 0.9400\n",
      "Epoch 16: val_accuracy did not improve from 0.92000\n",
      "375/375 [==============================] - 101s 270ms/step - loss: 0.2865 - accuracy: 0.9400 - val_loss: 0.3371 - val_accuracy: 0.9000 - lr: 2.0000e-06\n",
      "\n",
      "Epoch 17: LearningRateScheduler setting learning rate to 2.0000000000000003e-06.\n",
      "Epoch 17/20\n",
      "375/375 [==============================] - ETA: 0s - loss: 0.2902 - accuracy: 0.9352\n",
      "Epoch 17: val_accuracy did not improve from 0.92000\n",
      "375/375 [==============================] - 101s 270ms/step - loss: 0.2902 - accuracy: 0.9352 - val_loss: 0.4054 - val_accuracy: 0.8800 - lr: 2.0000e-06\n",
      "\n",
      "Epoch 18: LearningRateScheduler setting learning rate to 2.0000000000000003e-06.\n",
      "Epoch 18/20\n",
      "375/375 [==============================] - ETA: 0s - loss: 0.2988 - accuracy: 0.9219\n",
      "Epoch 18: val_accuracy did not improve from 0.92000\n",
      "375/375 [==============================] - 101s 270ms/step - loss: 0.2988 - accuracy: 0.9219 - val_loss: 0.3019 - val_accuracy: 0.9000 - lr: 2.0000e-06\n",
      "\n",
      "Epoch 19: LearningRateScheduler setting learning rate to 2.0000000000000003e-06.\n",
      "Epoch 19/20\n",
      "375/375 [==============================] - ETA: 0s - loss: 0.2794 - accuracy: 0.9432\n",
      "Epoch 19: val_accuracy did not improve from 0.92000\n",
      "375/375 [==============================] - 101s 270ms/step - loss: 0.2794 - accuracy: 0.9432 - val_loss: 0.4325 - val_accuracy: 0.8600 - lr: 2.0000e-06\n",
      "\n",
      "Epoch 20: LearningRateScheduler setting learning rate to 2.0000000000000004e-07.\n",
      "Epoch 20/20\n",
      "375/375 [==============================] - ETA: 0s - loss: 0.2878 - accuracy: 0.9387\n",
      "Epoch 20: val_accuracy did not improve from 0.92000\n",
      "375/375 [==============================] - 101s 270ms/step - loss: 0.2878 - accuracy: 0.9387 - val_loss: 0.4255 - val_accuracy: 0.8600 - lr: 2.0000e-07\n"
     ]
    }
   ],
   "source": [
    "history = model.fit_generator(train_batches, steps_per_epoch=train_steps,\n",
    "                              validation_data=valid_batches,\n",
    "                              validation_steps=val_steps,\n",
    "                              epochs=20,\n",
    "                              callbacks=callbacks)"
   ]
  },
  {
   "cell_type": "code",
   "execution_count": 23,
   "id": "27abaa2c",
   "metadata": {
    "execution": {
     "iopub.execute_input": "2023-08-12T01:40:18.465702Z",
     "iopub.status.busy": "2023-08-12T01:40:18.465333Z",
     "iopub.status.idle": "2023-08-12T01:40:19.140737Z",
     "shell.execute_reply": "2023-08-12T01:40:19.139789Z"
    },
    "id": "1a6c5f39",
    "outputId": "17b96340-ce66-41c8-d26e-dddae545a67e",
    "papermill": {
     "duration": 1.272733,
     "end_time": "2023-08-12T01:40:19.142816",
     "exception": false,
     "start_time": "2023-08-12T01:40:17.870083",
     "status": "completed"
    },
    "tags": []
   },
   "outputs": [
    {
     "data": {
      "image/png": "[encoded data removed]",
      "text/plain": [
       "<Figure size 640x480 with 1 Axes>"
      ]
     },
     "metadata": {},
     "output_type": "display_data"
    },
    {
     "data": {
      "image/png": "[encoded data removed]",
      "text/plain": [
       "<Figure size 640x480 with 1 Axes>"
      ]
     },
     "metadata": {},
     "output_type": "display_data"
    },
    {
     "data": {
      "text/plain": [
       "<Figure size 640x480 with 0 Axes>"
      ]
     },
     "metadata": {},
     "output_type": "display_data"
    }
   ],
   "source": [
    "graph_it(history)"
   ]
  },
  {
   "cell_type": "markdown",
   "id": "ab87cd0b",
   "metadata": {
    "id": "1a1bbbee",
    "papermill": {
     "duration": 0.608563,
     "end_time": "2023-08-12T01:40:20.350482",
     "exception": false,
     "start_time": "2023-08-12T01:40:19.741919",
     "status": "completed"
    },
    "tags": []
   },
   "source": [
    "**Model Evaluation using test data**"
   ]
  },
  {
   "cell_type": "code",
   "execution_count": 24,
   "id": "aa266663",
   "metadata": {
    "execution": {
     "iopub.execute_input": "2023-08-12T01:40:21.595976Z",
     "iopub.status.busy": "2023-08-12T01:40:21.595590Z",
     "iopub.status.idle": "2023-08-12T01:40:44.138758Z",
     "shell.execute_reply": "2023-08-12T01:40:44.137833Z"
    },
    "id": "f7da54c9",
    "outputId": "ecea17ae-4edf-4a36-bf31-2389ab07cc3b",
    "papermill": {
     "duration": 23.144368,
     "end_time": "2023-08-12T01:40:44.140818",
     "exception": false,
     "start_time": "2023-08-12T01:40:20.996450",
     "status": "completed"
    },
    "tags": []
   },
   "outputs": [
    {
     "name": "stdout",
     "output_type": "stream",
     "text": [
      "600/600 [==============================] - 21s 31ms/step\n"
     ]
    },
    {
     "data": {
      "image/png": "[encoded data removed]",
      "text/plain": [
       "<Figure size 640x480 with 2 Axes>"
      ]
     },
     "metadata": {},
     "output_type": "display_data"
    },
    {
     "name": "stdout",
     "output_type": "stream",
     "text": [
      "\n",
      "               precision    recall  f1-score   support\n",
      "\n",
      "           0       0.56      0.50      0.53       117\n",
      "           1       0.88      0.90      0.89       483\n",
      "\n",
      "    accuracy                           0.82       600\n",
      "   macro avg       0.72      0.70      0.71       600\n",
      "weighted avg       0.82      0.82      0.82       600\n",
      "\n",
      "Sensitivity: 0.903 Specificity: 0.504 Precision: 0.819 ROC_AUC_SCORE: 0.754\n",
      "\n"
     ]
    },
    {
     "data": {
      "image/png": "[encoded data removed]",
      "text/plain": [
       "<Figure size 400x400 with 1 Axes>"
      ]
     },
     "metadata": {},
     "output_type": "display_data"
    }
   ],
   "source": [
    "model.load_weights(filepath = 'model.hdf5')\n",
    "test_it(model, test_batches)"
   ]
  },
  {
   "cell_type": "code",
   "execution_count": null,
   "id": "9cc73020",
   "metadata": {
    "id": "b0c097c1",
    "papermill": {
     "duration": 1.002923,
     "end_time": "2023-08-12T01:40:45.758122",
     "exception": false,
     "start_time": "2023-08-12T01:40:44.755199",
     "status": "completed"
    },
    "tags": []
   },
   "outputs": [],
   "source": []
  }
 ],
 "metadata": {
  "kernelspec": {
   "display_name": "Python 3",
   "language": "python",
   "name": "python3"
  },
  "language_info": {
   "codemirror_mode": {
    "name": "ipython",
    "version": 3
   },
   "file_extension": ".py",
   "mimetype": "text/x-python",
   "name": "python",
   "nbconvert_exporter": "python",
   "pygments_lexer": "ipython3",
   "version": "3.10.12"
  },
  "papermill": {
   "default_parameters": {},
   "duration": 2522.063173,
   "end_time": "2023-08-12T01:40:49.907137",
   "environment_variables": {},
   "exception": null,
   "input_path": "__notebook__.ipynb",
   "output_path": "__notebook__.ipynb",
   "parameters": {},
   "start_time": "2023-08-12T00:58:47.843964",
   "version": "2.4.0"
  }
 },
 "nbformat": 4,
 "nbformat_minor": 5
}
