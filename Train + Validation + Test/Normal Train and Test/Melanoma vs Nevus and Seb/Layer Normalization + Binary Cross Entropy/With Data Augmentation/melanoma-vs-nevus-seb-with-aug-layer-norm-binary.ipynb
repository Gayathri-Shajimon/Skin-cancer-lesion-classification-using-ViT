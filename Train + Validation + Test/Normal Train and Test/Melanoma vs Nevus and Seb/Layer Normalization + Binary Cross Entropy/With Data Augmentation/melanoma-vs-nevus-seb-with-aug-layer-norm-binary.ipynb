{
 "cells": [
  {
   "cell_type": "code",
   "execution_count": 1,
   "id": "0c3b5f56",
   "metadata": {
    "execution": {
     "iopub.execute_input": "2023-08-12T04:08:15.278652Z",
     "iopub.status.busy": "2023-08-12T04:08:15.277811Z",
     "iopub.status.idle": "2023-08-12T04:08:39.115705Z",
     "shell.execute_reply": "2023-08-12T04:08:39.114406Z"
    },
    "id": "37d225cc",
    "outputId": "077d4689-4718-44b6-f877-ee23f4bfd393",
    "papermill": {
     "duration": 23.850466,
     "end_time": "2023-08-12T04:08:39.119370",
     "exception": false,
     "start_time": "2023-08-12T04:08:15.268904",
     "status": "completed"
    },
    "tags": []
   },
   "outputs": [
    {
     "name": "stdout",
     "output_type": "stream",
     "text": [
      "Requirement already satisfied: tensorflow_addons in /opt/conda/lib/python3.10/site-packages (0.20.0)\r\n",
      "Requirement already satisfied: packaging in /opt/conda/lib/python3.10/site-packages (from tensorflow_addons) (21.3)\r\n",
      "Requirement already satisfied: typeguard<3.0.0,>=2.7 in /opt/conda/lib/python3.10/site-packages (from tensorflow_addons) (2.13.3)\r\n",
      "Requirement already satisfied: pyparsing!=3.0.5,>=2.0.2 in /opt/conda/lib/python3.10/site-packages (from packaging->tensorflow_addons) (3.0.9)\r\n"
     ]
    }
   ],
   "source": [
    "!pip install --quiet vit-keras\n",
    "!pip install tensorflow_addons"
   ]
  },
  {
   "cell_type": "code",
   "execution_count": 4,
   "id": "4c415a63",
   "metadata": {
    "execution": {
     "iopub.execute_input": "2023-08-12T04:08:39.216655Z",
     "iopub.status.busy": "2023-08-12T04:08:39.216184Z",
     "iopub.status.idle": "2023-08-12T04:08:49.291667Z",
     "shell.execute_reply": "2023-08-12T04:08:49.290614Z"
    },
    "id": "afe143c1",
    "outputId": "419c96a1-a787-475a-8665-57d5ac91d340",
    "papermill": {
     "duration": 10.088239,
     "end_time": "2023-08-12T04:08:49.294160",
     "exception": false,
     "start_time": "2023-08-12T04:08:39.205921",
     "status": "completed"
    },
    "tags": []
   },
   "outputs": [
    {
     "name": "stderr",
     "output_type": "stream",
     "text": [
      "/opt/conda/lib/python3.10/site-packages/scipy/__init__.py:146: UserWarning: A NumPy version >=1.16.5 and <1.23.0 is required for this version of SciPy (detected version 1.23.5\n",
      "  warnings.warn(f\"A NumPy version >={np_minversion} and <{np_maxversion}\"\n",
      "/opt/conda/lib/python3.10/site-packages/tensorflow_io/python/ops/__init__.py:98: UserWarning: unable to load libtensorflow_io_plugins.so: unable to open file: libtensorflow_io_plugins.so, from paths: ['/opt/conda/lib/python3.10/site-packages/tensorflow_io/python/ops/libtensorflow_io_plugins.so']\n",
      "caused by: ['/opt/conda/lib/python3.10/site-packages/tensorflow_io/python/ops/libtensorflow_io_plugins.so: undefined symbol: _ZN3tsl6StatusC1EN10tensorflow5error4CodeESt17basic_string_viewIcSt11char_traitsIcEENS_14SourceLocationE']\n",
      "  warnings.warn(f\"unable to load libtensorflow_io_plugins.so: {e}\")\n",
      "/opt/conda/lib/python3.10/site-packages/tensorflow_io/python/ops/__init__.py:104: UserWarning: file system plugins are not loaded: unable to open file: libtensorflow_io.so, from paths: ['/opt/conda/lib/python3.10/site-packages/tensorflow_io/python/ops/libtensorflow_io.so']\n",
      "caused by: ['/opt/conda/lib/python3.10/site-packages/tensorflow_io/python/ops/libtensorflow_io.so: undefined symbol: _ZTVN10tensorflow13GcsFileSystemE']\n",
      "  warnings.warn(f\"file system plugins are not loaded: {e}\")\n",
      "/opt/conda/lib/python3.10/site-packages/tensorflow_addons/utils/tfa_eol_msg.py:23: UserWarning: \n",
      "\n",
      "TensorFlow Addons (TFA) has ended development and introduction of new features.\n",
      "TFA has entered a minimal maintenance and release mode until a planned end of life in May 2024.\n",
      "Please modify downstream libraries to take dependencies from other repositories in our TensorFlow community (e.g. Keras, Keras-CV, and Keras-NLP). \n",
      "\n",
      "For more information see: https://github.com/tensorflow/addons/issues/2807 \n",
      "\n",
      "  warnings.warn(\n"
     ]
    }
   ],
   "source": [
    "import matplotlib.pyplot as plt\n",
    "import numpy as np\n",
    "import pandas as pd\n",
    "import os\n",
    "from glob import glob\n",
    "import seaborn as sns\n",
    "from PIL import Image\n",
    "np.random.seed(123)\n",
    "from sklearn.preprocessing import label_binarize\n",
    "from sklearn.metrics import confusion_matrix\n",
    "import itertools\n",
    "import keras\n",
    "from keras import backend as K\n",
    "import tensorflow\n",
    "from tensorflow.keras.layers import Dropout, Dense, LayerNormalization, Flatten\n",
    "from tensorflow.keras.activations import gelu\n",
    "from tensorflow.keras.optimizers import Adam, SGD\n",
    "from tensorflow.keras.metrics import categorical_crossentropy\n",
    "from tensorflow.keras.preprocessing.image import ImageDataGenerator\n",
    "from tensorflow.keras.models import Model\n",
    "from tensorflow.keras.callbacks import EarlyStopping, ReduceLROnPlateau, ModelCheckpoint\n",
    "from vit_keras import vit\n",
    "import tensorflow_addons as tfa\n",
    "import math\n",
    "from sklearn.metrics import confusion_matrix\n",
    "from sklearn.model_selection import train_test_split\n",
    "import itertools\n",
    "import shutil\n",
    "import matplotlib.pyplot as plt\n",
    "from zipfile import ZipFile\n",
    "import time\n",
    "from sklearn.model_selection import StratifiedKFold, KFold\n",
    "from sklearn.metrics import roc_auc_score\n",
    "from sklearn.metrics import  precision_score, recall_score, accuracy_score\n",
    "from sklearn.metrics import roc_curve, auc\n",
    "from sklearn.metrics import classification_report\n",
    "import tensorflow as tf\n",
    "from tensorflow.keras import backend as K"
   ]
  },
  {
   "attachments": {},
   "cell_type": "markdown",
   "id": "524acdd4",
   "metadata": {},
   "source": [
    "Initializing the ViT Model"
   ]
  },
  {
   "cell_type": "code",
   "execution_count": 5,
   "id": "6d9aec42",
   "metadata": {
    "execution": {
     "iopub.execute_input": "2023-08-12T04:08:49.310547Z",
     "iopub.status.busy": "2023-08-12T04:08:49.309860Z",
     "iopub.status.idle": "2023-08-12T04:09:01.507489Z",
     "shell.execute_reply": "2023-08-12T04:09:01.506499Z"
    },
    "id": "0d8eb2cb",
    "outputId": "0770dbdc-46dc-486f-d4f7-cf9ee11ed55b",
    "papermill": {
     "duration": 12.208342,
     "end_time": "2023-08-12T04:09:01.510002",
     "exception": false,
     "start_time": "2023-08-12T04:08:49.301660",
     "status": "completed"
    },
    "tags": []
   },
   "outputs": [
    {
     "name": "stdout",
     "output_type": "stream",
     "text": [
      "Downloading data from https://github.com/faustomorales/vit-keras/releases/download/dl/ViT-B_16_imagenet21k+imagenet2012.npz\n",
      "347502902/347502902 [==============================] - 5s 0us/step\n"
     ]
    },
    {
     "name": "stderr",
     "output_type": "stream",
     "text": [
      "/opt/conda/lib/python3.10/site-packages/vit_keras/utils.py:81: UserWarning: Resizing position embeddings from 24, 24 to 14, 14\n",
      "  warnings.warn(\n"
     ]
    }
   ],
   "source": [
    "vit_model = vit.vit_b16(\n",
    "        image_size = 224,\n",
    "        activation = 'softmax',\n",
    "        pretrained = True,\n",
    "        include_top = False,\n",
    "        pretrained_top = False,\n",
    "        classes = 2)"
   ]
  },
  {
   "attachments": {},
   "cell_type": "markdown",
   "id": "86987dbf",
   "metadata": {},
   "source": [
    "Adding Additional layers on top of ViT Model"
   ]
  },
  {
   "cell_type": "code",
   "execution_count": 6,
   "id": "76e86870",
   "metadata": {
    "execution": {
     "iopub.execute_input": "2023-08-12T04:09:01.541352Z",
     "iopub.status.busy": "2023-08-12T04:09:01.540252Z",
     "iopub.status.idle": "2023-08-12T04:09:03.437967Z",
     "shell.execute_reply": "2023-08-12T04:09:03.436977Z"
    },
    "id": "cc2ced1b",
    "outputId": "e02916c6-3663-4a8b-ba6e-0438978700f3",
    "papermill": {
     "duration": 1.924861,
     "end_time": "2023-08-12T04:09:03.449461",
     "exception": false,
     "start_time": "2023-08-12T04:09:01.524600",
     "status": "completed"
    },
    "tags": []
   },
   "outputs": [
    {
     "name": "stdout",
     "output_type": "stream",
     "text": [
      "Model: \"vision_transformer\"\n",
      "_________________________________________________________________\n",
      " Layer (type)                Output Shape              Param #   \n",
      "=================================================================\n",
      " vit-b16 (Functional)        (None, 768)               85798656  \n",
      "                                                                 \n",
      " flatten (Flatten)           (None, 768)               0         \n",
      "                                                                 \n",
      " dense (Dense)               (None, 128)               98432     \n",
      "                                                                 \n",
      " dropout (Dropout)           (None, 128)               0         \n",
      "                                                                 \n",
      " layer_normalization (LayerN  (None, 128)              256       \n",
      " ormalization)                                                   \n",
      "                                                                 \n",
      " dense_1 (Dense)             (None, 32)                4128      \n",
      "                                                                 \n",
      " dropout_1 (Dropout)         (None, 32)                0         \n",
      "                                                                 \n",
      " layer_normalization_1 (Laye  (None, 32)               64        \n",
      " rNormalization)                                                 \n",
      "                                                                 \n",
      " dense_2 (Dense)             (None, 2)                 66        \n",
      "                                                                 \n",
      "=================================================================\n",
      "Total params: 85,901,602\n",
      "Trainable params: 85,901,602\n",
      "Non-trainable params: 0\n",
      "_________________________________________________________________\n"
     ]
    }
   ],
   "source": [
    "model = tensorflow.keras.Sequential([\n",
    "    vit_model,\n",
    "    Flatten(),\n",
    "    Dense(128, activation=gelu),\n",
    "    Dropout(0.1),\n",
    "    LayerNormalization(epsilon=.000002),\n",
    "    Dense(32, activation=gelu),\n",
    "    Dropout(0.1),\n",
    "    LayerNormalization(epsilon=.000002),\n",
    "    Dense(2, activation='softmax')\n",
    "], name='vision_transformer')\n",
    "\n",
    "model.summary()"
   ]
  },
  {
   "cell_type": "code",
   "execution_count": 7,
   "id": "ae62c5a0",
   "metadata": {
    "execution": {
     "iopub.execute_input": "2023-08-12T04:09:03.489768Z",
     "iopub.status.busy": "2023-08-12T04:09:03.489391Z",
     "iopub.status.idle": "2023-08-12T04:09:03.515712Z",
     "shell.execute_reply": "2023-08-12T04:09:03.514576Z"
    },
    "id": "f90cf531",
    "papermill": {
     "duration": 0.049587,
     "end_time": "2023-08-12T04:09:03.518311",
     "exception": false,
     "start_time": "2023-08-12T04:09:03.468724",
     "status": "completed"
    },
    "tags": []
   },
   "outputs": [],
   "source": [
    "#Compiling model using Binary Cross Entropy loss and Adam optimiser\n",
    "model.compile(optimizer='adam',loss='binary_crossentropy',metrics=['accuracy'])"
   ]
  },
  {
   "attachments": {},
   "cell_type": "markdown",
   "id": "ad21351a",
   "metadata": {},
   "source": [
    "Function for plotting the graph of Train and Validation Accuracy and loss"
   ]
  },
  {
   "cell_type": "code",
   "execution_count": 9,
   "id": "a1463d3e",
   "metadata": {
    "execution": {
     "iopub.execute_input": "2023-08-12T04:09:03.608097Z",
     "iopub.status.busy": "2023-08-12T04:09:03.607726Z",
     "iopub.status.idle": "2023-08-12T04:09:03.616158Z",
     "shell.execute_reply": "2023-08-12T04:09:03.614847Z"
    },
    "id": "895825d0",
    "papermill": {
     "duration": 0.032037,
     "end_time": "2023-08-12T04:09:03.619319",
     "exception": false,
     "start_time": "2023-08-12T04:09:03.587282",
     "status": "completed"
    },
    "tags": []
   },
   "outputs": [],
   "source": [
    "def graph_it(history):\n",
    "  acc = history.history['accuracy']\n",
    "  val_acc = history.history['val_accuracy']\n",
    "  loss = history.history['loss']\n",
    "  val_loss = history.history['val_loss']\n",
    "  epochs = range(len(acc))\n",
    "\n",
    "   #Plot Train and Validation Accuracy\n",
    "  plt.plot(epochs, acc, 'r', label='Training accuracy')\n",
    "  plt.plot(epochs, val_acc, 'b', label='Validation accuracy')\n",
    "  plt.title('Model Accuracy: Training and Validation')\n",
    "  plt.legend(loc=0)\n",
    "  plt.figure()\n",
    "\n",
    "  #Plot Train and Validation Loss\n",
    "  plt.plot(epochs, loss, 'r', label='Training loss')\n",
    "  plt.plot(epochs, val_loss, 'b', label='Validation loss')\n",
    "  plt.title('Training and validation Loss')\n",
    "  plt.legend(loc=0)\n",
    "  plt.figure()\n"
   ]
  },
  {
   "attachments": {},
   "cell_type": "markdown",
   "id": "6a0754d1",
   "metadata": {},
   "source": [
    "Function for Model Evaluation"
   ]
  },
  {
   "cell_type": "code",
   "execution_count": 10,
   "id": "b891de0b",
   "metadata": {
    "execution": {
     "iopub.execute_input": "2023-08-12T04:09:03.659482Z",
     "iopub.status.busy": "2023-08-12T04:09:03.658449Z",
     "iopub.status.idle": "2023-08-12T04:09:03.671494Z",
     "shell.execute_reply": "2023-08-12T04:09:03.670285Z"
    },
    "id": "d4a7c9c8",
    "papermill": {
     "duration": 0.035725,
     "end_time": "2023-08-12T04:09:03.674005",
     "exception": false,
     "start_time": "2023-08-12T04:09:03.638280",
     "status": "completed"
    },
    "tags": []
   },
   "outputs": [],
   "source": [
    "from sklearn.metrics import confusion_matrix, roc_auc_score, classification_report, precision_score, roc_curve, ConfusionMatrixDisplay\n",
    "\n",
    "def test_it(model, test_generator):\n",
    "    test_labels = test_generator.classes\n",
    "\n",
    "    predictions = model.predict(test_generator)\n",
    "    predicted_labels = np.argmax(predictions, axis=1)\n",
    "\n",
    "    cm = confusion_matrix(test_labels, predicted_labels)\n",
    "    disp = ConfusionMatrixDisplay(confusion_matrix=cm)\n",
    "    disp.plot()\n",
    "    plt.show()\n",
    "\n",
    "    roc = roc_auc_score(test_labels, predictions[:, 1])  # Calculate ROC score\n",
    "\n",
    "    # Calculate confusion matrix\n",
    "    tn, fp, fn, tp = confusion_matrix(test_labels, predicted_labels).ravel()\n",
    "\n",
    "    # Calculate sensitivity and specificity\n",
    "    sensitivity = tp / (tp + fn)\n",
    "    specificity = tn / (tn + fp)\n",
    "\n",
    "    report = classification_report(test_labels, predicted_labels) #Classification report\n",
    "\n",
    "    precision = precision_score(test_labels, predicted_labels, average='weighted') #Calculate Precision score\n",
    "\n",
    "    print(\"\\n\", report)\n",
    "    print(f\"Sensitivity: {round(sensitivity, 3)} Specificity: {round(specificity, 3)} Precision: {round(precision, 3)} ROC_AUC_SCORE: {round(roc, 3)}\\n\")\n",
    "\n",
    "    # Plot AUC-ROC curve\n",
    "    fpr, tpr, thresholds = roc_curve(test_labels, predictions[:, 1])\n",
    "    plt.figure(figsize=(4, 4))\n",
    "    plt.plot(fpr, tpr, label='ROC curve (area = %0.2f)' % roc)\n",
    "    plt.plot([0, 1], [0, 1], 'k--')  # Random guessing line\n",
    "    plt.xlim([0.0, 1.0])\n",
    "    plt.ylim([0.0, 1.0])\n",
    "    plt.xlabel('False Positive Rate')\n",
    "    plt.ylabel('True Positive Rate')\n",
    "    plt.title('Receiver Operating Characteristic (ROC) Curve')\n",
    "    plt.legend(loc=\"lower right\")\n",
    "    plt.show()"
   ]
  },
  {
   "cell_type": "code",
   "execution_count": 11,
   "id": "32d196b2",
   "metadata": {
    "execution": {
     "iopub.execute_input": "2023-08-12T04:09:03.713701Z",
     "iopub.status.busy": "2023-08-12T04:09:03.713269Z",
     "iopub.status.idle": "2023-08-12T04:09:03.718478Z",
     "shell.execute_reply": "2023-08-12T04:09:03.717464Z"
    },
    "id": "9671fe3a",
    "papermill": {
     "duration": 0.027708,
     "end_time": "2023-08-12T04:09:03.720686",
     "exception": false,
     "start_time": "2023-08-12T04:09:03.692978",
     "status": "completed"
    },
    "tags": []
   },
   "outputs": [],
   "source": [
    "# Set the directories for the data for task1 (SEB VS NEVUS)\n",
    "train_dir = \"/kaggle/input/isic-train-merge-aug/train_augumented-2023/train_augumented/task1\"\n",
    "test_dir = \"/kaggle/input/isic-train-merge-aug/test2023/test/task1\"\n",
    "val_dir = \"/kaggle/input/isic-train-merge-aug/val-2023/val/task1\""
   ]
  },
  {
   "cell_type": "code",
   "execution_count": 12,
   "id": "66f1c90c",
   "metadata": {
    "execution": {
     "iopub.execute_input": "2023-08-12T04:09:03.763706Z",
     "iopub.status.busy": "2023-08-12T04:09:03.763281Z",
     "iopub.status.idle": "2023-08-12T04:09:03.768806Z",
     "shell.execute_reply": "2023-08-12T04:09:03.767670Z"
    },
    "id": "e9e4b21a",
    "papermill": {
     "duration": 0.028223,
     "end_time": "2023-08-12T04:09:03.771038",
     "exception": false,
     "start_time": "2023-08-12T04:09:03.742815",
     "status": "completed"
    },
    "tags": []
   },
   "outputs": [],
   "source": [
    "# Define the data generator\n",
    "datagen = ImageDataGenerator(\n",
    "    preprocessing_function= \\\n",
    "    tensorflow.keras.applications.mobilenet.preprocess_input)\n",
    "\n",
    "image_size = (224, 224)\n",
    "batch = 32"
   ]
  },
  {
   "cell_type": "code",
   "execution_count": 13,
   "id": "ab1acbe5",
   "metadata": {
    "execution": {
     "iopub.execute_input": "2023-08-12T04:09:03.810765Z",
     "iopub.status.busy": "2023-08-12T04:09:03.810394Z",
     "iopub.status.idle": "2023-08-12T04:09:03.815848Z",
     "shell.execute_reply": "2023-08-12T04:09:03.814664Z"
    },
    "id": "e95b7e5b",
    "papermill": {
     "duration": 0.028265,
     "end_time": "2023-08-12T04:09:03.818207",
     "exception": false,
     "start_time": "2023-08-12T04:09:03.789942",
     "status": "completed"
    },
    "tags": []
   },
   "outputs": [],
   "source": [
    "model_path = f'/content/drive/MyDrive/msc_project/model/{title}'\n",
    "os.makedirs(model_path, exist_ok=True)"
   ]
  },
  {
   "attachments": {},
   "cell_type": "markdown",
   "id": "a6ae2663",
   "metadata": {},
   "source": [
    "Creating batches to improve memory optimization"
   ]
  },
  {
   "cell_type": "code",
   "execution_count": 14,
   "id": "cc2f98c9",
   "metadata": {
    "execution": {
     "iopub.execute_input": "2023-08-12T04:09:03.857692Z",
     "iopub.status.busy": "2023-08-12T04:09:03.857319Z",
     "iopub.status.idle": "2023-08-12T04:09:16.585767Z",
     "shell.execute_reply": "2023-08-12T04:09:16.584839Z"
    },
    "id": "7ATMKowsaH4V",
    "outputId": "e8a87c34-91e6-456c-c751-70656e0b58a3",
    "papermill": {
     "duration": 12.750656,
     "end_time": "2023-08-12T04:09:16.588031",
     "exception": false,
     "start_time": "2023-08-12T04:09:03.837375",
     "status": "completed"
    },
    "tags": []
   },
   "outputs": [
    {
     "name": "stdout",
     "output_type": "stream",
     "text": [
      "Found 12000 images belonging to 2 classes.\n",
      "Found 150 images belonging to 2 classes.\n",
      "Found 600 images belonging to 2 classes.\n"
     ]
    }
   ],
   "source": [
    "train_batches = datagen.flow_from_directory(train_dir,\n",
    "                                            target_size=(image_size),\n",
    "                                            batch_size=10)\n",
    "\n",
    "valid_batches = datagen.flow_from_directory(val_dir,\n",
    "                                            target_size=(image_size),\n",
    "                                            batch_size=10)\n",
    "\n",
    "# Note: shuffle=False causes the test dataset to not be shuffled\n",
    "test_batches = datagen.flow_from_directory(test_dir,\n",
    "                                            target_size=(image_size),\n",
    "                                            batch_size=1,\n",
    "                                            shuffle=False)"
   ]
  },
  {
   "cell_type": "code",
   "execution_count": 15,
   "id": "e298efc1",
   "metadata": {
    "execution": {
     "iopub.execute_input": "2023-08-12T04:09:16.624324Z",
     "iopub.status.busy": "2023-08-12T04:09:16.623986Z",
     "iopub.status.idle": "2023-08-12T04:09:16.631151Z",
     "shell.execute_reply": "2023-08-12T04:09:16.630230Z"
    },
    "id": "2GDPYOeaVw_n",
    "outputId": "2e7ffe29-955e-40ce-db3d-a71342255d84",
    "papermill": {
     "duration": 0.027792,
     "end_time": "2023-08-12T04:09:16.633447",
     "exception": false,
     "start_time": "2023-08-12T04:09:16.605655",
     "status": "completed"
    },
    "tags": []
   },
   "outputs": [
    {
     "data": {
      "text/plain": [
       "{'mel': 0, 'nevus_seb': 1}"
      ]
     },
     "execution_count": 15,
     "metadata": {},
     "output_type": "execute_result"
    }
   ],
   "source": [
    "train_batches.class_indices"
   ]
  },
  {
   "cell_type": "code",
   "execution_count": 16,
   "id": "f5859779",
   "metadata": {
    "execution": {
     "iopub.execute_input": "2023-08-12T04:09:16.670130Z",
     "iopub.status.busy": "2023-08-12T04:09:16.669314Z",
     "iopub.status.idle": "2023-08-12T04:09:16.676085Z",
     "shell.execute_reply": "2023-08-12T04:09:16.675137Z"
    },
    "id": "KiRi8zD6ZIyI",
    "outputId": "1d5d5772-3e58-4d2a-b706-3a000db5aae4",
    "papermill": {
     "duration": 0.027478,
     "end_time": "2023-08-12T04:09:16.678234",
     "exception": false,
     "start_time": "2023-08-12T04:09:16.650756",
     "status": "completed"
    },
    "tags": []
   },
   "outputs": [
    {
     "data": {
      "text/plain": [
       "{'mel': 0, 'nevus_seb': 1}"
      ]
     },
     "execution_count": 16,
     "metadata": {},
     "output_type": "execute_result"
    }
   ],
   "source": [
    "valid_batches.class_indices"
   ]
  },
  {
   "cell_type": "code",
   "execution_count": 17,
   "id": "bf2b6d6a",
   "metadata": {
    "execution": {
     "iopub.execute_input": "2023-08-12T04:09:16.714829Z",
     "iopub.status.busy": "2023-08-12T04:09:16.713939Z",
     "iopub.status.idle": "2023-08-12T04:09:16.723621Z",
     "shell.execute_reply": "2023-08-12T04:09:16.722293Z"
    },
    "id": "kunFVJitV2gZ",
    "outputId": "5732ab52-8384-46cc-b25b-d6508c7bee61",
    "papermill": {
     "duration": 0.030212,
     "end_time": "2023-08-12T04:09:16.725604",
     "exception": false,
     "start_time": "2023-08-12T04:09:16.695392",
     "status": "completed"
    },
    "tags": []
   },
   "outputs": [
    {
     "name": "stdout",
     "output_type": "stream",
     "text": [
      "Number of images per class: Counter({1: 9756, 0: 2244})\n"
     ]
    }
   ],
   "source": [
    "from collections import Counter\n",
    "\n",
    "class_counts = Counter(train_batches.classes)\n",
    "print(\"Number of images per class:\", class_counts)\n"
   ]
  },
  {
   "cell_type": "code",
   "execution_count": 18,
   "id": "f3ddc391",
   "metadata": {
    "execution": {
     "iopub.execute_input": "2023-08-12T04:09:16.762564Z",
     "iopub.status.busy": "2023-08-12T04:09:16.761721Z",
     "iopub.status.idle": "2023-08-12T04:09:16.768150Z",
     "shell.execute_reply": "2023-08-12T04:09:16.766966Z"
    },
    "id": "pZlJ57JkV_Pp",
    "outputId": "dc5b24ee-0b65-48b3-aefd-d6cf7d1d24c0",
    "papermill": {
     "duration": 0.027039,
     "end_time": "2023-08-12T04:09:16.770194",
     "exception": false,
     "start_time": "2023-08-12T04:09:16.743155",
     "status": "completed"
    },
    "tags": []
   },
   "outputs": [
    {
     "name": "stdout",
     "output_type": "stream",
     "text": [
      "Number of images per class: {'mel': 2244, 'nevus_seb': 9756}\n"
     ]
    }
   ],
   "source": [
    "class_names = list(train_batches.class_indices.keys())\n",
    "class_counts_with_names = {class_names[idx]: count for idx, count in class_counts.items()}\n",
    "print(\"Number of images per class:\", class_counts_with_names)"
   ]
  },
  {
   "cell_type": "code",
   "execution_count": 19,
   "id": "84278940",
   "metadata": {
    "execution": {
     "iopub.execute_input": "2023-08-12T04:09:16.811716Z",
     "iopub.status.busy": "2023-08-12T04:09:16.810706Z",
     "iopub.status.idle": "2023-08-12T04:09:16.816192Z",
     "shell.execute_reply": "2023-08-12T04:09:16.815341Z"
    },
    "id": "FjZnz8QRO8xD",
    "papermill": {
     "duration": 0.0302,
     "end_time": "2023-08-12T04:09:16.818424",
     "exception": false,
     "start_time": "2023-08-12T04:09:16.788224",
     "status": "completed"
    },
    "tags": []
   },
   "outputs": [],
   "source": [
    "train_steps = np.ceil(train_batches.n / batch)\n",
    "test_steps = np.ceil(test_batches.n / batch)\n",
    "val_steps = np.ceil(valid_batches.n / batch)"
   ]
  },
  {
   "attachments": {},
   "cell_type": "markdown",
   "id": "d78dc1b8",
   "metadata": {},
   "source": [
    "Configuration of Early stopping criteria, learning rate"
   ]
  },
  {
   "cell_type": "code",
   "execution_count": 20,
   "id": "b4ce4f33",
   "metadata": {
    "execution": {
     "iopub.execute_input": "2023-08-12T04:09:16.855201Z",
     "iopub.status.busy": "2023-08-12T04:09:16.854422Z",
     "iopub.status.idle": "2023-08-12T04:09:16.861590Z",
     "shell.execute_reply": "2023-08-12T04:09:16.860750Z"
    },
    "id": "lQnHiksDahxQ",
    "papermill": {
     "duration": 0.027713,
     "end_time": "2023-08-12T04:09:16.863575",
     "exception": false,
     "start_time": "2023-08-12T04:09:16.835862",
     "status": "completed"
    },
    "tags": []
   },
   "outputs": [],
   "source": [
    "early_stopping = EarlyStopping(monitor='val_loss',patience=8)  #Configuring early stopping criteria\n",
    "\n",
    "checkpointer = tf.keras.callbacks.ModelCheckpoint(filepath = 'model.hdf5',\n",
    "                                                  monitor = 'val_accuracy',\n",
    "                                                  verbose = 1,\n",
    "                                                  save_best_only = True,\n",
    "                                                  save_weights_only = True,\n",
    "                                                  mode = 'max')\n",
    "#Configure dynamic learning rate\n",
    "def step_decay(epoch):\n",
    "    initial_lrate = 0.00002\n",
    "    drop = 0.1\n",
    "    epochs_drop = 10.0\n",
    "    lrate = initial_lrate * math.pow(drop, math.floor((1+epoch)/epochs_drop))\n",
    "    return lrate\n",
    "\n",
    "lr_scheduler = tf.keras.callbacks.LearningRateScheduler(step_decay, verbose=1)"
   ]
  },
  {
   "cell_type": "code",
   "execution_count": 21,
   "id": "983706da",
   "metadata": {
    "execution": {
     "iopub.execute_input": "2023-08-12T04:09:16.900728Z",
     "iopub.status.busy": "2023-08-12T04:09:16.900112Z",
     "iopub.status.idle": "2023-08-12T04:09:16.905158Z",
     "shell.execute_reply": "2023-08-12T04:09:16.904277Z"
    },
    "id": "t9YyA-CMalyq",
    "papermill": {
     "duration": 0.025989,
     "end_time": "2023-08-12T04:09:16.907124",
     "exception": false,
     "start_time": "2023-08-12T04:09:16.881135",
     "status": "completed"
    },
    "tags": []
   },
   "outputs": [],
   "source": [
    "callbacks = [early_stopping, checkpointer, lr_scheduler]"
   ]
  },
  {
   "attachments": {},
   "cell_type": "markdown",
   "id": "58caa739",
   "metadata": {},
   "source": [
    "Model Training"
   ]
  },
  {
   "cell_type": "code",
   "execution_count": 22,
   "id": "97b84038",
   "metadata": {
    "execution": {
     "iopub.execute_input": "2023-08-12T04:09:16.944937Z",
     "iopub.status.busy": "2023-08-12T04:09:16.944076Z",
     "iopub.status.idle": "2023-08-12T04:26:56.344735Z",
     "shell.execute_reply": "2023-08-12T04:26:56.343709Z"
    },
    "id": "h0jl4qCjapIq",
    "outputId": "f9416720-459f-47b1-b846-4d805d08a200",
    "papermill": {
     "duration": 1059.421857,
     "end_time": "2023-08-12T04:26:56.346937",
     "exception": false,
     "start_time": "2023-08-12T04:09:16.925080",
     "status": "completed"
    },
    "tags": []
   },
   "outputs": [
    {
     "name": "stderr",
     "output_type": "stream",
     "text": [
      "/tmp/ipykernel_24/1018363140.py:1: UserWarning: `Model.fit_generator` is deprecated and will be removed in a future version. Please use `Model.fit`, which supports generators.\n",
      "  history = model.fit_generator(train_batches, steps_per_epoch=train_steps,\n"
     ]
    },
    {
     "name": "stdout",
     "output_type": "stream",
     "text": [
      "\n",
      "Epoch 1: LearningRateScheduler setting learning rate to 2e-05.\n",
      "Epoch 1/30\n",
      "375/375 [==============================] - ETA: 0s - loss: 0.4377 - accuracy: 0.8224\n",
      "Epoch 1: val_accuracy improved from -inf to 0.88000, saving model to model.hdf5\n",
      "375/375 [==============================] - 163s 284ms/step - loss: 0.4377 - accuracy: 0.8224 - val_loss: 0.3081 - val_accuracy: 0.8800 - lr: 2.0000e-05\n",
      "\n",
      "Epoch 2: LearningRateScheduler setting learning rate to 2e-05.\n",
      "Epoch 2/30\n",
      "375/375 [==============================] - ETA: 0s - loss: 0.3574 - accuracy: 0.8587\n",
      "Epoch 2: val_accuracy did not improve from 0.88000\n",
      "375/375 [==============================] - 103s 273ms/step - loss: 0.3574 - accuracy: 0.8587 - val_loss: 0.3792 - val_accuracy: 0.8600 - lr: 2.0000e-05\n",
      "\n",
      "Epoch 3: LearningRateScheduler setting learning rate to 2e-05.\n",
      "Epoch 3/30\n",
      "375/375 [==============================] - ETA: 0s - loss: 0.2977 - accuracy: 0.8888\n",
      "Epoch 3: val_accuracy did not improve from 0.88000\n",
      "375/375 [==============================] - 102s 273ms/step - loss: 0.2977 - accuracy: 0.8888 - val_loss: 0.3955 - val_accuracy: 0.8400 - lr: 2.0000e-05\n",
      "\n",
      "Epoch 4: LearningRateScheduler setting learning rate to 2e-05.\n",
      "Epoch 4/30\n",
      "375/375 [==============================] - ETA: 0s - loss: 0.2634 - accuracy: 0.9037\n",
      "Epoch 4: val_accuracy improved from 0.88000 to 0.90000, saving model to model.hdf5\n",
      "375/375 [==============================] - 103s 274ms/step - loss: 0.2634 - accuracy: 0.9037 - val_loss: 0.3211 - val_accuracy: 0.9000 - lr: 2.0000e-05\n",
      "\n",
      "Epoch 5: LearningRateScheduler setting learning rate to 2e-05.\n",
      "Epoch 5/30\n",
      "375/375 [==============================] - ETA: 0s - loss: 0.2018 - accuracy: 0.9309\n",
      "Epoch 5: val_accuracy did not improve from 0.90000\n",
      "375/375 [==============================] - 102s 272ms/step - loss: 0.2018 - accuracy: 0.9309 - val_loss: 0.4724 - val_accuracy: 0.8600 - lr: 2.0000e-05\n",
      "\n",
      "Epoch 6: LearningRateScheduler setting learning rate to 2e-05.\n",
      "Epoch 6/30\n",
      "375/375 [==============================] - ETA: 0s - loss: 0.1824 - accuracy: 0.9424\n",
      "Epoch 6: val_accuracy did not improve from 0.90000\n",
      "375/375 [==============================] - 102s 271ms/step - loss: 0.1824 - accuracy: 0.9424 - val_loss: 0.3394 - val_accuracy: 0.8800 - lr: 2.0000e-05\n",
      "\n",
      "Epoch 7: LearningRateScheduler setting learning rate to 2e-05.\n",
      "Epoch 7/30\n",
      "375/375 [==============================] - ETA: 0s - loss: 0.1473 - accuracy: 0.9563\n",
      "Epoch 7: val_accuracy did not improve from 0.90000\n",
      "375/375 [==============================] - 102s 272ms/step - loss: 0.1473 - accuracy: 0.9563 - val_loss: 0.8530 - val_accuracy: 0.7400 - lr: 2.0000e-05\n",
      "\n",
      "Epoch 8: LearningRateScheduler setting learning rate to 2e-05.\n",
      "Epoch 8/30\n",
      "375/375 [==============================] - ETA: 0s - loss: 0.1390 - accuracy: 0.9616\n",
      "Epoch 8: val_accuracy did not improve from 0.90000\n",
      "375/375 [==============================] - 101s 271ms/step - loss: 0.1390 - accuracy: 0.9616 - val_loss: 0.6641 - val_accuracy: 0.8200 - lr: 2.0000e-05\n",
      "\n",
      "Epoch 9: LearningRateScheduler setting learning rate to 2e-05.\n",
      "Epoch 9/30\n",
      "375/375 [==============================] - ETA: 0s - loss: 0.1179 - accuracy: 0.9656\n",
      "Epoch 9: val_accuracy did not improve from 0.90000\n",
      "375/375 [==============================] - 101s 270ms/step - loss: 0.1179 - accuracy: 0.9656 - val_loss: 0.6137 - val_accuracy: 0.8000 - lr: 2.0000e-05\n"
     ]
    }
   ],
   "source": [
    "history = model.fit_generator(train_batches, steps_per_epoch=train_steps,\n",
    "                              validation_data=valid_batches,\n",
    "                              validation_steps=val_steps,\n",
    "                              epochs=30,\n",
    "                              callbacks=callbacks)"
   ]
  },
  {
   "cell_type": "code",
   "execution_count": 23,
   "id": "db41c304",
   "metadata": {
    "execution": {
     "iopub.execute_input": "2023-08-12T04:26:56.895894Z",
     "iopub.status.busy": "2023-08-12T04:26:56.894845Z",
     "iopub.status.idle": "2023-08-12T04:26:56.914401Z",
     "shell.execute_reply": "2023-08-12T04:26:56.913452Z"
    },
    "id": "tJVtJ6W2PNQi",
    "papermill": {
     "duration": 0.296249,
     "end_time": "2023-08-12T04:26:56.916558",
     "exception": false,
     "start_time": "2023-08-12T04:26:56.620309",
     "status": "completed"
    },
    "tags": []
   },
   "outputs": [],
   "source": [
    "# Compile the model\n",
    "model.compile(optimizer='adam',loss='binary_crossentropy',metrics=['accuracy'])"
   ]
  },
  {
   "cell_type": "code",
   "execution_count": 24,
   "id": "8f33ca5c",
   "metadata": {
    "execution": {
     "iopub.execute_input": "2023-08-12T04:26:57.468410Z",
     "iopub.status.busy": "2023-08-12T04:26:57.468008Z",
     "iopub.status.idle": "2023-08-12T04:27:37.636226Z",
     "shell.execute_reply": "2023-08-12T04:27:37.635292Z"
    },
    "id": "1a6c5f39",
    "outputId": "1344b6fb-3d5f-4db9-edd2-d4f3b298cbe1",
    "papermill": {
     "duration": 40.54312,
     "end_time": "2023-08-12T04:27:37.734183",
     "exception": false,
     "start_time": "2023-08-12T04:26:57.191063",
     "status": "completed"
    },
    "tags": []
   },
   "outputs": [
    {
     "data": {
      "image/png": "[encoded data removed]",
      "text/plain": [
       "<Figure size 640x480 with 1 Axes>"
      ]
     },
     "metadata": {},
     "output_type": "display_data"
    },
    {
     "data": {
      "image/png": "[encoded data removed]",
      "text/plain": [
       "<Figure size 640x480 with 1 Axes>"
      ]
     },
     "metadata": {},
     "output_type": "display_data"
    },
    {
     "data": {
      "text/plain": [
       "<Figure size 640x480 with 0 Axes>"
      ]
     },
     "metadata": {},
     "output_type": "display_data"
    }
   ],
   "source": [
    "graph_it(history)"
   ]
  },
  {
   "cell_type": "markdown",
   "id": "c83bff06",
   "metadata": {
    "id": "1a1bbbee",
    "papermill": {
     "duration": 0.274036,
     "end_time": "2023-08-12T04:27:38.283734",
     "exception": false,
     "start_time": "2023-08-12T04:27:38.009698",
     "status": "completed"
    },
    "tags": []
   },
   "source": [
    "**Model Evaluation using test data**"
   ]
  },
  {
   "cell_type": "code",
   "execution_count": 25,
   "id": "5b33de48",
   "metadata": {
    "execution": {
     "iopub.execute_input": "2023-08-12T04:27:38.880812Z",
     "iopub.status.busy": "2023-08-12T04:27:38.880444Z",
     "iopub.status.idle": "2023-08-12T04:28:02.425223Z",
     "shell.execute_reply": "2023-08-12T04:28:02.424324Z"
    },
    "id": "f7da54c9",
    "outputId": "4784b4a4-0a43-49cf-cc90-177d7b708f81",
    "papermill": {
     "duration": 23.867756,
     "end_time": "2023-08-12T04:28:02.427279",
     "exception": false,
     "start_time": "2023-08-12T04:27:38.559523",
     "status": "completed"
    },
    "tags": []
   },
   "outputs": [
    {
     "name": "stdout",
     "output_type": "stream",
     "text": [
      "600/600 [==============================] - 22s 32ms/step\n"
     ]
    },
    {
     "data": {
      "image/png": "[encoded data removed]",
      "text/plain": [
       "<Figure size 640x480 with 2 Axes>"
      ]
     },
     "metadata": {},
     "output_type": "display_data"
    },
    {
     "name": "stdout",
     "output_type": "stream",
     "text": [
      "\n",
      "               precision    recall  f1-score   support\n",
      "\n",
      "           0       0.60      0.50      0.54       117\n",
      "           1       0.88      0.92      0.90       483\n",
      "\n",
      "    accuracy                           0.84       600\n",
      "   macro avg       0.74      0.71      0.72       600\n",
      "weighted avg       0.83      0.84      0.83       600\n",
      "\n",
      "Sensitivity: 0.919 Specificity: 0.496 Precision: 0.827 ROC_AUC_SCORE: 0.819\n",
      "\n"
     ]
    },
    {
     "data": {
      "image/png": "[encoded data removed]",
      "text/plain": [
       "<Figure size 400x400 with 1 Axes>"
      ]
     },
     "metadata": {},
     "output_type": "display_data"
    }
   ],
   "source": [
    "model.load_weights(filepath = 'model.hdf5')\n",
    "test_it(model, test_batches)"
   ]
  },
  {
   "cell_type": "code",
   "execution_count": 26,
   "id": "3e927a16",
   "metadata": {
    "execution": {
     "iopub.execute_input": "2023-08-12T04:28:03.032277Z",
     "iopub.status.busy": "2023-08-12T04:28:03.031908Z",
     "iopub.status.idle": "2023-08-12T04:28:23.099533Z",
     "shell.execute_reply": "2023-08-12T04:28:23.097643Z"
    },
    "id": "aTd2X0IOBWcH",
    "outputId": "2e90b746-66d4-4788-fae0-9221f48a3076",
    "papermill": {
     "duration": 20.373297,
     "end_time": "2023-08-12T04:28:23.101916",
     "exception": false,
     "start_time": "2023-08-12T04:28:02.728619",
     "status": "completed"
    },
    "tags": []
   },
   "outputs": [
    {
     "name": "stdout",
     "output_type": "stream",
     "text": [
      "  3/600 [..............................] - ETA: 18s"
     ]
    },
    {
     "name": "stderr",
     "output_type": "stream",
     "text": [
      "/tmp/ipykernel_24/1475839648.py:3: UserWarning: `Model.predict_generator` is deprecated and will be removed in a future version. Please use `Model.predict`, which supports generators.\n",
      "  predictions = model.predict_generator(test_batches, steps=len(test_batches), verbose=1)\n"
     ]
    },
    {
     "name": "stdout",
     "output_type": "stream",
     "text": [
      "600/600 [==============================] - 20s 33ms/step\n",
      "Confusion Matrix : \n",
      " [[ 58  59]\n",
      " [ 39 444]]\n",
      "Accuracy :  0.8366666666666667\n",
      "Sensitivity :  0.5979381443298969\n",
      "Specificity :  0.882703777335984\n"
     ]
    }
   ],
   "source": [
    "from sklearn.metrics import confusion_matrix\n",
    "\n",
    "predictions = model.predict_generator(test_batches, steps=len(test_batches), verbose=1)\n",
    "\n",
    "y_pred = np.argmax(predictions, axis=1)\n",
    "targetnames = ['mel','sb_nv']\n",
    "y_true = test_batches.classes\n",
    "\n",
    "cm1 = confusion_matrix(y_true,y_pred)\n",
    "print('Confusion Matrix : \\n', cm1)\n",
    "\n",
    "total1=sum(sum(cm1))\n",
    "#####from confusion matrix calculate accuracy\n",
    "accuracy1=(cm1[0,0]+cm1[1,1])/total1\n",
    "print ('Accuracy : ', accuracy1)\n",
    "\n",
    "sensitivity1 = cm1[0,0]/(cm1[0,0]+cm1[1,0])\n",
    "print('Sensitivity : ', sensitivity1 )\n",
    "\n",
    "specificity1 = cm1[1,1]/(cm1[1,1]+cm1[0,1])\n",
    "print('Specificity : ', specificity1)"
   ]
  },
  {
   "cell_type": "code",
   "execution_count": null,
   "id": "a6ae1082",
   "metadata": {
    "id": "b0c097c1",
    "papermill": {
     "duration": 0.321528,
     "end_time": "2023-08-12T04:28:23.750143",
     "exception": false,
     "start_time": "2023-08-12T04:28:23.428615",
     "status": "completed"
    },
    "tags": []
   },
   "outputs": [],
   "source": []
  }
 ],
 "metadata": {
  "kernelspec": {
   "display_name": "Python 3",
   "language": "python",
   "name": "python3"
  },
  "language_info": {
   "codemirror_mode": {
    "name": "ipython",
    "version": 3
   },
   "file_extension": ".py",
   "mimetype": "text/x-python",
   "name": "python",
   "nbconvert_exporter": "python",
   "pygments_lexer": "ipython3",
   "version": "3.10.12"
  },
  "papermill": {
   "default_parameters": {},
   "duration": 1222.471255,
   "end_time": "2023-08-12T04:28:27.045601",
   "environment_variables": {},
   "exception": null,
   "input_path": "__notebook__.ipynb",
   "output_path": "__notebook__.ipynb",
   "parameters": {},
   "start_time": "2023-08-12T04:08:04.574346",
   "version": "2.4.0"
  }
 },
 "nbformat": 4,
 "nbformat_minor": 5
}
