{
 "cells": [
  {
   "cell_type": "code",
   "execution_count": 1,
   "id": "9db19fee",
   "metadata": {
    "execution": {
     "iopub.execute_input": "2023-08-12T04:11:13.618929Z",
     "iopub.status.busy": "2023-08-12T04:11:13.618565Z",
     "iopub.status.idle": "2023-08-12T04:11:37.703466Z",
     "shell.execute_reply": "2023-08-12T04:11:37.702200Z"
    },
    "id": "37d225cc",
    "outputId": "6f6df232-9324-4c9b-f62a-a36948c18c31",
    "papermill": {
     "duration": 24.09568,
     "end_time": "2023-08-12T04:11:37.706026",
     "exception": false,
     "start_time": "2023-08-12T04:11:13.610346",
     "status": "completed"
    },
    "tags": []
   },
   "outputs": [
    {
     "name": "stdout",
     "output_type": "stream",
     "text": [
      "Requirement already satisfied: tensorflow_addons in /opt/conda/lib/python3.10/site-packages (0.20.0)\r\n",
      "Requirement already satisfied: packaging in /opt/conda/lib/python3.10/site-packages (from tensorflow_addons) (21.3)\r\n",
      "Requirement already satisfied: typeguard<3.0.0,>=2.7 in /opt/conda/lib/python3.10/site-packages (from tensorflow_addons) (2.13.3)\r\n",
      "Requirement already satisfied: pyparsing!=3.0.5,>=2.0.2 in /opt/conda/lib/python3.10/site-packages (from packaging->tensorflow_addons) (3.0.9)\r\n"
     ]
    }
   ],
   "source": [
    "!pip install --quiet vit-keras\n",
    "!pip install tensorflow_addons"
   ]
  },
  {
   "cell_type": "code",
   "execution_count": 4,
   "id": "86fb5c30",
   "metadata": {
    "execution": {
     "iopub.execute_input": "2023-08-12T04:11:37.771438Z",
     "iopub.status.busy": "2023-08-12T04:11:37.770904Z",
     "iopub.status.idle": "2023-08-12T04:11:47.854932Z",
     "shell.execute_reply": "2023-08-12T04:11:47.853960Z"
    },
    "id": "afe143c1",
    "outputId": "7b60cdd8-296a-4879-c8a0-2e1111bd6200",
    "papermill": {
     "duration": 10.093585,
     "end_time": "2023-08-12T04:11:47.857336",
     "exception": false,
     "start_time": "2023-08-12T04:11:37.763751",
     "status": "completed"
    },
    "tags": []
   },
   "outputs": [
    {
     "name": "stderr",
     "output_type": "stream",
     "text": [
      "/opt/conda/lib/python3.10/site-packages/scipy/__init__.py:146: UserWarning: A NumPy version >=1.16.5 and <1.23.0 is required for this version of SciPy (detected version 1.23.5\n",
      "  warnings.warn(f\"A NumPy version >={np_minversion} and <{np_maxversion}\"\n",
      "/opt/conda/lib/python3.10/site-packages/tensorflow_io/python/ops/__init__.py:98: UserWarning: unable to load libtensorflow_io_plugins.so: unable to open file: libtensorflow_io_plugins.so, from paths: ['/opt/conda/lib/python3.10/site-packages/tensorflow_io/python/ops/libtensorflow_io_plugins.so']\n",
      "caused by: ['/opt/conda/lib/python3.10/site-packages/tensorflow_io/python/ops/libtensorflow_io_plugins.so: undefined symbol: _ZN3tsl6StatusC1EN10tensorflow5error4CodeESt17basic_string_viewIcSt11char_traitsIcEENS_14SourceLocationE']\n",
      "  warnings.warn(f\"unable to load libtensorflow_io_plugins.so: {e}\")\n",
      "/opt/conda/lib/python3.10/site-packages/tensorflow_io/python/ops/__init__.py:104: UserWarning: file system plugins are not loaded: unable to open file: libtensorflow_io.so, from paths: ['/opt/conda/lib/python3.10/site-packages/tensorflow_io/python/ops/libtensorflow_io.so']\n",
      "caused by: ['/opt/conda/lib/python3.10/site-packages/tensorflow_io/python/ops/libtensorflow_io.so: undefined symbol: _ZTVN10tensorflow13GcsFileSystemE']\n",
      "  warnings.warn(f\"file system plugins are not loaded: {e}\")\n",
      "/opt/conda/lib/python3.10/site-packages/tensorflow_addons/utils/tfa_eol_msg.py:23: UserWarning: \n",
      "\n",
      "TensorFlow Addons (TFA) has ended development and introduction of new features.\n",
      "TFA has entered a minimal maintenance and release mode until a planned end of life in May 2024.\n",
      "Please modify downstream libraries to take dependencies from other repositories in our TensorFlow community (e.g. Keras, Keras-CV, and Keras-NLP). \n",
      "\n",
      "For more information see: https://github.com/tensorflow/addons/issues/2807 \n",
      "\n",
      "  warnings.warn(\n"
     ]
    }
   ],
   "source": [
    "import matplotlib.pyplot as plt\n",
    "import numpy as np\n",
    "import pandas as pd\n",
    "import os\n",
    "from glob import glob\n",
    "import seaborn as sns\n",
    "from PIL import Image\n",
    "np.random.seed(123)\n",
    "from sklearn.preprocessing import label_binarize\n",
    "from sklearn.metrics import confusion_matrix\n",
    "import itertools\n",
    "import keras\n",
    "from keras import backend as K\n",
    "import tensorflow\n",
    "from tensorflow.keras.layers import Dropout, Dense, LayerNormalization, Flatten\n",
    "from tensorflow.keras.activations import gelu\n",
    "from tensorflow.keras.optimizers import Adam, SGD\n",
    "from tensorflow.keras.metrics import categorical_crossentropy\n",
    "from tensorflow.keras.preprocessing.image import ImageDataGenerator\n",
    "from tensorflow.keras.models import Model\n",
    "from tensorflow.keras.callbacks import EarlyStopping, ReduceLROnPlateau, ModelCheckpoint\n",
    "from vit_keras import vit\n",
    "import tensorflow_addons as tfa\n",
    "import math\n",
    "from sklearn.metrics import confusion_matrix\n",
    "from sklearn.model_selection import train_test_split\n",
    "import itertools\n",
    "import shutil\n",
    "import matplotlib.pyplot as plt\n",
    "from zipfile import ZipFile\n",
    "import time\n",
    "from sklearn.model_selection import StratifiedKFold, KFold\n",
    "from sklearn.metrics import roc_auc_score\n",
    "from sklearn.metrics import  precision_score, recall_score, accuracy_score\n",
    "from sklearn.metrics import roc_curve, auc\n",
    "from sklearn.metrics import classification_report\n",
    "import tensorflow as tf\n",
    "from tensorflow.keras import backend as K"
   ]
  },
  {
   "attachments": {},
   "cell_type": "markdown",
   "id": "c7e05122",
   "metadata": {},
   "source": [
    "Initializing the ViT Model"
   ]
  },
  {
   "cell_type": "code",
   "execution_count": 5,
   "id": "dcb8ea6f",
   "metadata": {
    "execution": {
     "iopub.execute_input": "2023-08-12T04:11:47.874423Z",
     "iopub.status.busy": "2023-08-12T04:11:47.872617Z",
     "iopub.status.idle": "2023-08-12T04:11:56.223255Z",
     "shell.execute_reply": "2023-08-12T04:11:56.222276Z"
    },
    "id": "0d8eb2cb",
    "outputId": "8f935033-3dca-41b6-e376-a7a68fb427ec",
    "papermill": {
     "duration": 8.361037,
     "end_time": "2023-08-12T04:11:56.225719",
     "exception": false,
     "start_time": "2023-08-12T04:11:47.864682",
     "status": "completed"
    },
    "tags": []
   },
   "outputs": [
    {
     "name": "stdout",
     "output_type": "stream",
     "text": [
      "Downloading data from https://github.com/faustomorales/vit-keras/releases/download/dl/ViT-B_16_imagenet21k+imagenet2012.npz\n",
      "347502902/347502902 [==============================] - 1s 0us/step\n"
     ]
    },
    {
     "name": "stderr",
     "output_type": "stream",
     "text": [
      "/opt/conda/lib/python3.10/site-packages/vit_keras/utils.py:81: UserWarning: Resizing position embeddings from 24, 24 to 14, 14\n",
      "  warnings.warn(\n"
     ]
    }
   ],
   "source": [
    "vit_model = vit.vit_b16(\n",
    "        image_size = 224,\n",
    "        activation = 'softmax',\n",
    "        pretrained = True,\n",
    "        include_top = False,\n",
    "        pretrained_top = False,\n",
    "        classes = 2)"
   ]
  },
  {
   "attachments": {},
   "cell_type": "markdown",
   "id": "dbb1786a",
   "metadata": {},
   "source": [
    "Adding Additional layers on top of ViT Model"
   ]
  },
  {
   "cell_type": "code",
   "execution_count": 6,
   "id": "32063f67",
   "metadata": {
    "execution": {
     "iopub.execute_input": "2023-08-12T04:11:56.246788Z",
     "iopub.status.busy": "2023-08-12T04:11:56.245089Z",
     "iopub.status.idle": "2023-08-12T04:11:57.985790Z",
     "shell.execute_reply": "2023-08-12T04:11:57.984832Z"
    },
    "id": "cc2ced1b",
    "outputId": "0521356f-82ff-452e-faca-8395e9df14f0",
    "papermill": {
     "duration": 1.75318,
     "end_time": "2023-08-12T04:11:57.988116",
     "exception": false,
     "start_time": "2023-08-12T04:11:56.234936",
     "status": "completed"
    },
    "tags": []
   },
   "outputs": [
    {
     "name": "stdout",
     "output_type": "stream",
     "text": [
      "Model: \"vision_transformer\"\n",
      "_________________________________________________________________\n",
      " Layer (type)                Output Shape              Param #   \n",
      "=================================================================\n",
      " vit-b16 (Functional)        (None, 768)               85798656  \n",
      "                                                                 \n",
      " flatten (Flatten)           (None, 768)               0         \n",
      "                                                                 \n",
      " batch_normalization (BatchN  (None, 768)              3072      \n",
      " ormalization)                                                   \n",
      "                                                                 \n",
      " dense (Dense)               (None, 11)                8459      \n",
      "                                                                 \n",
      " batch_normalization_1 (Batc  (None, 11)               44        \n",
      " hNormalization)                                                 \n",
      "                                                                 \n",
      " dense_1 (Dense)             (None, 2)                 24        \n",
      "                                                                 \n",
      "=================================================================\n",
      "Total params: 85,810,255\n",
      "Trainable params: 85,808,697\n",
      "Non-trainable params: 1,558\n",
      "_________________________________________________________________\n"
     ]
    }
   ],
   "source": [
    "model = tf.keras.Sequential([\n",
    "        vit_model,\n",
    "        tf.keras.layers.Flatten(),\n",
    "        tf.keras.layers.BatchNormalization(),\n",
    "        tf.keras.layers.Dense(11, activation = tfa.activations.gelu),\n",
    "        tf.keras.layers.BatchNormalization(),\n",
    "        tf.keras.layers.Dense(2, 'softmax')\n",
    "    ],\n",
    "    name = 'vision_transformer')\n",
    "\n",
    "model.summary()"
   ]
  },
  {
   "cell_type": "code",
   "execution_count": 7,
   "id": "e508506f",
   "metadata": {
    "execution": {
     "iopub.execute_input": "2023-08-12T04:11:58.010709Z",
     "iopub.status.busy": "2023-08-12T04:11:58.010420Z",
     "iopub.status.idle": "2023-08-12T04:11:58.032096Z",
     "shell.execute_reply": "2023-08-12T04:11:58.031224Z"
    },
    "id": "f90cf531",
    "papermill": {
     "duration": 0.035454,
     "end_time": "2023-08-12T04:11:58.034211",
     "exception": false,
     "start_time": "2023-08-12T04:11:57.998757",
     "status": "completed"
    },
    "tags": []
   },
   "outputs": [],
   "source": [
    "#Function for focal loss\n",
    "def focal_loss(gamma=2, alpha=0.5):\n",
    "    def focal_loss_fn(y_true, y_pred):\n",
    "        y_pred = K.clip(y_pred, K.epsilon(), 1.0 - K.epsilon())\n",
    "        focal_loss = -alpha * y_true * K.pow(1.0 - y_pred, gamma) * K.log(y_pred)\n",
    "        return K.mean(focal_loss, axis=-1)\n",
    "    return focal_loss_fn\n",
    "\n",
    "# Compiling model using focal loss and Adam optimiser\n",
    "model.compile(optimizer='adam', loss=focal_loss(), metrics=['accuracy'])"
   ]
  },
  {
   "attachments": {},
   "cell_type": "markdown",
   "id": "f55cb3c6",
   "metadata": {},
   "source": [
    "Function for plotting the graph of Train and Validation Accuracy and loss"
   ]
  },
  {
   "cell_type": "code",
   "execution_count": 9,
   "id": "12fd4d11",
   "metadata": {
    "execution": {
     "iopub.execute_input": "2023-08-12T04:11:58.087621Z",
     "iopub.status.busy": "2023-08-12T04:11:58.086754Z",
     "iopub.status.idle": "2023-08-12T04:11:58.093888Z",
     "shell.execute_reply": "2023-08-12T04:11:58.093035Z"
    },
    "id": "895825d0",
    "papermill": {
     "duration": 0.020522,
     "end_time": "2023-08-12T04:11:58.095796",
     "exception": false,
     "start_time": "2023-08-12T04:11:58.075274",
     "status": "completed"
    },
    "tags": []
   },
   "outputs": [],
   "source": [
    "def graph_it(history):\n",
    "  acc = history.history['accuracy']\n",
    "  val_acc = history.history['val_accuracy']\n",
    "  loss = history.history['loss']\n",
    "  val_loss = history.history['val_loss']\n",
    "  epochs = range(len(acc))\n",
    "\n",
    "  #Plot Train and Validation Accuracy\n",
    "  plt.plot(epochs, acc, 'r', label='Training accuracy')\n",
    "  plt.plot(epochs, val_acc, 'b', label='Validation accuracy')\n",
    "  plt.title('Model Accuracy: Training and Validation')\n",
    "  plt.legend(loc=0)\n",
    "  plt.figure()\n",
    "\n",
    "  #Plot Train and Validation Loss\n",
    "  plt.plot(epochs, loss, 'r', label='Training loss')\n",
    "  plt.plot(epochs, val_loss, 'b', label='Validation loss')\n",
    "  plt.title('Training and validation Loss')\n",
    "  plt.legend(loc=0)\n",
    "  plt.figure()\n"
   ]
  },
  {
   "attachments": {},
   "cell_type": "markdown",
   "id": "817d7ebf",
   "metadata": {},
   "source": [
    "Function for Model Evaluation"
   ]
  },
  {
   "cell_type": "code",
   "execution_count": 10,
   "id": "24c4806b",
   "metadata": {
    "execution": {
     "iopub.execute_input": "2023-08-12T04:11:58.118779Z",
     "iopub.status.busy": "2023-08-12T04:11:58.118001Z",
     "iopub.status.idle": "2023-08-12T04:11:58.128660Z",
     "shell.execute_reply": "2023-08-12T04:11:58.127809Z"
    },
    "id": "d4a7c9c8",
    "papermill": {
     "duration": 0.024147,
     "end_time": "2023-08-12T04:11:58.130632",
     "exception": false,
     "start_time": "2023-08-12T04:11:58.106485",
     "status": "completed"
    },
    "tags": []
   },
   "outputs": [],
   "source": [
    "from sklearn.metrics import confusion_matrix, roc_auc_score, classification_report, precision_score, roc_curve, ConfusionMatrixDisplay\n",
    "\n",
    "def test_it(model, test_generator):\n",
    "    test_labels = test_generator.classes\n",
    "\n",
    "    predictions = model.predict(test_generator)\n",
    "    predicted_labels = np.argmax(predictions, axis=1)\n",
    "\n",
    "    cm = confusion_matrix(test_labels, predicted_labels)\n",
    "    disp = ConfusionMatrixDisplay(confusion_matrix=cm)\n",
    "    disp.plot()\n",
    "    plt.show()\n",
    "\n",
    "    roc = roc_auc_score(test_labels, predictions[:, 1])  # Calculate ROC score\n",
    "\n",
    "    # Calculate confusion matrix\n",
    "    tn, fp, fn, tp = confusion_matrix(test_labels, predicted_labels).ravel()\n",
    "\n",
    "    # Calculate sensitivity and specificity\n",
    "    sensitivity = tp / (tp + fn)\n",
    "    specificity = tn / (tn + fp)\n",
    "\n",
    "    report = classification_report(test_labels, predicted_labels) #Classification report\n",
    "\n",
    "    precision = precision_score(test_labels, predicted_labels, average='weighted') #Calculate Precision score\n",
    "\n",
    "    print(\"\\n\", report)\n",
    "    print(f\"Sensitivity: {round(sensitivity, 3)} Specificity: {round(specificity, 3)} Precision: {round(precision, 3)} ROC_AUC_SCORE: {round(roc, 3)}\\n\")\n",
    "\n",
    "    # Plot AUC-ROC curve\n",
    "    fpr, tpr, thresholds = roc_curve(test_labels, predictions[:, 1])\n",
    "    plt.figure(figsize=(4, 4))\n",
    "    plt.plot(fpr, tpr, label='ROC curve (area = %0.2f)' % roc)\n",
    "    plt.plot([0, 1], [0, 1], 'k--')  # Random guessing line\n",
    "    plt.xlim([0.0, 1.0])\n",
    "    plt.ylim([0.0, 1.0])\n",
    "    plt.xlabel('False Positive Rate')\n",
    "    plt.ylabel('True Positive Rate')\n",
    "    plt.title('Receiver Operating Characteristic (ROC) Curve')\n",
    "    plt.legend(loc=\"lower right\")\n",
    "    plt.show()"
   ]
  },
  {
   "cell_type": "code",
   "execution_count": 11,
   "id": "7d515b0d",
   "metadata": {
    "execution": {
     "iopub.execute_input": "2023-08-12T04:11:58.153729Z",
     "iopub.status.busy": "2023-08-12T04:11:58.153015Z",
     "iopub.status.idle": "2023-08-12T04:11:58.157692Z",
     "shell.execute_reply": "2023-08-12T04:11:58.156843Z"
    },
    "id": "9671fe3a",
    "papermill": {
     "duration": 0.018275,
     "end_time": "2023-08-12T04:11:58.159663",
     "exception": false,
     "start_time": "2023-08-12T04:11:58.141388",
     "status": "completed"
    },
    "tags": []
   },
   "outputs": [],
   "source": [
    "# Set the directories for the data for task1 (SEB VS NEVUS)\n",
    "train_dir = \"/kaggle/input/isic-train-merge-aug/train_augumented-2023/train_augumented/task1\"\n",
    "test_dir = \"/kaggle/input/isic-train-merge-aug/test2023/test/task1\"\n",
    "val_dir = \"/kaggle/input/isic-train-merge-aug/val-2023/val/task1\""
   ]
  },
  {
   "cell_type": "code",
   "execution_count": 12,
   "id": "11add7e7",
   "metadata": {
    "execution": {
     "iopub.execute_input": "2023-08-12T04:11:58.183104Z",
     "iopub.status.busy": "2023-08-12T04:11:58.182328Z",
     "iopub.status.idle": "2023-08-12T04:11:58.186955Z",
     "shell.execute_reply": "2023-08-12T04:11:58.186026Z"
    },
    "id": "e9e4b21a",
    "papermill": {
     "duration": 0.018216,
     "end_time": "2023-08-12T04:11:58.188883",
     "exception": false,
     "start_time": "2023-08-12T04:11:58.170667",
     "status": "completed"
    },
    "tags": []
   },
   "outputs": [],
   "source": [
    "# Define the data generator\n",
    "datagen = ImageDataGenerator(\n",
    "    preprocessing_function= \\\n",
    "    tensorflow.keras.applications.mobilenet.preprocess_input)\n",
    "\n",
    "image_size = (224, 224)\n",
    "batch = 32"
   ]
  },
  {
   "attachments": {},
   "cell_type": "markdown",
   "id": "2c129f73",
   "metadata": {},
   "source": [
    "Creating batches to improve memory optimization"
   ]
  },
  {
   "cell_type": "code",
   "execution_count": 14,
   "id": "cea7966d",
   "metadata": {
    "execution": {
     "iopub.execute_input": "2023-08-12T04:11:58.242048Z",
     "iopub.status.busy": "2023-08-12T04:11:58.241280Z",
     "iopub.status.idle": "2023-08-12T04:12:03.843518Z",
     "shell.execute_reply": "2023-08-12T04:12:03.842553Z"
    },
    "id": "7ATMKowsaH4V",
    "outputId": "8ea60a84-7296-4998-c8af-94e9a2373761",
    "papermill": {
     "duration": 5.61648,
     "end_time": "2023-08-12T04:12:03.845894",
     "exception": false,
     "start_time": "2023-08-12T04:11:58.229414",
     "status": "completed"
    },
    "tags": []
   },
   "outputs": [
    {
     "name": "stdout",
     "output_type": "stream",
     "text": [
      "Found 12000 images belonging to 2 classes.\n",
      "Found 150 images belonging to 2 classes.\n",
      "Found 600 images belonging to 2 classes.\n"
     ]
    }
   ],
   "source": [
    "train_batches = datagen.flow_from_directory(train_dir,\n",
    "                                            target_size=(image_size),\n",
    "                                            batch_size=10)\n",
    "\n",
    "valid_batches = datagen.flow_from_directory(val_dir,\n",
    "                                            target_size=(image_size),\n",
    "                                            batch_size=10)\n",
    "\n",
    "# Note: shuffle=False causes the test dataset to not be shuffled\n",
    "test_batches = datagen.flow_from_directory(test_dir,\n",
    "                                            target_size=(image_size),\n",
    "                                            batch_size=1,\n",
    "                                            shuffle=False)"
   ]
  },
  {
   "cell_type": "code",
   "execution_count": 15,
   "id": "add9d6ea",
   "metadata": {
    "execution": {
     "iopub.execute_input": "2023-08-12T04:12:03.871663Z",
     "iopub.status.busy": "2023-08-12T04:12:03.870847Z",
     "iopub.status.idle": "2023-08-12T04:12:03.878585Z",
     "shell.execute_reply": "2023-08-12T04:12:03.877663Z"
    },
    "id": "2GDPYOeaVw_n",
    "outputId": "a11f0517-05fa-4843-f6e7-a7b6026c1594",
    "papermill": {
     "duration": 0.023008,
     "end_time": "2023-08-12T04:12:03.880711",
     "exception": false,
     "start_time": "2023-08-12T04:12:03.857703",
     "status": "completed"
    },
    "tags": []
   },
   "outputs": [
    {
     "data": {
      "text/plain": [
       "{'mel': 0, 'nevus_seb': 1}"
      ]
     },
     "execution_count": 15,
     "metadata": {},
     "output_type": "execute_result"
    }
   ],
   "source": [
    "train_batches.class_indices"
   ]
  },
  {
   "cell_type": "code",
   "execution_count": 16,
   "id": "e595d024",
   "metadata": {
    "execution": {
     "iopub.execute_input": "2023-08-12T04:12:03.906749Z",
     "iopub.status.busy": "2023-08-12T04:12:03.905794Z",
     "iopub.status.idle": "2023-08-12T04:12:03.913960Z",
     "shell.execute_reply": "2023-08-12T04:12:03.913074Z"
    },
    "id": "KiRi8zD6ZIyI",
    "outputId": "395aa2bf-0731-4fd1-fd80-13692114cf8c",
    "papermill": {
     "duration": 0.022681,
     "end_time": "2023-08-12T04:12:03.916020",
     "exception": false,
     "start_time": "2023-08-12T04:12:03.893339",
     "status": "completed"
    },
    "tags": []
   },
   "outputs": [
    {
     "data": {
      "text/plain": [
       "{'mel': 0, 'nevus_seb': 1}"
      ]
     },
     "execution_count": 16,
     "metadata": {},
     "output_type": "execute_result"
    }
   ],
   "source": [
    "valid_batches.class_indices"
   ]
  },
  {
   "cell_type": "code",
   "execution_count": 17,
   "id": "77c681fb",
   "metadata": {
    "execution": {
     "iopub.execute_input": "2023-08-12T04:12:03.942868Z",
     "iopub.status.busy": "2023-08-12T04:12:03.942084Z",
     "iopub.status.idle": "2023-08-12T04:12:03.951156Z",
     "shell.execute_reply": "2023-08-12T04:12:03.950045Z"
    },
    "id": "kunFVJitV2gZ",
    "outputId": "23138644-2ea4-40f5-ca58-9b46ab832c12",
    "papermill": {
     "duration": 0.023557,
     "end_time": "2023-08-12T04:12:03.953156",
     "exception": false,
     "start_time": "2023-08-12T04:12:03.929599",
     "status": "completed"
    },
    "tags": []
   },
   "outputs": [
    {
     "name": "stdout",
     "output_type": "stream",
     "text": [
      "Number of images per class: Counter({1: 9756, 0: 2244})\n"
     ]
    }
   ],
   "source": [
    "from collections import Counter\n",
    "\n",
    "class_counts = Counter(train_batches.classes)\n",
    "print(\"Number of images per class:\", class_counts)\n"
   ]
  },
  {
   "cell_type": "code",
   "execution_count": 18,
   "id": "74e2341f",
   "metadata": {
    "execution": {
     "iopub.execute_input": "2023-08-12T04:12:03.979502Z",
     "iopub.status.busy": "2023-08-12T04:12:03.978922Z",
     "iopub.status.idle": "2023-08-12T04:12:03.984355Z",
     "shell.execute_reply": "2023-08-12T04:12:03.983428Z"
    },
    "id": "pZlJ57JkV_Pp",
    "outputId": "76b0d171-8947-4cd0-e2b0-a0ed5b5c8a4f",
    "papermill": {
     "duration": 0.021428,
     "end_time": "2023-08-12T04:12:03.986676",
     "exception": false,
     "start_time": "2023-08-12T04:12:03.965248",
     "status": "completed"
    },
    "tags": []
   },
   "outputs": [
    {
     "name": "stdout",
     "output_type": "stream",
     "text": [
      "Number of images per class: {'mel': 2244, 'nevus_seb': 9756}\n"
     ]
    }
   ],
   "source": [
    "class_names = list(train_batches.class_indices.keys())\n",
    "class_counts_with_names = {class_names[idx]: count for idx, count in class_counts.items()}\n",
    "print(\"Number of images per class:\", class_counts_with_names)"
   ]
  },
  {
   "cell_type": "code",
   "execution_count": 19,
   "id": "e359e0f5",
   "metadata": {
    "execution": {
     "iopub.execute_input": "2023-08-12T04:12:04.011561Z",
     "iopub.status.busy": "2023-08-12T04:12:04.010807Z",
     "iopub.status.idle": "2023-08-12T04:12:04.015808Z",
     "shell.execute_reply": "2023-08-12T04:12:04.014993Z"
    },
    "id": "FjZnz8QRO8xD",
    "papermill": {
     "duration": 0.019517,
     "end_time": "2023-08-12T04:12:04.017779",
     "exception": false,
     "start_time": "2023-08-12T04:12:03.998262",
     "status": "completed"
    },
    "tags": []
   },
   "outputs": [],
   "source": [
    "train_steps = np.ceil(train_batches.n / batch)\n",
    "test_steps = np.ceil(test_batches.n / batch)\n",
    "val_steps = np.ceil(valid_batches.n / batch)"
   ]
  },
  {
   "attachments": {},
   "cell_type": "markdown",
   "id": "0f0bbdf0",
   "metadata": {},
   "source": [
    "Configuration of Early stopping criteria, learning rate"
   ]
  },
  {
   "cell_type": "code",
   "execution_count": 20,
   "id": "f2dcf78c",
   "metadata": {
    "execution": {
     "iopub.execute_input": "2023-08-12T04:12:04.043164Z",
     "iopub.status.busy": "2023-08-12T04:12:04.042360Z",
     "iopub.status.idle": "2023-08-12T04:12:04.048805Z",
     "shell.execute_reply": "2023-08-12T04:12:04.047847Z"
    },
    "id": "lQnHiksDahxQ",
    "papermill": {
     "duration": 0.021013,
     "end_time": "2023-08-12T04:12:04.050801",
     "exception": false,
     "start_time": "2023-08-12T04:12:04.029788",
     "status": "completed"
    },
    "tags": []
   },
   "outputs": [],
   "source": [
    "early_stopping = EarlyStopping(monitor='val_loss',patience=8)  #Configuring early stopping criteria\n",
    "\n",
    "checkpointer = tf.keras.callbacks.ModelCheckpoint(filepath = 'model.hdf5',\n",
    "                                                  monitor = 'val_accuracy',\n",
    "                                                  verbose = 1,\n",
    "                                                  save_best_only = True,\n",
    "                                                  save_weights_only = True,\n",
    "                                                  mode = 'max')\n",
    "#Configure dynamic learning rate\n",
    "def step_decay(epoch):\n",
    "    initial_lrate = 0.00002\n",
    "    drop = 0.1\n",
    "    epochs_drop = 10.0\n",
    "    lrate = initial_lrate * math.pow(drop, math.floor((1+epoch)/epochs_drop))\n",
    "    return lrate\n",
    "\n",
    "lr_scheduler = tf.keras.callbacks.LearningRateScheduler(step_decay, verbose=1)"
   ]
  },
  {
   "cell_type": "code",
   "execution_count": 21,
   "id": "78880689",
   "metadata": {
    "execution": {
     "iopub.execute_input": "2023-08-12T04:12:04.077162Z",
     "iopub.status.busy": "2023-08-12T04:12:04.076861Z",
     "iopub.status.idle": "2023-08-12T04:12:04.080923Z",
     "shell.execute_reply": "2023-08-12T04:12:04.080050Z"
    },
    "id": "t9YyA-CMalyq",
    "papermill": {
     "duration": 0.020055,
     "end_time": "2023-08-12T04:12:04.083021",
     "exception": false,
     "start_time": "2023-08-12T04:12:04.062966",
     "status": "completed"
    },
    "tags": []
   },
   "outputs": [],
   "source": [
    "callbacks = [early_stopping, checkpointer, lr_scheduler]"
   ]
  },
  {
   "attachments": {},
   "cell_type": "markdown",
   "id": "7c6a36a5",
   "metadata": {},
   "source": [
    "Model Training"
   ]
  },
  {
   "cell_type": "code",
   "execution_count": 22,
   "id": "83f04d3e",
   "metadata": {
    "execution": {
     "iopub.execute_input": "2023-08-12T04:12:04.109087Z",
     "iopub.status.busy": "2023-08-12T04:12:04.108289Z",
     "iopub.status.idle": "2023-08-12T04:55:06.124943Z",
     "shell.execute_reply": "2023-08-12T04:55:06.123986Z"
    },
    "id": "h0jl4qCjapIq",
    "outputId": "06c8cd6b-e56e-44fc-b5b7-967543bb9605",
    "papermill": {
     "duration": 2582.031904,
     "end_time": "2023-08-12T04:55:06.127117",
     "exception": false,
     "start_time": "2023-08-12T04:12:04.095213",
     "status": "completed"
    },
    "tags": []
   },
   "outputs": [
    {
     "name": "stdout",
     "output_type": "stream",
     "text": [
      "\n",
      "Epoch 1: LearningRateScheduler setting learning rate to 2e-05.\n",
      "Epoch 1/30\n"
     ]
    },
    {
     "name": "stderr",
     "output_type": "stream",
     "text": [
      "/tmp/ipykernel_23/1018363140.py:1: UserWarning: `Model.fit_generator` is deprecated and will be removed in a future version. Please use `Model.fit`, which supports generators.\n",
      "  history = model.fit_generator(train_batches, steps_per_epoch=train_steps,\n"
     ]
    },
    {
     "name": "stdout",
     "output_type": "stream",
     "text": [
      "375/375 [==============================] - ETA: 0s - loss: 0.0804 - accuracy: 0.5715\n",
      "Epoch 1: val_accuracy improved from -inf to 0.46000, saving model to model.hdf5\n",
      "375/375 [==============================] - 160s 282ms/step - loss: 0.0804 - accuracy: 0.5715 - val_loss: 0.1116 - val_accuracy: 0.4600 - lr: 2.0000e-05\n",
      "\n",
      "Epoch 2: LearningRateScheduler setting learning rate to 2e-05.\n",
      "Epoch 2/30\n",
      "375/375 [==============================] - ETA: 0s - loss: 0.0561 - accuracy: 0.6160\n",
      "Epoch 2: val_accuracy did not improve from 0.46000\n",
      "375/375 [==============================] - 102s 272ms/step - loss: 0.0561 - accuracy: 0.6160 - val_loss: 0.0764 - val_accuracy: 0.4600 - lr: 2.0000e-05\n",
      "\n",
      "Epoch 3: LearningRateScheduler setting learning rate to 2e-05.\n",
      "Epoch 3/30\n",
      "375/375 [==============================] - ETA: 0s - loss: 0.0477 - accuracy: 0.6536\n",
      "Epoch 3: val_accuracy improved from 0.46000 to 0.52000, saving model to model.hdf5\n",
      "375/375 [==============================] - 103s 274ms/step - loss: 0.0477 - accuracy: 0.6536 - val_loss: 0.0575 - val_accuracy: 0.5200 - lr: 2.0000e-05\n",
      "\n",
      "Epoch 4: LearningRateScheduler setting learning rate to 2e-05.\n",
      "Epoch 4/30\n",
      "375/375 [==============================] - ETA: 0s - loss: 0.0423 - accuracy: 0.6771\n",
      "Epoch 4: val_accuracy improved from 0.52000 to 0.62000, saving model to model.hdf5\n",
      "375/375 [==============================] - 103s 274ms/step - loss: 0.0423 - accuracy: 0.6771 - val_loss: 0.0585 - val_accuracy: 0.6200 - lr: 2.0000e-05\n",
      "\n",
      "Epoch 5: LearningRateScheduler setting learning rate to 2e-05.\n",
      "Epoch 5/30\n",
      "375/375 [==============================] - ETA: 0s - loss: 0.0381 - accuracy: 0.7280\n",
      "Epoch 5: val_accuracy improved from 0.62000 to 0.72000, saving model to model.hdf5\n",
      "375/375 [==============================] - 103s 274ms/step - loss: 0.0381 - accuracy: 0.7280 - val_loss: 0.0344 - val_accuracy: 0.7200 - lr: 2.0000e-05\n",
      "\n",
      "Epoch 6: LearningRateScheduler setting learning rate to 2e-05.\n",
      "Epoch 6/30\n",
      "375/375 [==============================] - ETA: 0s - loss: 0.0345 - accuracy: 0.7565\n",
      "Epoch 6: val_accuracy improved from 0.72000 to 0.80000, saving model to model.hdf5\n",
      "375/375 [==============================] - 103s 274ms/step - loss: 0.0345 - accuracy: 0.7565 - val_loss: 0.0312 - val_accuracy: 0.8000 - lr: 2.0000e-05\n",
      "\n",
      "Epoch 7: LearningRateScheduler setting learning rate to 2e-05.\n",
      "Epoch 7/30\n",
      "375/375 [==============================] - ETA: 0s - loss: 0.0319 - accuracy: 0.7813\n",
      "Epoch 7: val_accuracy did not improve from 0.80000\n",
      "375/375 [==============================] - 102s 272ms/step - loss: 0.0319 - accuracy: 0.7813 - val_loss: 0.0325 - val_accuracy: 0.8000 - lr: 2.0000e-05\n",
      "\n",
      "Epoch 8: LearningRateScheduler setting learning rate to 2e-05.\n",
      "Epoch 8/30\n",
      "375/375 [==============================] - ETA: 0s - loss: 0.0293 - accuracy: 0.8064\n",
      "Epoch 8: val_accuracy did not improve from 0.80000\n",
      "375/375 [==============================] - 102s 272ms/step - loss: 0.0293 - accuracy: 0.8064 - val_loss: 0.0320 - val_accuracy: 0.7000 - lr: 2.0000e-05\n",
      "\n",
      "Epoch 9: LearningRateScheduler setting learning rate to 2e-05.\n",
      "Epoch 9/30\n",
      "375/375 [==============================] - ETA: 0s - loss: 0.0270 - accuracy: 0.8200\n",
      "Epoch 9: val_accuracy did not improve from 0.80000\n",
      "375/375 [==============================] - 102s 272ms/step - loss: 0.0270 - accuracy: 0.8200 - val_loss: 0.0391 - val_accuracy: 0.7200 - lr: 2.0000e-05\n",
      "\n",
      "Epoch 10: LearningRateScheduler setting learning rate to 2.0000000000000003e-06.\n",
      "Epoch 10/30\n",
      "375/375 [==============================] - ETA: 0s - loss: 0.0246 - accuracy: 0.8459\n",
      "Epoch 10: val_accuracy improved from 0.80000 to 0.84000, saving model to model.hdf5\n",
      "375/375 [==============================] - 103s 274ms/step - loss: 0.0246 - accuracy: 0.8459 - val_loss: 0.0258 - val_accuracy: 0.8400 - lr: 2.0000e-06\n",
      "\n",
      "Epoch 11: LearningRateScheduler setting learning rate to 2.0000000000000003e-06.\n",
      "Epoch 11/30\n",
      "375/375 [==============================] - ETA: 0s - loss: 0.0233 - accuracy: 0.8563\n",
      "Epoch 11: val_accuracy did not improve from 0.84000\n",
      "375/375 [==============================] - 102s 272ms/step - loss: 0.0233 - accuracy: 0.8563 - val_loss: 0.0283 - val_accuracy: 0.8000 - lr: 2.0000e-06\n",
      "\n",
      "Epoch 12: LearningRateScheduler setting learning rate to 2.0000000000000003e-06.\n",
      "Epoch 12/30\n",
      "375/375 [==============================] - ETA: 0s - loss: 0.0243 - accuracy: 0.8477\n",
      "Epoch 12: val_accuracy did not improve from 0.84000\n",
      "375/375 [==============================] - 102s 271ms/step - loss: 0.0243 - accuracy: 0.8477 - val_loss: 0.0288 - val_accuracy: 0.7800 - lr: 2.0000e-06\n",
      "\n",
      "Epoch 13: LearningRateScheduler setting learning rate to 2.0000000000000003e-06.\n",
      "Epoch 13/30\n",
      "375/375 [==============================] - ETA: 0s - loss: 0.0219 - accuracy: 0.8651\n",
      "Epoch 13: val_accuracy did not improve from 0.84000\n",
      "375/375 [==============================] - 102s 271ms/step - loss: 0.0219 - accuracy: 0.8651 - val_loss: 0.0254 - val_accuracy: 0.8400 - lr: 2.0000e-06\n",
      "\n",
      "Epoch 14: LearningRateScheduler setting learning rate to 2.0000000000000003e-06.\n",
      "Epoch 14/30\n",
      "375/375 [==============================] - ETA: 0s - loss: 0.0224 - accuracy: 0.8611\n",
      "Epoch 14: val_accuracy improved from 0.84000 to 0.88000, saving model to model.hdf5\n",
      "375/375 [==============================] - 103s 273ms/step - loss: 0.0224 - accuracy: 0.8611 - val_loss: 0.0223 - val_accuracy: 0.8800 - lr: 2.0000e-06\n",
      "\n",
      "Epoch 15: LearningRateScheduler setting learning rate to 2.0000000000000003e-06.\n",
      "Epoch 15/30\n",
      "375/375 [==============================] - ETA: 0s - loss: 0.0210 - accuracy: 0.8707\n",
      "Epoch 15: val_accuracy did not improve from 0.88000\n",
      "375/375 [==============================] - 102s 271ms/step - loss: 0.0210 - accuracy: 0.8707 - val_loss: 0.0303 - val_accuracy: 0.8000 - lr: 2.0000e-06\n",
      "\n",
      "Epoch 16: LearningRateScheduler setting learning rate to 2.0000000000000003e-06.\n",
      "Epoch 16/30\n",
      "375/375 [==============================] - ETA: 0s - loss: 0.0211 - accuracy: 0.8733\n",
      "Epoch 16: val_accuracy did not improve from 0.88000\n",
      "375/375 [==============================] - 102s 271ms/step - loss: 0.0211 - accuracy: 0.8733 - val_loss: 0.0287 - val_accuracy: 0.8000 - lr: 2.0000e-06\n",
      "\n",
      "Epoch 17: LearningRateScheduler setting learning rate to 2.0000000000000003e-06.\n",
      "Epoch 17/30\n",
      "375/375 [==============================] - ETA: 0s - loss: 0.0185 - accuracy: 0.8907\n",
      "Epoch 17: val_accuracy did not improve from 0.88000\n",
      "375/375 [==============================] - 102s 271ms/step - loss: 0.0185 - accuracy: 0.8907 - val_loss: 0.0380 - val_accuracy: 0.7400 - lr: 2.0000e-06\n",
      "\n",
      "Epoch 18: LearningRateScheduler setting learning rate to 2.0000000000000003e-06.\n",
      "Epoch 18/30\n",
      "375/375 [==============================] - ETA: 0s - loss: 0.0191 - accuracy: 0.8837\n",
      "Epoch 18: val_accuracy did not improve from 0.88000\n",
      "375/375 [==============================] - 102s 271ms/step - loss: 0.0191 - accuracy: 0.8837 - val_loss: 0.0226 - val_accuracy: 0.8800 - lr: 2.0000e-06\n",
      "\n",
      "Epoch 19: LearningRateScheduler setting learning rate to 2.0000000000000003e-06.\n",
      "Epoch 19/30\n",
      "375/375 [==============================] - ETA: 0s - loss: 0.0189 - accuracy: 0.8907\n",
      "Epoch 19: val_accuracy did not improve from 0.88000\n",
      "375/375 [==============================] - 102s 271ms/step - loss: 0.0189 - accuracy: 0.8907 - val_loss: 0.0275 - val_accuracy: 0.7600 - lr: 2.0000e-06\n",
      "\n",
      "Epoch 20: LearningRateScheduler setting learning rate to 2.0000000000000004e-07.\n",
      "Epoch 20/30\n",
      "375/375 [==============================] - ETA: 0s - loss: 0.0185 - accuracy: 0.8869\n",
      "Epoch 20: val_accuracy did not improve from 0.88000\n",
      "375/375 [==============================] - 102s 271ms/step - loss: 0.0185 - accuracy: 0.8869 - val_loss: 0.0230 - val_accuracy: 0.8600 - lr: 2.0000e-07\n",
      "\n",
      "Epoch 21: LearningRateScheduler setting learning rate to 2.0000000000000004e-07.\n",
      "Epoch 21/30\n",
      "375/375 [==============================] - ETA: 0s - loss: 0.0187 - accuracy: 0.8891\n",
      "Epoch 21: val_accuracy did not improve from 0.88000\n",
      "375/375 [==============================] - 102s 271ms/step - loss: 0.0187 - accuracy: 0.8891 - val_loss: 0.0313 - val_accuracy: 0.7800 - lr: 2.0000e-07\n",
      "\n",
      "Epoch 22: LearningRateScheduler setting learning rate to 2.0000000000000004e-07.\n",
      "Epoch 22/30\n",
      "375/375 [==============================] - ETA: 0s - loss: 0.0187 - accuracy: 0.8920\n",
      "Epoch 22: val_accuracy did not improve from 0.88000\n",
      "375/375 [==============================] - 102s 271ms/step - loss: 0.0187 - accuracy: 0.8920 - val_loss: 0.0268 - val_accuracy: 0.8400 - lr: 2.0000e-07\n"
     ]
    }
   ],
   "source": [
    "history = model.fit_generator(train_batches, steps_per_epoch=train_steps,\n",
    "                              validation_data=valid_batches,\n",
    "                              validation_steps=val_steps,\n",
    "                              epochs=30,\n",
    "                              callbacks=callbacks)"
   ]
  },
  {
   "cell_type": "code",
   "execution_count": 23,
   "id": "3734deff",
   "metadata": {
    "execution": {
     "iopub.execute_input": "2023-08-12T04:55:07.650409Z",
     "iopub.status.busy": "2023-08-12T04:55:07.649944Z",
     "iopub.status.idle": "2023-08-12T04:55:08.436037Z",
     "shell.execute_reply": "2023-08-12T04:55:08.435022Z"
    },
    "id": "1a6c5f39",
    "outputId": "fb464e3c-ba2e-4240-a4bb-4c6cf777eed8",
    "papermill": {
     "duration": 1.657487,
     "end_time": "2023-08-12T04:55:08.438746",
     "exception": false,
     "start_time": "2023-08-12T04:55:06.781259",
     "status": "completed"
    },
    "tags": []
   },
   "outputs": [
    {
     "data": {
      "image/png": "[encoded data removed]",
      "text/plain": [
       "<Figure size 640x480 with 1 Axes>"
      ]
     },
     "metadata": {},
     "output_type": "display_data"
    },
    {
     "data": {
      "image/png": "[encoded data removed]",
      "text/plain": [
       "<Figure size 640x480 with 1 Axes>"
      ]
     },
     "metadata": {},
     "output_type": "display_data"
    },
    {
     "data": {
      "text/plain": [
       "<Figure size 640x480 with 0 Axes>"
      ]
     },
     "metadata": {},
     "output_type": "display_data"
    }
   ],
   "source": [
    "graph_it(history)"
   ]
  },
  {
   "cell_type": "markdown",
   "id": "369db809",
   "metadata": {
    "id": "1a1bbbee",
    "papermill": {
     "duration": 0.713996,
     "end_time": "2023-08-12T04:55:09.891399",
     "exception": false,
     "start_time": "2023-08-12T04:55:09.177403",
     "status": "completed"
    },
    "tags": []
   },
   "source": [
    "**Model Evaluation using test data**"
   ]
  },
  {
   "cell_type": "code",
   "execution_count": 24,
   "id": "ef697018",
   "metadata": {
    "execution": {
     "iopub.execute_input": "2023-08-12T04:55:11.240189Z",
     "iopub.status.busy": "2023-08-12T04:55:11.239800Z",
     "iopub.status.idle": "2023-08-12T04:55:34.804048Z",
     "shell.execute_reply": "2023-08-12T04:55:34.802895Z"
    },
    "id": "f7da54c9",
    "outputId": "b27a778f-bc83-4b83-9247-8d7388649d5c",
    "papermill": {
     "duration": 24.22027,
     "end_time": "2023-08-12T04:55:34.806148",
     "exception": false,
     "start_time": "2023-08-12T04:55:10.585878",
     "status": "completed"
    },
    "tags": []
   },
   "outputs": [
    {
     "name": "stdout",
     "output_type": "stream",
     "text": [
      "600/600 [==============================] - 22s 32ms/step\n"
     ]
    },
    {
     "data": {
      "image/png": "[encoded data removed]",
      "text/plain": [
       "<Figure size 640x480 with 2 Axes>"
      ]
     },
     "metadata": {},
     "output_type": "display_data"
    },
    {
     "name": "stdout",
     "output_type": "stream",
     "text": [
      "\n",
      "               precision    recall  f1-score   support\n",
      "\n",
      "           0       0.51      0.64      0.57       117\n",
      "           1       0.91      0.85      0.88       483\n",
      "\n",
      "    accuracy                           0.81       600\n",
      "   macro avg       0.71      0.74      0.72       600\n",
      "weighted avg       0.83      0.81      0.82       600\n",
      "\n",
      "Sensitivity: 0.849 Specificity: 0.641 Precision: 0.829 ROC_AUC_SCORE: 0.807\n",
      "\n"
     ]
    },
    {
     "data": {
      "image/png": "[encoded data removed]",
      "text/plain": [
       "<Figure size 400x400 with 1 Axes>"
      ]
     },
     "metadata": {},
     "output_type": "display_data"
    }
   ],
   "source": [
    "model.load_weights(filepath = 'model.hdf5')\n",
    "test_it(model, test_batches)"
   ]
  },
  {
   "cell_type": "code",
   "execution_count": 25,
   "id": "e8fd98aa",
   "metadata": {
    "execution": {
     "iopub.execute_input": "2023-08-12T04:55:36.245920Z",
     "iopub.status.busy": "2023-08-12T04:55:36.245555Z",
     "iopub.status.idle": "2023-08-12T04:55:56.078872Z",
     "shell.execute_reply": "2023-08-12T04:55:56.077805Z"
    },
    "id": "b0c097c1",
    "outputId": "350cef3f-01cb-49ad-f02a-06dd8a45e38d",
    "papermill": {
     "duration": 20.577629,
     "end_time": "2023-08-12T04:55:56.080938",
     "exception": false,
     "start_time": "2023-08-12T04:55:35.503309",
     "status": "completed"
    },
    "tags": []
   },
   "outputs": [
    {
     "name": "stdout",
     "output_type": "stream",
     "text": [
      "  3/600 [..............................] - ETA: 19s"
     ]
    },
    {
     "name": "stderr",
     "output_type": "stream",
     "text": [
      "/tmp/ipykernel_23/1475839648.py:3: UserWarning: `Model.predict_generator` is deprecated and will be removed in a future version. Please use `Model.predict`, which supports generators.\n",
      "  predictions = model.predict_generator(test_batches, steps=len(test_batches), verbose=1)\n"
     ]
    },
    {
     "name": "stdout",
     "output_type": "stream",
     "text": [
      "600/600 [==============================] - 20s 33ms/step\n",
      "Confusion Matrix : \n",
      " [[ 75  42]\n",
      " [ 73 410]]\n",
      "Accuracy :  0.8083333333333333\n",
      "Sensitivity :  0.5067567567567568\n",
      "Specificity :  0.9070796460176991\n"
     ]
    }
   ],
   "source": [
    "from sklearn.metrics import confusion_matrix\n",
    "\n",
    "predictions = model.predict_generator(test_batches, steps=len(test_batches), verbose=1)\n",
    "\n",
    "y_pred = np.argmax(predictions, axis=1)\n",
    "targetnames = ['mel','sb_nv']\n",
    "y_true = test_batches.classes\n",
    "\n",
    "cm1 = confusion_matrix(y_true,y_pred)\n",
    "print('Confusion Matrix : \\n', cm1)\n",
    "\n",
    "total1=sum(sum(cm1))\n",
    "#####from confusion matrix calculate accuracy\n",
    "accuracy1=(cm1[0,0]+cm1[1,1])/total1\n",
    "print ('Accuracy : ', accuracy1)\n",
    "\n",
    "sensitivity1 = cm1[0,0]/(cm1[0,0]+cm1[1,0])\n",
    "print('Sensitivity : ', sensitivity1 )\n",
    "\n",
    "specificity1 = cm1[1,1]/(cm1[1,1]+cm1[0,1])\n",
    "print('Specificity : ', specificity1)"
   ]
  }
 ],
 "metadata": {
  "kernelspec": {
   "display_name": "Python 3",
   "language": "python",
   "name": "python3"
  },
  "language_info": {
   "codemirror_mode": {
    "name": "ipython",
    "version": 3
   },
   "file_extension": ".py",
   "mimetype": "text/x-python",
   "name": "python",
   "nbconvert_exporter": "python",
   "pygments_lexer": "ipython3",
   "version": "3.10.12"
  },
  "papermill": {
   "default_parameters": {},
   "duration": 2696.476072,
   "end_time": "2023-08-12T04:55:59.932817",
   "environment_variables": {},
   "exception": null,
   "input_path": "__notebook__.ipynb",
   "output_path": "__notebook__.ipynb",
   "parameters": {},
   "start_time": "2023-08-12T04:11:03.456745",
   "version": "2.4.0"
  }
 },
 "nbformat": 4,
 "nbformat_minor": 5
}
