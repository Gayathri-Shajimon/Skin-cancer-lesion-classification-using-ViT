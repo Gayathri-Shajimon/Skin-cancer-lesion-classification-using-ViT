{
 "cells": [
  {
   "cell_type": "code",
   "execution_count": 1,
   "id": "543fa0f2",
   "metadata": {
    "execution": {
     "iopub.execute_input": "2023-08-12T00:15:18.039535Z",
     "iopub.status.busy": "2023-08-12T00:15:18.038476Z",
     "iopub.status.idle": "2023-08-12T00:15:42.109985Z",
     "shell.execute_reply": "2023-08-12T00:15:42.108829Z"
    },
    "id": "37d225cc",
    "outputId": "6f6df232-9324-4c9b-f62a-a36948c18c31",
    "papermill": {
     "duration": 24.082347,
     "end_time": "2023-08-12T00:15:42.112495",
     "exception": false,
     "start_time": "2023-08-12T00:15:18.030148",
     "status": "completed"
    },
    "tags": []
   },
   "outputs": [
    {
     "name": "stdout",
     "output_type": "stream",
     "text": [
      "Requirement already satisfied: tensorflow_addons in /opt/conda/lib/python3.10/site-packages (0.20.0)\r\n",
      "Requirement already satisfied: packaging in /opt/conda/lib/python3.10/site-packages (from tensorflow_addons) (21.3)\r\n",
      "Requirement already satisfied: typeguard<3.0.0,>=2.7 in /opt/conda/lib/python3.10/site-packages (from tensorflow_addons) (2.13.3)\r\n",
      "Requirement already satisfied: pyparsing!=3.0.5,>=2.0.2 in /opt/conda/lib/python3.10/site-packages (from packaging->tensorflow_addons) (3.0.9)\r\n"
     ]
    }
   ],
   "source": [
    "!pip install --quiet vit-keras\n",
    "!pip install tensorflow_addons"
   ]
  },
  {
   "cell_type": "code",
   "execution_count": 4,
   "id": "64cf7d50",
   "metadata": {
    "execution": {
     "iopub.execute_input": "2023-08-12T00:15:42.181527Z",
     "iopub.status.busy": "2023-08-12T00:15:42.179057Z",
     "iopub.status.idle": "2023-08-12T00:15:52.046079Z",
     "shell.execute_reply": "2023-08-12T00:15:52.045029Z"
    },
    "id": "afe143c1",
    "outputId": "7b60cdd8-296a-4879-c8a0-2e1111bd6200",
    "papermill": {
     "duration": 9.876645,
     "end_time": "2023-08-12T00:15:52.048365",
     "exception": false,
     "start_time": "2023-08-12T00:15:42.171720",
     "status": "completed"
    },
    "tags": []
   },
   "outputs": [
    {
     "name": "stderr",
     "output_type": "stream",
     "text": [
      "/opt/conda/lib/python3.10/site-packages/scipy/__init__.py:146: UserWarning: A NumPy version >=1.16.5 and <1.23.0 is required for this version of SciPy (detected version 1.23.5\n",
      "  warnings.warn(f\"A NumPy version >={np_minversion} and <{np_maxversion}\"\n",
      "/opt/conda/lib/python3.10/site-packages/tensorflow_io/python/ops/__init__.py:98: UserWarning: unable to load libtensorflow_io_plugins.so: unable to open file: libtensorflow_io_plugins.so, from paths: ['/opt/conda/lib/python3.10/site-packages/tensorflow_io/python/ops/libtensorflow_io_plugins.so']\n",
      "caused by: ['/opt/conda/lib/python3.10/site-packages/tensorflow_io/python/ops/libtensorflow_io_plugins.so: undefined symbol: _ZN3tsl6StatusC1EN10tensorflow5error4CodeESt17basic_string_viewIcSt11char_traitsIcEENS_14SourceLocationE']\n",
      "  warnings.warn(f\"unable to load libtensorflow_io_plugins.so: {e}\")\n",
      "/opt/conda/lib/python3.10/site-packages/tensorflow_io/python/ops/__init__.py:104: UserWarning: file system plugins are not loaded: unable to open file: libtensorflow_io.so, from paths: ['/opt/conda/lib/python3.10/site-packages/tensorflow_io/python/ops/libtensorflow_io.so']\n",
      "caused by: ['/opt/conda/lib/python3.10/site-packages/tensorflow_io/python/ops/libtensorflow_io.so: undefined symbol: _ZTVN10tensorflow13GcsFileSystemE']\n",
      "  warnings.warn(f\"file system plugins are not loaded: {e}\")\n",
      "/opt/conda/lib/python3.10/site-packages/tensorflow_addons/utils/tfa_eol_msg.py:23: UserWarning: \n",
      "\n",
      "TensorFlow Addons (TFA) has ended development and introduction of new features.\n",
      "TFA has entered a minimal maintenance and release mode until a planned end of life in May 2024.\n",
      "Please modify downstream libraries to take dependencies from other repositories in our TensorFlow community (e.g. Keras, Keras-CV, and Keras-NLP). \n",
      "\n",
      "For more information see: https://github.com/tensorflow/addons/issues/2807 \n",
      "\n",
      "  warnings.warn(\n"
     ]
    }
   ],
   "source": [
    "import matplotlib.pyplot as plt\n",
    "import numpy as np\n",
    "import pandas as pd\n",
    "import os\n",
    "from glob import glob\n",
    "import seaborn as sns\n",
    "from PIL import Image\n",
    "np.random.seed(123)\n",
    "from sklearn.preprocessing import label_binarize\n",
    "from sklearn.metrics import confusion_matrix\n",
    "import itertools\n",
    "import keras\n",
    "from keras import backend as K\n",
    "import tensorflow\n",
    "from tensorflow.keras.layers import Dropout, Dense, LayerNormalization, Flatten\n",
    "from tensorflow.keras.activations import gelu\n",
    "from tensorflow.keras.optimizers import Adam, SGD\n",
    "from tensorflow.keras.metrics import categorical_crossentropy\n",
    "from tensorflow.keras.preprocessing.image import ImageDataGenerator\n",
    "from tensorflow.keras.models import Model\n",
    "from tensorflow.keras.callbacks import EarlyStopping, ReduceLROnPlateau, ModelCheckpoint\n",
    "from vit_keras import vit\n",
    "import tensorflow_addons as tfa\n",
    "import math\n",
    "from sklearn.metrics import confusion_matrix\n",
    "from sklearn.model_selection import train_test_split\n",
    "import itertools\n",
    "import shutil\n",
    "import matplotlib.pyplot as plt\n",
    "from zipfile import ZipFile\n",
    "import time\n",
    "from sklearn.model_selection import StratifiedKFold, KFold\n",
    "from sklearn.metrics import roc_auc_score\n",
    "from sklearn.metrics import  precision_score, recall_score, accuracy_score\n",
    "from sklearn.metrics import roc_curve, auc\n",
    "from sklearn.metrics import classification_report\n",
    "import tensorflow as tf\n",
    "from tensorflow.keras import backend as K"
   ]
  },
  {
   "attachments": {},
   "cell_type": "markdown",
   "id": "b25bcbcb",
   "metadata": {},
   "source": [
    "nitializing the ViT Model"
   ]
  },
  {
   "cell_type": "code",
   "execution_count": 5,
   "id": "751dde7e",
   "metadata": {
    "execution": {
     "iopub.execute_input": "2023-08-12T00:15:52.064862Z",
     "iopub.status.busy": "2023-08-12T00:15:52.062996Z",
     "iopub.status.idle": "2023-08-12T00:16:03.600088Z",
     "shell.execute_reply": "2023-08-12T00:16:03.599113Z"
    },
    "id": "0d8eb2cb",
    "outputId": "8f935033-3dca-41b6-e376-a7a68fb427ec",
    "papermill": {
     "duration": 11.547337,
     "end_time": "2023-08-12T00:16:03.602510",
     "exception": false,
     "start_time": "2023-08-12T00:15:52.055173",
     "status": "completed"
    },
    "tags": []
   },
   "outputs": [
    {
     "name": "stdout",
     "output_type": "stream",
     "text": [
      "Downloading data from https://github.com/faustomorales/vit-keras/releases/download/dl/ViT-B_16_imagenet21k+imagenet2012.npz\n",
      "347502902/347502902 [==============================] - 5s 0us/step\n"
     ]
    },
    {
     "name": "stderr",
     "output_type": "stream",
     "text": [
      "/opt/conda/lib/python3.10/site-packages/vit_keras/utils.py:81: UserWarning: Resizing position embeddings from 24, 24 to 14, 14\n",
      "  warnings.warn(\n"
     ]
    }
   ],
   "source": [
    "vit_model = vit.vit_b16(\n",
    "        image_size = 224,\n",
    "        activation = 'softmax',\n",
    "        pretrained = True,\n",
    "        include_top = False,\n",
    "        pretrained_top = False,\n",
    "        classes = 2)"
   ]
  },
  {
   "attachments": {},
   "cell_type": "markdown",
   "id": "e8bfb632",
   "metadata": {},
   "source": [
    "Adding Additional layers on top of ViT Model"
   ]
  },
  {
   "cell_type": "code",
   "execution_count": 6,
   "id": "4f291148",
   "metadata": {
    "execution": {
     "iopub.execute_input": "2023-08-12T00:16:03.629978Z",
     "iopub.status.busy": "2023-08-12T00:16:03.629674Z",
     "iopub.status.idle": "2023-08-12T00:16:05.867151Z",
     "shell.execute_reply": "2023-08-12T00:16:05.866259Z"
    },
    "id": "cc2ced1b",
    "outputId": "0521356f-82ff-452e-faca-8395e9df14f0",
    "papermill": {
     "duration": 2.253576,
     "end_time": "2023-08-12T00:16:05.869224",
     "exception": false,
     "start_time": "2023-08-12T00:16:03.615648",
     "status": "completed"
    },
    "tags": []
   },
   "outputs": [
    {
     "name": "stdout",
     "output_type": "stream",
     "text": [
      "Model: \"vision_transformer\"\n",
      "_________________________________________________________________\n",
      " Layer (type)                Output Shape              Param #   \n",
      "=================================================================\n",
      " vit-b16 (Functional)        (None, 768)               85798656  \n",
      "                                                                 \n",
      " flatten (Flatten)           (None, 768)               0         \n",
      "                                                                 \n",
      " batch_normalization (BatchN  (None, 768)              3072      \n",
      " ormalization)                                                   \n",
      "                                                                 \n",
      " dense (Dense)               (None, 11)                8459      \n",
      "                                                                 \n",
      " batch_normalization_1 (Batc  (None, 11)               44        \n",
      " hNormalization)                                                 \n",
      "                                                                 \n",
      " dense_1 (Dense)             (None, 2)                 24        \n",
      "                                                                 \n",
      "=================================================================\n",
      "Total params: 85,810,255\n",
      "Trainable params: 85,808,697\n",
      "Non-trainable params: 1,558\n",
      "_________________________________________________________________\n"
     ]
    }
   ],
   "source": [
    "model = tf.keras.Sequential([\n",
    "        vit_model,\n",
    "        tf.keras.layers.Flatten(),\n",
    "        tf.keras.layers.BatchNormalization(),\n",
    "        tf.keras.layers.Dense(11, activation = tfa.activations.gelu),\n",
    "        tf.keras.layers.BatchNormalization(),\n",
    "        tf.keras.layers.Dense(2, 'softmax')\n",
    "    ],\n",
    "    name = 'vision_transformer')\n",
    "\n",
    "model.summary()"
   ]
  },
  {
   "cell_type": "code",
   "execution_count": 7,
   "id": "55c240d5",
   "metadata": {
    "execution": {
     "iopub.execute_input": "2023-08-12T00:16:05.900155Z",
     "iopub.status.busy": "2023-08-12T00:16:05.899840Z",
     "iopub.status.idle": "2023-08-12T00:16:05.923047Z",
     "shell.execute_reply": "2023-08-12T00:16:05.922169Z"
    },
    "id": "f90cf531",
    "papermill": {
     "duration": 0.041139,
     "end_time": "2023-08-12T00:16:05.925058",
     "exception": false,
     "start_time": "2023-08-12T00:16:05.883919",
     "status": "completed"
    },
    "tags": []
   },
   "outputs": [],
   "source": [
    "#Function for focal loss\n",
    "def focal_loss(gamma=2, alpha=0.5):\n",
    "    def focal_loss_fn(y_true, y_pred):\n",
    "        y_pred = K.clip(y_pred, K.epsilon(), 1.0 - K.epsilon())\n",
    "        focal_loss = -alpha * y_true * K.pow(1.0 - y_pred, gamma) * K.log(y_pred)\n",
    "        return K.mean(focal_loss, axis=-1)\n",
    "    return focal_loss_fn\n",
    "\n",
    "# Compiling model using focal loss and Adam optimiser\n",
    "model.compile(optimizer='adam', loss=focal_loss(), metrics=['accuracy'])"
   ]
  },
  {
   "attachments": {},
   "cell_type": "markdown",
   "id": "69138841",
   "metadata": {},
   "source": [
    "Function for plotting the graph of Train and Validation Accuracy and loss"
   ]
  },
  {
   "cell_type": "code",
   "execution_count": 9,
   "id": "9531ffda",
   "metadata": {
    "execution": {
     "iopub.execute_input": "2023-08-12T00:16:05.993992Z",
     "iopub.status.busy": "2023-08-12T00:16:05.993727Z",
     "iopub.status.idle": "2023-08-12T00:16:06.000751Z",
     "shell.execute_reply": "2023-08-12T00:16:05.999729Z"
    },
    "id": "895825d0",
    "papermill": {
     "duration": 0.024954,
     "end_time": "2023-08-12T00:16:06.003054",
     "exception": false,
     "start_time": "2023-08-12T00:16:05.978100",
     "status": "completed"
    },
    "tags": []
   },
   "outputs": [],
   "source": [
    "def graph_it(history):\n",
    "  acc = history.history['accuracy']\n",
    "  val_acc = history.history['val_accuracy']\n",
    "  loss = history.history['loss']\n",
    "  val_loss = history.history['val_loss']\n",
    "  epochs = range(len(acc))\n",
    "\n",
    "  #Plot Train and Validation Accuracy\n",
    "  plt.plot(epochs, acc, 'r', label='Training accuracy')\n",
    "  plt.plot(epochs, val_acc, 'b', label='Validation accuracy')\n",
    "  plt.title('Model Accuracy: Training and Validation')\n",
    "  plt.legend(loc=0)\n",
    "  plt.figure()\n",
    "\n",
    "  #Plot Train and Validation Loss\n",
    "  plt.plot(epochs, loss, 'r', label='Training loss')\n",
    "  plt.plot(epochs, val_loss, 'b', label='Validation loss')\n",
    "  plt.title('Training and validation Loss')\n",
    "  plt.legend(loc=0)\n",
    "  plt.figure()\n"
   ]
  },
  {
   "attachments": {},
   "cell_type": "markdown",
   "id": "f9187703",
   "metadata": {},
   "source": [
    "Function for Model Evaluation"
   ]
  },
  {
   "cell_type": "code",
   "execution_count": 10,
   "id": "a8885e10",
   "metadata": {
    "execution": {
     "iopub.execute_input": "2023-08-12T00:16:06.034549Z",
     "iopub.status.busy": "2023-08-12T00:16:06.033812Z",
     "iopub.status.idle": "2023-08-12T00:16:06.045243Z",
     "shell.execute_reply": "2023-08-12T00:16:06.044330Z"
    },
    "id": "d4a7c9c8",
    "papermill": {
     "duration": 0.029354,
     "end_time": "2023-08-12T00:16:06.047517",
     "exception": false,
     "start_time": "2023-08-12T00:16:06.018163",
     "status": "completed"
    },
    "tags": []
   },
   "outputs": [],
   "source": [
    "from sklearn.metrics import confusion_matrix, roc_auc_score, classification_report, precision_score, roc_curve, ConfusionMatrixDisplay\n",
    "\n",
    "def test_it(model, test_generator):\n",
    "    test_labels = test_generator.classes\n",
    "\n",
    "    predictions = model.predict(test_generator)\n",
    "    predicted_labels = np.argmax(predictions, axis=1)\n",
    "\n",
    "    cm = confusion_matrix(test_labels, predicted_labels)\n",
    "    disp = ConfusionMatrixDisplay(confusion_matrix=cm)\n",
    "    disp.plot()\n",
    "    plt.show()\n",
    "\n",
    "    roc = roc_auc_score(test_labels, predictions[:, 1])  # Calculate ROC score\n",
    "\n",
    "    # Calculate confusion matrix\n",
    "    tn, fp, fn, tp = confusion_matrix(test_labels, predicted_labels).ravel()\n",
    "\n",
    "    # Calculate sensitivity and specificity\n",
    "    sensitivity = tp / (tp + fn)\n",
    "    specificity = tn / (tn + fp)\n",
    "\n",
    "    report = classification_report(test_labels, predicted_labels)  #Classification report\n",
    "\n",
    "    precision = precision_score(test_labels, predicted_labels, average='weighted')  #Calculate Precision score\n",
    "\n",
    "    print(\"\\n\", report)\n",
    "    print(f\"Sensitivity: {round(sensitivity, 3)} Specificity: {round(specificity, 3)} Precision: {round(precision, 3)} ROC_AUC_SCORE: {round(roc, 3)}\\n\")\n",
    "\n",
    "    # Plot AUC-ROC curve\n",
    "    fpr, tpr, thresholds = roc_curve(test_labels, predictions[:, 1])\n",
    "    plt.figure(figsize=(4, 4))\n",
    "    plt.plot(fpr, tpr, label='ROC curve (area = %0.2f)' % roc)\n",
    "    plt.plot([0, 1], [0, 1], 'k--')  # Random guessing line\n",
    "    plt.xlim([0.0, 1.0])\n",
    "    plt.ylim([0.0, 1.0])\n",
    "    plt.xlabel('False Positive Rate')\n",
    "    plt.ylabel('True Positive Rate')\n",
    "    plt.title('Receiver Operating Characteristic (ROC) Curve')\n",
    "    plt.legend(loc=\"lower right\")\n",
    "    plt.show()"
   ]
  },
  {
   "cell_type": "code",
   "execution_count": 11,
   "id": "79575f17",
   "metadata": {
    "execution": {
     "iopub.execute_input": "2023-08-12T00:16:06.078674Z",
     "iopub.status.busy": "2023-08-12T00:16:06.077875Z",
     "iopub.status.idle": "2023-08-12T00:16:06.082740Z",
     "shell.execute_reply": "2023-08-12T00:16:06.081878Z"
    },
    "id": "9671fe3a",
    "papermill": {
     "duration": 0.022468,
     "end_time": "2023-08-12T00:16:06.084771",
     "exception": false,
     "start_time": "2023-08-12T00:16:06.062303",
     "status": "completed"
    },
    "tags": []
   },
   "outputs": [],
   "source": [
    "# Set the directories for the data for task1 (SEB VS NEVUS)\n",
    "train_dir = \"/kaggle/input/isic-train-merge-aug/train_augumented-2023/train_augumented/task2\"\n",
    "test_dir = \"/kaggle/input/isic-train-merge-aug/test2023/test/task2\"\n",
    "val_dir = \"/kaggle/input/isic-train-merge-aug/val-2023/val/task2\""
   ]
  },
  {
   "cell_type": "code",
   "execution_count": 12,
   "id": "1cca9f2b",
   "metadata": {
    "execution": {
     "iopub.execute_input": "2023-08-12T00:16:06.116086Z",
     "iopub.status.busy": "2023-08-12T00:16:06.115815Z",
     "iopub.status.idle": "2023-08-12T00:16:06.120576Z",
     "shell.execute_reply": "2023-08-12T00:16:06.119580Z"
    },
    "id": "e9e4b21a",
    "papermill": {
     "duration": 0.022478,
     "end_time": "2023-08-12T00:16:06.122606",
     "exception": false,
     "start_time": "2023-08-12T00:16:06.100128",
     "status": "completed"
    },
    "tags": []
   },
   "outputs": [],
   "source": [
    "# Define the data generator\n",
    "datagen = ImageDataGenerator(\n",
    "    preprocessing_function= \\\n",
    "    tensorflow.keras.applications.mobilenet.preprocess_input)\n",
    "\n",
    "image_size = (224, 224)\n",
    "batch = 32"
   ]
  },
  {
   "attachments": {},
   "cell_type": "markdown",
   "id": "281a3f4a",
   "metadata": {},
   "source": [
    "Creating batches to improve memory optimization"
   ]
  },
  {
   "cell_type": "code",
   "execution_count": 14,
   "id": "e6f9bc9f",
   "metadata": {
    "execution": {
     "iopub.execute_input": "2023-08-12T00:16:06.190319Z",
     "iopub.status.busy": "2023-08-12T00:16:06.190034Z",
     "iopub.status.idle": "2023-08-12T00:16:11.712509Z",
     "shell.execute_reply": "2023-08-12T00:16:11.711449Z"
    },
    "id": "7ATMKowsaH4V",
    "outputId": "8ea60a84-7296-4998-c8af-94e9a2373761",
    "papermill": {
     "duration": 5.540809,
     "end_time": "2023-08-12T00:16:11.714948",
     "exception": false,
     "start_time": "2023-08-12T00:16:06.174139",
     "status": "completed"
    },
    "tags": []
   },
   "outputs": [
    {
     "name": "stdout",
     "output_type": "stream",
     "text": [
      "Found 12000 images belonging to 2 classes.\n",
      "Found 150 images belonging to 2 classes.\n",
      "Found 600 images belonging to 2 classes.\n"
     ]
    }
   ],
   "source": [
    "train_batches = datagen.flow_from_directory(train_dir,\n",
    "                                            target_size=(image_size),\n",
    "                                            batch_size=10)\n",
    "\n",
    "valid_batches = datagen.flow_from_directory(val_dir,\n",
    "                                            target_size=(image_size),\n",
    "                                            batch_size=10)\n",
    "\n",
    "# Note: shuffle=False causes the test dataset to not be shuffled\n",
    "test_batches = datagen.flow_from_directory(test_dir,\n",
    "                                            target_size=(image_size),\n",
    "                                            batch_size=1,\n",
    "                                            shuffle=False)"
   ]
  },
  {
   "cell_type": "code",
   "execution_count": 15,
   "id": "3fff6fad",
   "metadata": {
    "execution": {
     "iopub.execute_input": "2023-08-12T00:16:11.752033Z",
     "iopub.status.busy": "2023-08-12T00:16:11.751205Z",
     "iopub.status.idle": "2023-08-12T00:16:11.759669Z",
     "shell.execute_reply": "2023-08-12T00:16:11.758661Z"
    },
    "id": "2GDPYOeaVw_n",
    "outputId": "a11f0517-05fa-4843-f6e7-a7b6026c1594",
    "papermill": {
     "duration": 0.029139,
     "end_time": "2023-08-12T00:16:11.761888",
     "exception": false,
     "start_time": "2023-08-12T00:16:11.732749",
     "status": "completed"
    },
    "tags": []
   },
   "outputs": [
    {
     "data": {
      "text/plain": [
       "{'Seb': 0, 'nevus_mel': 1}"
      ]
     },
     "execution_count": 15,
     "metadata": {},
     "output_type": "execute_result"
    }
   ],
   "source": [
    "train_batches.class_indices"
   ]
  },
  {
   "cell_type": "code",
   "execution_count": 16,
   "id": "93d50a36",
   "metadata": {
    "execution": {
     "iopub.execute_input": "2023-08-12T00:16:11.798744Z",
     "iopub.status.busy": "2023-08-12T00:16:11.798112Z",
     "iopub.status.idle": "2023-08-12T00:16:11.805259Z",
     "shell.execute_reply": "2023-08-12T00:16:11.804105Z"
    },
    "id": "KiRi8zD6ZIyI",
    "outputId": "395aa2bf-0731-4fd1-fd80-13692114cf8c",
    "papermill": {
     "duration": 0.027949,
     "end_time": "2023-08-12T00:16:11.807364",
     "exception": false,
     "start_time": "2023-08-12T00:16:11.779415",
     "status": "completed"
    },
    "tags": []
   },
   "outputs": [
    {
     "data": {
      "text/plain": [
       "{'Seb': 0, 'nevus_mel': 1}"
      ]
     },
     "execution_count": 16,
     "metadata": {},
     "output_type": "execute_result"
    }
   ],
   "source": [
    "valid_batches.class_indices"
   ]
  },
  {
   "cell_type": "code",
   "execution_count": 17,
   "id": "a7945168",
   "metadata": {
    "execution": {
     "iopub.execute_input": "2023-08-12T00:16:11.842499Z",
     "iopub.status.busy": "2023-08-12T00:16:11.841594Z",
     "iopub.status.idle": "2023-08-12T00:16:11.852723Z",
     "shell.execute_reply": "2023-08-12T00:16:11.851544Z"
    },
    "id": "kunFVJitV2gZ",
    "outputId": "23138644-2ea4-40f5-ca58-9b46ab832c12",
    "papermill": {
     "duration": 0.031033,
     "end_time": "2023-08-12T00:16:11.855004",
     "exception": false,
     "start_time": "2023-08-12T00:16:11.823971",
     "status": "completed"
    },
    "tags": []
   },
   "outputs": [
    {
     "name": "stdout",
     "output_type": "stream",
     "text": [
      "Number of images per class: Counter({1: 10476, 0: 1524})\n"
     ]
    }
   ],
   "source": [
    "from collections import Counter\n",
    "\n",
    "class_counts = Counter(train_batches.classes)\n",
    "print(\"Number of images per class:\", class_counts)\n"
   ]
  },
  {
   "cell_type": "code",
   "execution_count": 18,
   "id": "1e509cbc",
   "metadata": {
    "execution": {
     "iopub.execute_input": "2023-08-12T00:16:11.892038Z",
     "iopub.status.busy": "2023-08-12T00:16:11.891130Z",
     "iopub.status.idle": "2023-08-12T00:16:11.897662Z",
     "shell.execute_reply": "2023-08-12T00:16:11.896433Z"
    },
    "id": "pZlJ57JkV_Pp",
    "outputId": "76b0d171-8947-4cd0-e2b0-a0ed5b5c8a4f",
    "papermill": {
     "duration": 0.027139,
     "end_time": "2023-08-12T00:16:11.899752",
     "exception": false,
     "start_time": "2023-08-12T00:16:11.872613",
     "status": "completed"
    },
    "tags": []
   },
   "outputs": [
    {
     "name": "stdout",
     "output_type": "stream",
     "text": [
      "Number of images per class: {'Seb': 1524, 'nevus_mel': 10476}\n"
     ]
    }
   ],
   "source": [
    "class_names = list(train_batches.class_indices.keys())\n",
    "class_counts_with_names = {class_names[idx]: count for idx, count in class_counts.items()}\n",
    "print(\"Number of images per class:\", class_counts_with_names)"
   ]
  },
  {
   "cell_type": "code",
   "execution_count": 19,
   "id": "9eac9798",
   "metadata": {
    "execution": {
     "iopub.execute_input": "2023-08-12T00:16:11.934549Z",
     "iopub.status.busy": "2023-08-12T00:16:11.933634Z",
     "iopub.status.idle": "2023-08-12T00:16:11.938868Z",
     "shell.execute_reply": "2023-08-12T00:16:11.937976Z"
    },
    "id": "FjZnz8QRO8xD",
    "papermill": {
     "duration": 0.024169,
     "end_time": "2023-08-12T00:16:11.940858",
     "exception": false,
     "start_time": "2023-08-12T00:16:11.916689",
     "status": "completed"
    },
    "tags": []
   },
   "outputs": [],
   "source": [
    "train_steps = np.ceil(train_batches.n / batch)\n",
    "test_steps = np.ceil(test_batches.n / batch)\n",
    "val_steps = np.ceil(valid_batches.n / batch)"
   ]
  },
  {
   "attachments": {},
   "cell_type": "markdown",
   "id": "6f56fc5a",
   "metadata": {},
   "source": [
    "Configuration of Early stopping criteria, learning rate"
   ]
  },
  {
   "cell_type": "code",
   "execution_count": 20,
   "id": "4b22eb98",
   "metadata": {
    "execution": {
     "iopub.execute_input": "2023-08-12T00:16:11.975414Z",
     "iopub.status.busy": "2023-08-12T00:16:11.974565Z",
     "iopub.status.idle": "2023-08-12T00:16:11.981647Z",
     "shell.execute_reply": "2023-08-12T00:16:11.980785Z"
    },
    "id": "lQnHiksDahxQ",
    "papermill": {
     "duration": 0.026416,
     "end_time": "2023-08-12T00:16:11.983688",
     "exception": false,
     "start_time": "2023-08-12T00:16:11.957272",
     "status": "completed"
    },
    "tags": []
   },
   "outputs": [],
   "source": [
    "early_stopping = EarlyStopping(monitor='val_loss',patience=8)   #Configuring early stopping criteria\n",
    "\n",
    "checkpointer = tf.keras.callbacks.ModelCheckpoint(filepath = 'model.hdf5',\n",
    "                                                  monitor = 'val_accuracy',\n",
    "                                                  verbose = 1,\n",
    "                                                  save_best_only = True,\n",
    "                                                  save_weights_only = True,\n",
    "                                                  mode = 'max')\n",
    "#Configure dynamic learning rate\n",
    "def step_decay(epoch):\n",
    "    initial_lrate = 0.00002\n",
    "    drop = 0.1\n",
    "    epochs_drop = 10.0\n",
    "    lrate = initial_lrate * math.pow(drop, math.floor((1+epoch)/epochs_drop))\n",
    "    return lrate\n",
    "\n",
    "lr_scheduler = tf.keras.callbacks.LearningRateScheduler(step_decay, verbose=1)"
   ]
  },
  {
   "cell_type": "code",
   "execution_count": 21,
   "id": "c0c0b1a1",
   "metadata": {
    "execution": {
     "iopub.execute_input": "2023-08-12T00:16:12.017915Z",
     "iopub.status.busy": "2023-08-12T00:16:12.017632Z",
     "iopub.status.idle": "2023-08-12T00:16:12.021916Z",
     "shell.execute_reply": "2023-08-12T00:16:12.020934Z"
    },
    "id": "t9YyA-CMalyq",
    "papermill": {
     "duration": 0.023464,
     "end_time": "2023-08-12T00:16:12.023943",
     "exception": false,
     "start_time": "2023-08-12T00:16:12.000479",
     "status": "completed"
    },
    "tags": []
   },
   "outputs": [],
   "source": [
    "callbacks = [early_stopping, checkpointer, lr_scheduler]"
   ]
  },
  {
   "attachments": {},
   "cell_type": "markdown",
   "id": "64eaa3b1",
   "metadata": {},
   "source": [
    "Model Training"
   ]
  },
  {
   "cell_type": "code",
   "execution_count": 22,
   "id": "1f33bb4e",
   "metadata": {
    "execution": {
     "iopub.execute_input": "2023-08-12T00:16:12.058731Z",
     "iopub.status.busy": "2023-08-12T00:16:12.057966Z",
     "iopub.status.idle": "2023-08-12T00:49:50.565468Z",
     "shell.execute_reply": "2023-08-12T00:49:50.564467Z"
    },
    "id": "h0jl4qCjapIq",
    "outputId": "06c8cd6b-e56e-44fc-b5b7-967543bb9605",
    "papermill": {
     "duration": 2018.526789,
     "end_time": "2023-08-12T00:49:50.567587",
     "exception": false,
     "start_time": "2023-08-12T00:16:12.040798",
     "status": "completed"
    },
    "tags": []
   },
   "outputs": [
    {
     "name": "stdout",
     "output_type": "stream",
     "text": [
      "\n",
      "Epoch 1: LearningRateScheduler setting learning rate to 2e-05.\n",
      "Epoch 1/30\n"
     ]
    },
    {
     "name": "stderr",
     "output_type": "stream",
     "text": [
      "/tmp/ipykernel_23/1018363140.py:1: UserWarning: `Model.fit_generator` is deprecated and will be removed in a future version. Please use `Model.fit`, which supports generators.\n",
      "  history = model.fit_generator(train_batches, steps_per_epoch=train_steps,\n"
     ]
    },
    {
     "name": "stdout",
     "output_type": "stream",
     "text": [
      "375/375 [==============================] - ETA: 0s - loss: 0.0858 - accuracy: 0.5776\n",
      "Epoch 1: val_accuracy improved from -inf to 0.56000, saving model to model.hdf5\n",
      "375/375 [==============================] - 159s 282ms/step - loss: 0.0858 - accuracy: 0.5776 - val_loss: 0.0857 - val_accuracy: 0.5600 - lr: 2.0000e-05\n",
      "\n",
      "Epoch 2: LearningRateScheduler setting learning rate to 2e-05.\n",
      "Epoch 2/30\n",
      "375/375 [==============================] - ETA: 0s - loss: 0.0535 - accuracy: 0.6360\n",
      "Epoch 2: val_accuracy improved from 0.56000 to 0.58000, saving model to model.hdf5\n",
      "375/375 [==============================] - 103s 275ms/step - loss: 0.0535 - accuracy: 0.6360 - val_loss: 0.0502 - val_accuracy: 0.5800 - lr: 2.0000e-05\n",
      "\n",
      "Epoch 3: LearningRateScheduler setting learning rate to 2e-05.\n",
      "Epoch 3/30\n",
      "375/375 [==============================] - ETA: 0s - loss: 0.0427 - accuracy: 0.6720\n",
      "Epoch 3: val_accuracy improved from 0.58000 to 0.64000, saving model to model.hdf5\n",
      "375/375 [==============================] - 103s 273ms/step - loss: 0.0427 - accuracy: 0.6720 - val_loss: 0.0418 - val_accuracy: 0.6400 - lr: 2.0000e-05\n",
      "\n",
      "Epoch 4: LearningRateScheduler setting learning rate to 2e-05.\n",
      "Epoch 4/30\n",
      "375/375 [==============================] - ETA: 0s - loss: 0.0354 - accuracy: 0.7251\n",
      "Epoch 4: val_accuracy improved from 0.64000 to 0.82000, saving model to model.hdf5\n",
      "375/375 [==============================] - 102s 273ms/step - loss: 0.0354 - accuracy: 0.7251 - val_loss: 0.0299 - val_accuracy: 0.8200 - lr: 2.0000e-05\n",
      "\n",
      "Epoch 5: LearningRateScheduler setting learning rate to 2e-05.\n",
      "Epoch 5/30\n",
      "375/375 [==============================] - ETA: 0s - loss: 0.0314 - accuracy: 0.7781\n",
      "Epoch 5: val_accuracy improved from 0.82000 to 0.86000, saving model to model.hdf5\n",
      "375/375 [==============================] - 102s 272ms/step - loss: 0.0314 - accuracy: 0.7781 - val_loss: 0.0256 - val_accuracy: 0.8600 - lr: 2.0000e-05\n",
      "\n",
      "Epoch 6: LearningRateScheduler setting learning rate to 2e-05.\n",
      "Epoch 6/30\n",
      "375/375 [==============================] - ETA: 0s - loss: 0.0284 - accuracy: 0.8141\n",
      "Epoch 6: val_accuracy did not improve from 0.86000\n",
      "375/375 [==============================] - 101s 270ms/step - loss: 0.0284 - accuracy: 0.8141 - val_loss: 0.0362 - val_accuracy: 0.7400 - lr: 2.0000e-05\n",
      "\n",
      "Epoch 7: LearningRateScheduler setting learning rate to 2e-05.\n",
      "Epoch 7/30\n",
      "375/375 [==============================] - ETA: 0s - loss: 0.0259 - accuracy: 0.8475\n",
      "Epoch 7: val_accuracy did not improve from 0.86000\n",
      "375/375 [==============================] - 101s 270ms/step - loss: 0.0259 - accuracy: 0.8475 - val_loss: 0.0325 - val_accuracy: 0.7600 - lr: 2.0000e-05\n",
      "\n",
      "Epoch 8: LearningRateScheduler setting learning rate to 2e-05.\n",
      "Epoch 8/30\n",
      "375/375 [==============================] - ETA: 0s - loss: 0.0228 - accuracy: 0.8709\n",
      "Epoch 8: val_accuracy improved from 0.86000 to 0.90000, saving model to model.hdf5\n",
      "375/375 [==============================] - 102s 272ms/step - loss: 0.0228 - accuracy: 0.8709 - val_loss: 0.0175 - val_accuracy: 0.9000 - lr: 2.0000e-05\n",
      "\n",
      "Epoch 9: LearningRateScheduler setting learning rate to 2e-05.\n",
      "Epoch 9/30\n",
      "375/375 [==============================] - ETA: 0s - loss: 0.0208 - accuracy: 0.8920\n",
      "Epoch 9: val_accuracy did not improve from 0.90000\n",
      "375/375 [==============================] - 101s 270ms/step - loss: 0.0208 - accuracy: 0.8920 - val_loss: 0.0241 - val_accuracy: 0.8600 - lr: 2.0000e-05\n",
      "\n",
      "Epoch 10: LearningRateScheduler setting learning rate to 2.0000000000000003e-06.\n",
      "Epoch 10/30\n",
      "375/375 [==============================] - ETA: 0s - loss: 0.0189 - accuracy: 0.9085\n",
      "Epoch 10: val_accuracy did not improve from 0.90000\n",
      "375/375 [==============================] - 101s 270ms/step - loss: 0.0189 - accuracy: 0.9085 - val_loss: 0.0166 - val_accuracy: 0.9000 - lr: 2.0000e-06\n",
      "\n",
      "Epoch 11: LearningRateScheduler setting learning rate to 2.0000000000000003e-06.\n",
      "Epoch 11/30\n",
      "375/375 [==============================] - ETA: 0s - loss: 0.0172 - accuracy: 0.9173\n",
      "Epoch 11: val_accuracy did not improve from 0.90000\n",
      "375/375 [==============================] - 101s 270ms/step - loss: 0.0172 - accuracy: 0.9173 - val_loss: 0.0276 - val_accuracy: 0.8600 - lr: 2.0000e-06\n",
      "\n",
      "Epoch 12: LearningRateScheduler setting learning rate to 2.0000000000000003e-06.\n",
      "Epoch 12/30\n",
      "375/375 [==============================] - ETA: 0s - loss: 0.0174 - accuracy: 0.9139\n",
      "Epoch 12: val_accuracy did not improve from 0.90000\n",
      "375/375 [==============================] - 101s 270ms/step - loss: 0.0174 - accuracy: 0.9139 - val_loss: 0.0334 - val_accuracy: 0.8200 - lr: 2.0000e-06\n",
      "\n",
      "Epoch 13: LearningRateScheduler setting learning rate to 2.0000000000000003e-06.\n",
      "Epoch 13/30\n",
      "375/375 [==============================] - ETA: 0s - loss: 0.0160 - accuracy: 0.9336\n",
      "Epoch 13: val_accuracy improved from 0.90000 to 0.92000, saving model to model.hdf5\n",
      "375/375 [==============================] - 102s 272ms/step - loss: 0.0160 - accuracy: 0.9336 - val_loss: 0.0287 - val_accuracy: 0.9200 - lr: 2.0000e-06\n",
      "\n",
      "Epoch 14: LearningRateScheduler setting learning rate to 2.0000000000000003e-06.\n",
      "Epoch 14/30\n",
      "375/375 [==============================] - ETA: 0s - loss: 0.0163 - accuracy: 0.9237\n",
      "Epoch 14: val_accuracy did not improve from 0.92000\n",
      "375/375 [==============================] - 101s 270ms/step - loss: 0.0163 - accuracy: 0.9237 - val_loss: 0.0364 - val_accuracy: 0.8200 - lr: 2.0000e-06\n",
      "\n",
      "Epoch 15: LearningRateScheduler setting learning rate to 2.0000000000000003e-06.\n",
      "Epoch 15/30\n",
      "375/375 [==============================] - ETA: 0s - loss: 0.0160 - accuracy: 0.9213\n",
      "Epoch 15: val_accuracy did not improve from 0.92000\n",
      "375/375 [==============================] - 101s 270ms/step - loss: 0.0160 - accuracy: 0.9213 - val_loss: 0.0374 - val_accuracy: 0.9200 - lr: 2.0000e-06\n",
      "\n",
      "Epoch 16: LearningRateScheduler setting learning rate to 2.0000000000000003e-06.\n",
      "Epoch 16/30\n",
      "375/375 [==============================] - ETA: 0s - loss: 0.0161 - accuracy: 0.9272\n",
      "Epoch 16: val_accuracy did not improve from 0.92000\n",
      "375/375 [==============================] - 101s 270ms/step - loss: 0.0161 - accuracy: 0.9272 - val_loss: 0.0213 - val_accuracy: 0.8800 - lr: 2.0000e-06\n",
      "\n",
      "Epoch 17: LearningRateScheduler setting learning rate to 2.0000000000000003e-06.\n",
      "Epoch 17/30\n",
      "375/375 [==============================] - ETA: 0s - loss: 0.0151 - accuracy: 0.9256\n",
      "Epoch 17: val_accuracy did not improve from 0.92000\n",
      "375/375 [==============================] - 101s 270ms/step - loss: 0.0151 - accuracy: 0.9256 - val_loss: 0.0318 - val_accuracy: 0.8800 - lr: 2.0000e-06\n",
      "\n",
      "Epoch 18: LearningRateScheduler setting learning rate to 2.0000000000000003e-06.\n",
      "Epoch 18/30\n",
      "375/375 [==============================] - ETA: 0s - loss: 0.0145 - accuracy: 0.9352\n",
      "Epoch 18: val_accuracy did not improve from 0.92000\n",
      "375/375 [==============================] - 101s 270ms/step - loss: 0.0145 - accuracy: 0.9352 - val_loss: 0.0313 - val_accuracy: 0.8600 - lr: 2.0000e-06\n"
     ]
    }
   ],
   "source": [
    "history = model.fit_generator(train_batches, steps_per_epoch=train_steps,\n",
    "                              validation_data=valid_batches,\n",
    "                              validation_steps=val_steps,\n",
    "                              epochs=30,\n",
    "                              callbacks=callbacks)"
   ]
  },
  {
   "cell_type": "code",
   "execution_count": 23,
   "id": "0c3c02a5",
   "metadata": {
    "execution": {
     "iopub.execute_input": "2023-08-12T00:49:51.685517Z",
     "iopub.status.busy": "2023-08-12T00:49:51.685131Z",
     "iopub.status.idle": "2023-08-12T00:49:52.384313Z",
     "shell.execute_reply": "2023-08-12T00:49:52.383348Z"
    },
    "id": "1a6c5f39",
    "outputId": "fb464e3c-ba2e-4240-a4bb-4c6cf777eed8",
    "papermill": {
     "duration": 1.28929,
     "end_time": "2023-08-12T00:49:52.386447",
     "exception": false,
     "start_time": "2023-08-12T00:49:51.097157",
     "status": "completed"
    },
    "tags": []
   },
   "outputs": [
    {
     "data": {
      "image/png": "[encoded data removed]",
      "text/plain": [
       "<Figure size 640x480 with 1 Axes>"
      ]
     },
     "metadata": {},
     "output_type": "display_data"
    },
    {
     "data": {
      "image/png": "[encoded data removed]",
      "text/plain": [
       "<Figure size 640x480 with 1 Axes>"
      ]
     },
     "metadata": {},
     "output_type": "display_data"
    },
    {
     "data": {
      "text/plain": [
       "<Figure size 640x480 with 0 Axes>"
      ]
     },
     "metadata": {},
     "output_type": "display_data"
    }
   ],
   "source": [
    "graph_it(history)"
   ]
  },
  {
   "cell_type": "markdown",
   "id": "afb1ff6c",
   "metadata": {
    "id": "1a1bbbee",
    "papermill": {
     "duration": 0.534321,
     "end_time": "2023-08-12T00:49:53.449531",
     "exception": false,
     "start_time": "2023-08-12T00:49:52.915210",
     "status": "completed"
    },
    "tags": []
   },
   "source": [
    "**Model Evaluation using test data**"
   ]
  },
  {
   "cell_type": "code",
   "execution_count": 24,
   "id": "7c4a501c",
   "metadata": {
    "execution": {
     "iopub.execute_input": "2023-08-12T00:49:54.564264Z",
     "iopub.status.busy": "2023-08-12T00:49:54.563880Z",
     "iopub.status.idle": "2023-08-12T00:50:18.271983Z",
     "shell.execute_reply": "2023-08-12T00:50:18.270305Z"
    },
    "id": "f7da54c9",
    "outputId": "b27a778f-bc83-4b83-9247-8d7388649d5c",
    "papermill": {
     "duration": 24.295265,
     "end_time": "2023-08-12T00:50:18.274086",
     "exception": false,
     "start_time": "2023-08-12T00:49:53.978821",
     "status": "completed"
    },
    "tags": []
   },
   "outputs": [
    {
     "name": "stdout",
     "output_type": "stream",
     "text": [
      "600/600 [==============================] - 22s 33ms/step\n"
     ]
    },
    {
     "data": {
      "image/png": "[encoded data removed]",
      "text/plain": [
       "<Figure size 640x480 with 2 Axes>"
      ]
     },
     "metadata": {},
     "output_type": "display_data"
    },
    {
     "name": "stdout",
     "output_type": "stream",
     "text": [
      "\n",
      "               precision    recall  f1-score   support\n",
      "\n",
      "           0       0.56      0.78      0.65        90\n",
      "           1       0.96      0.89      0.92       510\n",
      "\n",
      "    accuracy                           0.88       600\n",
      "   macro avg       0.76      0.84      0.79       600\n",
      "weighted avg       0.90      0.88      0.88       600\n",
      "\n",
      "Sensitivity: 0.894 Specificity: 0.778 Precision: 0.899 ROC_AUC_SCORE: 0.913\n",
      "\n"
     ]
    },
    {
     "data": {
      "image/png": "[encoded data removed]",
      "text/plain": [
       "<Figure size 400x400 with 1 Axes>"
      ]
     },
     "metadata": {},
     "output_type": "display_data"
    }
   ],
   "source": [
    "model.load_weights(filepath = 'model.hdf5')\n",
    "test_it(model, test_batches)"
   ]
  },
  {
   "cell_type": "code",
   "execution_count": 25,
   "id": "340bffbe",
   "metadata": {
    "execution": {
     "iopub.execute_input": "2023-08-12T00:50:19.390726Z",
     "iopub.status.busy": "2023-08-12T00:50:19.390361Z",
     "iopub.status.idle": "2023-08-12T00:50:38.407773Z",
     "shell.execute_reply": "2023-08-12T00:50:38.406753Z"
    },
    "id": "b0c097c1",
    "outputId": "350cef3f-01cb-49ad-f02a-06dd8a45e38d",
    "papermill": {
     "duration": 19.581502,
     "end_time": "2023-08-12T00:50:38.409947",
     "exception": false,
     "start_time": "2023-08-12T00:50:18.828445",
     "status": "completed"
    },
    "tags": []
   },
   "outputs": [
    {
     "name": "stdout",
     "output_type": "stream",
     "text": [
      "  3/600 [..............................] - ETA: 19s"
     ]
    },
    {
     "name": "stderr",
     "output_type": "stream",
     "text": [
      "/tmp/ipykernel_23/1475839648.py:3: UserWarning: `Model.predict_generator` is deprecated and will be removed in a future version. Please use `Model.predict`, which supports generators.\n",
      "  predictions = model.predict_generator(test_batches, steps=len(test_batches), verbose=1)\n"
     ]
    },
    {
     "name": "stdout",
     "output_type": "stream",
     "text": [
      "600/600 [==============================] - 19s 31ms/step\n",
      "Confusion Matrix : \n",
      " [[ 70  20]\n",
      " [ 54 456]]\n",
      "Accuracy :  0.8766666666666667\n",
      "Sensitivity :  0.5645161290322581\n",
      "Specificity :  0.957983193277311\n"
     ]
    }
   ],
   "source": [
    "from sklearn.metrics import confusion_matrix\n",
    "\n",
    "predictions = model.predict_generator(test_batches, steps=len(test_batches), verbose=1)\n",
    "\n",
    "y_pred = np.argmax(predictions, axis=1)\n",
    "targetnames = ['mel','sb_nv']\n",
    "y_true = test_batches.classes\n",
    "\n",
    "cm1 = confusion_matrix(y_true,y_pred)\n",
    "print('Confusion Matrix : \\n', cm1)\n",
    "\n",
    "total1=sum(sum(cm1))\n",
    "#####from confusion matrix calculate accuracy\n",
    "accuracy1=(cm1[0,0]+cm1[1,1])/total1\n",
    "print ('Accuracy : ', accuracy1)\n",
    "\n",
    "sensitivity1 = cm1[0,0]/(cm1[0,0]+cm1[1,0])\n",
    "print('Sensitivity : ', sensitivity1 )\n",
    "\n",
    "specificity1 = cm1[1,1]/(cm1[1,1]+cm1[0,1])\n",
    "print('Specificity : ', specificity1)"
   ]
  }
 ],
 "metadata": {
  "kernelspec": {
   "display_name": "Python 3",
   "language": "python",
   "name": "python3"
  },
  "language_info": {
   "codemirror_mode": {
    "name": "ipython",
    "version": 3
   },
   "file_extension": ".py",
   "mimetype": "text/x-python",
   "name": "python",
   "nbconvert_exporter": "python",
   "pygments_lexer": "ipython3",
   "version": "3.10.12"
  },
  "papermill": {
   "default_parameters": {},
   "duration": 2133.9581,
   "end_time": "2023-08-12T00:50:42.023201",
   "environment_variables": {},
   "exception": null,
   "input_path": "__notebook__.ipynb",
   "output_path": "__notebook__.ipynb",
   "parameters": {},
   "start_time": "2023-08-12T00:15:08.065101",
   "version": "2.4.0"
  }
 },
 "nbformat": 4,
 "nbformat_minor": 5
}
