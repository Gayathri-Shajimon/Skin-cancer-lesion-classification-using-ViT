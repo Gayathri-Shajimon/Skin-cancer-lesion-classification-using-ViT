{
 "cells": [
  {
   "cell_type": "code",
   "execution_count": 1,
   "id": "9ce67eca",
   "metadata": {
    "execution": {
     "iopub.execute_input": "2023-08-12T00:13:38.246516Z",
     "iopub.status.busy": "2023-08-12T00:13:38.246091Z",
     "iopub.status.idle": "2023-08-12T00:14:01.975295Z",
     "shell.execute_reply": "2023-08-12T00:14:01.974138Z"
    },
    "id": "37d225cc",
    "outputId": "077d4689-4718-44b6-f877-ee23f4bfd393",
    "papermill": {
     "duration": 23.740112,
     "end_time": "2023-08-12T00:14:01.977702",
     "exception": false,
     "start_time": "2023-08-12T00:13:38.237590",
     "status": "completed"
    },
    "tags": []
   },
   "outputs": [
    {
     "name": "stdout",
     "output_type": "stream",
     "text": [
      "Requirement already satisfied: tensorflow_addons in /opt/conda/lib/python3.10/site-packages (0.20.0)\r\n",
      "Requirement already satisfied: packaging in /opt/conda/lib/python3.10/site-packages (from tensorflow_addons) (21.3)\r\n",
      "Requirement already satisfied: typeguard<3.0.0,>=2.7 in /opt/conda/lib/python3.10/site-packages (from tensorflow_addons) (2.13.3)\r\n",
      "Requirement already satisfied: pyparsing!=3.0.5,>=2.0.2 in /opt/conda/lib/python3.10/site-packages (from packaging->tensorflow_addons) (3.0.9)\r\n"
     ]
    }
   ],
   "source": [
    "!pip install --quiet vit-keras\n",
    "!pip install tensorflow_addons"
   ]
  },
  {
   "cell_type": "code",
   "execution_count": 4,
   "id": "ca3c529a",
   "metadata": {
    "execution": {
     "iopub.execute_input": "2023-08-12T00:14:02.045934Z",
     "iopub.status.busy": "2023-08-12T00:14:02.045155Z",
     "iopub.status.idle": "2023-08-12T00:14:11.189194Z",
     "shell.execute_reply": "2023-08-12T00:14:11.188216Z"
    },
    "id": "afe143c1",
    "outputId": "419c96a1-a787-475a-8665-57d5ac91d340",
    "papermill": {
     "duration": 9.153657,
     "end_time": "2023-08-12T00:14:11.191439",
     "exception": false,
     "start_time": "2023-08-12T00:14:02.037782",
     "status": "completed"
    },
    "tags": []
   },
   "outputs": [
    {
     "name": "stderr",
     "output_type": "stream",
     "text": [
      "/opt/conda/lib/python3.10/site-packages/scipy/__init__.py:146: UserWarning: A NumPy version >=1.16.5 and <1.23.0 is required for this version of SciPy (detected version 1.23.5\n",
      "  warnings.warn(f\"A NumPy version >={np_minversion} and <{np_maxversion}\"\n",
      "/opt/conda/lib/python3.10/site-packages/tensorflow_io/python/ops/__init__.py:98: UserWarning: unable to load libtensorflow_io_plugins.so: unable to open file: libtensorflow_io_plugins.so, from paths: ['/opt/conda/lib/python3.10/site-packages/tensorflow_io/python/ops/libtensorflow_io_plugins.so']\n",
      "caused by: ['/opt/conda/lib/python3.10/site-packages/tensorflow_io/python/ops/libtensorflow_io_plugins.so: undefined symbol: _ZN3tsl6StatusC1EN10tensorflow5error4CodeESt17basic_string_viewIcSt11char_traitsIcEENS_14SourceLocationE']\n",
      "  warnings.warn(f\"unable to load libtensorflow_io_plugins.so: {e}\")\n",
      "/opt/conda/lib/python3.10/site-packages/tensorflow_io/python/ops/__init__.py:104: UserWarning: file system plugins are not loaded: unable to open file: libtensorflow_io.so, from paths: ['/opt/conda/lib/python3.10/site-packages/tensorflow_io/python/ops/libtensorflow_io.so']\n",
      "caused by: ['/opt/conda/lib/python3.10/site-packages/tensorflow_io/python/ops/libtensorflow_io.so: undefined symbol: _ZTVN10tensorflow13GcsFileSystemE']\n",
      "  warnings.warn(f\"file system plugins are not loaded: {e}\")\n",
      "/opt/conda/lib/python3.10/site-packages/tensorflow_addons/utils/tfa_eol_msg.py:23: UserWarning: \n",
      "\n",
      "TensorFlow Addons (TFA) has ended development and introduction of new features.\n",
      "TFA has entered a minimal maintenance and release mode until a planned end of life in May 2024.\n",
      "Please modify downstream libraries to take dependencies from other repositories in our TensorFlow community (e.g. Keras, Keras-CV, and Keras-NLP). \n",
      "\n",
      "For more information see: https://github.com/tensorflow/addons/issues/2807 \n",
      "\n",
      "  warnings.warn(\n"
     ]
    }
   ],
   "source": [
    "import matplotlib.pyplot as plt\n",
    "import numpy as np\n",
    "import pandas as pd\n",
    "import os\n",
    "from glob import glob\n",
    "import seaborn as sns\n",
    "from PIL import Image\n",
    "np.random.seed(123)\n",
    "from sklearn.preprocessing import label_binarize\n",
    "from sklearn.metrics import confusion_matrix\n",
    "import itertools\n",
    "import pandas as pd\n",
    "import numpy as np\n",
    "import keras\n",
    "from keras import backend as K\n",
    "import tensorflow\n",
    "from tensorflow.keras.layers import Dropout, Dense, LayerNormalization, Flatten\n",
    "from tensorflow.keras.activations import gelu\n",
    "from tensorflow.keras.optimizers import Adam, SGD\n",
    "from tensorflow.keras.metrics import categorical_crossentropy\n",
    "from tensorflow.keras.preprocessing.image import ImageDataGenerator\n",
    "from tensorflow.keras.models import Model\n",
    "from tensorflow.keras.callbacks import EarlyStopping, ReduceLROnPlateau, ModelCheckpoint\n",
    "from vit_keras import vit\n",
    "import tensorflow_addons as tfa\n",
    "import math\n",
    "import os\n",
    "from sklearn.metrics import confusion_matrix\n",
    "from sklearn.model_selection import train_test_split\n",
    "import itertools\n",
    "import shutil\n",
    "import matplotlib.pyplot as plt\n",
    "from zipfile import ZipFile\n",
    "import time\n",
    "from sklearn.model_selection import StratifiedKFold, KFold\n",
    "from sklearn.metrics import roc_auc_score\n",
    "from sklearn.metrics import  precision_score, recall_score, accuracy_score\n",
    "from sklearn.metrics import roc_curve, auc\n",
    "from sklearn.metrics import classification_report\n",
    "import tensorflow as tf\n",
    "from tensorflow.keras import backend as K"
   ]
  },
  {
   "attachments": {},
   "cell_type": "markdown",
   "id": "b9fb75c9",
   "metadata": {},
   "source": [
    "Initializing the ViT Model"
   ]
  },
  {
   "cell_type": "code",
   "execution_count": 5,
   "id": "c512d2e1",
   "metadata": {
    "execution": {
     "iopub.execute_input": "2023-08-12T00:14:11.207574Z",
     "iopub.status.busy": "2023-08-12T00:14:11.206805Z",
     "iopub.status.idle": "2023-08-12T00:14:24.709342Z",
     "shell.execute_reply": "2023-08-12T00:14:24.708363Z"
    },
    "id": "0d8eb2cb",
    "outputId": "0770dbdc-46dc-486f-d4f7-cf9ee11ed55b",
    "papermill": {
     "duration": 13.513056,
     "end_time": "2023-08-12T00:14:24.711693",
     "exception": false,
     "start_time": "2023-08-12T00:14:11.198637",
     "status": "completed"
    },
    "tags": []
   },
   "outputs": [
    {
     "name": "stdout",
     "output_type": "stream",
     "text": [
      "Downloading data from https://github.com/faustomorales/vit-keras/releases/download/dl/ViT-B_16_imagenet21k+imagenet2012.npz\n",
      "347502902/347502902 [==============================] - 7s 0us/step\n"
     ]
    },
    {
     "name": "stderr",
     "output_type": "stream",
     "text": [
      "/opt/conda/lib/python3.10/site-packages/vit_keras/utils.py:81: UserWarning: Resizing position embeddings from 24, 24 to 14, 14\n",
      "  warnings.warn(\n"
     ]
    }
   ],
   "source": [
    "vit_model = vit.vit_b16(\n",
    "        image_size = 224,\n",
    "        activation = 'softmax',\n",
    "        pretrained = True,\n",
    "        include_top = False,\n",
    "        pretrained_top = False,\n",
    "        classes = 2)"
   ]
  },
  {
   "attachments": {},
   "cell_type": "markdown",
   "id": "a0193081",
   "metadata": {},
   "source": [
    "Adding Additional layers on top of ViT Model"
   ]
  },
  {
   "cell_type": "code",
   "execution_count": 6,
   "id": "9c3dcbc4",
   "metadata": {
    "execution": {
     "iopub.execute_input": "2023-08-12T00:14:24.742837Z",
     "iopub.status.busy": "2023-08-12T00:14:24.742540Z",
     "iopub.status.idle": "2023-08-12T00:14:26.628126Z",
     "shell.execute_reply": "2023-08-12T00:14:26.627194Z"
    },
    "id": "cc2ced1b",
    "outputId": "e02916c6-3663-4a8b-ba6e-0438978700f3",
    "papermill": {
     "duration": 1.906266,
     "end_time": "2023-08-12T00:14:26.633015",
     "exception": false,
     "start_time": "2023-08-12T00:14:24.726749",
     "status": "completed"
    },
    "tags": []
   },
   "outputs": [
    {
     "name": "stdout",
     "output_type": "stream",
     "text": [
      "Model: \"vision_transformer\"\n",
      "_________________________________________________________________\n",
      " Layer (type)                Output Shape              Param #   \n",
      "=================================================================\n",
      " vit-b16 (Functional)        (None, 768)               85798656  \n",
      "                                                                 \n",
      " flatten (Flatten)           (None, 768)               0         \n",
      "                                                                 \n",
      " dense (Dense)               (None, 128)               98432     \n",
      "                                                                 \n",
      " dropout (Dropout)           (None, 128)               0         \n",
      "                                                                 \n",
      " layer_normalization (LayerN  (None, 128)              256       \n",
      " ormalization)                                                   \n",
      "                                                                 \n",
      " dense_1 (Dense)             (None, 32)                4128      \n",
      "                                                                 \n",
      " dropout_1 (Dropout)         (None, 32)                0         \n",
      "                                                                 \n",
      " layer_normalization_1 (Laye  (None, 32)               64        \n",
      " rNormalization)                                                 \n",
      "                                                                 \n",
      " dense_2 (Dense)             (None, 2)                 66        \n",
      "                                                                 \n",
      "=================================================================\n",
      "Total params: 85,901,602\n",
      "Trainable params: 85,901,602\n",
      "Non-trainable params: 0\n",
      "_________________________________________________________________\n"
     ]
    }
   ],
   "source": [
    "model = tensorflow.keras.Sequential([\n",
    "    vit_model,\n",
    "    Flatten(),\n",
    "    Dense(128, activation=gelu),\n",
    "    Dropout(0.1),\n",
    "    LayerNormalization(epsilon=.000002),\n",
    "    Dense(32, activation=gelu),\n",
    "    Dropout(0.1),\n",
    "    LayerNormalization(epsilon=.000002),\n",
    "    Dense(2, activation='softmax')\n",
    "], name='vision_transformer')\n",
    "\n",
    "model.summary()"
   ]
  },
  {
   "cell_type": "code",
   "execution_count": 7,
   "id": "1a4f2372",
   "metadata": {
    "execution": {
     "iopub.execute_input": "2023-08-12T00:14:26.674336Z",
     "iopub.status.busy": "2023-08-12T00:14:26.673545Z",
     "iopub.status.idle": "2023-08-12T00:14:26.696524Z",
     "shell.execute_reply": "2023-08-12T00:14:26.695678Z"
    },
    "id": "f90cf531",
    "papermill": {
     "duration": 0.045617,
     "end_time": "2023-08-12T00:14:26.698782",
     "exception": false,
     "start_time": "2023-08-12T00:14:26.653165",
     "status": "completed"
    },
    "tags": []
   },
   "outputs": [],
   "source": [
    "#Compiling model using Binary cross entropy and Adam optimiser\n",
    "model.compile(optimizer='adam',loss='binary_crossentropy',metrics=['accuracy'])"
   ]
  },
  {
   "attachments": {},
   "cell_type": "markdown",
   "id": "3672f278",
   "metadata": {},
   "source": [
    "Function for plotting the graph of Train and Validation Accuracy and loss"
   ]
  },
  {
   "cell_type": "code",
   "execution_count": 9,
   "id": "bacf13cf",
   "metadata": {
    "execution": {
     "iopub.execute_input": "2023-08-12T00:14:26.778837Z",
     "iopub.status.busy": "2023-08-12T00:14:26.778039Z",
     "iopub.status.idle": "2023-08-12T00:14:26.785504Z",
     "shell.execute_reply": "2023-08-12T00:14:26.784627Z"
    },
    "id": "895825d0",
    "papermill": {
     "duration": 0.027829,
     "end_time": "2023-08-12T00:14:26.787637",
     "exception": false,
     "start_time": "2023-08-12T00:14:26.759808",
     "status": "completed"
    },
    "tags": []
   },
   "outputs": [],
   "source": [
    "def graph_it(history):\n",
    "  acc = history.history['accuracy']\n",
    "  val_acc = history.history['val_accuracy']\n",
    "  loss = history.history['loss']\n",
    "  val_loss = history.history['val_loss']\n",
    "  epochs = range(len(acc))\n",
    "\n",
    "  #Plot Train and Validation Accuracy\n",
    "  plt.plot(epochs, acc, 'r', label='Training accuracy')\n",
    "  plt.plot(epochs, val_acc, 'b', label='Validation accuracy')\n",
    "  plt.title('Model Accuracy: Training and Validation')\n",
    "  plt.legend(loc=0)\n",
    "  plt.figure()\n",
    "\n",
    "  #Plot Train and Validation Loss\n",
    "  plt.plot(epochs, loss, 'r', label='Training loss')\n",
    "  plt.plot(epochs, val_loss, 'b', label='Validation loss')\n",
    "  plt.title('Training and validation Loss')\n",
    "  plt.legend(loc=0)\n",
    "  plt.figure()\n"
   ]
  },
  {
   "attachments": {},
   "cell_type": "markdown",
   "id": "f88a2fcd",
   "metadata": {},
   "source": [
    "Function for Model Evaluation"
   ]
  },
  {
   "cell_type": "code",
   "execution_count": 10,
   "id": "fef8dc64",
   "metadata": {
    "execution": {
     "iopub.execute_input": "2023-08-12T00:14:26.823434Z",
     "iopub.status.busy": "2023-08-12T00:14:26.822671Z",
     "iopub.status.idle": "2023-08-12T00:14:26.833354Z",
     "shell.execute_reply": "2023-08-12T00:14:26.832428Z"
    },
    "id": "d4a7c9c8",
    "papermill": {
     "duration": 0.030529,
     "end_time": "2023-08-12T00:14:26.835404",
     "exception": false,
     "start_time": "2023-08-12T00:14:26.804875",
     "status": "completed"
    },
    "tags": []
   },
   "outputs": [],
   "source": [
    "from sklearn.metrics import confusion_matrix, roc_auc_score, classification_report, precision_score, roc_curve, ConfusionMatrixDisplay\n",
    "\n",
    "def test_it(model, test_generator):\n",
    "    test_labels = test_generator.classes\n",
    "\n",
    "    predictions = model.predict(test_generator)\n",
    "    predicted_labels = np.argmax(predictions, axis=1)\n",
    "\n",
    "    cm = confusion_matrix(test_labels, predicted_labels)\n",
    "    disp = ConfusionMatrixDisplay(confusion_matrix=cm)\n",
    "    disp.plot()\n",
    "    plt.show()\n",
    "\n",
    "    roc = roc_auc_score(test_labels, predictions[:, 1])  # Calculate ROC score\n",
    "\n",
    "    # Calculate confusion matrix CHANGE THIS TO CM\n",
    "    tn, fp, fn, tp = confusion_matrix(test_labels, predicted_labels).ravel()\n",
    "\n",
    "    # Calculate sensitivity and specificity\n",
    "    sensitivity = tp / (tp + fn)\n",
    "    specificity = tn / (tn + fp)\n",
    "\n",
    "    report = classification_report(test_labels, predicted_labels)   #Classification report\n",
    "\n",
    "    precision = precision_score(test_labels, predicted_labels, average='weighted')  #Calculate Precision score\n",
    "\n",
    "    print(\"\\n\", report)\n",
    "    print(f\"Sensitivity: {round(sensitivity, 3)} Specificity: {round(specificity, 3)} Precision: {round(precision, 3)} ROC_AUC_SCORE: {round(roc, 3)}\\n\")\n",
    "\n",
    "    # Plot AUC-ROC curve\n",
    "    fpr, tpr, thresholds = roc_curve(test_labels, predictions[:, 1])\n",
    "    plt.figure(figsize=(4, 4))\n",
    "    plt.plot(fpr, tpr, label='ROC curve (area = %0.2f)' % roc)\n",
    "    plt.plot([0, 1], [0, 1], 'k--')  # Random guessing line\n",
    "    plt.xlim([0.0, 1.0])\n",
    "    plt.ylim([0.0, 1.0])\n",
    "    plt.xlabel('False Positive Rate')\n",
    "    plt.ylabel('True Positive Rate')\n",
    "    plt.title('Receiver Operating Characteristic (ROC) Curve')\n",
    "    plt.legend(loc=\"lower right\")\n",
    "    plt.show()"
   ]
  },
  {
   "cell_type": "code",
   "execution_count": 11,
   "id": "8c2ef9f2",
   "metadata": {
    "execution": {
     "iopub.execute_input": "2023-08-12T00:14:26.871851Z",
     "iopub.status.busy": "2023-08-12T00:14:26.871048Z",
     "iopub.status.idle": "2023-08-12T00:14:26.876270Z",
     "shell.execute_reply": "2023-08-12T00:14:26.875305Z"
    },
    "id": "9671fe3a",
    "papermill": {
     "duration": 0.025472,
     "end_time": "2023-08-12T00:14:26.878195",
     "exception": false,
     "start_time": "2023-08-12T00:14:26.852723",
     "status": "completed"
    },
    "tags": []
   },
   "outputs": [],
   "source": [
    "# Set the directories for the data for task1 (SEB VS NEVUS)\n",
    "train_dir = \"/kaggle/input/isic-train-merge-aug/train_augumented-2023/train_augumented/task2\"\n",
    "test_dir = \"/kaggle/input/isic-train-merge-aug/test2023/test/task2\"\n",
    "val_dir = \"/kaggle/input/isic-train-merge-aug/val-2023/val/task2\""
   ]
  },
  {
   "cell_type": "code",
   "execution_count": 12,
   "id": "b2148552",
   "metadata": {
    "execution": {
     "iopub.execute_input": "2023-08-12T00:14:26.913940Z",
     "iopub.status.busy": "2023-08-12T00:14:26.913642Z",
     "iopub.status.idle": "2023-08-12T00:14:26.918493Z",
     "shell.execute_reply": "2023-08-12T00:14:26.917571Z"
    },
    "id": "e9e4b21a",
    "papermill": {
     "duration": 0.024937,
     "end_time": "2023-08-12T00:14:26.920466",
     "exception": false,
     "start_time": "2023-08-12T00:14:26.895529",
     "status": "completed"
    },
    "tags": []
   },
   "outputs": [],
   "source": [
    "# Define the data generator\n",
    "datagen = ImageDataGenerator(\n",
    "    preprocessing_function= \\\n",
    "    tensorflow.keras.applications.mobilenet.preprocess_input)\n",
    "\n",
    "image_size = (224, 224)\n",
    "batch = 32"
   ]
  },
  {
   "attachments": {},
   "cell_type": "markdown",
   "id": "12c43d29",
   "metadata": {},
   "source": [
    "Creating batches to improve memory optimization"
   ]
  },
  {
   "cell_type": "code",
   "execution_count": 14,
   "id": "06d86234",
   "metadata": {
    "execution": {
     "iopub.execute_input": "2023-08-12T00:14:26.998292Z",
     "iopub.status.busy": "2023-08-12T00:14:26.997560Z",
     "iopub.status.idle": "2023-08-12T00:14:33.103277Z",
     "shell.execute_reply": "2023-08-12T00:14:33.102339Z"
    },
    "id": "7ATMKowsaH4V",
    "outputId": "e8a87c34-91e6-456c-c751-70656e0b58a3",
    "papermill": {
     "duration": 6.125693,
     "end_time": "2023-08-12T00:14:33.105374",
     "exception": false,
     "start_time": "2023-08-12T00:14:26.979681",
     "status": "completed"
    },
    "tags": []
   },
   "outputs": [
    {
     "name": "stdout",
     "output_type": "stream",
     "text": [
      "Found 12000 images belonging to 2 classes.\n",
      "Found 150 images belonging to 2 classes.\n",
      "Found 600 images belonging to 2 classes.\n"
     ]
    }
   ],
   "source": [
    "train_batches = datagen.flow_from_directory(train_dir,\n",
    "                                            target_size=(image_size),\n",
    "                                            batch_size=10)\n",
    "\n",
    "valid_batches = datagen.flow_from_directory(val_dir,\n",
    "                                            target_size=(image_size),\n",
    "                                            batch_size=10)\n",
    "\n",
    "# Note: shuffle=False causes the test dataset to not be shuffled\n",
    "test_batches = datagen.flow_from_directory(test_dir,\n",
    "                                            target_size=(image_size),\n",
    "                                            batch_size=1,\n",
    "                                            shuffle=False)"
   ]
  },
  {
   "cell_type": "code",
   "execution_count": 15,
   "id": "912ef2ec",
   "metadata": {
    "execution": {
     "iopub.execute_input": "2023-08-12T00:14:33.142037Z",
     "iopub.status.busy": "2023-08-12T00:14:33.141714Z",
     "iopub.status.idle": "2023-08-12T00:14:33.148767Z",
     "shell.execute_reply": "2023-08-12T00:14:33.147895Z"
    },
    "id": "2GDPYOeaVw_n",
    "outputId": "2e7ffe29-955e-40ce-db3d-a71342255d84",
    "papermill": {
     "duration": 0.027414,
     "end_time": "2023-08-12T00:14:33.150811",
     "exception": false,
     "start_time": "2023-08-12T00:14:33.123397",
     "status": "completed"
    },
    "tags": []
   },
   "outputs": [
    {
     "data": {
      "text/plain": [
       "{'Seb': 0, 'nevus_mel': 1}"
      ]
     },
     "execution_count": 15,
     "metadata": {},
     "output_type": "execute_result"
    }
   ],
   "source": [
    "train_batches.class_indices"
   ]
  },
  {
   "cell_type": "code",
   "execution_count": 16,
   "id": "13c3210d",
   "metadata": {
    "execution": {
     "iopub.execute_input": "2023-08-12T00:14:33.188699Z",
     "iopub.status.busy": "2023-08-12T00:14:33.187114Z",
     "iopub.status.idle": "2023-08-12T00:14:33.193609Z",
     "shell.execute_reply": "2023-08-12T00:14:33.192688Z"
    },
    "id": "KiRi8zD6ZIyI",
    "outputId": "1d5d5772-3e58-4d2a-b706-3a000db5aae4",
    "papermill": {
     "duration": 0.02711,
     "end_time": "2023-08-12T00:14:33.195551",
     "exception": false,
     "start_time": "2023-08-12T00:14:33.168441",
     "status": "completed"
    },
    "tags": []
   },
   "outputs": [
    {
     "data": {
      "text/plain": [
       "{'Seb': 0, 'nevus_mel': 1}"
      ]
     },
     "execution_count": 16,
     "metadata": {},
     "output_type": "execute_result"
    }
   ],
   "source": [
    "valid_batches.class_indices"
   ]
  },
  {
   "cell_type": "code",
   "execution_count": 17,
   "id": "b8f839c3",
   "metadata": {
    "execution": {
     "iopub.execute_input": "2023-08-12T00:14:33.232777Z",
     "iopub.status.busy": "2023-08-12T00:14:33.232047Z",
     "iopub.status.idle": "2023-08-12T00:14:33.241079Z",
     "shell.execute_reply": "2023-08-12T00:14:33.239809Z"
    },
    "id": "kunFVJitV2gZ",
    "outputId": "5732ab52-8384-46cc-b25b-d6508c7bee61",
    "papermill": {
     "duration": 0.02975,
     "end_time": "2023-08-12T00:14:33.243135",
     "exception": false,
     "start_time": "2023-08-12T00:14:33.213385",
     "status": "completed"
    },
    "tags": []
   },
   "outputs": [
    {
     "name": "stdout",
     "output_type": "stream",
     "text": [
      "Number of images per class: Counter({1: 10476, 0: 1524})\n"
     ]
    }
   ],
   "source": [
    "from collections import Counter\n",
    "\n",
    "class_counts = Counter(train_batches.classes)\n",
    "print(\"Number of images per class:\", class_counts)\n"
   ]
  },
  {
   "cell_type": "code",
   "execution_count": 18,
   "id": "1a649290",
   "metadata": {
    "execution": {
     "iopub.execute_input": "2023-08-12T00:14:33.280675Z",
     "iopub.status.busy": "2023-08-12T00:14:33.279796Z",
     "iopub.status.idle": "2023-08-12T00:14:33.286116Z",
     "shell.execute_reply": "2023-08-12T00:14:33.285045Z"
    },
    "id": "pZlJ57JkV_Pp",
    "outputId": "dc5b24ee-0b65-48b3-aefd-d6cf7d1d24c0",
    "papermill": {
     "duration": 0.027144,
     "end_time": "2023-08-12T00:14:33.288054",
     "exception": false,
     "start_time": "2023-08-12T00:14:33.260910",
     "status": "completed"
    },
    "tags": []
   },
   "outputs": [
    {
     "name": "stdout",
     "output_type": "stream",
     "text": [
      "Number of images per class: {'Seb': 1524, 'nevus_mel': 10476}\n"
     ]
    }
   ],
   "source": [
    "class_names = list(train_batches.class_indices.keys())\n",
    "class_counts_with_names = {class_names[idx]: count for idx, count in class_counts.items()}\n",
    "print(\"Number of images per class:\", class_counts_with_names)"
   ]
  },
  {
   "cell_type": "code",
   "execution_count": 19,
   "id": "a00cc511",
   "metadata": {
    "execution": {
     "iopub.execute_input": "2023-08-12T00:14:33.327148Z",
     "iopub.status.busy": "2023-08-12T00:14:33.325616Z",
     "iopub.status.idle": "2023-08-12T00:14:33.330900Z",
     "shell.execute_reply": "2023-08-12T00:14:33.330044Z"
    },
    "id": "FjZnz8QRO8xD",
    "papermill": {
     "duration": 0.026693,
     "end_time": "2023-08-12T00:14:33.332818",
     "exception": false,
     "start_time": "2023-08-12T00:14:33.306125",
     "status": "completed"
    },
    "tags": []
   },
   "outputs": [],
   "source": [
    "train_steps = np.ceil(train_batches.n / batch)\n",
    "test_steps = np.ceil(test_batches.n / batch)\n",
    "val_steps = np.ceil(valid_batches.n / batch)"
   ]
  },
  {
   "attachments": {},
   "cell_type": "markdown",
   "id": "b623f171",
   "metadata": {},
   "source": [
    "Configuration of Early stopping criteria, learning rat"
   ]
  },
  {
   "cell_type": "code",
   "execution_count": 20,
   "id": "663c072d",
   "metadata": {
    "execution": {
     "iopub.execute_input": "2023-08-12T00:14:33.370508Z",
     "iopub.status.busy": "2023-08-12T00:14:33.369937Z",
     "iopub.status.idle": "2023-08-12T00:14:33.376307Z",
     "shell.execute_reply": "2023-08-12T00:14:33.375427Z"
    },
    "id": "lQnHiksDahxQ",
    "papermill": {
     "duration": 0.027386,
     "end_time": "2023-08-12T00:14:33.378305",
     "exception": false,
     "start_time": "2023-08-12T00:14:33.350919",
     "status": "completed"
    },
    "tags": []
   },
   "outputs": [],
   "source": [
    "early_stopping = EarlyStopping(monitor='val_loss',patience=8)       #Configuring early stopping criteria\n",
    "\n",
    "checkpointer = tf.keras.callbacks.ModelCheckpoint(filepath = 'model.hdf5',\n",
    "                                                  monitor = 'val_accuracy',\n",
    "                                                  verbose = 1,\n",
    "                                                  save_best_only = True,\n",
    "                                                  save_weights_only = True,\n",
    "                                                  mode = 'max')\n",
    "\n",
    "#Configure dynamic learning rate\n",
    "def step_decay(epoch):\n",
    "    initial_lrate = 0.00002\n",
    "    drop = 0.1\n",
    "    epochs_drop = 10.0\n",
    "    lrate = initial_lrate * math.pow(drop, math.floor((1+epoch)/epochs_drop))\n",
    "    return lrate\n",
    "\n",
    "lr_scheduler = tf.keras.callbacks.LearningRateScheduler(step_decay, verbose=1)"
   ]
  },
  {
   "cell_type": "code",
   "execution_count": 21,
   "id": "df772ec6",
   "metadata": {
    "execution": {
     "iopub.execute_input": "2023-08-12T00:14:33.415966Z",
     "iopub.status.busy": "2023-08-12T00:14:33.415227Z",
     "iopub.status.idle": "2023-08-12T00:14:33.419451Z",
     "shell.execute_reply": "2023-08-12T00:14:33.418488Z"
    },
    "id": "t9YyA-CMalyq",
    "papermill": {
     "duration": 0.02513,
     "end_time": "2023-08-12T00:14:33.421383",
     "exception": false,
     "start_time": "2023-08-12T00:14:33.396253",
     "status": "completed"
    },
    "tags": []
   },
   "outputs": [],
   "source": [
    "callbacks = [early_stopping, checkpointer, lr_scheduler]"
   ]
  },
  {
   "attachments": {},
   "cell_type": "markdown",
   "id": "4907555c",
   "metadata": {},
   "source": [
    "Model Training"
   ]
  },
  {
   "cell_type": "code",
   "execution_count": 22,
   "id": "db83b238",
   "metadata": {
    "execution": {
     "iopub.execute_input": "2023-08-12T00:14:33.459282Z",
     "iopub.status.busy": "2023-08-12T00:14:33.458547Z",
     "iopub.status.idle": "2023-08-12T00:48:05.222886Z",
     "shell.execute_reply": "2023-08-12T00:48:05.221693Z"
    },
    "id": "h0jl4qCjapIq",
    "outputId": "f9416720-459f-47b1-b846-4d805d08a200",
    "papermill": {
     "duration": 2011.785274,
     "end_time": "2023-08-12T00:48:05.224922",
     "exception": false,
     "start_time": "2023-08-12T00:14:33.439648",
     "status": "completed"
    },
    "tags": []
   },
   "outputs": [
    {
     "name": "stdout",
     "output_type": "stream",
     "text": [
      "\n",
      "Epoch 1: LearningRateScheduler setting learning rate to 2e-05.\n",
      "Epoch 1/30\n"
     ]
    },
    {
     "name": "stderr",
     "output_type": "stream",
     "text": [
      "/tmp/ipykernel_23/1018363140.py:1: UserWarning: `Model.fit_generator` is deprecated and will be removed in a future version. Please use `Model.fit`, which supports generators.\n",
      "  history = model.fit_generator(train_batches, steps_per_epoch=train_steps,\n"
     ]
    },
    {
     "name": "stdout",
     "output_type": "stream",
     "text": [
      "375/375 [==============================] - ETA: 0s - loss: 0.2465 - accuracy: 0.9021\n",
      "Epoch 1: val_accuracy improved from -inf to 0.84000, saving model to model.hdf5\n",
      "375/375 [==============================] - 159s 280ms/step - loss: 0.2465 - accuracy: 0.9021 - val_loss: 0.2978 - val_accuracy: 0.8400 - lr: 2.0000e-05\n",
      "\n",
      "Epoch 2: LearningRateScheduler setting learning rate to 2e-05.\n",
      "Epoch 2/30\n",
      "375/375 [==============================] - ETA: 0s - loss: 0.1708 - accuracy: 0.9448\n",
      "Epoch 2: val_accuracy improved from 0.84000 to 0.94000, saving model to model.hdf5\n",
      "375/375 [==============================] - 102s 273ms/step - loss: 0.1708 - accuracy: 0.9448 - val_loss: 0.2051 - val_accuracy: 0.9400 - lr: 2.0000e-05\n",
      "\n",
      "Epoch 3: LearningRateScheduler setting learning rate to 2e-05.\n",
      "Epoch 3/30\n",
      "375/375 [==============================] - ETA: 0s - loss: 0.1471 - accuracy: 0.9539\n",
      "Epoch 3: val_accuracy did not improve from 0.94000\n",
      "375/375 [==============================] - 101s 270ms/step - loss: 0.1471 - accuracy: 0.9539 - val_loss: 0.2091 - val_accuracy: 0.9400 - lr: 2.0000e-05\n",
      "\n",
      "Epoch 4: LearningRateScheduler setting learning rate to 2e-05.\n",
      "Epoch 4/30\n",
      "375/375 [==============================] - ETA: 0s - loss: 0.1224 - accuracy: 0.9613\n",
      "Epoch 4: val_accuracy did not improve from 0.94000\n",
      "375/375 [==============================] - 101s 270ms/step - loss: 0.1224 - accuracy: 0.9613 - val_loss: 0.2049 - val_accuracy: 0.9200 - lr: 2.0000e-05\n",
      "\n",
      "Epoch 5: LearningRateScheduler setting learning rate to 2e-05.\n",
      "Epoch 5/30\n",
      "375/375 [==============================] - ETA: 0s - loss: 0.0983 - accuracy: 0.9685\n",
      "Epoch 5: val_accuracy did not improve from 0.94000\n",
      "375/375 [==============================] - 101s 270ms/step - loss: 0.0983 - accuracy: 0.9685 - val_loss: 0.3050 - val_accuracy: 0.8800 - lr: 2.0000e-05\n",
      "\n",
      "Epoch 6: LearningRateScheduler setting learning rate to 2e-05.\n",
      "Epoch 6/30\n",
      "375/375 [==============================] - ETA: 0s - loss: 0.0862 - accuracy: 0.9757\n",
      "Epoch 6: val_accuracy did not improve from 0.94000\n",
      "375/375 [==============================] - 101s 270ms/step - loss: 0.0862 - accuracy: 0.9757 - val_loss: 0.4323 - val_accuracy: 0.8600 - lr: 2.0000e-05\n",
      "\n",
      "Epoch 7: LearningRateScheduler setting learning rate to 2e-05.\n",
      "Epoch 7/30\n",
      "375/375 [==============================] - ETA: 0s - loss: 0.0640 - accuracy: 0.9829\n",
      "Epoch 7: val_accuracy did not improve from 0.94000\n",
      "375/375 [==============================] - 101s 270ms/step - loss: 0.0640 - accuracy: 0.9829 - val_loss: 0.3901 - val_accuracy: 0.8400 - lr: 2.0000e-05\n",
      "\n",
      "Epoch 8: LearningRateScheduler setting learning rate to 2e-05.\n",
      "Epoch 8/30\n",
      "375/375 [==============================] - ETA: 0s - loss: 0.0716 - accuracy: 0.9779\n",
      "Epoch 8: val_accuracy did not improve from 0.94000\n",
      "375/375 [==============================] - 101s 270ms/step - loss: 0.0716 - accuracy: 0.9779 - val_loss: 0.2924 - val_accuracy: 0.9200 - lr: 2.0000e-05\n",
      "\n",
      "Epoch 9: LearningRateScheduler setting learning rate to 2e-05.\n",
      "Epoch 9/30\n",
      "375/375 [==============================] - ETA: 0s - loss: 0.0449 - accuracy: 0.9896\n",
      "Epoch 9: val_accuracy did not improve from 0.94000\n",
      "375/375 [==============================] - 101s 270ms/step - loss: 0.0449 - accuracy: 0.9896 - val_loss: 0.3101 - val_accuracy: 0.8800 - lr: 2.0000e-05\n",
      "\n",
      "Epoch 10: LearningRateScheduler setting learning rate to 2.0000000000000003e-06.\n",
      "Epoch 10/30\n",
      "375/375 [==============================] - ETA: 0s - loss: 0.0344 - accuracy: 0.9928\n",
      "Epoch 10: val_accuracy did not improve from 0.94000\n",
      "375/375 [==============================] - 102s 271ms/step - loss: 0.0344 - accuracy: 0.9928 - val_loss: 0.1949 - val_accuracy: 0.9400 - lr: 2.0000e-06\n",
      "\n",
      "Epoch 11: LearningRateScheduler setting learning rate to 2.0000000000000003e-06.\n",
      "Epoch 11/30\n",
      "375/375 [==============================] - ETA: 0s - loss: 0.0344 - accuracy: 0.9923\n",
      "Epoch 11: val_accuracy did not improve from 0.94000\n",
      "375/375 [==============================] - 101s 270ms/step - loss: 0.0344 - accuracy: 0.9923 - val_loss: 0.4597 - val_accuracy: 0.8600 - lr: 2.0000e-06\n",
      "\n",
      "Epoch 12: LearningRateScheduler setting learning rate to 2.0000000000000003e-06.\n",
      "Epoch 12/30\n",
      "375/375 [==============================] - ETA: 0s - loss: 0.0277 - accuracy: 0.9955\n",
      "Epoch 12: val_accuracy did not improve from 0.94000\n",
      "375/375 [==============================] - 101s 270ms/step - loss: 0.0277 - accuracy: 0.9955 - val_loss: 0.4996 - val_accuracy: 0.8600 - lr: 2.0000e-06\n",
      "\n",
      "Epoch 13: LearningRateScheduler setting learning rate to 2.0000000000000003e-06.\n",
      "Epoch 13/30\n",
      "375/375 [==============================] - ETA: 0s - loss: 0.0265 - accuracy: 0.9963\n",
      "Epoch 13: val_accuracy did not improve from 0.94000\n",
      "375/375 [==============================] - 101s 270ms/step - loss: 0.0265 - accuracy: 0.9963 - val_loss: 0.3417 - val_accuracy: 0.9000 - lr: 2.0000e-06\n",
      "\n",
      "Epoch 14: LearningRateScheduler setting learning rate to 2.0000000000000003e-06.\n",
      "Epoch 14/30\n",
      "375/375 [==============================] - ETA: 0s - loss: 0.0256 - accuracy: 0.9955\n",
      "Epoch 14: val_accuracy did not improve from 0.94000\n",
      "375/375 [==============================] - 101s 270ms/step - loss: 0.0256 - accuracy: 0.9955 - val_loss: 0.6149 - val_accuracy: 0.8400 - lr: 2.0000e-06\n",
      "\n",
      "Epoch 15: LearningRateScheduler setting learning rate to 2.0000000000000003e-06.\n",
      "Epoch 15/30\n",
      "375/375 [==============================] - ETA: 0s - loss: 0.0225 - accuracy: 0.9965\n",
      "Epoch 15: val_accuracy did not improve from 0.94000\n",
      "375/375 [==============================] - 101s 269ms/step - loss: 0.0225 - accuracy: 0.9965 - val_loss: 0.5188 - val_accuracy: 0.8400 - lr: 2.0000e-06\n",
      "\n",
      "Epoch 16: LearningRateScheduler setting learning rate to 2.0000000000000003e-06.\n",
      "Epoch 16/30\n",
      "375/375 [==============================] - ETA: 0s - loss: 0.0206 - accuracy: 0.9973\n",
      "Epoch 16: val_accuracy did not improve from 0.94000\n",
      "375/375 [==============================] - 101s 270ms/step - loss: 0.0206 - accuracy: 0.9973 - val_loss: 0.3592 - val_accuracy: 0.9200 - lr: 2.0000e-06\n",
      "\n",
      "Epoch 17: LearningRateScheduler setting learning rate to 2.0000000000000003e-06.\n",
      "Epoch 17/30\n",
      "375/375 [==============================] - ETA: 0s - loss: 0.0184 - accuracy: 0.9981\n",
      "Epoch 17: val_accuracy did not improve from 0.94000\n",
      "375/375 [==============================] - 101s 270ms/step - loss: 0.0184 - accuracy: 0.9981 - val_loss: 0.2889 - val_accuracy: 0.9400 - lr: 2.0000e-06\n",
      "\n",
      "Epoch 18: LearningRateScheduler setting learning rate to 2.0000000000000003e-06.\n",
      "Epoch 18/30\n",
      "375/375 [==============================] - ETA: 0s - loss: 0.0176 - accuracy: 0.9981\n",
      "Epoch 18: val_accuracy did not improve from 0.94000\n",
      "375/375 [==============================] - 101s 270ms/step - loss: 0.0176 - accuracy: 0.9981 - val_loss: 0.4586 - val_accuracy: 0.8800 - lr: 2.0000e-06\n"
     ]
    }
   ],
   "source": [
    "history = model.fit_generator(train_batches, steps_per_epoch=train_steps,\n",
    "                              validation_data=valid_batches,\n",
    "                              validation_steps=val_steps,\n",
    "                              epochs=30,\n",
    "                              callbacks=callbacks)"
   ]
  },
  {
   "cell_type": "code",
   "execution_count": 23,
   "id": "edecb22d",
   "metadata": {
    "execution": {
     "iopub.execute_input": "2023-08-12T00:48:06.296892Z",
     "iopub.status.busy": "2023-08-12T00:48:06.295829Z",
     "iopub.status.idle": "2023-08-12T00:48:06.316819Z",
     "shell.execute_reply": "2023-08-12T00:48:06.314423Z"
    },
    "id": "tJVtJ6W2PNQi",
    "papermill": {
     "duration": 0.555056,
     "end_time": "2023-08-12T00:48:06.320240",
     "exception": false,
     "start_time": "2023-08-12T00:48:05.765184",
     "status": "completed"
    },
    "tags": []
   },
   "outputs": [],
   "source": [
    "# Compile the model\n",
    "model.compile(optimizer='adam',loss='binary_crossentropy',metrics=['accuracy'])"
   ]
  },
  {
   "cell_type": "code",
   "execution_count": 24,
   "id": "92c22d6e",
   "metadata": {
    "execution": {
     "iopub.execute_input": "2023-08-12T00:48:07.654952Z",
     "iopub.status.busy": "2023-08-12T00:48:07.654407Z",
     "iopub.status.idle": "2023-08-12T00:48:46.746489Z",
     "shell.execute_reply": "2023-08-12T00:48:46.745566Z"
    },
    "id": "1a6c5f39",
    "outputId": "1344b6fb-3d5f-4db9-edd2-d4f3b298cbe1",
    "papermill": {
     "duration": 40.193208,
     "end_time": "2023-08-12T00:48:47.137226",
     "exception": false,
     "start_time": "2023-08-12T00:48:06.944018",
     "status": "completed"
    },
    "tags": []
   },
   "outputs": [
    {
     "data": {
      "image/png": "[encoded data removed]",
      "text/plain": [
       "<Figure size 640x480 with 1 Axes>"
      ]
     },
     "metadata": {},
     "output_type": "display_data"
    },
    {
     "data": {
      "image/png": "[encoded data removed]",
      "text/plain": [
       "<Figure size 640x480 with 1 Axes>"
      ]
     },
     "metadata": {},
     "output_type": "display_data"
    },
    {
     "data": {
      "text/plain": [
       "<Figure size 640x480 with 0 Axes>"
      ]
     },
     "metadata": {},
     "output_type": "display_data"
    }
   ],
   "source": [
    "graph_it(history)"
   ]
  },
  {
   "cell_type": "markdown",
   "id": "1278412f",
   "metadata": {
    "id": "1a1bbbee",
    "papermill": {
     "duration": 0.593814,
     "end_time": "2023-08-12T00:48:48.267498",
     "exception": false,
     "start_time": "2023-08-12T00:48:47.673684",
     "status": "completed"
    },
    "tags": []
   },
   "source": [
    "**Model Evaluation using test data**"
   ]
  },
  {
   "cell_type": "code",
   "execution_count": 25,
   "id": "f37bcda6",
   "metadata": {
    "execution": {
     "iopub.execute_input": "2023-08-12T00:48:49.339905Z",
     "iopub.status.busy": "2023-08-12T00:48:49.338918Z",
     "iopub.status.idle": "2023-08-12T00:49:12.237879Z",
     "shell.execute_reply": "2023-08-12T00:49:12.236906Z"
    },
    "id": "f7da54c9",
    "outputId": "4784b4a4-0a43-49cf-cc90-177d7b708f81",
    "papermill": {
     "duration": 23.437279,
     "end_time": "2023-08-12T00:49:12.239890",
     "exception": false,
     "start_time": "2023-08-12T00:48:48.802611",
     "status": "completed"
    },
    "tags": []
   },
   "outputs": [
    {
     "name": "stdout",
     "output_type": "stream",
     "text": [
      "600/600 [==============================] - 22s 31ms/step\n"
     ]
    },
    {
     "data": {
      "image/png": "[encoded data removed]",
      "text/plain": [
       "<Figure size 640x480 with 2 Axes>"
      ]
     },
     "metadata": {},
     "output_type": "display_data"
    },
    {
     "name": "stdout",
     "output_type": "stream",
     "text": [
      "\n",
      "               precision    recall  f1-score   support\n",
      "\n",
      "           0       0.57      0.86      0.68        90\n",
      "           1       0.97      0.89      0.93       510\n",
      "\n",
      "    accuracy                           0.88       600\n",
      "   macro avg       0.77      0.87      0.81       600\n",
      "weighted avg       0.91      0.88      0.89       600\n",
      "\n",
      "Sensitivity: 0.886 Specificity: 0.856 Precision: 0.912 ROC_AUC_SCORE: 0.929\n",
      "\n"
     ]
    },
    {
     "data": {
      "image/png": "[encoded data removed]",
      "text/plain": [
       "<Figure size 400x400 with 1 Axes>"
      ]
     },
     "metadata": {},
     "output_type": "display_data"
    }
   ],
   "source": [
    "model.load_weights(filepath = 'model.hdf5')\n",
    "test_it(model, test_batches)"
   ]
  },
  {
   "cell_type": "code",
   "execution_count": 26,
   "id": "5ed67109",
   "metadata": {
    "execution": {
     "iopub.execute_input": "2023-08-12T00:49:13.376265Z",
     "iopub.status.busy": "2023-08-12T00:49:13.375626Z",
     "iopub.status.idle": "2023-08-12T00:49:31.934863Z",
     "shell.execute_reply": "2023-08-12T00:49:31.933877Z"
    },
    "id": "aTd2X0IOBWcH",
    "outputId": "2e90b746-66d4-4788-fae0-9221f48a3076",
    "papermill": {
     "duration": 19.141271,
     "end_time": "2023-08-12T00:49:31.937037",
     "exception": false,
     "start_time": "2023-08-12T00:49:12.795766",
     "status": "completed"
    },
    "tags": []
   },
   "outputs": [
    {
     "name": "stdout",
     "output_type": "stream",
     "text": [
      "  3/600 [..............................] - ETA: 19s"
     ]
    },
    {
     "name": "stderr",
     "output_type": "stream",
     "text": [
      "/tmp/ipykernel_23/1475839648.py:3: UserWarning: `Model.predict_generator` is deprecated and will be removed in a future version. Please use `Model.predict`, which supports generators.\n",
      "  predictions = model.predict_generator(test_batches, steps=len(test_batches), verbose=1)\n"
     ]
    },
    {
     "name": "stdout",
     "output_type": "stream",
     "text": [
      "600/600 [==============================] - 18s 30ms/step\n",
      "Confusion Matrix : \n",
      " [[ 77  13]\n",
      " [ 58 452]]\n",
      "Accuracy :  0.8816666666666667\n",
      "Sensitivity :  0.5703703703703704\n",
      "Specificity :  0.9720430107526882\n"
     ]
    }
   ],
   "source": [
    "from sklearn.metrics import confusion_matrix\n",
    "\n",
    "predictions = model.predict_generator(test_batches, steps=len(test_batches), verbose=1)\n",
    "\n",
    "y_pred = np.argmax(predictions, axis=1)\n",
    "targetnames = ['mel','sb_nv']\n",
    "y_true = test_batches.classes\n",
    "\n",
    "cm1 = confusion_matrix(y_true,y_pred)\n",
    "print('Confusion Matrix : \\n', cm1)\n",
    "\n",
    "total1=sum(sum(cm1))\n",
    "#####from confusion matrix calculate accuracy\n",
    "accuracy1=(cm1[0,0]+cm1[1,1])/total1\n",
    "print ('Accuracy : ', accuracy1)\n",
    "\n",
    "sensitivity1 = cm1[0,0]/(cm1[0,0]+cm1[1,0])\n",
    "print('Sensitivity : ', sensitivity1 )\n",
    "\n",
    "specificity1 = cm1[1,1]/(cm1[1,1]+cm1[0,1])\n",
    "print('Specificity : ', specificity1)"
   ]
  },
  {
   "cell_type": "code",
   "execution_count": null,
   "id": "9590fd3c",
   "metadata": {
    "id": "b0c097c1",
    "papermill": {
     "duration": 0.581468,
     "end_time": "2023-08-12T00:49:33.143574",
     "exception": false,
     "start_time": "2023-08-12T00:49:32.562106",
     "status": "completed"
    },
    "tags": []
   },
   "outputs": [],
   "source": []
  }
 ],
 "metadata": {
  "kernelspec": {
   "display_name": "Python 3",
   "language": "python",
   "name": "python3"
  },
  "language_info": {
   "codemirror_mode": {
    "name": "ipython",
    "version": 3
   },
   "file_extension": ".py",
   "mimetype": "text/x-python",
   "name": "python",
   "nbconvert_exporter": "python",
   "pygments_lexer": "ipython3",
   "version": "3.10.12"
  },
  "papermill": {
   "default_parameters": {},
   "duration": 2168.975533,
   "end_time": "2023-08-12T00:49:37.408686",
   "environment_variables": {},
   "exception": null,
   "input_path": "__notebook__.ipynb",
   "output_path": "__notebook__.ipynb",
   "parameters": {},
   "start_time": "2023-08-12T00:13:28.433153",
   "version": "2.4.0"
  }
 },
 "nbformat": 4,
 "nbformat_minor": 5
}
