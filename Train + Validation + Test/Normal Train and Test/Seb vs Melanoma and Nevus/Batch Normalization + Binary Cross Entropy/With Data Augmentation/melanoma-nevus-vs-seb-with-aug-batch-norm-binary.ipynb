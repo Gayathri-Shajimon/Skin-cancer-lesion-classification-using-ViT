{
 "cells": [
  {
   "cell_type": "code",
   "execution_count": 1,
   "id": "7945dd64",
   "metadata": {
    "execution": {
     "iopub.execute_input": "2023-08-11T23:24:11.757065Z",
     "iopub.status.busy": "2023-08-11T23:24:11.756055Z",
     "iopub.status.idle": "2023-08-11T23:24:35.099283Z",
     "shell.execute_reply": "2023-08-11T23:24:35.098056Z"
    },
    "id": "37d225cc",
    "outputId": "e6169295-aa0e-40b9-8b1f-4aac56ae8a07",
    "papermill": {
     "duration": 23.353688,
     "end_time": "2023-08-11T23:24:35.101745",
     "exception": false,
     "start_time": "2023-08-11T23:24:11.748057",
     "status": "completed"
    },
    "tags": []
   },
   "outputs": [
    {
     "name": "stdout",
     "output_type": "stream",
     "text": [
      "Requirement already satisfied: tensorflow_addons in /opt/conda/lib/python3.10/site-packages (0.20.0)\r\n",
      "Requirement already satisfied: packaging in /opt/conda/lib/python3.10/site-packages (from tensorflow_addons) (21.3)\r\n",
      "Requirement already satisfied: typeguard<3.0.0,>=2.7 in /opt/conda/lib/python3.10/site-packages (from tensorflow_addons) (2.13.3)\r\n",
      "Requirement already satisfied: pyparsing!=3.0.5,>=2.0.2 in /opt/conda/lib/python3.10/site-packages (from packaging->tensorflow_addons) (3.0.9)\r\n"
     ]
    }
   ],
   "source": [
    "!pip install --quiet vit-keras\n",
    "!pip install tensorflow_addons"
   ]
  },
  {
   "cell_type": "code",
   "execution_count": 4,
   "id": "05b8eabf",
   "metadata": {
    "execution": {
     "iopub.execute_input": "2023-08-11T23:24:35.168153Z",
     "iopub.status.busy": "2023-08-11T23:24:35.167414Z",
     "iopub.status.idle": "2023-08-11T23:24:44.434450Z",
     "shell.execute_reply": "2023-08-11T23:24:44.433446Z"
    },
    "id": "afe143c1",
    "outputId": "1ab54fae-01df-4b8f-f767-ecbe808344f1",
    "papermill": {
     "duration": 9.276403,
     "end_time": "2023-08-11T23:24:44.436832",
     "exception": false,
     "start_time": "2023-08-11T23:24:35.160429",
     "status": "completed"
    },
    "tags": []
   },
   "outputs": [
    {
     "name": "stderr",
     "output_type": "stream",
     "text": [
      "/opt/conda/lib/python3.10/site-packages/scipy/__init__.py:146: UserWarning: A NumPy version >=1.16.5 and <1.23.0 is required for this version of SciPy (detected version 1.23.5\n",
      "  warnings.warn(f\"A NumPy version >={np_minversion} and <{np_maxversion}\"\n",
      "/opt/conda/lib/python3.10/site-packages/tensorflow_io/python/ops/__init__.py:98: UserWarning: unable to load libtensorflow_io_plugins.so: unable to open file: libtensorflow_io_plugins.so, from paths: ['/opt/conda/lib/python3.10/site-packages/tensorflow_io/python/ops/libtensorflow_io_plugins.so']\n",
      "caused by: ['/opt/conda/lib/python3.10/site-packages/tensorflow_io/python/ops/libtensorflow_io_plugins.so: undefined symbol: _ZN3tsl6StatusC1EN10tensorflow5error4CodeESt17basic_string_viewIcSt11char_traitsIcEENS_14SourceLocationE']\n",
      "  warnings.warn(f\"unable to load libtensorflow_io_plugins.so: {e}\")\n",
      "/opt/conda/lib/python3.10/site-packages/tensorflow_io/python/ops/__init__.py:104: UserWarning: file system plugins are not loaded: unable to open file: libtensorflow_io.so, from paths: ['/opt/conda/lib/python3.10/site-packages/tensorflow_io/python/ops/libtensorflow_io.so']\n",
      "caused by: ['/opt/conda/lib/python3.10/site-packages/tensorflow_io/python/ops/libtensorflow_io.so: undefined symbol: _ZTVN10tensorflow13GcsFileSystemE']\n",
      "  warnings.warn(f\"file system plugins are not loaded: {e}\")\n",
      "/opt/conda/lib/python3.10/site-packages/tensorflow_addons/utils/tfa_eol_msg.py:23: UserWarning: \n",
      "\n",
      "TensorFlow Addons (TFA) has ended development and introduction of new features.\n",
      "TFA has entered a minimal maintenance and release mode until a planned end of life in May 2024.\n",
      "Please modify downstream libraries to take dependencies from other repositories in our TensorFlow community (e.g. Keras, Keras-CV, and Keras-NLP). \n",
      "\n",
      "For more information see: https://github.com/tensorflow/addons/issues/2807 \n",
      "\n",
      "  warnings.warn(\n"
     ]
    }
   ],
   "source": [
    "import matplotlib.pyplot as plt\n",
    "import numpy as np\n",
    "import pandas as pd\n",
    "import os\n",
    "from glob import glob\n",
    "import seaborn as sns\n",
    "from PIL import Image\n",
    "np.random.seed(123)\n",
    "from sklearn.preprocessing import label_binarize\n",
    "from sklearn.metrics import confusion_matrix\n",
    "import itertools\n",
    "import pandas as pd\n",
    "import numpy as np\n",
    "import keras\n",
    "from keras import backend as K\n",
    "import tensorflow\n",
    "from tensorflow.keras.layers import Dropout, Dense, LayerNormalization, Flatten\n",
    "from tensorflow.keras.activations import gelu\n",
    "from tensorflow.keras.optimizers import Adam, SGD\n",
    "from tensorflow.keras.metrics import categorical_crossentropy\n",
    "from tensorflow.keras.preprocessing.image import ImageDataGenerator\n",
    "from tensorflow.keras.models import Model\n",
    "from tensorflow.keras.callbacks import EarlyStopping, ReduceLROnPlateau, ModelCheckpoint\n",
    "from vit_keras import vit\n",
    "import tensorflow_addons as tfa\n",
    "import math\n",
    "from sklearn.metrics import confusion_matrix\n",
    "from sklearn.model_selection import train_test_split\n",
    "import itertools\n",
    "import shutil\n",
    "import matplotlib.pyplot as plt\n",
    "from zipfile import ZipFile\n",
    "import time\n",
    "from sklearn.model_selection import StratifiedKFold, KFold\n",
    "from sklearn.metrics import roc_auc_score\n",
    "from sklearn.metrics import  precision_score, recall_score, accuracy_score\n",
    "from sklearn.metrics import roc_curve, auc\n",
    "from sklearn.metrics import classification_report\n",
    "import tensorflow as tf\n",
    "from tensorflow.keras import backend as K"
   ]
  },
  {
   "attachments": {},
   "cell_type": "markdown",
   "id": "5c86f6a3",
   "metadata": {},
   "source": [
    "Initializing the ViT Model"
   ]
  },
  {
   "cell_type": "code",
   "execution_count": 5,
   "id": "afc68bfc",
   "metadata": {
    "execution": {
     "iopub.execute_input": "2023-08-11T23:24:44.454028Z",
     "iopub.status.busy": "2023-08-11T23:24:44.452167Z",
     "iopub.status.idle": "2023-08-11T23:24:57.953038Z",
     "shell.execute_reply": "2023-08-11T23:24:57.949266Z"
    },
    "id": "0d8eb2cb",
    "outputId": "a5ef6efd-3868-468f-9ba2-36b143ddcefe",
    "papermill": {
     "duration": 13.511518,
     "end_time": "2023-08-11T23:24:57.955745",
     "exception": false,
     "start_time": "2023-08-11T23:24:44.444227",
     "status": "completed"
    },
    "tags": []
   },
   "outputs": [
    {
     "name": "stdout",
     "output_type": "stream",
     "text": [
      "Downloading data from https://github.com/faustomorales/vit-keras/releases/download/dl/ViT-B_16_imagenet21k+imagenet2012.npz\n",
      "347502902/347502902 [==============================] - 7s 0us/step\n"
     ]
    },
    {
     "name": "stderr",
     "output_type": "stream",
     "text": [
      "/opt/conda/lib/python3.10/site-packages/vit_keras/utils.py:81: UserWarning: Resizing position embeddings from 24, 24 to 14, 14\n",
      "  warnings.warn(\n"
     ]
    }
   ],
   "source": [
    "vit_model = vit.vit_b16(\n",
    "        image_size = 224,\n",
    "        activation = 'softmax',\n",
    "        pretrained = True,\n",
    "        include_top = False,\n",
    "        pretrained_top = False,\n",
    "        classes = 2)"
   ]
  },
  {
   "attachments": {},
   "cell_type": "markdown",
   "id": "aee9c3c9",
   "metadata": {},
   "source": [
    "Adding Additional layers on top of ViT Model"
   ]
  },
  {
   "cell_type": "code",
   "execution_count": 6,
   "id": "31c25b95",
   "metadata": {
    "execution": {
     "iopub.execute_input": "2023-08-11T23:24:57.987856Z",
     "iopub.status.busy": "2023-08-11T23:24:57.987548Z",
     "iopub.status.idle": "2023-08-11T23:24:59.790867Z",
     "shell.execute_reply": "2023-08-11T23:24:59.789835Z"
    },
    "id": "cc2ced1b",
    "outputId": "931ac95d-1ad2-4be9-a8b8-f89b8a0fcfb0",
    "papermill": {
     "duration": 1.822247,
     "end_time": "2023-08-11T23:24:59.793604",
     "exception": false,
     "start_time": "2023-08-11T23:24:57.971357",
     "status": "completed"
    },
    "tags": []
   },
   "outputs": [
    {
     "name": "stdout",
     "output_type": "stream",
     "text": [
      "Model: \"vision_transformer\"\n",
      "_________________________________________________________________\n",
      " Layer (type)                Output Shape              Param #   \n",
      "=================================================================\n",
      " vit-b16 (Functional)        (None, 768)               85798656  \n",
      "                                                                 \n",
      " flatten (Flatten)           (None, 768)               0         \n",
      "                                                                 \n",
      " batch_normalization (BatchN  (None, 768)              3072      \n",
      " ormalization)                                                   \n",
      "                                                                 \n",
      " dense (Dense)               (None, 11)                8459      \n",
      "                                                                 \n",
      " batch_normalization_1 (Batc  (None, 11)               44        \n",
      " hNormalization)                                                 \n",
      "                                                                 \n",
      " dense_1 (Dense)             (None, 2)                 24        \n",
      "                                                                 \n",
      "=================================================================\n",
      "Total params: 85,810,255\n",
      "Trainable params: 85,808,697\n",
      "Non-trainable params: 1,558\n",
      "_________________________________________________________________\n"
     ]
    }
   ],
   "source": [
    "model = tf.keras.Sequential([\n",
    "        vit_model,\n",
    "        tf.keras.layers.Flatten(),\n",
    "        tf.keras.layers.BatchNormalization(),\n",
    "        tf.keras.layers.Dense(11, activation = tfa.activations.gelu),\n",
    "        tf.keras.layers.BatchNormalization(),\n",
    "        tf.keras.layers.Dense(2, 'softmax')\n",
    "    ],\n",
    "    name = 'vision_transformer')\n",
    "\n",
    "model.summary()"
   ]
  },
  {
   "cell_type": "code",
   "execution_count": 7,
   "id": "7352fd0d",
   "metadata": {
    "execution": {
     "iopub.execute_input": "2023-08-11T23:24:59.829612Z",
     "iopub.status.busy": "2023-08-11T23:24:59.828941Z",
     "iopub.status.idle": "2023-08-11T23:24:59.860997Z",
     "shell.execute_reply": "2023-08-11T23:24:59.859963Z"
    },
    "id": "f90cf531",
    "papermill": {
     "duration": 0.053715,
     "end_time": "2023-08-11T23:24:59.864637",
     "exception": false,
     "start_time": "2023-08-11T23:24:59.810922",
     "status": "completed"
    },
    "tags": []
   },
   "outputs": [],
   "source": [
    "#Compiling model using focal loss and Adam optimiser\n",
    "model.compile(optimizer='adam',loss='binary_crossentropy',metrics=['accuracy'])"
   ]
  },
  {
   "attachments": {},
   "cell_type": "markdown",
   "id": "2653a179",
   "metadata": {},
   "source": [
    "Function for plotting the graph of Train and Validation Accuracy and loss"
   ]
  },
  {
   "cell_type": "code",
   "execution_count": 9,
   "id": "88dd69bd",
   "metadata": {
    "execution": {
     "iopub.execute_input": "2023-08-11T23:24:59.981283Z",
     "iopub.status.busy": "2023-08-11T23:24:59.981013Z",
     "iopub.status.idle": "2023-08-11T23:24:59.987977Z",
     "shell.execute_reply": "2023-08-11T23:24:59.986872Z"
    },
    "id": "895825d0",
    "papermill": {
     "duration": 0.027344,
     "end_time": "2023-08-11T23:24:59.989944",
     "exception": false,
     "start_time": "2023-08-11T23:24:59.962600",
     "status": "completed"
    },
    "tags": []
   },
   "outputs": [],
   "source": [
    "def graph_it(history):\n",
    "  acc = history.history['accuracy']\n",
    "  val_acc = history.history['val_accuracy']\n",
    "  loss = history.history['loss']\n",
    "  val_loss = history.history['val_loss']\n",
    "  epochs = range(len(acc))\n",
    "\n",
    "  #Plot Train and Validation Accuracy\n",
    "  plt.plot(epochs, acc, 'r', label='Training accuracy')\n",
    "  plt.plot(epochs, val_acc, 'b', label='Validation accuracy')\n",
    "  plt.title('Model Accuracy: Training and Validation')\n",
    "  plt.legend(loc=0)\n",
    "  plt.figure()\n",
    "\n",
    "  #Plot Train and Validation Loss\n",
    "  plt.plot(epochs, loss, 'r', label='Training loss')\n",
    "  plt.plot(epochs, val_loss, 'b', label='Validation loss')\n",
    "  plt.title('Training and validation Loss')\n",
    "  plt.legend(loc=0)\n",
    "  plt.figure()\n"
   ]
  },
  {
   "cell_type": "code",
   "execution_count": 10,
   "id": "af51a7a9",
   "metadata": {
    "execution": {
     "iopub.execute_input": "2023-08-11T23:25:00.026254Z",
     "iopub.status.busy": "2023-08-11T23:25:00.025464Z",
     "iopub.status.idle": "2023-08-11T23:25:00.036795Z",
     "shell.execute_reply": "2023-08-11T23:25:00.035875Z"
    },
    "id": "d4a7c9c8",
    "papermill": {
     "duration": 0.032379,
     "end_time": "2023-08-11T23:25:00.039125",
     "exception": false,
     "start_time": "2023-08-11T23:25:00.006746",
     "status": "completed"
    },
    "tags": []
   },
   "outputs": [],
   "source": [
    "from sklearn.metrics import confusion_matrix, roc_auc_score, classification_report, precision_score, roc_curve, ConfusionMatrixDisplay\n",
    "\n",
    "def test_it(model, test_generator):\n",
    "    test_labels = test_generator.classes\n",
    "\n",
    "    predictions = model.predict(test_generator)\n",
    "    predicted_labels = np.argmax(predictions, axis=1)\n",
    "\n",
    "    cm = confusion_matrix(test_labels, predicted_labels)\n",
    "    disp = ConfusionMatrixDisplay(confusion_matrix=cm)\n",
    "    disp.plot()\n",
    "    plt.show()\n",
    "\n",
    "    roc = roc_auc_score(test_labels, predictions[:, 1])  #Calculate ROC score\n",
    "\n",
    "    # Calculate confusion matrix\n",
    "    tn, fp, fn, tp = confusion_matrix(test_labels, predicted_labels).ravel()\n",
    "\n",
    "    # Calculate sensitivity and specificity\n",
    "    sensitivity = tp / (tp + fn)\n",
    "    specificity = tn / (tn + fp)\n",
    "\n",
    "    report = classification_report(test_labels, predicted_labels)  #Classification report\n",
    "\n",
    "    precision = precision_score(test_labels, predicted_labels, average='weighted')  #Calculate Precision score\n",
    "\n",
    "    print(\"\\n\", report)\n",
    "    print(f\"Sensitivity: {round(sensitivity, 3)} Specificity: {round(specificity, 3)} Precision: {round(precision, 3)} ROC_AUC_SCORE: {round(roc, 3)}\\n\")\n",
    "\n",
    "    # Plot AUC-ROC curve\n",
    "    fpr, tpr, thresholds = roc_curve(test_labels, predictions[:, 1])\n",
    "    plt.figure(figsize=(4, 4))\n",
    "    plt.plot(fpr, tpr, label='ROC curve (area = %0.2f)' % roc)\n",
    "    plt.plot([0, 1], [0, 1], 'k--')  # Random guessing line\n",
    "    plt.xlim([0.0, 1.0])\n",
    "    plt.ylim([0.0, 1.0])\n",
    "    plt.xlabel('False Positive Rate')\n",
    "    plt.ylabel('True Positive Rate')\n",
    "    plt.title('Receiver Operating Characteristic (ROC) Curve')\n",
    "    plt.legend(loc=\"lower right\")\n",
    "    plt.show()"
   ]
  },
  {
   "cell_type": "code",
   "execution_count": 11,
   "id": "81c7b00e",
   "metadata": {
    "execution": {
     "iopub.execute_input": "2023-08-11T23:25:00.074676Z",
     "iopub.status.busy": "2023-08-11T23:25:00.074403Z",
     "iopub.status.idle": "2023-08-11T23:25:00.078847Z",
     "shell.execute_reply": "2023-08-11T23:25:00.077823Z"
    },
    "id": "9671fe3a",
    "papermill": {
     "duration": 0.024674,
     "end_time": "2023-08-11T23:25:00.081216",
     "exception": false,
     "start_time": "2023-08-11T23:25:00.056542",
     "status": "completed"
    },
    "tags": []
   },
   "outputs": [],
   "source": [
    "# Set the directories for the data for task1 (SEB VS NEVUS)\n",
    "train_dir = \"/kaggle/input/isic-train-merge-aug/train_augumented-2023/train_augumented/task2\"\n",
    "test_dir = \"/kaggle/input/isic-train-merge-aug/test2023/test/task2\"\n",
    "val_dir = \"/kaggle/input/isic-train-merge-aug/val-2023/val/task2\""
   ]
  },
  {
   "cell_type": "code",
   "execution_count": 12,
   "id": "a572c5fa",
   "metadata": {
    "execution": {
     "iopub.execute_input": "2023-08-11T23:25:00.116380Z",
     "iopub.status.busy": "2023-08-11T23:25:00.116106Z",
     "iopub.status.idle": "2023-08-11T23:25:00.120908Z",
     "shell.execute_reply": "2023-08-11T23:25:00.119742Z"
    },
    "id": "e9e4b21a",
    "papermill": {
     "duration": 0.025019,
     "end_time": "2023-08-11T23:25:00.123337",
     "exception": false,
     "start_time": "2023-08-11T23:25:00.098318",
     "status": "completed"
    },
    "tags": []
   },
   "outputs": [],
   "source": [
    "# Define the data generator\n",
    "datagen = ImageDataGenerator(\n",
    "    preprocessing_function= \\\n",
    "    tensorflow.keras.applications.mobilenet.preprocess_input)\n",
    "\n",
    "image_size = (224, 224)\n",
    "batch = 32"
   ]
  },
  {
   "attachments": {},
   "cell_type": "markdown",
   "id": "dc43b9bc",
   "metadata": {},
   "source": [
    "Creating batches to improve memory optimization"
   ]
  },
  {
   "cell_type": "code",
   "execution_count": 14,
   "id": "8aa0ac88",
   "metadata": {
    "execution": {
     "iopub.execute_input": "2023-08-11T23:25:00.201463Z",
     "iopub.status.busy": "2023-08-11T23:25:00.201206Z",
     "iopub.status.idle": "2023-08-11T23:25:05.660309Z",
     "shell.execute_reply": "2023-08-11T23:25:05.659234Z"
    },
    "id": "7ATMKowsaH4V",
    "outputId": "34eacc87-86c5-4547-eca7-03fa34b9fa45",
    "papermill": {
     "duration": 5.479475,
     "end_time": "2023-08-11T23:25:05.662686",
     "exception": false,
     "start_time": "2023-08-11T23:25:00.183211",
     "status": "completed"
    },
    "tags": []
   },
   "outputs": [
    {
     "name": "stdout",
     "output_type": "stream",
     "text": [
      "Found 12000 images belonging to 2 classes.\n",
      "Found 150 images belonging to 2 classes.\n",
      "Found 600 images belonging to 2 classes.\n"
     ]
    }
   ],
   "source": [
    "train_batches = datagen.flow_from_directory(train_dir,\n",
    "                                            target_size=(image_size),\n",
    "                                            batch_size=10)\n",
    "\n",
    "valid_batches = datagen.flow_from_directory(val_dir,\n",
    "                                            target_size=(image_size),\n",
    "                                            batch_size=10)\n",
    "\n",
    "# Note: shuffle=False causes the test dataset to not be shuffled\n",
    "test_batches = datagen.flow_from_directory(test_dir,\n",
    "                                            target_size=(image_size),\n",
    "                                            batch_size=1,\n",
    "                                            shuffle=False)"
   ]
  },
  {
   "cell_type": "code",
   "execution_count": 15,
   "id": "82558596",
   "metadata": {
    "execution": {
     "iopub.execute_input": "2023-08-11T23:25:05.732659Z",
     "iopub.status.busy": "2023-08-11T23:25:05.732193Z",
     "iopub.status.idle": "2023-08-11T23:25:05.743219Z",
     "shell.execute_reply": "2023-08-11T23:25:05.741851Z"
    },
    "id": "2GDPYOeaVw_n",
    "outputId": "e148aec2-c404-4484-b5be-c78548d65d0d",
    "papermill": {
     "duration": 0.052055,
     "end_time": "2023-08-11T23:25:05.749008",
     "exception": false,
     "start_time": "2023-08-11T23:25:05.696953",
     "status": "completed"
    },
    "tags": []
   },
   "outputs": [
    {
     "data": {
      "text/plain": [
       "{'Seb': 0, 'nevus_mel': 1}"
      ]
     },
     "execution_count": 15,
     "metadata": {},
     "output_type": "execute_result"
    }
   ],
   "source": [
    "train_batches.class_indices"
   ]
  },
  {
   "cell_type": "code",
   "execution_count": 16,
   "id": "635fb7b7",
   "metadata": {
    "execution": {
     "iopub.execute_input": "2023-08-11T23:25:05.820758Z",
     "iopub.status.busy": "2023-08-11T23:25:05.820344Z",
     "iopub.status.idle": "2023-08-11T23:25:05.830120Z",
     "shell.execute_reply": "2023-08-11T23:25:05.827066Z"
    },
    "id": "KiRi8zD6ZIyI",
    "outputId": "f3562ed5-6436-492c-9ac9-8706f03c2fee",
    "papermill": {
     "duration": 0.047651,
     "end_time": "2023-08-11T23:25:05.833230",
     "exception": false,
     "start_time": "2023-08-11T23:25:05.785579",
     "status": "completed"
    },
    "tags": []
   },
   "outputs": [
    {
     "data": {
      "text/plain": [
       "{'Seb': 0, 'nevus_mel': 1}"
      ]
     },
     "execution_count": 16,
     "metadata": {},
     "output_type": "execute_result"
    }
   ],
   "source": [
    "valid_batches.class_indices"
   ]
  },
  {
   "cell_type": "code",
   "execution_count": 17,
   "id": "bf86b5c9",
   "metadata": {
    "execution": {
     "iopub.execute_input": "2023-08-11T23:25:05.902886Z",
     "iopub.status.busy": "2023-08-11T23:25:05.902466Z",
     "iopub.status.idle": "2023-08-11T23:25:05.920767Z",
     "shell.execute_reply": "2023-08-11T23:25:05.919703Z"
    },
    "id": "kunFVJitV2gZ",
    "outputId": "3ca39ef1-de2c-4974-dc7a-232d636d7fda",
    "papermill": {
     "duration": 0.056407,
     "end_time": "2023-08-11T23:25:05.923574",
     "exception": false,
     "start_time": "2023-08-11T23:25:05.867167",
     "status": "completed"
    },
    "tags": []
   },
   "outputs": [
    {
     "name": "stdout",
     "output_type": "stream",
     "text": [
      "Number of images per class: Counter({1: 10476, 0: 1524})\n"
     ]
    }
   ],
   "source": [
    "from collections import Counter\n",
    "\n",
    "class_counts = Counter(train_batches.classes)\n",
    "print(\"Number of images per class:\", class_counts)\n"
   ]
  },
  {
   "cell_type": "code",
   "execution_count": 18,
   "id": "f7918780",
   "metadata": {
    "execution": {
     "iopub.execute_input": "2023-08-11T23:25:05.997433Z",
     "iopub.status.busy": "2023-08-11T23:25:05.997021Z",
     "iopub.status.idle": "2023-08-11T23:25:06.004320Z",
     "shell.execute_reply": "2023-08-11T23:25:06.003414Z"
    },
    "id": "pZlJ57JkV_Pp",
    "outputId": "28bc9427-3d98-4557-dc9a-ce843493362e",
    "papermill": {
     "duration": 0.050239,
     "end_time": "2023-08-11T23:25:06.007763",
     "exception": false,
     "start_time": "2023-08-11T23:25:05.957524",
     "status": "completed"
    },
    "tags": []
   },
   "outputs": [
    {
     "name": "stdout",
     "output_type": "stream",
     "text": [
      "Number of images per class: {'Seb': 1524, 'nevus_mel': 10476}\n"
     ]
    }
   ],
   "source": [
    "class_names = list(train_batches.class_indices.keys())\n",
    "class_counts_with_names = {class_names[idx]: count for idx, count in class_counts.items()}\n",
    "print(\"Number of images per class:\", class_counts_with_names)"
   ]
  },
  {
   "cell_type": "code",
   "execution_count": 19,
   "id": "ef746009",
   "metadata": {
    "execution": {
     "iopub.execute_input": "2023-08-11T23:25:06.078540Z",
     "iopub.status.busy": "2023-08-11T23:25:06.078243Z",
     "iopub.status.idle": "2023-08-11T23:25:06.083790Z",
     "shell.execute_reply": "2023-08-11T23:25:06.082864Z"
    },
    "id": "FjZnz8QRO8xD",
    "papermill": {
     "duration": 0.04324,
     "end_time": "2023-08-11T23:25:06.085851",
     "exception": false,
     "start_time": "2023-08-11T23:25:06.042611",
     "status": "completed"
    },
    "tags": []
   },
   "outputs": [],
   "source": [
    "train_steps = np.ceil(train_batches.n / batch)\n",
    "test_steps = np.ceil(test_batches.n / batch)\n",
    "val_steps = np.ceil(valid_batches.n / batch)"
   ]
  },
  {
   "attachments": {},
   "cell_type": "markdown",
   "id": "f30a19d3",
   "metadata": {},
   "source": [
    "Configuration of Early stopping criteria, learning rate"
   ]
  },
  {
   "cell_type": "code",
   "execution_count": 20,
   "id": "f34a3fd2",
   "metadata": {
    "execution": {
     "iopub.execute_input": "2023-08-11T23:25:06.157991Z",
     "iopub.status.busy": "2023-08-11T23:25:06.156079Z",
     "iopub.status.idle": "2023-08-11T23:25:06.164488Z",
     "shell.execute_reply": "2023-08-11T23:25:06.163615Z"
    },
    "id": "lQnHiksDahxQ",
    "papermill": {
     "duration": 0.046391,
     "end_time": "2023-08-11T23:25:06.166513",
     "exception": false,
     "start_time": "2023-08-11T23:25:06.120122",
     "status": "completed"
    },
    "tags": []
   },
   "outputs": [],
   "source": [
    "early_stopping = EarlyStopping(monitor='val_loss',patience=8) #Configuring early stopping criteria\n",
    "\n",
    "checkpointer = tf.keras.callbacks.ModelCheckpoint(filepath = 'model.hdf5',\n",
    "                                                  monitor = 'val_accuracy',\n",
    "                                                  verbose = 1,\n",
    "                                                  save_best_only = True,\n",
    "                                                  save_weights_only = True,\n",
    "                                                  mode = 'max')\n",
    "#Configure dynamic learning rate\n",
    "def step_decay(epoch):\n",
    "    initial_lrate = 0.00002\n",
    "    drop = 0.1\n",
    "    epochs_drop = 10.0\n",
    "    lrate = initial_lrate * math.pow(drop, math.floor((1+epoch)/epochs_drop))\n",
    "    return lrate\n",
    "\n",
    "lr_scheduler = tf.keras.callbacks.LearningRateScheduler(step_decay, verbose=1)"
   ]
  },
  {
   "cell_type": "code",
   "execution_count": 21,
   "id": "4b457f50",
   "metadata": {
    "execution": {
     "iopub.execute_input": "2023-08-11T23:25:06.204337Z",
     "iopub.status.busy": "2023-08-11T23:25:06.203579Z",
     "iopub.status.idle": "2023-08-11T23:25:06.208170Z",
     "shell.execute_reply": "2023-08-11T23:25:06.207330Z"
    },
    "id": "t9YyA-CMalyq",
    "papermill": {
     "duration": 0.025522,
     "end_time": "2023-08-11T23:25:06.210107",
     "exception": false,
     "start_time": "2023-08-11T23:25:06.184585",
     "status": "completed"
    },
    "tags": []
   },
   "outputs": [],
   "source": [
    "callbacks = [early_stopping, checkpointer, lr_scheduler]"
   ]
  },
  {
   "attachments": {},
   "cell_type": "markdown",
   "id": "2177d0a4",
   "metadata": {},
   "source": [
    "Model Training"
   ]
  },
  {
   "cell_type": "code",
   "execution_count": 22,
   "id": "77dd8dad",
   "metadata": {
    "execution": {
     "iopub.execute_input": "2023-08-11T23:25:06.248135Z",
     "iopub.status.busy": "2023-08-11T23:25:06.247385Z",
     "iopub.status.idle": "2023-08-12T00:05:09.619988Z",
     "shell.execute_reply": "2023-08-12T00:05:09.618857Z"
    },
    "id": "h0jl4qCjapIq",
    "outputId": "dd346cff-9940-4b11-dc0f-83150996febd",
    "papermill": {
     "duration": 2403.394442,
     "end_time": "2023-08-12T00:05:09.622667",
     "exception": false,
     "start_time": "2023-08-11T23:25:06.228225",
     "status": "completed"
    },
    "tags": []
   },
   "outputs": [
    {
     "name": "stdout",
     "output_type": "stream",
     "text": [
      "\n",
      "Epoch 1: LearningRateScheduler setting learning rate to 2e-05.\n",
      "Epoch 1/20\n"
     ]
    },
    {
     "name": "stderr",
     "output_type": "stream",
     "text": [
      "/tmp/ipykernel_22/2723391100.py:1: UserWarning: `Model.fit_generator` is deprecated and will be removed in a future version. Please use `Model.fit`, which supports generators.\n",
      "  history = model.fit_generator(train_batches, steps_per_epoch=train_steps,\n"
     ]
    },
    {
     "name": "stdout",
     "output_type": "stream",
     "text": [
      "375/375 [==============================] - ETA: 0s - loss: 0.6647 - accuracy: 0.7141\n",
      "Epoch 1: val_accuracy improved from -inf to 0.84000, saving model to model.hdf5\n",
      "375/375 [==============================] - 158s 279ms/step - loss: 0.6647 - accuracy: 0.7141 - val_loss: 0.4759 - val_accuracy: 0.8400 - lr: 2.0000e-05\n",
      "\n",
      "Epoch 2: LearningRateScheduler setting learning rate to 2e-05.\n",
      "Epoch 2/20\n",
      "375/375 [==============================] - ETA: 0s - loss: 0.5577 - accuracy: 0.8040\n",
      "Epoch 2: val_accuracy did not improve from 0.84000\n",
      "375/375 [==============================] - 102s 272ms/step - loss: 0.5577 - accuracy: 0.8040 - val_loss: 0.7625 - val_accuracy: 0.7400 - lr: 2.0000e-05\n",
      "\n",
      "Epoch 3: LearningRateScheduler setting learning rate to 2e-05.\n",
      "Epoch 3/20\n",
      "375/375 [==============================] - ETA: 0s - loss: 0.5231 - accuracy: 0.8237\n",
      "Epoch 3: val_accuracy did not improve from 0.84000\n",
      "375/375 [==============================] - 101s 268ms/step - loss: 0.5231 - accuracy: 0.8237 - val_loss: 0.9176 - val_accuracy: 0.7800 - lr: 2.0000e-05\n",
      "\n",
      "Epoch 4: LearningRateScheduler setting learning rate to 2e-05.\n",
      "Epoch 4/20\n",
      "375/375 [==============================] - ETA: 0s - loss: 0.4711 - accuracy: 0.8677\n",
      "Epoch 4: val_accuracy did not improve from 0.84000\n",
      "375/375 [==============================] - 101s 269ms/step - loss: 0.4711 - accuracy: 0.8677 - val_loss: 0.8346 - val_accuracy: 0.7000 - lr: 2.0000e-05\n",
      "\n",
      "Epoch 5: LearningRateScheduler setting learning rate to 2e-05.\n",
      "Epoch 5/20\n",
      "375/375 [==============================] - ETA: 0s - loss: 0.4573 - accuracy: 0.8760\n",
      "Epoch 5: val_accuracy did not improve from 0.84000\n",
      "375/375 [==============================] - 101s 269ms/step - loss: 0.4573 - accuracy: 0.8760 - val_loss: 1.1112 - val_accuracy: 0.7600 - lr: 2.0000e-05\n",
      "\n",
      "Epoch 6: LearningRateScheduler setting learning rate to 2e-05.\n",
      "Epoch 6/20\n",
      "375/375 [==============================] - ETA: 0s - loss: 0.4313 - accuracy: 0.8725\n",
      "Epoch 6: val_accuracy did not improve from 0.84000\n",
      "375/375 [==============================] - 101s 269ms/step - loss: 0.4313 - accuracy: 0.8725 - val_loss: 1.2384 - val_accuracy: 0.7400 - lr: 2.0000e-05\n",
      "\n",
      "Epoch 7: LearningRateScheduler setting learning rate to 2e-05.\n",
      "Epoch 7/20\n",
      "375/375 [==============================] - ETA: 0s - loss: 0.4053 - accuracy: 0.8848\n",
      "Epoch 7: val_accuracy improved from 0.84000 to 0.88000, saving model to model.hdf5\n",
      "375/375 [==============================] - 101s 271ms/step - loss: 0.4053 - accuracy: 0.8848 - val_loss: 0.4722 - val_accuracy: 0.8800 - lr: 2.0000e-05\n",
      "\n",
      "Epoch 8: LearningRateScheduler setting learning rate to 2e-05.\n",
      "Epoch 8/20\n",
      "375/375 [==============================] - ETA: 0s - loss: 0.3855 - accuracy: 0.9000\n",
      "Epoch 8: val_accuracy improved from 0.88000 to 0.92000, saving model to model.hdf5\n",
      "375/375 [==============================] - 102s 271ms/step - loss: 0.3855 - accuracy: 0.9000 - val_loss: 0.3688 - val_accuracy: 0.9200 - lr: 2.0000e-05\n",
      "\n",
      "Epoch 9: LearningRateScheduler setting learning rate to 2e-05.\n",
      "Epoch 9/20\n",
      "375/375 [==============================] - ETA: 0s - loss: 0.3594 - accuracy: 0.9155\n",
      "Epoch 9: val_accuracy did not improve from 0.92000\n",
      "375/375 [==============================] - 101s 269ms/step - loss: 0.3594 - accuracy: 0.9155 - val_loss: 0.8440 - val_accuracy: 0.8400 - lr: 2.0000e-05\n",
      "\n",
      "Epoch 10: LearningRateScheduler setting learning rate to 2.0000000000000003e-06.\n",
      "Epoch 10/20\n",
      "375/375 [==============================] - ETA: 0s - loss: 0.3450 - accuracy: 0.9109\n",
      "Epoch 10: val_accuracy did not improve from 0.92000\n",
      "375/375 [==============================] - 101s 269ms/step - loss: 0.3450 - accuracy: 0.9109 - val_loss: 0.5011 - val_accuracy: 0.9000 - lr: 2.0000e-06\n",
      "\n",
      "Epoch 11: LearningRateScheduler setting learning rate to 2.0000000000000003e-06.\n",
      "Epoch 11/20\n",
      "375/375 [==============================] - ETA: 0s - loss: 0.3373 - accuracy: 0.9235\n",
      "Epoch 11: val_accuracy did not improve from 0.92000\n",
      "375/375 [==============================] - 101s 269ms/step - loss: 0.3373 - accuracy: 0.9235 - val_loss: 0.5691 - val_accuracy: 0.8400 - lr: 2.0000e-06\n",
      "\n",
      "Epoch 12: LearningRateScheduler setting learning rate to 2.0000000000000003e-06.\n",
      "Epoch 12/20\n",
      "375/375 [==============================] - ETA: 0s - loss: 0.3408 - accuracy: 0.9195\n",
      "Epoch 12: val_accuracy did not improve from 0.92000\n",
      "375/375 [==============================] - 101s 269ms/step - loss: 0.3408 - accuracy: 0.9195 - val_loss: 0.6944 - val_accuracy: 0.8000 - lr: 2.0000e-06\n",
      "\n",
      "Epoch 13: LearningRateScheduler setting learning rate to 2.0000000000000003e-06.\n",
      "Epoch 13/20\n",
      "375/375 [==============================] - ETA: 0s - loss: 0.3217 - accuracy: 0.9347\n",
      "Epoch 13: val_accuracy did not improve from 0.92000\n",
      "375/375 [==============================] - 101s 269ms/step - loss: 0.3217 - accuracy: 0.9347 - val_loss: 0.4766 - val_accuracy: 0.8600 - lr: 2.0000e-06\n",
      "\n",
      "Epoch 14: LearningRateScheduler setting learning rate to 2.0000000000000003e-06.\n",
      "Epoch 14/20\n",
      "375/375 [==============================] - ETA: 0s - loss: 0.3232 - accuracy: 0.9280\n",
      "Epoch 14: val_accuracy did not improve from 0.92000\n",
      "375/375 [==============================] - 101s 269ms/step - loss: 0.3232 - accuracy: 0.9280 - val_loss: 0.5869 - val_accuracy: 0.8400 - lr: 2.0000e-06\n",
      "\n",
      "Epoch 15: LearningRateScheduler setting learning rate to 2.0000000000000003e-06.\n",
      "Epoch 15/20\n",
      "375/375 [==============================] - ETA: 0s - loss: 0.3281 - accuracy: 0.9227\n",
      "Epoch 15: val_accuracy did not improve from 0.92000\n",
      "375/375 [==============================] - 101s 269ms/step - loss: 0.3281 - accuracy: 0.9227 - val_loss: 0.6526 - val_accuracy: 0.8200 - lr: 2.0000e-06\n",
      "\n",
      "Epoch 16: LearningRateScheduler setting learning rate to 2.0000000000000003e-06.\n",
      "Epoch 16/20\n",
      "375/375 [==============================] - ETA: 0s - loss: 0.3281 - accuracy: 0.9264\n",
      "Epoch 16: val_accuracy did not improve from 0.92000\n",
      "375/375 [==============================] - 101s 269ms/step - loss: 0.3281 - accuracy: 0.9264 - val_loss: 0.3680 - val_accuracy: 0.9000 - lr: 2.0000e-06\n",
      "\n",
      "Epoch 17: LearningRateScheduler setting learning rate to 2.0000000000000003e-06.\n",
      "Epoch 17/20\n",
      "375/375 [==============================] - ETA: 0s - loss: 0.3319 - accuracy: 0.9248\n",
      "Epoch 17: val_accuracy did not improve from 0.92000\n",
      "375/375 [==============================] - 101s 269ms/step - loss: 0.3319 - accuracy: 0.9248 - val_loss: 0.3782 - val_accuracy: 0.8800 - lr: 2.0000e-06\n",
      "\n",
      "Epoch 18: LearningRateScheduler setting learning rate to 2.0000000000000003e-06.\n",
      "Epoch 18/20\n",
      "375/375 [==============================] - ETA: 0s - loss: 0.3219 - accuracy: 0.9397\n",
      "Epoch 18: val_accuracy did not improve from 0.92000\n",
      "375/375 [==============================] - 101s 269ms/step - loss: 0.3219 - accuracy: 0.9397 - val_loss: 0.4554 - val_accuracy: 0.8800 - lr: 2.0000e-06\n",
      "\n",
      "Epoch 19: LearningRateScheduler setting learning rate to 2.0000000000000003e-06.\n",
      "Epoch 19/20\n",
      "375/375 [==============================] - ETA: 0s - loss: 0.3130 - accuracy: 0.9355\n",
      "Epoch 19: val_accuracy did not improve from 0.92000\n",
      "375/375 [==============================] - 101s 270ms/step - loss: 0.3130 - accuracy: 0.9355 - val_loss: 0.5207 - val_accuracy: 0.8400 - lr: 2.0000e-06\n",
      "\n",
      "Epoch 20: LearningRateScheduler setting learning rate to 2.0000000000000004e-07.\n",
      "Epoch 20/20\n",
      "375/375 [==============================] - ETA: 0s - loss: 0.3249 - accuracy: 0.9301\n",
      "Epoch 20: val_accuracy did not improve from 0.92000\n",
      "375/375 [==============================] - 101s 269ms/step - loss: 0.3249 - accuracy: 0.9301 - val_loss: 0.7390 - val_accuracy: 0.8000 - lr: 2.0000e-07\n"
     ]
    }
   ],
   "source": [
    "history = model.fit_generator(train_batches, steps_per_epoch=train_steps,\n",
    "                              validation_data=valid_batches,\n",
    "                              validation_steps=val_steps,\n",
    "                              epochs=20,\n",
    "                              callbacks=callbacks)"
   ]
  },
  {
   "cell_type": "code",
   "execution_count": 23,
   "id": "1b59f943",
   "metadata": {
    "execution": {
     "iopub.execute_input": "2023-08-12T00:05:10.852440Z",
     "iopub.status.busy": "2023-08-12T00:05:10.852057Z",
     "iopub.status.idle": "2023-08-12T00:05:11.511089Z",
     "shell.execute_reply": "2023-08-12T00:05:11.510142Z"
    },
    "id": "1a6c5f39",
    "outputId": "17b96340-ce66-41c8-d26e-dddae545a67e",
    "papermill": {
     "duration": 1.24808,
     "end_time": "2023-08-12T00:05:11.513135",
     "exception": false,
     "start_time": "2023-08-12T00:05:10.265055",
     "status": "completed"
    },
    "tags": []
   },
   "outputs": [
    {
     "data": {
      "image/png": "[encoded data removed]",
      "text/plain": [
       "<Figure size 640x480 with 1 Axes>"
      ]
     },
     "metadata": {},
     "output_type": "display_data"
    },
    {
     "data": {
      "image/png": "[encoded data removed]",
      "text/plain": [
       "<Figure size 640x480 with 1 Axes>"
      ]
     },
     "metadata": {},
     "output_type": "display_data"
    },
    {
     "data": {
      "text/plain": [
       "<Figure size 640x480 with 0 Axes>"
      ]
     },
     "metadata": {},
     "output_type": "display_data"
    }
   ],
   "source": [
    "graph_it(history)"
   ]
  },
  {
   "cell_type": "markdown",
   "id": "5650171e",
   "metadata": {
    "id": "1a1bbbee",
    "papermill": {
     "duration": 0.636019,
     "end_time": "2023-08-12T00:05:12.730410",
     "exception": false,
     "start_time": "2023-08-12T00:05:12.094391",
     "status": "completed"
    },
    "tags": []
   },
   "source": [
    "**Model Evaluation using test data**"
   ]
  },
  {
   "cell_type": "code",
   "execution_count": 24,
   "id": "288ab915",
   "metadata": {
    "execution": {
     "iopub.execute_input": "2023-08-12T00:05:13.898359Z",
     "iopub.status.busy": "2023-08-12T00:05:13.897984Z",
     "iopub.status.idle": "2023-08-12T00:05:36.718168Z",
     "shell.execute_reply": "2023-08-12T00:05:36.717182Z"
    },
    "id": "f7da54c9",
    "outputId": "ecea17ae-4edf-4a36-bf31-2389ab07cc3b",
    "papermill": {
     "duration": 23.408157,
     "end_time": "2023-08-12T00:05:36.720444",
     "exception": false,
     "start_time": "2023-08-12T00:05:13.312287",
     "status": "completed"
    },
    "tags": []
   },
   "outputs": [
    {
     "name": "stdout",
     "output_type": "stream",
     "text": [
      "600/600 [==============================] - 22s 31ms/step\n"
     ]
    },
    {
     "data": {
      "image/png": "[encoded data removed]",
      "text/plain": [
       "<Figure size 640x480 with 2 Axes>"
      ]
     },
     "metadata": {},
     "output_type": "display_data"
    },
    {
     "name": "stdout",
     "output_type": "stream",
     "text": [
      "\n",
      "               precision    recall  f1-score   support\n",
      "\n",
      "           0       0.55      0.80      0.65        90\n",
      "           1       0.96      0.88      0.92       510\n",
      "\n",
      "    accuracy                           0.87       600\n",
      "   macro avg       0.76      0.84      0.79       600\n",
      "weighted avg       0.90      0.87      0.88       600\n",
      "\n",
      "Sensitivity: 0.884 Specificity: 0.8 Precision: 0.9 ROC_AUC_SCORE: 0.894\n",
      "\n"
     ]
    },
    {
     "data": {
      "image/png": "[encoded data removed]",
      "text/plain": [
       "<Figure size 400x400 with 1 Axes>"
      ]
     },
     "metadata": {},
     "output_type": "display_data"
    }
   ],
   "source": [
    "model.load_weights(filepath = 'model.hdf5')\n",
    "test_it(model, test_batches)"
   ]
  },
  {
   "cell_type": "code",
   "execution_count": null,
   "id": "6362f054",
   "metadata": {
    "id": "b0c097c1",
    "papermill": {
     "duration": 0.605602,
     "end_time": "2023-08-12T00:05:37.987831",
     "exception": false,
     "start_time": "2023-08-12T00:05:37.382229",
     "status": "completed"
    },
    "tags": []
   },
   "outputs": [],
   "source": []
  }
 ],
 "metadata": {
  "kernelspec": {
   "display_name": "Python 3",
   "language": "python",
   "name": "python3"
  },
  "language_info": {
   "codemirror_mode": {
    "name": "ipython",
    "version": 3
   },
   "file_extension": ".py",
   "mimetype": "text/x-python",
   "name": "python",
   "nbconvert_exporter": "python",
   "pygments_lexer": "ipython3",
   "version": "3.10.12"
  },
  "papermill": {
   "default_parameters": {},
   "duration": 2499.97507,
   "end_time": "2023-08-12T00:05:41.784045",
   "environment_variables": {},
   "exception": null,
   "input_path": "__notebook__.ipynb",
   "output_path": "__notebook__.ipynb",
   "parameters": {},
   "start_time": "2023-08-11T23:24:01.808975",
   "version": "2.4.0"
  }
 },
 "nbformat": 4,
 "nbformat_minor": 5
}
