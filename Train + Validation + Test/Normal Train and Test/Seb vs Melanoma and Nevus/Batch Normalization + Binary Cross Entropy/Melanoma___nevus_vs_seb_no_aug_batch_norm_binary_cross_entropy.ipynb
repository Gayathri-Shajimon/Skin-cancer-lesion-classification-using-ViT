{
  "cells": [
    {
      "cell_type": "code",
      "execution_count": 1,
      "id": "37d225cc",
      "metadata": {
        "colab": {
          "base_uri": "https://localhost:8080/"
        },
        "id": "37d225cc",
        "outputId": "e6169295-aa0e-40b9-8b1f-4aac56ae8a07"
      },
      "outputs": [
        {
          "name": "stdout",
          "output_type": "stream",
          "text": [
            "Collecting tensorflow_addons\n",
            "  Downloading tensorflow_addons-0.21.0-cp310-cp310-manylinux_2_17_x86_64.manylinux2014_x86_64.whl (612 kB)\n",
            "\u001b[2K     \u001b[90m━━━━━━━━━━━━━━━━━━━━━━━━━━━━━━━━━━━━━━━\u001b[0m \u001b[32m612.1/612.1 kB\u001b[0m \u001b[31m4.6 MB/s\u001b[0m eta \u001b[36m0:00:00\u001b[0m\n",
            "\u001b[?25hRequirement already satisfied: packaging in /usr/local/lib/python3.10/dist-packages (from tensorflow_addons) (23.1)\n",
            "Collecting typeguard<3.0.0,>=2.7 (from tensorflow_addons)\n",
            "  Downloading typeguard-2.13.3-py3-none-any.whl (17 kB)\n",
            "Installing collected packages: typeguard, tensorflow_addons\n",
            "Successfully installed tensorflow_addons-0.21.0 typeguard-2.13.3\n"
          ]
        }
      ],
      "source": [
        "!pip install --quiet vit-keras\n",
        "!pip install tensorflow_addons"
      ]
    },
    {
      "attachments": {},
      "cell_type": "markdown",
      "id": "f0984e02",
      "metadata": {},
      "source": [
        "Mount google drive"
      ]
    },
    {
      "cell_type": "code",
      "execution_count": 2,
      "id": "4dc3645e",
      "metadata": {
        "colab": {
          "base_uri": "https://localhost:8080/"
        },
        "id": "4dc3645e",
        "outputId": "ec179924-7722-421f-a4aa-85f631be954d"
      },
      "outputs": [
        {
          "name": "stdout",
          "output_type": "stream",
          "text": [
            "Mounted at /content/drive\n"
          ]
        }
      ],
      "source": [
        "from google.colab import drive\n",
        "drive.mount('/content/drive')"
      ]
    },
    {
      "cell_type": "code",
      "execution_count": 4,
      "id": "afe143c1",
      "metadata": {
        "colab": {
          "base_uri": "https://localhost:8080/"
        },
        "id": "afe143c1",
        "outputId": "1ab54fae-01df-4b8f-f767-ecbe808344f1"
      },
      "outputs": [
        {
          "name": "stderr",
          "output_type": "stream",
          "text": [
            "/usr/local/lib/python3.10/dist-packages/tensorflow_addons/utils/tfa_eol_msg.py:23: UserWarning: \n",
            "\n",
            "TensorFlow Addons (TFA) has ended development and introduction of new features.\n",
            "TFA has entered a minimal maintenance and release mode until a planned end of life in May 2024.\n",
            "Please modify downstream libraries to take dependencies from other repositories in our TensorFlow community (e.g. Keras, Keras-CV, and Keras-NLP). \n",
            "\n",
            "For more information see: https://github.com/tensorflow/addons/issues/2807 \n",
            "\n",
            "  warnings.warn(\n"
          ]
        }
      ],
      "source": [
        "import matplotlib.pyplot as plt\n",
        "import numpy as np\n",
        "import pandas as pd\n",
        "import os\n",
        "from glob import glob\n",
        "import seaborn as sns\n",
        "from PIL import Image\n",
        "np.random.seed(123)\n",
        "from sklearn.preprocessing import label_binarize\n",
        "from sklearn.metrics import confusion_matrix\n",
        "import itertools\n",
        "import keras\n",
        "from keras import backend as K\n",
        "import tensorflow\n",
        "from tensorflow.keras.layers import Dropout, Dense, LayerNormalization, Flatten\n",
        "from tensorflow.keras.activations import gelu\n",
        "from tensorflow.keras.optimizers import Adam, SGD\n",
        "from tensorflow.keras.metrics import categorical_crossentropy\n",
        "from tensorflow.keras.preprocessing.image import ImageDataGenerator\n",
        "from tensorflow.keras.models import Model\n",
        "from tensorflow.keras.callbacks import EarlyStopping, ReduceLROnPlateau, ModelCheckpoint\n",
        "from vit_keras import vit\n",
        "import tensorflow_addons as tfa\n",
        "import math\n",
        "from sklearn.metrics import confusion_matrix\n",
        "from sklearn.model_selection import train_test_split\n",
        "import itertools\n",
        "import shutil\n",
        "import matplotlib.pyplot as plt\n",
        "from zipfile import ZipFile\n",
        "import time\n",
        "from sklearn.model_selection import StratifiedKFold, KFold\n",
        "from sklearn.metrics import roc_auc_score\n",
        "from sklearn.metrics import  precision_score, recall_score, accuracy_score\n",
        "from sklearn.metrics import roc_curve, auc\n",
        "from sklearn.metrics import classification_report\n",
        "import tensorflow as tf\n",
        "from tensorflow.keras import backend as K"
      ]
    },
    {
      "attachments": {},
      "cell_type": "markdown",
      "id": "cb4f6180",
      "metadata": {},
      "source": [
        "Initializing the ViT Model"
      ]
    },
    {
      "cell_type": "code",
      "execution_count": 5,
      "id": "0d8eb2cb",
      "metadata": {
        "colab": {
          "base_uri": "https://localhost:8080/"
        },
        "id": "0d8eb2cb",
        "outputId": "a5ef6efd-3868-468f-9ba2-36b143ddcefe"
      },
      "outputs": [
        {
          "name": "stdout",
          "output_type": "stream",
          "text": [
            "Downloading data from https://github.com/faustomorales/vit-keras/releases/download/dl/ViT-B_16_imagenet21k+imagenet2012.npz\n",
            "347502902/347502902 [==============================] - 3s 0us/step\n"
          ]
        },
        {
          "name": "stderr",
          "output_type": "stream",
          "text": [
            "/usr/local/lib/python3.10/dist-packages/vit_keras/utils.py:81: UserWarning: Resizing position embeddings from 24, 24 to 14, 14\n",
            "  warnings.warn(\n"
          ]
        }
      ],
      "source": [
        "vit_model = vit.vit_b16(\n",
        "        image_size = 224,\n",
        "        activation = 'softmax',\n",
        "        pretrained = True,\n",
        "        include_top = False,\n",
        "        pretrained_top = False,\n",
        "        classes = 2)"
      ]
    },
    {
      "attachments": {},
      "cell_type": "markdown",
      "id": "ef052b6f",
      "metadata": {},
      "source": [
        "Adding Additional layers on top of ViT Model"
      ]
    },
    {
      "cell_type": "code",
      "execution_count": 6,
      "id": "cc2ced1b",
      "metadata": {
        "colab": {
          "base_uri": "https://localhost:8080/"
        },
        "id": "cc2ced1b",
        "outputId": "931ac95d-1ad2-4be9-a8b8-f89b8a0fcfb0"
      },
      "outputs": [
        {
          "name": "stdout",
          "output_type": "stream",
          "text": [
            "Model: \"vision_transformer\"\n",
            "_________________________________________________________________\n",
            " Layer (type)                Output Shape              Param #   \n",
            "=================================================================\n",
            " vit-b16 (Functional)        (None, 768)               85798656  \n",
            "                                                                 \n",
            " flatten (Flatten)           (None, 768)               0         \n",
            "                                                                 \n",
            " batch_normalization (BatchN  (None, 768)              3072      \n",
            " ormalization)                                                   \n",
            "                                                                 \n",
            " dense (Dense)               (None, 11)                8459      \n",
            "                                                                 \n",
            " batch_normalization_1 (Batc  (None, 11)               44        \n",
            " hNormalization)                                                 \n",
            "                                                                 \n",
            " dense_1 (Dense)             (None, 2)                 24        \n",
            "                                                                 \n",
            "=================================================================\n",
            "Total params: 85,810,255\n",
            "Trainable params: 85,808,697\n",
            "Non-trainable params: 1,558\n",
            "_________________________________________________________________\n"
          ]
        }
      ],
      "source": [
        "model = tf.keras.Sequential([\n",
        "        vit_model,\n",
        "        tf.keras.layers.Flatten(),\n",
        "        tf.keras.layers.BatchNormalization(),\n",
        "        tf.keras.layers.Dense(11, activation = tfa.activations.gelu),\n",
        "        tf.keras.layers.BatchNormalization(),\n",
        "        tf.keras.layers.Dense(2, 'softmax')\n",
        "    ],\n",
        "    name = 'vision_transformer')\n",
        "\n",
        "model.summary()"
      ]
    },
    {
      "attachments": {},
      "cell_type": "markdown",
      "id": "da76efc3",
      "metadata": {},
      "source": [
        "Compiling the model using Binary Cross Entropy"
      ]
    },
    {
      "cell_type": "code",
      "execution_count": 7,
      "id": "f90cf531",
      "metadata": {
        "id": "f90cf531"
      },
      "outputs": [],
      "source": [
        "model.compile(optimizer='adam',loss='binary_crossentropy',metrics=['accuracy'])"
      ]
    },
    {
      "attachments": {},
      "cell_type": "markdown",
      "id": "55463dab",
      "metadata": {},
      "source": [
        "Function for plotting the graph of Train and Validation Accuracy and loss"
      ]
    },
    {
      "cell_type": "code",
      "execution_count": 9,
      "id": "895825d0",
      "metadata": {
        "id": "895825d0"
      },
      "outputs": [],
      "source": [
        "def graph_it(history):\n",
        "  acc = history.history['accuracy']\n",
        "  val_acc = history.history['val_accuracy']\n",
        "  loss = history.history['loss']\n",
        "  val_loss = history.history['val_loss']\n",
        "  epochs = range(len(acc))\n",
        "\n",
        "   #Plot Train and Validation Accuracy\n",
        "  plt.plot(epochs, acc, 'r', label='Training accuracy')\n",
        "  plt.plot(epochs, val_acc, 'b', label='Validation accuracy')\n",
        "  plt.title('Model Accuracy: Training and Validation')\n",
        "  plt.legend(loc=0)\n",
        "  plt.figure()\n",
        "\n",
        "  #Plot Train and Validation Loss\n",
        "  plt.plot(epochs, loss, 'r', label='Training loss')\n",
        "  plt.plot(epochs, val_loss, 'b', label='Validation loss')\n",
        "  plt.title('Training and validation Loss')\n",
        "  plt.legend(loc=0)\n",
        "  plt.figure()\n"
      ]
    },
    {
      "cell_type": "code",
      "execution_count": 10,
      "id": "d4a7c9c8",
      "metadata": {
        "id": "d4a7c9c8"
      },
      "outputs": [],
      "source": [
        "from sklearn.metrics import confusion_matrix, roc_auc_score, classification_report, precision_score, roc_curve, ConfusionMatrixDisplay\n",
        "\n",
        "def test_it(model, test_generator):\n",
        "    test_labels = test_generator.classes\n",
        "\n",
        "    predictions = model.predict(test_generator)\n",
        "    predicted_labels = np.argmax(predictions, axis=1)\n",
        "\n",
        "    cm = confusion_matrix(test_labels, predicted_labels)\n",
        "    disp = ConfusionMatrixDisplay(confusion_matrix=cm)\n",
        "    disp.plot()\n",
        "    plt.show()\n",
        "\n",
        "    roc = roc_auc_score(test_labels, predictions[:, 1])  # Calculate ROC Score\n",
        "\n",
        "    # Calculate confusion matrix \n",
        "    tn, fp, fn, tp = confusion_matrix(test_labels, predicted_labels).ravel()\n",
        "\n",
        "    # Calculate sensitivity and specificity\n",
        "    sensitivity = tp / (tp + fn)\n",
        "    specificity = tn / (tn + fp)\n",
        "\n",
        "    report = classification_report(test_labels, predicted_labels)   #Classification report\n",
        "\n",
        "    precision = precision_score(test_labels, predicted_labels, average='weighted')  #Calculate Precision score\n",
        "\n",
        "    print(\"\\n\", report)\n",
        "    print(f\"Sensitivity: {round(sensitivity, 3)} Specificity: {round(specificity, 3)} Precision: {round(precision, 3)} ROC_AUC_SCORE: {round(roc, 3)}\\n\")\n",
        "\n",
        "    # Plot AUC-ROC curve\n",
        "    fpr, tpr, thresholds = roc_curve(test_labels, predictions[:, 1])\n",
        "    plt.figure(figsize=(4, 4))\n",
        "    plt.plot(fpr, tpr, label='ROC curve (area = %0.2f)' % roc)\n",
        "    plt.plot([0, 1], [0, 1], 'k--')  # Random guessing line\n",
        "    plt.xlim([0.0, 1.0])\n",
        "    plt.ylim([0.0, 1.0])\n",
        "    plt.xlabel('False Positive Rate')\n",
        "    plt.ylabel('True Positive Rate')\n",
        "    plt.title('Receiver Operating Characteristic (ROC) Curve')\n",
        "    plt.legend(loc=\"lower right\")\n",
        "    plt.show()"
      ]
    },
    {
      "cell_type": "code",
      "execution_count": 11,
      "id": "9671fe3a",
      "metadata": {
        "id": "9671fe3a"
      },
      "outputs": [],
      "source": [
        "# Set the directories for the data for task1 (SEB VS NEVUS)\n",
        "train_dir = \"/content/drive/MyDrive/msc_project/train/task2\"\n",
        "test_dir = \"/content/drive/MyDrive/msc_project/test/task2\"\n",
        "val_dir = \"/content/drive/MyDrive/msc_project/val/task2\""
      ]
    },
    {
      "cell_type": "code",
      "execution_count": 12,
      "id": "e9e4b21a",
      "metadata": {
        "id": "e9e4b21a"
      },
      "outputs": [],
      "source": [
        "# Define the data generator\n",
        "datagen = ImageDataGenerator(\n",
        "    preprocessing_function= \\\n",
        "    tensorflow.keras.applications.mobilenet.preprocess_input)\n",
        "\n",
        "image_size = (224, 224)\n",
        "batch = 32"
      ]
    },
    {
      "attachments": {},
      "cell_type": "markdown",
      "id": "60883ffb",
      "metadata": {},
      "source": [
        "Creating batches to improve memory optimization"
      ]
    },
    {
      "cell_type": "code",
      "execution_count": 14,
      "id": "7ATMKowsaH4V",
      "metadata": {
        "colab": {
          "base_uri": "https://localhost:8080/"
        },
        "id": "7ATMKowsaH4V",
        "outputId": "34eacc87-86c5-4547-eca7-03fa34b9fa45"
      },
      "outputs": [
        {
          "name": "stdout",
          "output_type": "stream",
          "text": [
            "Found 2000 images belonging to 2 classes.\n",
            "Found 150 images belonging to 2 classes.\n",
            "Found 600 images belonging to 2 classes.\n"
          ]
        }
      ],
      "source": [
        "train_batches = datagen.flow_from_directory(train_dir,\n",
        "                                            target_size=(image_size),\n",
        "                                            batch_size=10)\n",
        "\n",
        "valid_batches = datagen.flow_from_directory(val_dir,\n",
        "                                            target_size=(image_size),\n",
        "                                            batch_size=10)\n",
        "\n",
        "# Note: shuffle=False causes the test dataset to not be shuffled\n",
        "test_batches = datagen.flow_from_directory(test_dir,\n",
        "                                            target_size=(image_size),\n",
        "                                            batch_size=1,\n",
        "                                            shuffle=False)"
      ]
    },
    {
      "cell_type": "code",
      "execution_count": 15,
      "id": "2GDPYOeaVw_n",
      "metadata": {
        "colab": {
          "base_uri": "https://localhost:8080/"
        },
        "id": "2GDPYOeaVw_n",
        "outputId": "e148aec2-c404-4484-b5be-c78548d65d0d"
      },
      "outputs": [
        {
          "data": {
            "text/plain": [
              "{'Seb': 0, 'nevus_mel': 1}"
            ]
          },
          "execution_count": 15,
          "metadata": {},
          "output_type": "execute_result"
        }
      ],
      "source": [
        "train_batches.class_indices"
      ]
    },
    {
      "cell_type": "code",
      "execution_count": 16,
      "id": "KiRi8zD6ZIyI",
      "metadata": {
        "colab": {
          "base_uri": "https://localhost:8080/"
        },
        "id": "KiRi8zD6ZIyI",
        "outputId": "f3562ed5-6436-492c-9ac9-8706f03c2fee"
      },
      "outputs": [
        {
          "data": {
            "text/plain": [
              "{'Seb': 0, 'nevus_mel': 1}"
            ]
          },
          "execution_count": 16,
          "metadata": {},
          "output_type": "execute_result"
        }
      ],
      "source": [
        "valid_batches.class_indices"
      ]
    },
    {
      "cell_type": "code",
      "execution_count": 17,
      "id": "kunFVJitV2gZ",
      "metadata": {
        "colab": {
          "base_uri": "https://localhost:8080/"
        },
        "id": "kunFVJitV2gZ",
        "outputId": "3ca39ef1-de2c-4974-dc7a-232d636d7fda"
      },
      "outputs": [
        {
          "name": "stdout",
          "output_type": "stream",
          "text": [
            "Number of images per class: Counter({1: 1746, 0: 254})\n"
          ]
        }
      ],
      "source": [
        "from collections import Counter\n",
        "\n",
        "class_counts = Counter(train_batches.classes)\n",
        "print(\"Number of images per class:\", class_counts)\n"
      ]
    },
    {
      "cell_type": "code",
      "execution_count": 18,
      "id": "pZlJ57JkV_Pp",
      "metadata": {
        "colab": {
          "base_uri": "https://localhost:8080/"
        },
        "id": "pZlJ57JkV_Pp",
        "outputId": "28bc9427-3d98-4557-dc9a-ce843493362e"
      },
      "outputs": [
        {
          "name": "stdout",
          "output_type": "stream",
          "text": [
            "Number of images per class: {'Seb': 254, 'nevus_mel': 1746}\n"
          ]
        }
      ],
      "source": [
        "class_names = list(train_batches.class_indices.keys())\n",
        "class_counts_with_names = {class_names[idx]: count for idx, count in class_counts.items()}\n",
        "print(\"Number of images per class:\", class_counts_with_names)"
      ]
    },
    {
      "cell_type": "code",
      "execution_count": 19,
      "id": "FjZnz8QRO8xD",
      "metadata": {
        "id": "FjZnz8QRO8xD"
      },
      "outputs": [],
      "source": [
        "train_steps = np.ceil(train_batches.n / batch)\n",
        "test_steps = np.ceil(test_batches.n / batch)\n",
        "val_steps = np.ceil(valid_batches.n / batch)"
      ]
    },
    {
      "attachments": {},
      "cell_type": "markdown",
      "id": "acfd1d28",
      "metadata": {},
      "source": [
        "Configuration of Early stopping criteria, learning rate"
      ]
    },
    {
      "cell_type": "code",
      "execution_count": 20,
      "id": "lQnHiksDahxQ",
      "metadata": {
        "id": "lQnHiksDahxQ"
      },
      "outputs": [],
      "source": [
        "early_stopping = EarlyStopping(monitor='val_loss',patience=8)   #Configuring early stopping criteria\n",
        "\n",
        "checkpointer = tf.keras.callbacks.ModelCheckpoint(filepath = 'model.hdf5',\n",
        "                                                  monitor = 'val_accuracy',\n",
        "                                                  verbose = 1,\n",
        "                                                  save_best_only = True,\n",
        "                                                  save_weights_only = True,\n",
        "                                                  mode = 'max')\n",
        "#Configure dynamic learning rate\n",
        "def step_decay(epoch):\n",
        "    initial_lrate = 0.00002\n",
        "    drop = 0.1\n",
        "    epochs_drop = 10.0\n",
        "    lrate = initial_lrate * math.pow(drop, math.floor((1+epoch)/epochs_drop))\n",
        "    return lrate\n",
        "\n",
        "lr_scheduler = tf.keras.callbacks.LearningRateScheduler(step_decay, verbose=1)"
      ]
    },
    {
      "cell_type": "code",
      "execution_count": 21,
      "id": "t9YyA-CMalyq",
      "metadata": {
        "id": "t9YyA-CMalyq"
      },
      "outputs": [],
      "source": [
        "callbacks = [early_stopping, checkpointer, lr_scheduler]"
      ]
    },
    {
      "attachments": {},
      "cell_type": "markdown",
      "id": "844e5924",
      "metadata": {},
      "source": [
        "Model Training"
      ]
    },
    {
      "cell_type": "code",
      "execution_count": 22,
      "id": "h0jl4qCjapIq",
      "metadata": {
        "colab": {
          "base_uri": "https://localhost:8080/"
        },
        "id": "h0jl4qCjapIq",
        "outputId": "dd346cff-9940-4b11-dc0f-83150996febd"
      },
      "outputs": [
        {
          "name": "stderr",
          "output_type": "stream",
          "text": [
            "<ipython-input-22-d689b2d83819>:1: UserWarning: `Model.fit_generator` is deprecated and will be removed in a future version. Please use `Model.fit`, which supports generators.\n",
            "  history = model.fit_generator(train_batches, steps_per_epoch=train_steps,\n"
          ]
        },
        {
          "name": "stdout",
          "output_type": "stream",
          "text": [
            "\n",
            "Epoch 1: LearningRateScheduler setting learning rate to 2e-05.\n",
            "Epoch 1/20\n",
            "63/63 [==============================] - ETA: 0s - loss: 0.7793 - accuracy: 0.5651\n",
            "Epoch 1: val_accuracy improved from -inf to 0.76000, saving model to model.hdf5\n",
            "63/63 [==============================] - 172s 2s/step - loss: 0.7793 - accuracy: 0.5651 - val_loss: 0.5508 - val_accuracy: 0.7600 - lr: 2.0000e-05\n",
            "\n",
            "Epoch 2: LearningRateScheduler setting learning rate to 2e-05.\n",
            "Epoch 2/20\n",
            "63/63 [==============================] - ETA: 0s - loss: 0.7142 - accuracy: 0.5984\n",
            "Epoch 2: val_accuracy improved from 0.76000 to 0.78000, saving model to model.hdf5\n",
            "63/63 [==============================] - 76s 1s/step - loss: 0.7142 - accuracy: 0.5984 - val_loss: 0.5581 - val_accuracy: 0.7800 - lr: 2.0000e-05\n",
            "\n",
            "Epoch 3: LearningRateScheduler setting learning rate to 2e-05.\n",
            "Epoch 3/20\n",
            "63/63 [==============================] - ETA: 0s - loss: 0.6443 - accuracy: 0.6778\n",
            "Epoch 3: val_accuracy improved from 0.78000 to 0.88000, saving model to model.hdf5\n",
            "63/63 [==============================] - 51s 815ms/step - loss: 0.6443 - accuracy: 0.6778 - val_loss: 0.5327 - val_accuracy: 0.8800 - lr: 2.0000e-05\n",
            "\n",
            "Epoch 4: LearningRateScheduler setting learning rate to 2e-05.\n",
            "Epoch 4/20\n",
            "63/63 [==============================] - ETA: 0s - loss: 0.6571 - accuracy: 0.6714\n",
            "Epoch 4: val_accuracy did not improve from 0.88000\n",
            "63/63 [==============================] - 39s 613ms/step - loss: 0.6571 - accuracy: 0.6714 - val_loss: 0.4692 - val_accuracy: 0.8400 - lr: 2.0000e-05\n",
            "\n",
            "Epoch 5: LearningRateScheduler setting learning rate to 2e-05.\n",
            "Epoch 5/20\n",
            "63/63 [==============================] - ETA: 0s - loss: 0.6162 - accuracy: 0.7254\n",
            "Epoch 5: val_accuracy did not improve from 0.88000\n",
            "63/63 [==============================] - 34s 538ms/step - loss: 0.6162 - accuracy: 0.7254 - val_loss: 0.5906 - val_accuracy: 0.7600 - lr: 2.0000e-05\n",
            "\n",
            "Epoch 6: LearningRateScheduler setting learning rate to 2e-05.\n",
            "Epoch 6/20\n",
            "63/63 [==============================] - ETA: 0s - loss: 0.5966 - accuracy: 0.7429\n",
            "Epoch 6: val_accuracy did not improve from 0.88000\n",
            "63/63 [==============================] - 32s 510ms/step - loss: 0.5966 - accuracy: 0.7429 - val_loss: 0.4634 - val_accuracy: 0.8000 - lr: 2.0000e-05\n",
            "\n",
            "Epoch 7: LearningRateScheduler setting learning rate to 2e-05.\n",
            "Epoch 7/20\n",
            "63/63 [==============================] - ETA: 0s - loss: 0.5987 - accuracy: 0.7556\n",
            "Epoch 7: val_accuracy did not improve from 0.88000\n",
            "63/63 [==============================] - 32s 500ms/step - loss: 0.5987 - accuracy: 0.7556 - val_loss: 0.6452 - val_accuracy: 0.7400 - lr: 2.0000e-05\n",
            "\n",
            "Epoch 8: LearningRateScheduler setting learning rate to 2e-05.\n",
            "Epoch 8/20\n",
            "63/63 [==============================] - ETA: 0s - loss: 0.5797 - accuracy: 0.7683\n",
            "Epoch 8: val_accuracy did not improve from 0.88000\n",
            "63/63 [==============================] - 31s 492ms/step - loss: 0.5797 - accuracy: 0.7683 - val_loss: 0.4254 - val_accuracy: 0.8600 - lr: 2.0000e-05\n",
            "\n",
            "Epoch 9: LearningRateScheduler setting learning rate to 2e-05.\n",
            "Epoch 9/20\n",
            "63/63 [==============================] - ETA: 0s - loss: 0.5752 - accuracy: 0.7921\n",
            "Epoch 9: val_accuracy did not improve from 0.88000\n",
            "63/63 [==============================] - 30s 482ms/step - loss: 0.5752 - accuracy: 0.7921 - val_loss: 0.4081 - val_accuracy: 0.8800 - lr: 2.0000e-05\n",
            "\n",
            "Epoch 10: LearningRateScheduler setting learning rate to 2.0000000000000003e-06.\n",
            "Epoch 10/20\n",
            "63/63 [==============================] - ETA: 0s - loss: 0.5597 - accuracy: 0.7778\n",
            "Epoch 10: val_accuracy did not improve from 0.88000\n",
            "63/63 [==============================] - 31s 490ms/step - loss: 0.5597 - accuracy: 0.7778 - val_loss: 0.5073 - val_accuracy: 0.8800 - lr: 2.0000e-06\n",
            "\n",
            "Epoch 11: LearningRateScheduler setting learning rate to 2.0000000000000003e-06.\n",
            "Epoch 11/20\n",
            "63/63 [==============================] - ETA: 0s - loss: 0.5220 - accuracy: 0.8270\n",
            "Epoch 11: val_accuracy did not improve from 0.88000\n",
            "63/63 [==============================] - 31s 487ms/step - loss: 0.5220 - accuracy: 0.8270 - val_loss: 0.5161 - val_accuracy: 0.8200 - lr: 2.0000e-06\n",
            "\n",
            "Epoch 12: LearningRateScheduler setting learning rate to 2.0000000000000003e-06.\n",
            "Epoch 12/20\n",
            "63/63 [==============================] - ETA: 0s - loss: 0.5645 - accuracy: 0.8000\n",
            "Epoch 12: val_accuracy improved from 0.88000 to 0.92000, saving model to model.hdf5\n",
            "63/63 [==============================] - 32s 506ms/step - loss: 0.5645 - accuracy: 0.8000 - val_loss: 0.4172 - val_accuracy: 0.9200 - lr: 2.0000e-06\n",
            "\n",
            "Epoch 13: LearningRateScheduler setting learning rate to 2.0000000000000003e-06.\n",
            "Epoch 13/20\n",
            "63/63 [==============================] - ETA: 0s - loss: 0.5293 - accuracy: 0.8063\n",
            "Epoch 13: val_accuracy did not improve from 0.92000\n",
            "63/63 [==============================] - 31s 488ms/step - loss: 0.5293 - accuracy: 0.8063 - val_loss: 0.4280 - val_accuracy: 0.9200 - lr: 2.0000e-06\n",
            "\n",
            "Epoch 14: LearningRateScheduler setting learning rate to 2.0000000000000003e-06.\n",
            "Epoch 14/20\n",
            "63/63 [==============================] - ETA: 0s - loss: 0.5369 - accuracy: 0.8032\n",
            "Epoch 14: val_accuracy did not improve from 0.92000\n",
            "63/63 [==============================] - 31s 494ms/step - loss: 0.5369 - accuracy: 0.8032 - val_loss: 0.5334 - val_accuracy: 0.8400 - lr: 2.0000e-06\n",
            "\n",
            "Epoch 15: LearningRateScheduler setting learning rate to 2.0000000000000003e-06.\n",
            "Epoch 15/20\n",
            "63/63 [==============================] - ETA: 0s - loss: 0.5250 - accuracy: 0.8206\n",
            "Epoch 15: val_accuracy did not improve from 0.92000\n",
            "63/63 [==============================] - 30s 478ms/step - loss: 0.5250 - accuracy: 0.8206 - val_loss: 0.5163 - val_accuracy: 0.8400 - lr: 2.0000e-06\n",
            "\n",
            "Epoch 16: LearningRateScheduler setting learning rate to 2.0000000000000003e-06.\n",
            "Epoch 16/20\n",
            "63/63 [==============================] - ETA: 0s - loss: 0.5359 - accuracy: 0.7952\n",
            "Epoch 16: val_accuracy did not improve from 0.92000\n",
            "63/63 [==============================] - 30s 477ms/step - loss: 0.5359 - accuracy: 0.7952 - val_loss: 0.4500 - val_accuracy: 0.9000 - lr: 2.0000e-06\n",
            "\n",
            "Epoch 17: LearningRateScheduler setting learning rate to 2.0000000000000003e-06.\n",
            "Epoch 17/20\n",
            "63/63 [==============================] - ETA: 0s - loss: 0.5417 - accuracy: 0.7905\n",
            "Epoch 17: val_accuracy improved from 0.92000 to 0.94000, saving model to model.hdf5\n",
            "63/63 [==============================] - 32s 500ms/step - loss: 0.5417 - accuracy: 0.7905 - val_loss: 0.3337 - val_accuracy: 0.9400 - lr: 2.0000e-06\n",
            "\n",
            "Epoch 18: LearningRateScheduler setting learning rate to 2.0000000000000003e-06.\n",
            "Epoch 18/20\n",
            "63/63 [==============================] - ETA: 0s - loss: 0.5396 - accuracy: 0.8048\n",
            "Epoch 18: val_accuracy did not improve from 0.94000\n",
            "63/63 [==============================] - 30s 481ms/step - loss: 0.5396 - accuracy: 0.8048 - val_loss: 0.4422 - val_accuracy: 0.9200 - lr: 2.0000e-06\n",
            "\n",
            "Epoch 19: LearningRateScheduler setting learning rate to 2.0000000000000003e-06.\n",
            "Epoch 19/20\n",
            "63/63 [==============================] - ETA: 0s - loss: 0.5083 - accuracy: 0.8111\n",
            "Epoch 19: val_accuracy did not improve from 0.94000\n",
            "63/63 [==============================] - 30s 483ms/step - loss: 0.5083 - accuracy: 0.8111 - val_loss: 0.4730 - val_accuracy: 0.8600 - lr: 2.0000e-06\n",
            "\n",
            "Epoch 20: LearningRateScheduler setting learning rate to 2.0000000000000004e-07.\n",
            "Epoch 20/20\n",
            "63/63 [==============================] - ETA: 0s - loss: 0.5496 - accuracy: 0.8127\n",
            "Epoch 20: val_accuracy did not improve from 0.94000\n",
            "63/63 [==============================] - 30s 476ms/step - loss: 0.5496 - accuracy: 0.8127 - val_loss: 0.3650 - val_accuracy: 0.9000 - lr: 2.0000e-07\n"
          ]
        }
      ],
      "source": [
        "history = model.fit_generator(train_batches, steps_per_epoch=train_steps,\n",
        "                              validation_data=valid_batches,\n",
        "                              validation_steps=val_steps,\n",
        "                              epochs=20,\n",
        "                              callbacks=callbacks)"
      ]
    },
    {
      "cell_type": "code",
      "execution_count": 24,
      "id": "1a6c5f39",
      "metadata": {
        "colab": {
          "base_uri": "https://localhost:8080/",
          "height": 904
        },
        "id": "1a6c5f39",
        "outputId": "17b96340-ce66-41c8-d26e-dddae545a67e"
      },
      "outputs": [
        {
          "data": {
            "image/png": "[encoded data removed]",
            "text/plain": [
              "<Figure size 640x480 with 1 Axes>"
            ]
          },
          "metadata": {},
          "output_type": "display_data"
        },
        {
          "data": {
            "image/png": "[encoded data removed]",
            "text/plain": [
              "<Figure size 640x480 with 1 Axes>"
            ]
          },
          "metadata": {},
          "output_type": "display_data"
        },
        {
          "data": {
            "text/plain": [
              "<Figure size 640x480 with 0 Axes>"
            ]
          },
          "metadata": {},
          "output_type": "display_data"
        }
      ],
      "source": [
        "graph_it(history)"
      ]
    },
    {
      "cell_type": "markdown",
      "id": "1a1bbbee",
      "metadata": {
        "id": "1a1bbbee"
      },
      "source": [
        "**Model Evaluation using test data**"
      ]
    },
    {
      "cell_type": "code",
      "execution_count": 25,
      "id": "f7da54c9",
      "metadata": {
        "colab": {
          "base_uri": "https://localhost:8080/",
          "height": 1000
        },
        "id": "f7da54c9",
        "outputId": "ecea17ae-4edf-4a36-bf31-2389ab07cc3b"
      },
      "outputs": [
        {
          "name": "stdout",
          "output_type": "stream",
          "text": [
            "600/600 [==============================] - 109s 176ms/step\n"
          ]
        },
        {
          "data": {
            "image/png": "[encoded data removed]",
            "text/plain": [
              "<Figure size 640x480 with 2 Axes>"
            ]
          },
          "metadata": {},
          "output_type": "display_data"
        },
        {
          "name": "stdout",
          "output_type": "stream",
          "text": [
            "\n",
            "               precision    recall  f1-score   support\n",
            "\n",
            "           0       0.38      0.88      0.53        90\n",
            "           1       0.97      0.75      0.84       510\n",
            "\n",
            "    accuracy                           0.77       600\n",
            "   macro avg       0.67      0.81      0.69       600\n",
            "weighted avg       0.88      0.77      0.80       600\n",
            "\n",
            "Sensitivity: 0.745 Specificity: 0.878 Precision: 0.883 ROC_AUC_SCORE: 0.894\n",
            "\n"
          ]
        },
        {
          "data": {
            "image/png": "[encoded data removed]",
            "text/plain": [
              "<Figure size 400x400 with 1 Axes>"
            ]
          },
          "metadata": {},
          "output_type": "display_data"
        }
      ],
      "source": [
        "model.load_weights(filepath = 'model.hdf5')\n",
        "test_it(model, test_batches)"
      ]
    },
    {
      "cell_type": "code",
      "execution_count": 25,
      "id": "b0c097c1",
      "metadata": {
        "id": "b0c097c1"
      },
      "outputs": [],
      "source": []
    }
  ],
  "metadata": {
    "accelerator": "GPU",
    "colab": {
      "gpuType": "T4",
      "provenance": []
    },
    "kernelspec": {
      "display_name": "Python 3",
      "name": "python3"
    },
    "language_info": {
      "codemirror_mode": {
        "name": "ipython",
        "version": 3
      },
      "file_extension": ".py",
      "mimetype": "text/x-python",
      "name": "python",
      "nbconvert_exporter": "python",
      "pygments_lexer": "ipython3",
      "version": "3.10.12"
    },
    "papermill": {
      "default_parameters": {},
      "duration": 6543.181713,
      "end_time": "2023-08-10T12:04:30.031582",
      "environment_variables": {},
      "exception": null,
      "input_path": "__notebook__.ipynb",
      "output_path": "__notebook__.ipynb",
      "parameters": {},
      "start_time": "2023-08-10T10:15:26.849869",
      "version": "2.4.0"
    }
  },
  "nbformat": 4,
  "nbformat_minor": 5
}
