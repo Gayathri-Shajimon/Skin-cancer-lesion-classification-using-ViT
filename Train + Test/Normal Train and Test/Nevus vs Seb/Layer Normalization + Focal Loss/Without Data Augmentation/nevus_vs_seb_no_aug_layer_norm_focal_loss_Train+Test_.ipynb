{
  "cells": [
    {
      "cell_type": "code",
      "execution_count": 1,
      "id": "37d225cc",
      "metadata": {
        "colab": {
          "base_uri": "https://localhost:8080/"
        },
        "id": "37d225cc",
        "outputId": "71c6ca82-62e2-4476-8103-4df3c75eade7"
      },
      "outputs": [
        {
          "name": "stdout",
          "output_type": "stream",
          "text": [
            "Collecting tensorflow_addons\n",
            "  Downloading tensorflow_addons-0.21.0-cp310-cp310-manylinux_2_17_x86_64.manylinux2014_x86_64.whl (612 kB)\n",
            "\u001b[2K     \u001b[90m━━━━━━━━━━━━━━━━━━━━━━━━━━━━━━━━━━━━━━━\u001b[0m \u001b[32m612.1/612.1 kB\u001b[0m \u001b[31m5.4 MB/s\u001b[0m eta \u001b[36m0:00:00\u001b[0m\n",
            "\u001b[?25hRequirement already satisfied: packaging in /usr/local/lib/python3.10/dist-packages (from tensorflow_addons) (23.1)\n",
            "Collecting typeguard<3.0.0,>=2.7 (from tensorflow_addons)\n",
            "  Downloading typeguard-2.13.3-py3-none-any.whl (17 kB)\n",
            "Installing collected packages: typeguard, tensorflow_addons\n",
            "Successfully installed tensorflow_addons-0.21.0 typeguard-2.13.3\n"
          ]
        }
      ],
      "source": [
        "!pip install --quiet vit-keras\n",
        "!pip install tensorflow_addons"
      ]
    },
    {
      "attachments": {},
      "cell_type": "markdown",
      "id": "c5792a5c",
      "metadata": {},
      "source": [
        "Mount google drive"
      ]
    },
    {
      "cell_type": "code",
      "execution_count": 2,
      "id": "4dc3645e",
      "metadata": {
        "colab": {
          "base_uri": "https://localhost:8080/"
        },
        "id": "4dc3645e",
        "outputId": "c1db6520-5011-4f53-9556-4e0f7b65713e"
      },
      "outputs": [
        {
          "name": "stdout",
          "output_type": "stream",
          "text": [
            "Mounted at /content/drive\n"
          ]
        }
      ],
      "source": [
        "from google.colab import drive\n",
        "drive.mount('/content/drive')"
      ]
    },
    {
      "cell_type": "code",
      "execution_count": 4,
      "id": "afe143c1",
      "metadata": {
        "colab": {
          "base_uri": "https://localhost:8080/"
        },
        "id": "afe143c1",
        "outputId": "49a1b550-f93b-4d1b-9ca7-fa4b17afe054"
      },
      "outputs": [
        {
          "name": "stderr",
          "output_type": "stream",
          "text": [
            "/usr/local/lib/python3.10/dist-packages/tensorflow_addons/utils/tfa_eol_msg.py:23: UserWarning: \n",
            "\n",
            "TensorFlow Addons (TFA) has ended development and introduction of new features.\n",
            "TFA has entered a minimal maintenance and release mode until a planned end of life in May 2024.\n",
            "Please modify downstream libraries to take dependencies from other repositories in our TensorFlow community (e.g. Keras, Keras-CV, and Keras-NLP). \n",
            "\n",
            "For more information see: https://github.com/tensorflow/addons/issues/2807 \n",
            "\n",
            "  warnings.warn(\n"
          ]
        }
      ],
      "source": [
        "import matplotlib.pyplot as plt\n",
        "import numpy as np\n",
        "import pandas as pd\n",
        "import os\n",
        "from glob import glob\n",
        "import seaborn as sns\n",
        "from PIL import Image\n",
        "np.random.seed(123)\n",
        "from sklearn.preprocessing import label_binarize\n",
        "from sklearn.metrics import confusion_matrix\n",
        "import itertools\n",
        "import keras\n",
        "from keras import backend as K\n",
        "import tensorflow\n",
        "from tensorflow.keras.layers import Dropout, Dense, LayerNormalization, Flatten\n",
        "from tensorflow.keras.activations import gelu\n",
        "from tensorflow.keras.optimizers import Adam, SGD\n",
        "from tensorflow.keras.metrics import categorical_crossentropy\n",
        "from tensorflow.keras.preprocessing.image import ImageDataGenerator\n",
        "from tensorflow.keras.models import Model\n",
        "from tensorflow.keras.callbacks import EarlyStopping, ReduceLROnPlateau, ModelCheckpoint\n",
        "from vit_keras import vit\n",
        "import tensorflow_addons as tfa\n",
        "import math\n",
        "from sklearn.metrics import confusion_matrix\n",
        "from sklearn.model_selection import train_test_split\n",
        "import itertools\n",
        "import shutil\n",
        "import matplotlib.pyplot as plt\n",
        "from zipfile import ZipFile\n",
        "import time\n",
        "from sklearn.model_selection import StratifiedKFold, KFold\n",
        "from sklearn.metrics import roc_auc_score\n",
        "from sklearn.metrics import  precision_score, recall_score, accuracy_score\n",
        "from sklearn.metrics import roc_curve, auc\n",
        "from sklearn.metrics import classification_report\n",
        "import tensorflow as tf\n",
        "from tensorflow.keras import backend as K"
      ]
    },
    {
      "attachments": {},
      "cell_type": "markdown",
      "id": "b4e27286",
      "metadata": {},
      "source": [
        "Initializing the ViT Model"
      ]
    },
    {
      "cell_type": "code",
      "execution_count": 5,
      "id": "0d8eb2cb",
      "metadata": {
        "colab": {
          "base_uri": "https://localhost:8080/"
        },
        "id": "0d8eb2cb",
        "outputId": "0e3cbec0-8556-4367-8309-6bb974323374"
      },
      "outputs": [
        {
          "name": "stdout",
          "output_type": "stream",
          "text": [
            "Downloading data from https://github.com/faustomorales/vit-keras/releases/download/dl/ViT-B_16_imagenet21k+imagenet2012.npz\n",
            "347502902/347502902 [==============================] - 4s 0us/step\n"
          ]
        },
        {
          "name": "stderr",
          "output_type": "stream",
          "text": [
            "/usr/local/lib/python3.10/dist-packages/vit_keras/utils.py:81: UserWarning: Resizing position embeddings from 24, 24 to 14, 14\n",
            "  warnings.warn(\n"
          ]
        }
      ],
      "source": [
        "vit_model = vit.vit_b16(\n",
        "        image_size = 224,\n",
        "        activation = 'softmax',\n",
        "        pretrained = True,\n",
        "        include_top = False,\n",
        "        pretrained_top = False,\n",
        "        classes = 2)"
      ]
    },
    {
      "attachments": {},
      "cell_type": "markdown",
      "id": "5ad006c6",
      "metadata": {},
      "source": [
        "Adding Additional layers on top of ViT Model"
      ]
    },
    {
      "cell_type": "code",
      "execution_count": 6,
      "id": "cc2ced1b",
      "metadata": {
        "colab": {
          "base_uri": "https://localhost:8080/"
        },
        "id": "cc2ced1b",
        "outputId": "a8dac243-fd95-434e-a305-2e515b10df21"
      },
      "outputs": [
        {
          "name": "stdout",
          "output_type": "stream",
          "text": [
            "Model: \"vision_transformer\"\n",
            "_________________________________________________________________\n",
            " Layer (type)                Output Shape              Param #   \n",
            "=================================================================\n",
            " vit-b16 (Functional)        (None, 768)               85798656  \n",
            "                                                                 \n",
            " flatten (Flatten)           (None, 768)               0         \n",
            "                                                                 \n",
            " dense (Dense)               (None, 128)               98432     \n",
            "                                                                 \n",
            " dropout (Dropout)           (None, 128)               0         \n",
            "                                                                 \n",
            " layer_normalization (LayerN  (None, 128)              256       \n",
            " ormalization)                                                   \n",
            "                                                                 \n",
            " dense_1 (Dense)             (None, 32)                4128      \n",
            "                                                                 \n",
            " dropout_1 (Dropout)         (None, 32)                0         \n",
            "                                                                 \n",
            " layer_normalization_1 (Laye  (None, 32)               64        \n",
            " rNormalization)                                                 \n",
            "                                                                 \n",
            " dense_2 (Dense)             (None, 2)                 66        \n",
            "                                                                 \n",
            "=================================================================\n",
            "Total params: 85,901,602\n",
            "Trainable params: 85,901,602\n",
            "Non-trainable params: 0\n",
            "_________________________________________________________________\n"
          ]
        }
      ],
      "source": [
        "model = tensorflow.keras.Sequential([\n",
        "    vit_model,\n",
        "    Flatten(),\n",
        "    Dense(128, activation=gelu),\n",
        "    Dropout(0.1),\n",
        "    LayerNormalization(epsilon=.000002),\n",
        "    Dense(32, activation=gelu),\n",
        "    Dropout(0.1),\n",
        "    LayerNormalization(epsilon=.000002),\n",
        "    Dense(2, activation='softmax')\n",
        "], name='vision_transformer')\n",
        "\n",
        "model.summary()"
      ]
    },
    {
      "attachments": {},
      "cell_type": "markdown",
      "id": "7bc9cd0b",
      "metadata": {},
      "source": [
        "Compiling the model using Focal Loss"
      ]
    },
    {
      "cell_type": "code",
      "execution_count": 7,
      "id": "f90cf531",
      "metadata": {
        "id": "f90cf531"
      },
      "outputs": [],
      "source": [
        "def focal_loss(gamma=2, alpha=0.5):\n",
        "    def focal_loss_fn(y_true, y_pred):\n",
        "        y_pred = K.clip(y_pred, K.epsilon(), 1.0 - K.epsilon())\n",
        "        focal_loss = -alpha * y_true * K.pow(1.0 - y_pred, gamma) * K.log(y_pred)\n",
        "        return K.mean(focal_loss, axis=-1)\n",
        "    return focal_loss_fn\n",
        "\n",
        "model.compile(optimizer='adam', loss=focal_loss(), metrics=['accuracy'])"
      ]
    },
    {
      "attachments": {},
      "cell_type": "markdown",
      "id": "56314314",
      "metadata": {},
      "source": [
        "Function for plotting the graph of loss and accuracy"
      ]
    },
    {
      "cell_type": "code",
      "execution_count": 9,
      "id": "895825d0",
      "metadata": {
        "id": "895825d0"
      },
      "outputs": [],
      "source": [
        "def graph_it(history):\n",
        "  acc = history.history['accuracy']\n",
        "  val_acc = history.history['val_accuracy']\n",
        "  loss = history.history['loss']\n",
        "  val_loss = history.history['val_loss']\n",
        "  epochs = range(len(acc))\n",
        "\n",
        "  #Plot Train and Validation Accuracy\n",
        "  plt.plot(epochs, acc, 'r', label='Training accuracy')\n",
        "  plt.plot(epochs, val_acc, 'b', label='Validation accuracy')\n",
        "  plt.title('Model Accuracy: Training and Validation')\n",
        "  plt.legend(loc=0)\n",
        "  plt.figure()\n",
        "\n",
        "  #Plot Train and Validation Loss\n",
        "  plt.plot(epochs, loss, 'r', label='Training loss')\n",
        "  plt.plot(epochs, val_loss, 'b', label='Validation loss')\n",
        "  plt.title('Training and validation Loss')\n",
        "  plt.legend(loc=0)\n",
        "  plt.figure()\n"
      ]
    },
    {
      "attachments": {},
      "cell_type": "markdown",
      "id": "6129a289",
      "metadata": {},
      "source": [
        "Function for Model Evaluation"
      ]
    },
    {
      "cell_type": "code",
      "execution_count": 10,
      "id": "d4a7c9c8",
      "metadata": {
        "id": "d4a7c9c8"
      },
      "outputs": [],
      "source": [
        "from sklearn.metrics import confusion_matrix, roc_auc_score, classification_report, precision_score, roc_curve, ConfusionMatrixDisplay\n",
        "\n",
        "def test_it(model, test_generator):\n",
        "    test_labels = test_generator.classes\n",
        "\n",
        "    predictions = model.predict(test_generator)\n",
        "    predicted_labels = np.argmax(predictions, axis=1)\n",
        "\n",
        "    cm = confusion_matrix(test_labels, predicted_labels)\n",
        "    disp = ConfusionMatrixDisplay(confusion_matrix=cm)\n",
        "    disp.plot()\n",
        "    plt.show()\n",
        "\n",
        "    roc = roc_auc_score(test_labels, predictions[:, 1])  # Assuming binary classification\n",
        "\n",
        "    # Calculate confusion matrix\n",
        "    tn, fp, fn, tp = confusion_matrix(test_labels, predicted_labels).ravel()\n",
        "\n",
        "    # Calculate sensitivity and specificity\n",
        "    sensitivity = tp / (tp + fn)\n",
        "    specificity = tn / (tn + fp)\n",
        "\n",
        "    report = classification_report(test_labels, predicted_labels)\n",
        "\n",
        "    precision = precision_score(test_labels, predicted_labels, average='weighted')\n",
        "\n",
        "    print(\"\\n\", report)\n",
        "    print(f\"Sensitivity: {round(sensitivity, 3)} Specificity: {round(specificity, 3)} Precision: {round(precision, 3)} ROC_AUC_SCORE: {round(roc, 3)}\\n\")\n",
        "\n",
        "    # Plot AUC-ROC curve\n",
        "    fpr, tpr, thresholds = roc_curve(test_labels, predictions[:, 1])\n",
        "    plt.figure(figsize=(4, 4))\n",
        "    plt.plot(fpr, tpr, label='ROC curve (area = %0.2f)' % roc)\n",
        "    plt.plot([0, 1], [0, 1], 'k--')  # Random guessing line\n",
        "    plt.xlim([0.0, 1.0])\n",
        "    plt.ylim([0.0, 1.0])\n",
        "    plt.xlabel('False Positive Rate')\n",
        "    plt.ylabel('True Positive Rate')\n",
        "    plt.title('Receiver Operating Characteristic (ROC) Curve')\n",
        "    plt.legend(loc=\"lower right\")\n",
        "    plt.show()"
      ]
    },
    {
      "cell_type": "code",
      "execution_count": 11,
      "id": "9671fe3a",
      "metadata": {
        "id": "9671fe3a"
      },
      "outputs": [],
      "source": [
        "# Set the directories for the data for task1 (SEB VS NEVUS)\n",
        "train_dir = \"/content/drive/MyDrive/msc_project/train_splited\"\n",
        "test_dir = \"/content/drive/MyDrive/msc_project/test_splited\"\n",
        "val_dir = \"/content/drive/MyDrive/msc_project/val_splited\""
      ]
    },
    {
      "cell_type": "code",
      "execution_count": 12,
      "id": "e9e4b21a",
      "metadata": {
        "id": "e9e4b21a"
      },
      "outputs": [],
      "source": [
        "# Define the data generator\n",
        "datagen = ImageDataGenerator(\n",
        "    preprocessing_function= \\\n",
        "    tensorflow.keras.applications.mobilenet.preprocess_input)\n",
        "\n",
        "image_size = (224, 224)\n",
        "batch = 32"
      ]
    },
    {
      "cell_type": "code",
      "execution_count": 13,
      "id": "e95b7e5b",
      "metadata": {
        "id": "e95b7e5b"
      },
      "outputs": [],
      "source": [
        "model_path = f'/content/drive/MyDrive/msc_project/model/{title}'\n",
        "os.makedirs(model_path, exist_ok=True)"
      ]
    },
    {
      "attachments": {},
      "cell_type": "markdown",
      "id": "7f54a20b",
      "metadata": {},
      "source": [
        "Creating batches to improve memory optimization"
      ]
    },
    {
      "cell_type": "code",
      "execution_count": 14,
      "id": "7ATMKowsaH4V",
      "metadata": {
        "colab": {
          "base_uri": "https://localhost:8080/"
        },
        "id": "7ATMKowsaH4V",
        "outputId": "a9d8f7f1-4691-421d-d209-41f7ca5b87d1"
      },
      "outputs": [
        {
          "name": "stdout",
          "output_type": "stream",
          "text": [
            "Found 1626 images belonging to 2 classes.\n",
            "Found 483 images belonging to 2 classes.\n",
            "Found 483 images belonging to 2 classes.\n"
          ]
        }
      ],
      "source": [
        "\n",
        "train_batches = datagen.flow_from_directory(train_dir,\n",
        "                                            target_size=(image_size),\n",
        "                                            batch_size=10)\n",
        "\n",
        "valid_batches = datagen.flow_from_directory(test_dir,\n",
        "                                            target_size=(image_size),\n",
        "                                            batch_size=10)\n",
        "\n",
        "# Note: shuffle=False causes the test dataset to not be shuffled\n",
        "test_batches = datagen.flow_from_directory(test_dir,\n",
        "                                            target_size=(image_size),\n",
        "                                            batch_size=1,\n",
        "                                            shuffle=False)"
      ]
    },
    {
      "cell_type": "code",
      "execution_count": 15,
      "id": "2GDPYOeaVw_n",
      "metadata": {
        "colab": {
          "base_uri": "https://localhost:8080/"
        },
        "id": "2GDPYOeaVw_n",
        "outputId": "926eb5d3-2105-4046-e9d2-5296de0a10ee"
      },
      "outputs": [
        {
          "data": {
            "text/plain": [
              "{'nevu': 0, 'seb': 1}"
            ]
          },
          "execution_count": 15,
          "metadata": {},
          "output_type": "execute_result"
        }
      ],
      "source": [
        "train_batches.class_indices"
      ]
    },
    {
      "cell_type": "code",
      "execution_count": 16,
      "id": "KiRi8zD6ZIyI",
      "metadata": {
        "colab": {
          "base_uri": "https://localhost:8080/"
        },
        "id": "KiRi8zD6ZIyI",
        "outputId": "eafbb9fb-444e-4080-9884-75e618f46a0a"
      },
      "outputs": [
        {
          "data": {
            "text/plain": [
              "{'nevu': 0, 'seb': 1}"
            ]
          },
          "execution_count": 16,
          "metadata": {},
          "output_type": "execute_result"
        }
      ],
      "source": [
        "valid_batches.class_indices"
      ]
    },
    {
      "cell_type": "code",
      "execution_count": 17,
      "id": "kunFVJitV2gZ",
      "metadata": {
        "colab": {
          "base_uri": "https://localhost:8080/"
        },
        "id": "kunFVJitV2gZ",
        "outputId": "b343b433-a018-4d3f-bd1b-510af8db8d3c"
      },
      "outputs": [
        {
          "name": "stdout",
          "output_type": "stream",
          "text": [
            "Number of images per class: Counter({0: 1372, 1: 254})\n"
          ]
        }
      ],
      "source": [
        "from collections import Counter\n",
        "\n",
        "class_counts = Counter(train_batches.classes)\n",
        "print(\"Number of images per class:\", class_counts)\n"
      ]
    },
    {
      "cell_type": "code",
      "execution_count": 18,
      "id": "pZlJ57JkV_Pp",
      "metadata": {
        "colab": {
          "base_uri": "https://localhost:8080/"
        },
        "id": "pZlJ57JkV_Pp",
        "outputId": "39566a54-5981-4f25-946f-e23d9e887340"
      },
      "outputs": [
        {
          "name": "stdout",
          "output_type": "stream",
          "text": [
            "Number of images per class: {'nevu': 1372, 'seb': 254}\n"
          ]
        }
      ],
      "source": [
        "class_names = list(train_batches.class_indices.keys())\n",
        "class_counts_with_names = {class_names[idx]: count for idx, count in class_counts.items()}\n",
        "print(\"Number of images per class:\", class_counts_with_names)"
      ]
    },
    {
      "cell_type": "code",
      "execution_count": 19,
      "id": "FjZnz8QRO8xD",
      "metadata": {
        "id": "FjZnz8QRO8xD"
      },
      "outputs": [],
      "source": [
        "train_steps = np.ceil(train_batches.n / batch)\n",
        "test_steps = np.ceil(test_batches.n / batch)\n",
        "val_steps = np.ceil(valid_batches.n / batch)"
      ]
    },
    {
      "attachments": {},
      "cell_type": "markdown",
      "id": "35af7b57",
      "metadata": {},
      "source": [
        "Configuration of Early stopping criteria, learning rate"
      ]
    },
    {
      "cell_type": "code",
      "execution_count": 20,
      "id": "lQnHiksDahxQ",
      "metadata": {
        "id": "lQnHiksDahxQ"
      },
      "outputs": [],
      "source": [
        "early_stopping = EarlyStopping(monitor='val_loss',patience=8)\n",
        "\n",
        "checkpointer = tf.keras.callbacks.ModelCheckpoint(filepath = 'model.hdf5',\n",
        "                                                  monitor = 'val_accuracy',\n",
        "                                                  verbose = 1,\n",
        "                                                  save_best_only = True,\n",
        "                                                  save_weights_only = True,\n",
        "                                                  mode = 'max')\n",
        "\n",
        "def step_decay(epoch):\n",
        "    initial_lrate = 0.00002\n",
        "    drop = 0.1\n",
        "    epochs_drop = 10.0\n",
        "    lrate = initial_lrate * math.pow(drop, math.floor((1+epoch)/epochs_drop))\n",
        "    return lrate\n",
        "\n",
        "lr_scheduler = tf.keras.callbacks.LearningRateScheduler(step_decay, verbose=1)"
      ]
    },
    {
      "cell_type": "code",
      "execution_count": 21,
      "id": "t9YyA-CMalyq",
      "metadata": {
        "id": "t9YyA-CMalyq"
      },
      "outputs": [],
      "source": [
        "callbacks = [early_stopping, checkpointer, lr_scheduler]"
      ]
    },
    {
      "attachments": {},
      "cell_type": "markdown",
      "id": "f722eea1",
      "metadata": {},
      "source": [
        "Model Training"
      ]
    },
    {
      "cell_type": "code",
      "execution_count": 22,
      "id": "h0jl4qCjapIq",
      "metadata": {
        "colab": {
          "base_uri": "https://localhost:8080/"
        },
        "id": "h0jl4qCjapIq",
        "outputId": "ffa990c5-8ca9-4770-c2d1-15283578b0e8"
      },
      "outputs": [
        {
          "name": "stderr",
          "output_type": "stream",
          "text": [
            "<ipython-input-22-13082ddda168>:1: UserWarning: `Model.fit_generator` is deprecated and will be removed in a future version. Please use `Model.fit`, which supports generators.\n",
            "  history = model.fit_generator(train_batches, steps_per_epoch=train_steps,\n"
          ]
        },
        {
          "name": "stdout",
          "output_type": "stream",
          "text": [
            "\n",
            "Epoch 1: LearningRateScheduler setting learning rate to 2e-05.\n",
            "Epoch 1/30\n",
            "51/51 [==============================] - ETA: 0s - loss: 0.0645 - accuracy: 0.8024\n",
            "Epoch 1: val_accuracy improved from -inf to 0.78750, saving model to model.hdf5\n",
            "51/51 [==============================] - 147s 2s/step - loss: 0.0645 - accuracy: 0.8024 - val_loss: 0.0621 - val_accuracy: 0.7875 - lr: 2.0000e-05\n",
            "\n",
            "Epoch 2: LearningRateScheduler setting learning rate to 2e-05.\n",
            "Epoch 2/30\n",
            "51/51 [==============================] - ETA: 0s - loss: 0.0345 - accuracy: 0.8510\n",
            "Epoch 2: val_accuracy improved from 0.78750 to 0.81875, saving model to model.hdf5\n",
            "51/51 [==============================] - 59s 1s/step - loss: 0.0345 - accuracy: 0.8510 - val_loss: 0.0300 - val_accuracy: 0.8188 - lr: 2.0000e-05\n",
            "\n",
            "Epoch 3: LearningRateScheduler setting learning rate to 2e-05.\n",
            "Epoch 3/30\n",
            "51/51 [==============================] - ETA: 0s - loss: 0.0222 - accuracy: 0.8686\n",
            "Epoch 3: val_accuracy improved from 0.81875 to 0.85625, saving model to model.hdf5\n",
            "51/51 [==============================] - 49s 965ms/step - loss: 0.0222 - accuracy: 0.8686 - val_loss: 0.0252 - val_accuracy: 0.8562 - lr: 2.0000e-05\n",
            "\n",
            "Epoch 4: LearningRateScheduler setting learning rate to 2e-05.\n",
            "Epoch 4/30\n",
            "51/51 [==============================] - ETA: 0s - loss: 0.0185 - accuracy: 0.8992\n",
            "Epoch 4: val_accuracy improved from 0.85625 to 0.90000, saving model to model.hdf5\n",
            "51/51 [==============================] - 34s 666ms/step - loss: 0.0185 - accuracy: 0.8992 - val_loss: 0.0186 - val_accuracy: 0.9000 - lr: 2.0000e-05\n",
            "\n",
            "Epoch 5: LearningRateScheduler setting learning rate to 2e-05.\n",
            "Epoch 5/30\n",
            "51/51 [==============================] - ETA: 0s - loss: 0.0162 - accuracy: 0.9098\n",
            "Epoch 5: val_accuracy did not improve from 0.90000\n",
            "51/51 [==============================] - 29s 563ms/step - loss: 0.0162 - accuracy: 0.9098 - val_loss: 0.0224 - val_accuracy: 0.8438 - lr: 2.0000e-05\n",
            "\n",
            "Epoch 6: LearningRateScheduler setting learning rate to 2e-05.\n",
            "Epoch 6/30\n",
            "51/51 [==============================] - ETA: 0s - loss: 0.0136 - accuracy: 0.9216\n",
            "Epoch 6: val_accuracy did not improve from 0.90000\n",
            "51/51 [==============================] - 28s 543ms/step - loss: 0.0136 - accuracy: 0.9216 - val_loss: 0.0236 - val_accuracy: 0.8500 - lr: 2.0000e-05\n",
            "\n",
            "Epoch 7: LearningRateScheduler setting learning rate to 2e-05.\n",
            "Epoch 7/30\n",
            "51/51 [==============================] - ETA: 0s - loss: 0.0169 - accuracy: 0.8961\n",
            "Epoch 7: val_accuracy did not improve from 0.90000\n",
            "51/51 [==============================] - 26s 517ms/step - loss: 0.0169 - accuracy: 0.8961 - val_loss: 0.0279 - val_accuracy: 0.9000 - lr: 2.0000e-05\n",
            "\n",
            "Epoch 8: LearningRateScheduler setting learning rate to 2e-05.\n",
            "Epoch 8/30\n",
            "51/51 [==============================] - ETA: 0s - loss: 0.0136 - accuracy: 0.9249\n",
            "Epoch 8: val_accuracy did not improve from 0.90000\n",
            "51/51 [==============================] - 25s 496ms/step - loss: 0.0136 - accuracy: 0.9249 - val_loss: 0.0188 - val_accuracy: 0.8813 - lr: 2.0000e-05\n",
            "\n",
            "Epoch 9: LearningRateScheduler setting learning rate to 2e-05.\n",
            "Epoch 9/30\n",
            "51/51 [==============================] - ETA: 0s - loss: 0.0112 - accuracy: 0.9196\n",
            "Epoch 9: val_accuracy did not improve from 0.90000\n",
            "51/51 [==============================] - 28s 540ms/step - loss: 0.0112 - accuracy: 0.9196 - val_loss: 0.0219 - val_accuracy: 0.8562 - lr: 2.0000e-05\n",
            "\n",
            "Epoch 10: LearningRateScheduler setting learning rate to 2.0000000000000003e-06.\n",
            "Epoch 10/30\n",
            "51/51 [==============================] - ETA: 0s - loss: 0.0097 - accuracy: 0.9314\n",
            "Epoch 10: val_accuracy did not improve from 0.90000\n",
            "51/51 [==============================] - 28s 553ms/step - loss: 0.0097 - accuracy: 0.9314 - val_loss: 0.0226 - val_accuracy: 0.8375 - lr: 2.0000e-06\n",
            "\n",
            "Epoch 11: LearningRateScheduler setting learning rate to 2.0000000000000003e-06.\n",
            "Epoch 11/30\n",
            "51/51 [==============================] - ETA: 0s - loss: 0.0110 - accuracy: 0.9289\n",
            "Epoch 11: val_accuracy did not improve from 0.90000\n",
            "51/51 [==============================] - 25s 488ms/step - loss: 0.0110 - accuracy: 0.9289 - val_loss: 0.0231 - val_accuracy: 0.8562 - lr: 2.0000e-06\n",
            "\n",
            "Epoch 12: LearningRateScheduler setting learning rate to 2.0000000000000003e-06.\n",
            "Epoch 12/30\n",
            "51/51 [==============================] - ETA: 0s - loss: 0.0090 - accuracy: 0.9471\n",
            "Epoch 12: val_accuracy did not improve from 0.90000\n",
            "51/51 [==============================] - 28s 550ms/step - loss: 0.0090 - accuracy: 0.9471 - val_loss: 0.0238 - val_accuracy: 0.8750 - lr: 2.0000e-06\n"
          ]
        }
      ],
      "source": [
        "history = model.fit_generator(train_batches, steps_per_epoch=train_steps,\n",
        "                              validation_data=valid_batches,\n",
        "                              validation_steps=test_steps,\n",
        "                              epochs=30,\n",
        "                              callbacks=callbacks)"
      ]
    },
    {
      "cell_type": "code",
      "execution_count": 23,
      "id": "1a6c5f39",
      "metadata": {
        "colab": {
          "base_uri": "https://localhost:8080/",
          "height": 904
        },
        "id": "1a6c5f39",
        "outputId": "fbebd5ae-1c5c-40fe-e478-40398a2c87d9"
      },
      "outputs": [
        {
          "data": {
            "image/png": "[encoded data removed]",
            "text/plain": [
              "<Figure size 640x480 with 1 Axes>"
            ]
          },
          "metadata": {},
          "output_type": "display_data"
        },
        {
          "data": {
            "image/png": "[encoded data removed]",
            "text/plain": [
              "<Figure size 640x480 with 1 Axes>"
            ]
          },
          "metadata": {},
          "output_type": "display_data"
        },
        {
          "data": {
            "text/plain": [
              "<Figure size 640x480 with 0 Axes>"
            ]
          },
          "metadata": {},
          "output_type": "display_data"
        }
      ],
      "source": [
        "graph_it(history)"
      ]
    },
    {
      "cell_type": "markdown",
      "id": "1a1bbbee",
      "metadata": {
        "id": "1a1bbbee"
      },
      "source": [
        "**Model Evaluation using test data**"
      ]
    },
    {
      "cell_type": "code",
      "execution_count": 24,
      "id": "f7da54c9",
      "metadata": {
        "colab": {
          "base_uri": "https://localhost:8080/",
          "height": 1000
        },
        "id": "f7da54c9",
        "outputId": "99f04562-caa7-4ea3-f38d-2da748c4c765"
      },
      "outputs": [
        {
          "name": "stdout",
          "output_type": "stream",
          "text": [
            "483/483 [==============================] - 24s 43ms/step\n"
          ]
        },
        {
          "data": {
            "image/png": "[encoded data removed]",
            "text/plain": [
              "<Figure size 640x480 with 2 Axes>"
            ]
          },
          "metadata": {},
          "output_type": "display_data"
        },
        {
          "name": "stdout",
          "output_type": "stream",
          "text": [
            "\n",
            "               precision    recall  f1-score   support\n",
            "\n",
            "           0       0.91      0.91      0.91       393\n",
            "           1       0.60      0.59      0.59        90\n",
            "\n",
            "    accuracy                           0.85       483\n",
            "   macro avg       0.75      0.75      0.75       483\n",
            "weighted avg       0.85      0.85      0.85       483\n",
            "\n",
            "Sensitivity: 0.589 Specificity: 0.908 Precision: 0.848 ROC_AUC_SCORE: 0.86\n",
            "\n"
          ]
        },
        {
          "data": {
            "image/png": "[encoded data removed]",
            "text/plain": [
              "<Figure size 400x400 with 1 Axes>"
            ]
          },
          "metadata": {},
          "output_type": "display_data"
        }
      ],
      "source": [
        "model.load_weights(filepath = 'model.hdf5')\n",
        "test_it(model, test_batches)"
      ]
    },
    {
      "cell_type": "code",
      "execution_count": 25,
      "id": "49inmUHw04QD",
      "metadata": {
        "colab": {
          "base_uri": "https://localhost:8080/"
        },
        "id": "49inmUHw04QD",
        "outputId": "d5722511-191f-4fa0-ef23-24313e7d7f70"
      },
      "outputs": [
        {
          "name": "stdout",
          "output_type": "stream",
          "text": [
            "  2/483 [..............................] - ETA: 24s"
          ]
        },
        {
          "name": "stderr",
          "output_type": "stream",
          "text": [
            "<ipython-input-25-3377af50feee>:3: UserWarning: `Model.predict_generator` is deprecated and will be removed in a future version. Please use `Model.predict`, which supports generators.\n",
            "  predictions = model.predict_generator(test_batches, steps=len(test_batches), verbose=1)\n"
          ]
        },
        {
          "name": "stdout",
          "output_type": "stream",
          "text": [
            "483/483 [==============================] - 21s 44ms/step\n",
            "Confusion Matrix : \n",
            " [[357  36]\n",
            " [ 37  53]]\n",
            "Accuracy :  0.8488612836438924\n",
            "Sensitivity :  0.9060913705583756\n",
            "Specificity :  0.5955056179775281\n"
          ]
        }
      ],
      "source": [
        "from sklearn.metrics import confusion_matrix\n",
        "\n",
        "predictions = model.predict_generator(test_batches, steps=len(test_batches), verbose=1)\n",
        "\n",
        "y_pred = np.argmax(predictions, axis=1)\n",
        "targetnames = ['mel','sb_nv']\n",
        "y_true = test_batches.classes\n",
        "\n",
        "cm1 = confusion_matrix(y_true,y_pred)\n",
        "print('Confusion Matrix : \\n', cm1)\n",
        "\n",
        "total1=sum(sum(cm1))\n",
        "#####from confusion matrix calculate accuracy\n",
        "accuracy1=(cm1[0,0]+cm1[1,1])/total1\n",
        "print ('Accuracy : ', accuracy1)\n",
        "\n",
        "sensitivity1 = cm1[0,0]/(cm1[0,0]+cm1[1,0])\n",
        "print('Sensitivity : ', sensitivity1 )\n",
        "\n",
        "specificity1 = cm1[1,1]/(cm1[1,1]+cm1[0,1])\n",
        "print('Specificity : ', specificity1)"
      ]
    }
  ],
  "metadata": {
    "accelerator": "GPU",
    "colab": {
      "gpuType": "T4",
      "provenance": []
    },
    "kernelspec": {
      "display_name": "Python 3",
      "name": "python3"
    },
    "language_info": {
      "codemirror_mode": {
        "name": "ipython",
        "version": 3
      },
      "file_extension": ".py",
      "mimetype": "text/x-python",
      "name": "python",
      "nbconvert_exporter": "python",
      "pygments_lexer": "ipython3",
      "version": "3.10.12"
    },
    "papermill": {
      "default_parameters": {},
      "duration": 6543.181713,
      "end_time": "2023-08-10T12:04:30.031582",
      "environment_variables": {},
      "exception": null,
      "input_path": "__notebook__.ipynb",
      "output_path": "__notebook__.ipynb",
      "parameters": {},
      "start_time": "2023-08-10T10:15:26.849869",
      "version": "2.4.0"
    }
  },
  "nbformat": 4,
  "nbformat_minor": 5
}
