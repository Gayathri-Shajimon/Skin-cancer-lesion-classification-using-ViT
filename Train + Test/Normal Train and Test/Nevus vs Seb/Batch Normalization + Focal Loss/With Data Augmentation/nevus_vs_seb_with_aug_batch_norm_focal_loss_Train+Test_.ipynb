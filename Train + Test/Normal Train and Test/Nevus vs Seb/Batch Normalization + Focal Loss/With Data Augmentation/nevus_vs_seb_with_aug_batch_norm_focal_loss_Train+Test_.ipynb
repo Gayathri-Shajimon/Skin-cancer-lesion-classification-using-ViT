{
  "cells": [
    {
      "cell_type": "code",
      "execution_count": null,
      "id": "37d225cc",
      "metadata": {
        "colab": {
          "base_uri": "https://localhost:8080/"
        },
        "id": "37d225cc",
        "outputId": "25acfc72-b887-4cc9-fa63-28c99efe5767"
      },
      "outputs": [
        {
          "name": "stdout",
          "output_type": "stream",
          "text": [
            "Collecting tensorflow_addons\n",
            "  Downloading tensorflow_addons-0.21.0-cp310-cp310-manylinux_2_17_x86_64.manylinux2014_x86_64.whl (612 kB)\n",
            "\u001b[2K     \u001b[90m━━━━━━━━━━━━━━━━━━━━━━━━━━━━━━━━━━━━━━━\u001b[0m \u001b[32m612.1/612.1 kB\u001b[0m \u001b[31m6.8 MB/s\u001b[0m eta \u001b[36m0:00:00\u001b[0m\n",
            "\u001b[?25hRequirement already satisfied: packaging in /usr/local/lib/python3.10/dist-packages (from tensorflow_addons) (23.1)\n",
            "Collecting typeguard<3.0.0,>=2.7 (from tensorflow_addons)\n",
            "  Downloading typeguard-2.13.3-py3-none-any.whl (17 kB)\n",
            "Installing collected packages: typeguard, tensorflow_addons\n",
            "Successfully installed tensorflow_addons-0.21.0 typeguard-2.13.3\n"
          ]
        }
      ],
      "source": [
        "!pip install --quiet vit-keras\n",
        "!pip install tensorflow_addons"
      ]
    },
    {
      "attachments": {},
      "cell_type": "markdown",
      "id": "b07832e6",
      "metadata": {},
      "source": [
        "Mount google drive"
      ]
    },
    {
      "cell_type": "code",
      "execution_count": null,
      "id": "4dc3645e",
      "metadata": {
        "colab": {
          "base_uri": "https://localhost:8080/"
        },
        "id": "4dc3645e",
        "outputId": "a530868d-6574-4993-cdb7-9e725608016f"
      },
      "outputs": [
        {
          "name": "stdout",
          "output_type": "stream",
          "text": [
            "Mounted at /content/drive\n"
          ]
        }
      ],
      "source": [
        "from google.colab import drive\n",
        "drive.mount('/content/drive')"
      ]
    },
    {
      "cell_type": "code",
      "execution_count": null,
      "id": "afe143c1",
      "metadata": {
        "colab": {
          "base_uri": "https://localhost:8080/"
        },
        "id": "afe143c1",
        "outputId": "bf3ed45e-46dc-49fd-f969-56552cf1d2b6"
      },
      "outputs": [
        {
          "name": "stderr",
          "output_type": "stream",
          "text": [
            "/usr/local/lib/python3.10/dist-packages/tensorflow_addons/utils/tfa_eol_msg.py:23: UserWarning: \n",
            "\n",
            "TensorFlow Addons (TFA) has ended development and introduction of new features.\n",
            "TFA has entered a minimal maintenance and release mode until a planned end of life in May 2024.\n",
            "Please modify downstream libraries to take dependencies from other repositories in our TensorFlow community (e.g. Keras, Keras-CV, and Keras-NLP). \n",
            "\n",
            "For more information see: https://github.com/tensorflow/addons/issues/2807 \n",
            "\n",
            "  warnings.warn(\n"
          ]
        }
      ],
      "source": [
        "import matplotlib.pyplot as plt\n",
        "import numpy as np\n",
        "import pandas as pd\n",
        "import os\n",
        "from glob import glob\n",
        "import seaborn as sns\n",
        "from PIL import Image\n",
        "np.random.seed(123)\n",
        "from sklearn.preprocessing import label_binarize\n",
        "from sklearn.metrics import confusion_matrix\n",
        "import itertools\n",
        "\n",
        "import pandas as pd\n",
        "import numpy as np\n",
        "import keras\n",
        "from keras import backend as K\n",
        "\n",
        "import tensorflow\n",
        "from tensorflow.keras.layers import Dropout, Dense, LayerNormalization, Flatten\n",
        "from tensorflow.keras.activations import gelu\n",
        "from tensorflow.keras.optimizers import Adam, SGD\n",
        "from tensorflow.keras.metrics import categorical_crossentropy\n",
        "from tensorflow.keras.preprocessing.image import ImageDataGenerator\n",
        "from tensorflow.keras.models import Model\n",
        "from tensorflow.keras.callbacks import EarlyStopping, ReduceLROnPlateau, ModelCheckpoint\n",
        "from vit_keras import vit\n",
        "import tensorflow_addons as tfa\n",
        "import math\n",
        "import os\n",
        "from sklearn.metrics import confusion_matrix\n",
        "from sklearn.model_selection import train_test_split\n",
        "import itertools\n",
        "import shutil\n",
        "import matplotlib.pyplot as plt\n",
        "from zipfile import ZipFile\n",
        "import time\n",
        "from sklearn.model_selection import StratifiedKFold, KFold\n",
        "from sklearn.metrics import roc_auc_score\n",
        "from sklearn.metrics import  precision_score, recall_score, accuracy_score\n",
        "from sklearn.metrics import roc_curve, auc\n",
        "from sklearn.metrics import classification_report\n",
        "import tensorflow as tf\n",
        "from tensorflow.keras import backend as K"
      ]
    },
    {
      "attachments": {},
      "cell_type": "markdown",
      "id": "5285c3e3",
      "metadata": {},
      "source": [
        "Initializing the ViT Model"
      ]
    },
    {
      "cell_type": "code",
      "execution_count": null,
      "id": "0d8eb2cb",
      "metadata": {
        "colab": {
          "base_uri": "https://localhost:8080/"
        },
        "id": "0d8eb2cb",
        "outputId": "de679b4e-a6fa-4e79-a3e3-38d369cfa18b"
      },
      "outputs": [
        {
          "name": "stdout",
          "output_type": "stream",
          "text": [
            "Downloading data from https://github.com/faustomorales/vit-keras/releases/download/dl/ViT-B_16_imagenet21k+imagenet2012.npz\n",
            "347502902/347502902 [==============================] - 7s 0us/step\n"
          ]
        },
        {
          "name": "stderr",
          "output_type": "stream",
          "text": [
            "/usr/local/lib/python3.10/dist-packages/vit_keras/utils.py:81: UserWarning: Resizing position embeddings from 24, 24 to 14, 14\n",
            "  warnings.warn(\n"
          ]
        }
      ],
      "source": [
        "vit_model = vit.vit_b16(\n",
        "        image_size = 224,\n",
        "        activation = 'softmax',\n",
        "        pretrained = True,\n",
        "        include_top = False,\n",
        "        pretrained_top = False,\n",
        "        classes = 2)"
      ]
    },
    {
      "attachments": {},
      "cell_type": "markdown",
      "id": "feba8c23",
      "metadata": {},
      "source": [
        "Adding Additional layers on top of ViT Model"
      ]
    },
    {
      "cell_type": "code",
      "execution_count": null,
      "id": "cc2ced1b",
      "metadata": {
        "colab": {
          "base_uri": "https://localhost:8080/"
        },
        "id": "cc2ced1b",
        "outputId": "c12b131d-1aaa-48ec-fb17-0890f66fff63"
      },
      "outputs": [
        {
          "name": "stdout",
          "output_type": "stream",
          "text": [
            "Model: \"vision_transformer\"\n",
            "_________________________________________________________________\n",
            " Layer (type)                Output Shape              Param #   \n",
            "=================================================================\n",
            " vit-b16 (Functional)        (None, 768)               85798656  \n",
            "                                                                 \n",
            " flatten (Flatten)           (None, 768)               0         \n",
            "                                                                 \n",
            " batch_normalization (BatchN  (None, 768)              3072      \n",
            " ormalization)                                                   \n",
            "                                                                 \n",
            " dense (Dense)               (None, 11)                8459      \n",
            "                                                                 \n",
            " batch_normalization_1 (Batc  (None, 11)               44        \n",
            " hNormalization)                                                 \n",
            "                                                                 \n",
            " dense_1 (Dense)             (None, 2)                 24        \n",
            "                                                                 \n",
            "=================================================================\n",
            "Total params: 85,810,255\n",
            "Trainable params: 85,808,697\n",
            "Non-trainable params: 1,558\n",
            "_________________________________________________________________\n"
          ]
        }
      ],
      "source": [
        "model = tf.keras.Sequential([\n",
        "        vit_model,\n",
        "        tf.keras.layers.Flatten(),\n",
        "        tf.keras.layers.BatchNormalization(),\n",
        "        tf.keras.layers.Dense(11, activation = tfa.activations.gelu),\n",
        "        tf.keras.layers.BatchNormalization(),\n",
        "        tf.keras.layers.Dense(2, 'softmax')\n",
        "    ],\n",
        "    name = 'vision_transformer')\n",
        "\n",
        "model.summary()"
      ]
    },
    {
      "attachments": {},
      "cell_type": "markdown",
      "id": "9af47859",
      "metadata": {},
      "source": [
        "Compiling the model using Focal Loss"
      ]
    },
    {
      "cell_type": "code",
      "execution_count": null,
      "id": "f90cf531",
      "metadata": {
        "id": "f90cf531"
      },
      "outputs": [],
      "source": [
        "def focal_loss(gamma=2, alpha=0.5):\n",
        "    def focal_loss_fn(y_true, y_pred):\n",
        "        y_pred = K.clip(y_pred, K.epsilon(), 1.0 - K.epsilon())\n",
        "        focal_loss = -alpha * y_true * K.pow(1.0 - y_pred, gamma) * K.log(y_pred)\n",
        "        return K.mean(focal_loss, axis=-1)\n",
        "    return focal_loss_fn\n",
        "\n",
        "# Replace the loss function in your model with focal loss\n",
        "model.compile(optimizer='adam', loss=focal_loss(), metrics=['accuracy'])"
      ]
    },
    {
      "attachments": {},
      "cell_type": "markdown",
      "id": "d2d53c85",
      "metadata": {},
      "source": [
        "Function for plotting the graph of loss and accuracy"
      ]
    },
    {
      "cell_type": "code",
      "execution_count": null,
      "id": "895825d0",
      "metadata": {
        "id": "895825d0"
      },
      "outputs": [],
      "source": [
        "def graph_it(history):\n",
        "  acc = history.history['accuracy']\n",
        "  val_acc = history.history['val_accuracy']\n",
        "  loss = history.history['loss']\n",
        "  val_loss = history.history['val_loss']\n",
        "  epochs = range(len(acc))\n",
        "\n",
        "  plt.plot(epochs, acc, 'r', label='Training accuracy')\n",
        "  plt.plot(epochs, val_acc, 'b', label='Validation accuracy')\n",
        "  plt.title('Model Accuracy: Training and Validation')\n",
        "  plt.legend(loc=0)\n",
        "  plt.figure()\n",
        "\n",
        "  plt.plot(epochs, loss, 'r', label='Training loss')\n",
        "  plt.plot(epochs, val_loss, 'b', label='Validation loss')\n",
        "  plt.title('Training and validation Loss')\n",
        "  plt.legend(loc=0)\n",
        "  plt.figure()\n"
      ]
    },
    {
      "attachments": {},
      "cell_type": "markdown",
      "id": "acb18995",
      "metadata": {},
      "source": [
        "Function for evaluation of model"
      ]
    },
    {
      "cell_type": "code",
      "execution_count": null,
      "id": "d4a7c9c8",
      "metadata": {
        "id": "d4a7c9c8"
      },
      "outputs": [],
      "source": [
        "import numpy as np\n",
        "import matplotlib.pyplot as plt\n",
        "from sklearn.metrics import confusion_matrix, roc_auc_score, classification_report, precision_score, roc_curve, ConfusionMatrixDisplay\n",
        "\n",
        "def test_it(model, test_generator):\n",
        "    test_labels = test_generator.classes\n",
        "\n",
        "    predictions = model.predict(test_generator)\n",
        "    predicted_labels = np.argmax(predictions, axis=1)\n",
        "\n",
        "    cm = confusion_matrix(test_labels, predicted_labels)\n",
        "    disp = ConfusionMatrixDisplay(confusion_matrix=cm)\n",
        "    disp.plot()\n",
        "    plt.show()\n",
        "\n",
        "\n",
        "\n",
        "    roc = roc_auc_score(test_labels, predictions[:, 1])  # Assuming binary classification\n",
        "\n",
        "    # Calculate confusion matrix CHANGE THIS TO CM\n",
        "    tn, fp, fn, tp = confusion_matrix(test_labels, predicted_labels).ravel()\n",
        "\n",
        "    # Calculate sensitivity and specificity\n",
        "    sensitivity = tp / (tp + fn)\n",
        "    specificity = tn / (tn + fp)\n",
        "\n",
        "    report = classification_report(test_labels, predicted_labels)\n",
        "\n",
        "    precision = precision_score(test_labels, predicted_labels, average='weighted')\n",
        "\n",
        "    print(\"\\n\", report)\n",
        "    print(f\"Sensitivity: {round(sensitivity, 3)} Specificity: {round(specificity, 3)} Precision: {round(precision, 3)} ROC_AUC_SCORE: {round(roc, 3)}\\n\")\n",
        "\n",
        "    # Plot AUC-ROC curve\n",
        "    fpr, tpr, thresholds = roc_curve(test_labels, predictions[:, 1])\n",
        "    plt.figure(figsize=(4, 4))\n",
        "    plt.plot(fpr, tpr, label='ROC curve (area = %0.2f)' % roc)\n",
        "    plt.plot([0, 1], [0, 1], 'k--')  # Random guessing line\n",
        "    plt.xlim([0.0, 1.0])\n",
        "    plt.ylim([0.0, 1.0])\n",
        "    plt.xlabel('False Positive Rate')\n",
        "    plt.ylabel('True Positive Rate')\n",
        "    plt.title('Receiver Operating Characteristic (ROC) Curve')\n",
        "    plt.legend(loc=\"lower right\")\n",
        "    plt.show()"
      ]
    },
    {
      "cell_type": "code",
      "execution_count": null,
      "id": "9671fe3a",
      "metadata": {
        "id": "9671fe3a"
      },
      "outputs": [],
      "source": [
        "# Set the directories for the data for task1 (SEB VS NEVUS)\n",
        "train_dir = \"/content/drive/MyDrive/msc_project/train_splited_augumented\"\n",
        "test_dir = \"/content/drive/MyDrive/msc_project/test_splited\"\n",
        "val_dir = \"/content/drive/MyDrive/msc_project/val_splited\""
      ]
    },
    {
      "cell_type": "code",
      "execution_count": null,
      "id": "e9e4b21a",
      "metadata": {
        "id": "e9e4b21a"
      },
      "outputs": [],
      "source": [
        "# Define the data generator\n",
        "datagen = ImageDataGenerator(\n",
        "    preprocessing_function= \\\n",
        "    tensorflow.keras.applications.mobilenet.preprocess_input)\n",
        "\n",
        "image_size = (224, 224)\n",
        "batch = 32"
      ]
    },
    {
      "cell_type": "code",
      "execution_count": null,
      "id": "e95b7e5b",
      "metadata": {
        "id": "e95b7e5b"
      },
      "outputs": [],
      "source": [
        "model_path = f'/content/drive/MyDrive/msc_project/model/{title}'\n",
        "os.makedirs(model_path, exist_ok=True)"
      ]
    },
    {
      "attachments": {},
      "cell_type": "markdown",
      "id": "a351917c",
      "metadata": {},
      "source": [
        "Generating images into batches to feed the model"
      ]
    },
    {
      "cell_type": "code",
      "execution_count": null,
      "id": "7ATMKowsaH4V",
      "metadata": {
        "colab": {
          "base_uri": "https://localhost:8080/"
        },
        "id": "7ATMKowsaH4V",
        "outputId": "bf9efdf7-f10d-4e96-bcc6-533fffe9a217"
      },
      "outputs": [
        {
          "name": "stdout",
          "output_type": "stream",
          "text": [
            "Found 9763 images belonging to 2 classes.\n",
            "Found 483 images belonging to 2 classes.\n",
            "Found 483 images belonging to 2 classes.\n"
          ]
        }
      ],
      "source": [
        "datagen = ImageDataGenerator(\n",
        "    preprocessing_function= \\\n",
        "    tensorflow.keras.applications.mobilenet.preprocess_input)\n",
        "\n",
        "train_batches = datagen.flow_from_directory(train_dir,\n",
        "                                            target_size=(image_size),\n",
        "                                            batch_size=10)\n",
        "\n",
        "valid_batches = datagen.flow_from_directory(test_dir,\n",
        "                                            target_size=(image_size),\n",
        "                                            batch_size=10)\n",
        "\n",
        "# Note: shuffle=False causes the test dataset to not be shuffled\n",
        "test_batches = datagen.flow_from_directory(test_dir,\n",
        "                                            target_size=(image_size),\n",
        "                                            batch_size=1,\n",
        "                                            shuffle=False)"
      ]
    },
    {
      "cell_type": "code",
      "execution_count": null,
      "id": "2GDPYOeaVw_n",
      "metadata": {
        "colab": {
          "base_uri": "https://localhost:8080/"
        },
        "id": "2GDPYOeaVw_n",
        "outputId": "d7bf2a0d-d6c0-4b87-d4c6-0a77df2b8852"
      },
      "outputs": [
        {
          "data": {
            "text/plain": [
              "{'nevu': 0, 'seb': 1}"
            ]
          },
          "execution_count": 15,
          "metadata": {},
          "output_type": "execute_result"
        }
      ],
      "source": [
        "train_batches.class_indices"
      ]
    },
    {
      "cell_type": "code",
      "execution_count": null,
      "id": "KiRi8zD6ZIyI",
      "metadata": {
        "colab": {
          "base_uri": "https://localhost:8080/"
        },
        "id": "KiRi8zD6ZIyI",
        "outputId": "6c5fed98-0db0-4567-e35a-9259ba4f9ffd"
      },
      "outputs": [
        {
          "data": {
            "text/plain": [
              "{'nevu': 0, 'seb': 1}"
            ]
          },
          "execution_count": 16,
          "metadata": {},
          "output_type": "execute_result"
        }
      ],
      "source": [
        "valid_batches.class_indices"
      ]
    },
    {
      "cell_type": "code",
      "execution_count": null,
      "id": "kunFVJitV2gZ",
      "metadata": {
        "colab": {
          "base_uri": "https://localhost:8080/"
        },
        "id": "kunFVJitV2gZ",
        "outputId": "fb486636-4036-4ac2-dd80-65f91d8bdcc1"
      },
      "outputs": [
        {
          "name": "stdout",
          "output_type": "stream",
          "text": [
            "Number of images per class: Counter({0: 8232, 1: 1531})\n"
          ]
        }
      ],
      "source": [
        "from collections import Counter\n",
        "\n",
        "class_counts = Counter(train_batches.classes)\n",
        "print(\"Number of images per class:\", class_counts)\n"
      ]
    },
    {
      "cell_type": "code",
      "execution_count": null,
      "id": "pZlJ57JkV_Pp",
      "metadata": {
        "colab": {
          "base_uri": "https://localhost:8080/"
        },
        "id": "pZlJ57JkV_Pp",
        "outputId": "8c71718e-3185-44e8-86fb-57a8ee53062b"
      },
      "outputs": [
        {
          "name": "stdout",
          "output_type": "stream",
          "text": [
            "Number of images per class: {'nevu': 8232, 'seb': 1531}\n"
          ]
        }
      ],
      "source": [
        "class_names = list(train_batches.class_indices.keys())\n",
        "class_counts_with_names = {class_names[idx]: count for idx, count in class_counts.items()}\n",
        "print(\"Number of images per class:\", class_counts_with_names)"
      ]
    },
    {
      "attachments": {},
      "cell_type": "markdown",
      "id": "8bd18428",
      "metadata": {},
      "source": [
        "Calculating the train, validation and test steps"
      ]
    },
    {
      "cell_type": "code",
      "execution_count": null,
      "id": "FjZnz8QRO8xD",
      "metadata": {
        "id": "FjZnz8QRO8xD"
      },
      "outputs": [],
      "source": [
        "train_steps = np.ceil(train_batches.n / batch)\n",
        "test_steps = np.ceil(test_batches.n / batch)\n",
        "val_steps = np.ceil(valid_batches.n / batch)"
      ]
    },
    {
      "attachments": {},
      "cell_type": "markdown",
      "id": "7caede86",
      "metadata": {},
      "source": [
        "Configuration of Early stopping criteria, learning rate"
      ]
    },
    {
      "cell_type": "code",
      "execution_count": null,
      "id": "lQnHiksDahxQ",
      "metadata": {
        "id": "lQnHiksDahxQ"
      },
      "outputs": [],
      "source": [
        "early_stopping = EarlyStopping(monitor='val_loss',patience=8)\n",
        "\n",
        "checkpointer = tf.keras.callbacks.ModelCheckpoint(filepath = 'model.hdf5',\n",
        "                                                  monitor = 'val_accuracy',\n",
        "                                                  verbose = 1,\n",
        "                                                  save_best_only = True,\n",
        "                                                  save_weights_only = True,\n",
        "                                                  mode = 'max')\n",
        "\n",
        "def step_decay(epoch):\n",
        "    initial_lrate = 0.00002\n",
        "    drop = 0.1\n",
        "    epochs_drop = 10.0\n",
        "    lrate = initial_lrate * math.pow(drop, math.floor((1+epoch)/epochs_drop))\n",
        "    return lrate\n",
        "\n",
        "lr_scheduler = tf.keras.callbacks.LearningRateScheduler(step_decay, verbose=1)"
      ]
    },
    {
      "cell_type": "code",
      "execution_count": null,
      "id": "t9YyA-CMalyq",
      "metadata": {
        "id": "t9YyA-CMalyq"
      },
      "outputs": [],
      "source": [
        "callbacks = [early_stopping, checkpointer, lr_scheduler]"
      ]
    },
    {
      "attachments": {},
      "cell_type": "markdown",
      "id": "724c4786",
      "metadata": {},
      "source": [
        "Model Training"
      ]
    },
    {
      "cell_type": "code",
      "execution_count": null,
      "id": "h0jl4qCjapIq",
      "metadata": {
        "colab": {
          "base_uri": "https://localhost:8080/"
        },
        "id": "h0jl4qCjapIq",
        "outputId": "070754fd-045d-4c7c-fac6-8025d1243e85"
      },
      "outputs": [
        {
          "name": "stderr",
          "output_type": "stream",
          "text": [
            "<ipython-input-22-13082ddda168>:1: UserWarning: `Model.fit_generator` is deprecated and will be removed in a future version. Please use `Model.fit`, which supports generators.\n",
            "  history = model.fit_generator(train_batches, steps_per_epoch=train_steps,\n"
          ]
        },
        {
          "name": "stdout",
          "output_type": "stream",
          "text": [
            "\n",
            "Epoch 1: LearningRateScheduler setting learning rate to 2e-05.\n",
            "Epoch 1/30\n",
            "306/306 [==============================] - ETA: 0s - loss: 0.0590 - accuracy: 0.5965\n",
            "Epoch 1: val_accuracy improved from -inf to 0.58125, saving model to model.hdf5\n",
            "306/306 [==============================] - 457s 1s/step - loss: 0.0590 - accuracy: 0.5965 - val_loss: 0.0610 - val_accuracy: 0.5813 - lr: 2.0000e-05\n",
            "\n",
            "Epoch 2: LearningRateScheduler setting learning rate to 2e-05.\n",
            "Epoch 2/30\n",
            "306/306 [==============================] - ETA: 0s - loss: 0.0404 - accuracy: 0.6793\n",
            "Epoch 2: val_accuracy improved from 0.58125 to 0.81875, saving model to model.hdf5\n",
            "306/306 [==============================] - 211s 689ms/step - loss: 0.0404 - accuracy: 0.6793 - val_loss: 0.0314 - val_accuracy: 0.8188 - lr: 2.0000e-05\n",
            "\n",
            "Epoch 3: LearningRateScheduler setting learning rate to 2e-05.\n",
            "Epoch 3/30\n",
            "306/306 [==============================] - ETA: 0s - loss: 0.0361 - accuracy: 0.7196\n",
            "Epoch 3: val_accuracy did not improve from 0.81875\n",
            "306/306 [==============================] - 181s 590ms/step - loss: 0.0361 - accuracy: 0.7196 - val_loss: 0.0353 - val_accuracy: 0.7812 - lr: 2.0000e-05\n",
            "\n",
            "Epoch 4: LearningRateScheduler setting learning rate to 2e-05.\n",
            "Epoch 4/30\n",
            "306/306 [==============================] - ETA: 0s - loss: 0.0317 - accuracy: 0.7817\n",
            "Epoch 4: val_accuracy did not improve from 0.81875\n",
            "306/306 [==============================] - 160s 523ms/step - loss: 0.0317 - accuracy: 0.7817 - val_loss: 0.0406 - val_accuracy: 0.7437 - lr: 2.0000e-05\n",
            "\n",
            "Epoch 5: LearningRateScheduler setting learning rate to 2e-05.\n",
            "Epoch 5/30\n",
            "306/306 [==============================] - ETA: 0s - loss: 0.0273 - accuracy: 0.8218\n",
            "Epoch 5: val_accuracy improved from 0.81875 to 0.83125, saving model to model.hdf5\n",
            "306/306 [==============================] - 165s 535ms/step - loss: 0.0273 - accuracy: 0.8218 - val_loss: 0.0301 - val_accuracy: 0.8313 - lr: 2.0000e-05\n",
            "\n",
            "Epoch 6: LearningRateScheduler setting learning rate to 2e-05.\n",
            "Epoch 6/30\n",
            "306/306 [==============================] - ETA: 0s - loss: 0.0242 - accuracy: 0.8595\n",
            "Epoch 6: val_accuracy did not improve from 0.83125\n",
            "306/306 [==============================] - 147s 480ms/step - loss: 0.0242 - accuracy: 0.8595 - val_loss: 0.0300 - val_accuracy: 0.8313 - lr: 2.0000e-05\n",
            "\n",
            "Epoch 7: LearningRateScheduler setting learning rate to 2e-05.\n",
            "Epoch 7/30\n",
            "306/306 [==============================] - ETA: 0s - loss: 0.0215 - accuracy: 0.8827\n",
            "Epoch 7: val_accuracy improved from 0.83125 to 0.85625, saving model to model.hdf5\n",
            "306/306 [==============================] - 148s 483ms/step - loss: 0.0215 - accuracy: 0.8827 - val_loss: 0.0318 - val_accuracy: 0.8562 - lr: 2.0000e-05\n",
            "\n",
            "Epoch 8: LearningRateScheduler setting learning rate to 2e-05.\n",
            "Epoch 8/30\n",
            "306/306 [==============================] - ETA: 0s - loss: 0.0204 - accuracy: 0.8951\n",
            "Epoch 8: val_accuracy improved from 0.85625 to 0.88125, saving model to model.hdf5\n",
            "306/306 [==============================] - 148s 485ms/step - loss: 0.0204 - accuracy: 0.8951 - val_loss: 0.0379 - val_accuracy: 0.8813 - lr: 2.0000e-05\n",
            "\n",
            "Epoch 9: LearningRateScheduler setting learning rate to 2e-05.\n",
            "Epoch 9/30\n",
            "306/306 [==============================] - ETA: 0s - loss: 0.0177 - accuracy: 0.9194\n",
            "Epoch 9: val_accuracy improved from 0.88125 to 0.88750, saving model to model.hdf5\n",
            "306/306 [==============================] - 146s 477ms/step - loss: 0.0177 - accuracy: 0.9194 - val_loss: 0.0252 - val_accuracy: 0.8875 - lr: 2.0000e-05\n",
            "\n",
            "Epoch 10: LearningRateScheduler setting learning rate to 2.0000000000000003e-06.\n",
            "Epoch 10/30\n",
            "306/306 [==============================] - ETA: 0s - loss: 0.0163 - accuracy: 0.9304\n",
            "Epoch 10: val_accuracy did not improve from 0.88750\n",
            "306/306 [==============================] - 144s 469ms/step - loss: 0.0163 - accuracy: 0.9304 - val_loss: 0.0360 - val_accuracy: 0.8438 - lr: 2.0000e-06\n",
            "\n",
            "Epoch 11: LearningRateScheduler setting learning rate to 2.0000000000000003e-06.\n",
            "Epoch 11/30\n",
            "306/306 [==============================] - ETA: 0s - loss: 0.0148 - accuracy: 0.9297\n",
            "Epoch 11: val_accuracy did not improve from 0.88750\n",
            "306/306 [==============================] - 138s 448ms/step - loss: 0.0148 - accuracy: 0.9297 - val_loss: 0.0494 - val_accuracy: 0.8438 - lr: 2.0000e-06\n",
            "\n",
            "Epoch 12: LearningRateScheduler setting learning rate to 2.0000000000000003e-06.\n",
            "Epoch 12/30\n",
            "306/306 [==============================] - ETA: 0s - loss: 0.0148 - accuracy: 0.9320\n",
            "Epoch 12: val_accuracy did not improve from 0.88750\n",
            "306/306 [==============================] - 144s 472ms/step - loss: 0.0148 - accuracy: 0.9320 - val_loss: 0.0301 - val_accuracy: 0.8750 - lr: 2.0000e-06\n",
            "\n",
            "Epoch 13: LearningRateScheduler setting learning rate to 2.0000000000000003e-06.\n",
            "Epoch 13/30\n",
            "306/306 [==============================] - ETA: 0s - loss: 0.0137 - accuracy: 0.9458\n",
            "Epoch 13: val_accuracy did not improve from 0.88750\n",
            "306/306 [==============================] - 146s 476ms/step - loss: 0.0137 - accuracy: 0.9458 - val_loss: 0.0480 - val_accuracy: 0.8687 - lr: 2.0000e-06\n",
            "\n",
            "Epoch 14: LearningRateScheduler setting learning rate to 2.0000000000000003e-06.\n",
            "Epoch 14/30\n",
            "306/306 [==============================] - ETA: 0s - loss: 0.0135 - accuracy: 0.9438\n",
            "Epoch 14: val_accuracy did not improve from 0.88750\n",
            "306/306 [==============================] - 143s 468ms/step - loss: 0.0135 - accuracy: 0.9438 - val_loss: 0.0445 - val_accuracy: 0.8625 - lr: 2.0000e-06\n",
            "\n",
            "Epoch 15: LearningRateScheduler setting learning rate to 2.0000000000000003e-06.\n",
            "Epoch 15/30\n",
            "306/306 [==============================] - ETA: 0s - loss: 0.0131 - accuracy: 0.9405\n",
            "Epoch 15: val_accuracy did not improve from 0.88750\n",
            "306/306 [==============================] - 144s 469ms/step - loss: 0.0131 - accuracy: 0.9405 - val_loss: 0.0393 - val_accuracy: 0.8875 - lr: 2.0000e-06\n",
            "\n",
            "Epoch 16: LearningRateScheduler setting learning rate to 2.0000000000000003e-06.\n",
            "Epoch 16/30\n",
            "306/306 [==============================] - ETA: 0s - loss: 0.0131 - accuracy: 0.9431\n",
            "Epoch 16: val_accuracy did not improve from 0.88750\n",
            "306/306 [==============================] - 138s 452ms/step - loss: 0.0131 - accuracy: 0.9431 - val_loss: 0.0486 - val_accuracy: 0.8813 - lr: 2.0000e-06\n",
            "\n",
            "Epoch 17: LearningRateScheduler setting learning rate to 2.0000000000000003e-06.\n",
            "Epoch 17/30\n",
            "306/306 [==============================] - ETA: 0s - loss: 0.0118 - accuracy: 0.9536\n",
            "Epoch 17: val_accuracy did not improve from 0.88750\n",
            "306/306 [==============================] - 143s 466ms/step - loss: 0.0118 - accuracy: 0.9536 - val_loss: 0.0514 - val_accuracy: 0.8625 - lr: 2.0000e-06\n"
          ]
        }
      ],
      "source": [
        "history = model.fit_generator(train_batches, steps_per_epoch=train_steps,\n",
        "                              validation_data=valid_batches,\n",
        "                              validation_steps=test_steps,\n",
        "                              epochs=30,\n",
        "                              callbacks=callbacks)"
      ]
    },
    {
      "cell_type": "code",
      "execution_count": null,
      "id": "1a6c5f39",
      "metadata": {
        "colab": {
          "base_uri": "https://localhost:8080/",
          "height": 904
        },
        "id": "1a6c5f39",
        "outputId": "b6939674-0923-4a66-a867-f45b9a35e7d2"
      },
      "outputs": [
        {
          "data": {
            "image/png": "[encoded data removed]",
            "text/plain": [
              "<Figure size 640x480 with 1 Axes>"
            ]
          },
          "metadata": {},
          "output_type": "display_data"
        },
        {
          "data": {
            "image/png": "[encoded data removed]",
            "text/plain": [
              "<Figure size 640x480 with 1 Axes>"
            ]
          },
          "metadata": {},
          "output_type": "display_data"
        },
        {
          "data": {
            "text/plain": [
              "<Figure size 640x480 with 0 Axes>"
            ]
          },
          "metadata": {},
          "output_type": "display_data"
        }
      ],
      "source": [
        "graph_it(history)"
      ]
    },
    {
      "cell_type": "markdown",
      "id": "1a1bbbee",
      "metadata": {
        "id": "1a1bbbee"
      },
      "source": [
        "**Model Evaluation using test data**"
      ]
    },
    {
      "cell_type": "code",
      "execution_count": null,
      "id": "f7da54c9",
      "metadata": {
        "colab": {
          "base_uri": "https://localhost:8080/",
          "height": 1000
        },
        "id": "f7da54c9",
        "outputId": "1942126c-24be-4ddf-e313-574a3c9d8464"
      },
      "outputs": [
        {
          "name": "stdout",
          "output_type": "stream",
          "text": [
            "483/483 [==============================] - 22s 41ms/step\n"
          ]
        },
        {
          "data": {
            "image/png": "[encoded data removed]",
            "text/plain": [
              "<Figure size 640x480 with 2 Axes>"
            ]
          },
          "metadata": {},
          "output_type": "display_data"
        },
        {
          "name": "stdout",
          "output_type": "stream",
          "text": [
            "\n",
            "               precision    recall  f1-score   support\n",
            "\n",
            "           0       0.95      0.92      0.93       393\n",
            "           1       0.68      0.78      0.73        90\n",
            "\n",
            "    accuracy                           0.89       483\n",
            "   macro avg       0.81      0.85      0.83       483\n",
            "weighted avg       0.90      0.89      0.89       483\n",
            "\n",
            "Sensitivity: 0.778 Specificity: 0.916 Precision: 0.897 ROC_AUC_SCORE: 0.929\n",
            "\n"
          ]
        },
        {
          "data": {
            "image/png": "[encoded data removed]",
            "text/plain": [
              "<Figure size 400x400 with 1 Axes>"
            ]
          },
          "metadata": {},
          "output_type": "display_data"
        }
      ],
      "source": [
        "model.load_weights(filepath = 'model.hdf5')\n",
        "test_it(model, test_batches)"
      ]
    },
    {
      "cell_type": "code",
      "execution_count": null,
      "id": "b0c097c1",
      "metadata": {
        "colab": {
          "base_uri": "https://localhost:8080/"
        },
        "id": "b0c097c1",
        "outputId": "df4516b6-2760-4b57-fa05-131ea18d92ca"
      },
      "outputs": [
        {
          "name": "stdout",
          "output_type": "stream",
          "text": [
            "  3/483 [..............................] - ETA: 19s"
          ]
        },
        {
          "name": "stderr",
          "output_type": "stream",
          "text": [
            "<ipython-input-25-3377af50feee>:3: UserWarning: `Model.predict_generator` is deprecated and will be removed in a future version. Please use `Model.predict`, which supports generators.\n",
            "  predictions = model.predict_generator(test_batches, steps=len(test_batches), verbose=1)\n"
          ]
        },
        {
          "name": "stdout",
          "output_type": "stream",
          "text": [
            "483/483 [==============================] - 18s 38ms/step\n",
            "Confusion Matrix : \n",
            " [[360  33]\n",
            " [ 20  70]]\n",
            "Accuracy :  0.8902691511387164\n",
            "Sensitivity :  0.9473684210526315\n",
            "Specificity :  0.6796116504854369\n"
          ]
        }
      ],
      "source": [
        "from sklearn.metrics import confusion_matrix\n",
        "\n",
        "predictions = model.predict_generator(test_batches, steps=len(test_batches), verbose=1)\n",
        "\n",
        "y_pred = np.argmax(predictions, axis=1)\n",
        "targetnames = ['mel','sb_nv']\n",
        "y_true = test_batches.classes\n",
        "\n",
        "cm1 = confusion_matrix(y_true,y_pred)\n",
        "print('Confusion Matrix : \\n', cm1)\n",
        "\n",
        "total1=sum(sum(cm1))\n",
        "#####from confusion matrix calculate accuracy\n",
        "accuracy1=(cm1[0,0]+cm1[1,1])/total1\n",
        "print ('Accuracy : ', accuracy1)\n",
        "\n",
        "sensitivity1 = cm1[0,0]/(cm1[0,0]+cm1[1,0])\n",
        "print('Sensitivity : ', sensitivity1 )\n",
        "\n",
        "specificity1 = cm1[1,1]/(cm1[1,1]+cm1[0,1])\n",
        "print('Specificity : ', specificity1)"
      ]
    }
  ],
  "metadata": {
    "accelerator": "GPU",
    "colab": {
      "gpuType": "T4",
      "provenance": []
    },
    "kernelspec": {
      "display_name": "Python 3",
      "name": "python3"
    },
    "language_info": {
      "codemirror_mode": {
        "name": "ipython",
        "version": 3
      },
      "file_extension": ".py",
      "mimetype": "text/x-python",
      "name": "python",
      "nbconvert_exporter": "python",
      "pygments_lexer": "ipython3",
      "version": "3.10.12"
    },
    "papermill": {
      "default_parameters": {},
      "duration": 6543.181713,
      "end_time": "2023-08-10T12:04:30.031582",
      "environment_variables": {},
      "exception": null,
      "input_path": "__notebook__.ipynb",
      "output_path": "__notebook__.ipynb",
      "parameters": {},
      "start_time": "2023-08-10T10:15:26.849869",
      "version": "2.4.0"
    }
  },
  "nbformat": 4,
  "nbformat_minor": 5
}
