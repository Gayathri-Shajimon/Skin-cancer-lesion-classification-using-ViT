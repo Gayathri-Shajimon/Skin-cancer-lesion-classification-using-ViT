{
  "cells": [
    {
      "cell_type": "code",
      "execution_count": 1,
      "id": "37d225cc",
      "metadata": {
        "colab": {
          "base_uri": "https://localhost:8080/"
        },
        "id": "37d225cc",
        "outputId": "4c305498-28f1-4534-dd88-eeeb3f9e4e34"
      },
      "outputs": [
        {
          "name": "stdout",
          "output_type": "stream",
          "text": [
            "Collecting tensorflow_addons\n",
            "  Downloading tensorflow_addons-0.21.0-cp310-cp310-manylinux_2_17_x86_64.manylinux2014_x86_64.whl (612 kB)\n",
            "\u001b[?25l     \u001b[90m━━━━━━━━━━━━━━━━━━━━━━━━━━━━━━━━━━━━━━━━\u001b[0m \u001b[32m0.0/612.1 kB\u001b[0m \u001b[31m?\u001b[0m eta \u001b[36m-:--:--\u001b[0m\r\u001b[2K     \u001b[91m━━━━━\u001b[0m\u001b[90m╺\u001b[0m\u001b[90m━━━━━━━━━━━━━━━━━━━━━━━━━━━━━━━━━━\u001b[0m \u001b[32m81.9/612.1 kB\u001b[0m \u001b[31m2.4 MB/s\u001b[0m eta \u001b[36m0:00:01\u001b[0m\r\u001b[2K     \u001b[91m━━━━━━━━━━━━━━━━━━━━━━━━━━━━━━━━━━━━━\u001b[0m\u001b[90m╺\u001b[0m\u001b[90m━\u001b[0m \u001b[32m583.7/612.1 kB\u001b[0m \u001b[31m8.0 MB/s\u001b[0m eta \u001b[36m0:00:01\u001b[0m\r\u001b[2K     \u001b[90m━━━━━━━━━━━━━━━━━━━━━━━━━━━━━━━━━━━━━━━\u001b[0m \u001b[32m612.1/612.1 kB\u001b[0m \u001b[31m6.9 MB/s\u001b[0m eta \u001b[36m0:00:00\u001b[0m\n",
            "\u001b[?25hRequirement already satisfied: packaging in /usr/local/lib/python3.10/dist-packages (from tensorflow_addons) (23.1)\n",
            "Collecting typeguard<3.0.0,>=2.7 (from tensorflow_addons)\n",
            "  Downloading typeguard-2.13.3-py3-none-any.whl (17 kB)\n",
            "Installing collected packages: typeguard, tensorflow_addons\n",
            "Successfully installed tensorflow_addons-0.21.0 typeguard-2.13.3\n"
          ]
        }
      ],
      "source": [
        "!pip install --quiet vit-keras\n",
        "!pip install tensorflow_addons"
      ]
    },
    {
      "attachments": {},
      "cell_type": "markdown",
      "id": "22422655",
      "metadata": {},
      "source": [
        "Mount google drive\n"
      ]
    },
    {
      "cell_type": "code",
      "execution_count": 2,
      "id": "4dc3645e",
      "metadata": {
        "colab": {
          "base_uri": "https://localhost:8080/"
        },
        "id": "4dc3645e",
        "outputId": "5262bd4e-92b9-4df7-d040-4984bd50e4f1"
      },
      "outputs": [
        {
          "name": "stdout",
          "output_type": "stream",
          "text": [
            "Mounted at /content/drive\n"
          ]
        }
      ],
      "source": [
        "from google.colab import drive\n",
        "drive.mount('/content/drive')"
      ]
    },
    {
      "cell_type": "code",
      "execution_count": 4,
      "id": "afe143c1",
      "metadata": {
        "colab": {
          "base_uri": "https://localhost:8080/"
        },
        "id": "afe143c1",
        "outputId": "0ed2cbbd-e304-4825-fa03-8fed3d5f7fae"
      },
      "outputs": [
        {
          "name": "stderr",
          "output_type": "stream",
          "text": [
            "/usr/local/lib/python3.10/dist-packages/tensorflow_addons/utils/tfa_eol_msg.py:23: UserWarning: \n",
            "\n",
            "TensorFlow Addons (TFA) has ended development and introduction of new features.\n",
            "TFA has entered a minimal maintenance and release mode until a planned end of life in May 2024.\n",
            "Please modify downstream libraries to take dependencies from other repositories in our TensorFlow community (e.g. Keras, Keras-CV, and Keras-NLP). \n",
            "\n",
            "For more information see: https://github.com/tensorflow/addons/issues/2807 \n",
            "\n",
            "  warnings.warn(\n"
          ]
        }
      ],
      "source": [
        "import matplotlib.pyplot as plt\n",
        "import numpy as np\n",
        "import pandas as pd\n",
        "import os\n",
        "from glob import glob\n",
        "import seaborn as sns\n",
        "from PIL import Image\n",
        "np.random.seed(123)\n",
        "from sklearn.preprocessing import label_binarize\n",
        "from sklearn.metrics import confusion_matrix\n",
        "import itertools\n",
        "import keras\n",
        "from keras import backend as K\n",
        "import tensorflow\n",
        "from tensorflow.keras.layers import Dropout, Dense, LayerNormalization, Flatten\n",
        "from tensorflow.keras.activations import gelu\n",
        "from tensorflow.keras.optimizers import Adam, SGD\n",
        "from tensorflow.keras.metrics import categorical_crossentropy\n",
        "from tensorflow.keras.preprocessing.image import ImageDataGenerator\n",
        "from tensorflow.keras.models import Model\n",
        "from tensorflow.keras.callbacks import EarlyStopping, ReduceLROnPlateau, ModelCheckpoint\n",
        "from vit_keras import vit\n",
        "import tensorflow_addons as tfa\n",
        "import math\n",
        "from sklearn.metrics import confusion_matrix\n",
        "from sklearn.model_selection import train_test_split\n",
        "import itertools\n",
        "import shutil\n",
        "import matplotlib.pyplot as plt\n",
        "from zipfile import ZipFile\n",
        "import time\n",
        "from sklearn.model_selection import StratifiedKFold, KFold\n",
        "from sklearn.metrics import roc_auc_score\n",
        "from sklearn.metrics import  precision_score, recall_score, accuracy_score\n",
        "from sklearn.metrics import roc_curve, auc\n",
        "from sklearn.metrics import classification_report\n",
        "import tensorflow as tf\n",
        "from tensorflow.keras import backend as K"
      ]
    },
    {
      "attachments": {},
      "cell_type": "markdown",
      "id": "95bb86bc",
      "metadata": {},
      "source": [
        "Initializing the ViT Model"
      ]
    },
    {
      "cell_type": "code",
      "execution_count": 5,
      "id": "0d8eb2cb",
      "metadata": {
        "colab": {
          "base_uri": "https://localhost:8080/"
        },
        "id": "0d8eb2cb",
        "outputId": "26c74d60-b2ce-4d69-e0e3-d2b51e80c1b3"
      },
      "outputs": [
        {
          "name": "stdout",
          "output_type": "stream",
          "text": [
            "Downloading data from https://github.com/faustomorales/vit-keras/releases/download/dl/ViT-B_16_imagenet21k+imagenet2012.npz\n",
            "347502902/347502902 [==============================] - 7s 0us/step\n"
          ]
        },
        {
          "name": "stderr",
          "output_type": "stream",
          "text": [
            "/usr/local/lib/python3.10/dist-packages/vit_keras/utils.py:81: UserWarning: Resizing position embeddings from 24, 24 to 14, 14\n",
            "  warnings.warn(\n"
          ]
        }
      ],
      "source": [
        "vit_model = vit.vit_b16(\n",
        "        image_size = 224,\n",
        "        activation = 'softmax',\n",
        "        pretrained = True,\n",
        "        include_top = False,\n",
        "        pretrained_top = False,\n",
        "        classes = 2)"
      ]
    },
    {
      "attachments": {},
      "cell_type": "markdown",
      "id": "60bf3802",
      "metadata": {},
      "source": [
        "Adding Additional layers on top of ViT Model"
      ]
    },
    {
      "cell_type": "code",
      "execution_count": 6,
      "id": "cc2ced1b",
      "metadata": {
        "colab": {
          "base_uri": "https://localhost:8080/"
        },
        "id": "cc2ced1b",
        "outputId": "939e653b-56f7-4bf1-e14d-6a8b878bcbd3"
      },
      "outputs": [
        {
          "name": "stdout",
          "output_type": "stream",
          "text": [
            "Model: \"vision_transformer\"\n",
            "_________________________________________________________________\n",
            " Layer (type)                Output Shape              Param #   \n",
            "=================================================================\n",
            " vit-b16 (Functional)        (None, 768)               85798656  \n",
            "                                                                 \n",
            " flatten (Flatten)           (None, 768)               0         \n",
            "                                                                 \n",
            " batch_normalization (BatchN  (None, 768)              3072      \n",
            " ormalization)                                                   \n",
            "                                                                 \n",
            " dense (Dense)               (None, 11)                8459      \n",
            "                                                                 \n",
            " batch_normalization_1 (Batc  (None, 11)               44        \n",
            " hNormalization)                                                 \n",
            "                                                                 \n",
            " dense_1 (Dense)             (None, 2)                 24        \n",
            "                                                                 \n",
            "=================================================================\n",
            "Total params: 85,810,255\n",
            "Trainable params: 85,808,697\n",
            "Non-trainable params: 1,558\n",
            "_________________________________________________________________\n"
          ]
        }
      ],
      "source": [
        "model = tf.keras.Sequential([\n",
        "        vit_model,\n",
        "        tf.keras.layers.Flatten(),\n",
        "        tf.keras.layers.BatchNormalization(),\n",
        "        tf.keras.layers.Dense(11, activation = tfa.activations.gelu),\n",
        "        tf.keras.layers.BatchNormalization(),\n",
        "        tf.keras.layers.Dense(2, 'softmax')\n",
        "    ],\n",
        "    name = 'vision_transformer')\n",
        "\n",
        "model.summary()"
      ]
    },
    {
      "attachments": {},
      "cell_type": "markdown",
      "id": "9a71cb8d",
      "metadata": {},
      "source": [
        "Compiling the model using Binary Cross Entropy"
      ]
    },
    {
      "cell_type": "code",
      "execution_count": 7,
      "id": "f90cf531",
      "metadata": {
        "id": "f90cf531"
      },
      "outputs": [],
      "source": [
        "model.compile(optimizer='adam',loss='binary_crossentropy',metrics=['accuracy'])"
      ]
    },
    {
      "attachments": {},
      "cell_type": "markdown",
      "id": "9d1013dc",
      "metadata": {},
      "source": [
        "Function for plotting the graph of loss and accuracy"
      ]
    },
    {
      "cell_type": "code",
      "execution_count": 9,
      "id": "895825d0",
      "metadata": {
        "id": "895825d0"
      },
      "outputs": [],
      "source": [
        "def graph_it(history):\n",
        "  acc = history.history['accuracy']\n",
        "  val_acc = history.history['val_accuracy']\n",
        "  loss = history.history['loss']\n",
        "  val_loss = history.history['val_loss']\n",
        "  epochs = range(len(acc))\n",
        "\n",
        "  plt.plot(epochs, acc, 'r', label='Training accuracy')\n",
        "  plt.plot(epochs, val_acc, 'b', label='Validation accuracy')\n",
        "  plt.title('Model Accuracy: Training and Validation')\n",
        "  plt.legend(loc=0)\n",
        "  plt.figure()\n",
        "\n",
        "  plt.plot(epochs, loss, 'r', label='Training loss')\n",
        "  plt.plot(epochs, val_loss, 'b', label='Validation loss')\n",
        "  plt.title('Training and validation Loss')\n",
        "  plt.legend(loc=0)\n",
        "  plt.figure()\n"
      ]
    },
    {
      "attachments": {},
      "cell_type": "markdown",
      "id": "6da37a42",
      "metadata": {},
      "source": [
        "Function for Model Evaluation"
      ]
    },
    {
      "cell_type": "code",
      "execution_count": 10,
      "id": "d4a7c9c8",
      "metadata": {
        "id": "d4a7c9c8"
      },
      "outputs": [],
      "source": [
        "from sklearn.metrics import confusion_matrix, roc_auc_score, classification_report, precision_score, roc_curve, ConfusionMatrixDisplay\n",
        "\n",
        "def test_it(model, test_generator):\n",
        "    test_labels = test_generator.classes\n",
        "\n",
        "    predictions = model.predict(test_generator)\n",
        "    predicted_labels = np.argmax(predictions, axis=1)\n",
        "\n",
        "    cm = confusion_matrix(test_labels, predicted_labels)\n",
        "    disp = ConfusionMatrixDisplay(confusion_matrix=cm)\n",
        "    disp.plot()\n",
        "    plt.show()\n",
        "\n",
        "\n",
        "    roc = roc_auc_score(test_labels, predictions[:, 1])  # Assuming binary classification\n",
        "\n",
        "    # Calculate confusion matrix\n",
        "    tn, fp, fn, tp = confusion_matrix(test_labels, predicted_labels).ravel()\n",
        "\n",
        "    # Calculate sensitivity and specificity\n",
        "    sensitivity = tp / (tp + fn)\n",
        "    specificity = tn / (tn + fp)\n",
        "\n",
        "    report = classification_report(test_labels, predicted_labels)\n",
        "\n",
        "    precision = precision_score(test_labels, predicted_labels, average='weighted')\n",
        "\n",
        "    print(\"\\n\", report)\n",
        "    print(f\"Sensitivity: {round(sensitivity, 3)} Specificity: {round(specificity, 3)} Precision: {round(precision, 3)} ROC_AUC_SCORE: {round(roc, 3)}\\n\")\n",
        "\n",
        "    # Plot AUC-ROC curve\n",
        "    fpr, tpr, thresholds = roc_curve(test_labels, predictions[:, 1])\n",
        "    plt.figure(figsize=(4, 4))\n",
        "    plt.plot(fpr, tpr, label='ROC curve (area = %0.2f)' % roc)\n",
        "    plt.plot([0, 1], [0, 1], 'k--')  # Random guessing line\n",
        "    plt.xlim([0.0, 1.0])\n",
        "    plt.ylim([0.0, 1.0])\n",
        "    plt.xlabel('False Positive Rate')\n",
        "    plt.ylabel('True Positive Rate')\n",
        "    plt.title('Receiver Operating Characteristic (ROC) Curve')\n",
        "    plt.legend(loc=\"lower right\")\n",
        "    plt.show()"
      ]
    },
    {
      "cell_type": "code",
      "execution_count": 11,
      "id": "9671fe3a",
      "metadata": {
        "id": "9671fe3a"
      },
      "outputs": [],
      "source": [
        "# Set the directories for the data for task1 (SEB VS NEVUS)\n",
        "train_dir = \"/content/drive/MyDrive/msc_project/train_splited\"\n",
        "test_dir = \"/content/drive/MyDrive/msc_project/test_splited\"\n",
        "val_dir = \"/content/drive/MyDrive/msc_project/val_splited\""
      ]
    },
    {
      "cell_type": "code",
      "execution_count": 12,
      "id": "e9e4b21a",
      "metadata": {
        "id": "e9e4b21a"
      },
      "outputs": [],
      "source": [
        "# Define the data generator\n",
        "datagen = ImageDataGenerator(\n",
        "    preprocessing_function= \\\n",
        "    tensorflow.keras.applications.mobilenet.preprocess_input)\n",
        "\n",
        "image_size = (224, 224)\n",
        "batch = 32"
      ]
    },
    {
      "cell_type": "code",
      "execution_count": 13,
      "id": "e95b7e5b",
      "metadata": {
        "id": "e95b7e5b"
      },
      "outputs": [],
      "source": [
        "model_path = f'/content/drive/MyDrive/msc_project/model/{title}'\n",
        "os.makedirs(model_path, exist_ok=True)"
      ]
    },
    {
      "attachments": {},
      "cell_type": "markdown",
      "id": "fdf6aef8",
      "metadata": {},
      "source": [
        "Creating batches to improve memory optimization"
      ]
    },
    {
      "cell_type": "code",
      "execution_count": 14,
      "id": "7ATMKowsaH4V",
      "metadata": {
        "colab": {
          "base_uri": "https://localhost:8080/"
        },
        "id": "7ATMKowsaH4V",
        "outputId": "bdffa65b-6a05-4a9a-fa72-1af439e40294"
      },
      "outputs": [
        {
          "name": "stdout",
          "output_type": "stream",
          "text": [
            "Found 1626 images belonging to 2 classes.\n",
            "Found 483 images belonging to 2 classes.\n",
            "Found 483 images belonging to 2 classes.\n"
          ]
        }
      ],
      "source": [
        "datagen = ImageDataGenerator(\n",
        "    preprocessing_function= \\\n",
        "    tensorflow.keras.applications.mobilenet.preprocess_input)\n",
        "\n",
        "train_batches = datagen.flow_from_directory(train_dir,\n",
        "                                            target_size=(image_size),\n",
        "                                            batch_size=10)\n",
        "\n",
        "valid_batches = datagen.flow_from_directory(test_dir,\n",
        "                                            target_size=(image_size),\n",
        "                                            batch_size=10)\n",
        "\n",
        "# Note: shuffle=False causes the test dataset to not be shuffled\n",
        "test_batches = datagen.flow_from_directory(test_dir,\n",
        "                                            target_size=(image_size),\n",
        "                                            batch_size=1,\n",
        "                                            shuffle=False)"
      ]
    },
    {
      "cell_type": "code",
      "execution_count": 15,
      "id": "2GDPYOeaVw_n",
      "metadata": {
        "colab": {
          "base_uri": "https://localhost:8080/"
        },
        "id": "2GDPYOeaVw_n",
        "outputId": "e829e4cf-ac0a-4c14-ed17-0a17a4fbeac9"
      },
      "outputs": [
        {
          "data": {
            "text/plain": [
              "{'nevu': 0, 'seb': 1}"
            ]
          },
          "execution_count": 15,
          "metadata": {},
          "output_type": "execute_result"
        }
      ],
      "source": [
        "train_batches.class_indices"
      ]
    },
    {
      "cell_type": "code",
      "execution_count": 16,
      "id": "KiRi8zD6ZIyI",
      "metadata": {
        "colab": {
          "base_uri": "https://localhost:8080/"
        },
        "id": "KiRi8zD6ZIyI",
        "outputId": "b7dc16a8-c7ef-413e-b40d-3a545a9d009b"
      },
      "outputs": [
        {
          "data": {
            "text/plain": [
              "{'nevu': 0, 'seb': 1}"
            ]
          },
          "execution_count": 16,
          "metadata": {},
          "output_type": "execute_result"
        }
      ],
      "source": [
        "valid_batches.class_indices"
      ]
    },
    {
      "cell_type": "code",
      "execution_count": 17,
      "id": "kunFVJitV2gZ",
      "metadata": {
        "colab": {
          "base_uri": "https://localhost:8080/"
        },
        "id": "kunFVJitV2gZ",
        "outputId": "3a192e9c-5558-4de0-d97f-a4078a58478b"
      },
      "outputs": [
        {
          "name": "stdout",
          "output_type": "stream",
          "text": [
            "Number of images per class: Counter({0: 1372, 1: 254})\n"
          ]
        }
      ],
      "source": [
        "from collections import Counter\n",
        "\n",
        "class_counts = Counter(train_batches.classes)\n",
        "print(\"Number of images per class:\", class_counts)\n"
      ]
    },
    {
      "cell_type": "code",
      "execution_count": 18,
      "id": "pZlJ57JkV_Pp",
      "metadata": {
        "colab": {
          "base_uri": "https://localhost:8080/"
        },
        "id": "pZlJ57JkV_Pp",
        "outputId": "3c0f2f28-61db-4161-c114-1b5bb0668967"
      },
      "outputs": [
        {
          "name": "stdout",
          "output_type": "stream",
          "text": [
            "Number of images per class: {'nevu': 1372, 'seb': 254}\n"
          ]
        }
      ],
      "source": [
        "class_names = list(train_batches.class_indices.keys())\n",
        "class_counts_with_names = {class_names[idx]: count for idx, count in class_counts.items()}\n",
        "print(\"Number of images per class:\", class_counts_with_names)"
      ]
    },
    {
      "cell_type": "code",
      "execution_count": 19,
      "id": "FjZnz8QRO8xD",
      "metadata": {
        "id": "FjZnz8QRO8xD"
      },
      "outputs": [],
      "source": [
        "train_steps = np.ceil(train_batches.n / batch)\n",
        "test_steps = np.ceil(test_batches.n / batch)\n",
        "val_steps = np.ceil(valid_batches.n / batch)"
      ]
    },
    {
      "attachments": {},
      "cell_type": "markdown",
      "id": "4578f52f",
      "metadata": {},
      "source": [
        "Configuration of Early stopping criteria, learning rate\n"
      ]
    },
    {
      "cell_type": "code",
      "execution_count": 20,
      "id": "lQnHiksDahxQ",
      "metadata": {
        "id": "lQnHiksDahxQ"
      },
      "outputs": [],
      "source": [
        "early_stopping = EarlyStopping(monitor='val_loss',patience=8)\n",
        "\n",
        "checkpointer = tf.keras.callbacks.ModelCheckpoint(filepath = 'model.hdf5',\n",
        "                                                  monitor = 'val_accuracy',\n",
        "                                                  verbose = 1,\n",
        "                                                  save_best_only = True,\n",
        "                                                  save_weights_only = True,\n",
        "                                                  mode = 'max')\n",
        "\n",
        "def step_decay(epoch):\n",
        "    initial_lrate = 0.00002\n",
        "    drop = 0.1\n",
        "    epochs_drop = 10.0\n",
        "    lrate = initial_lrate * math.pow(drop, math.floor((1+epoch)/epochs_drop))\n",
        "    return lrate\n",
        "\n",
        "lr_scheduler = tf.keras.callbacks.LearningRateScheduler(step_decay, verbose=1)"
      ]
    },
    {
      "cell_type": "code",
      "execution_count": 21,
      "id": "t9YyA-CMalyq",
      "metadata": {
        "id": "t9YyA-CMalyq"
      },
      "outputs": [],
      "source": [
        "callbacks = [early_stopping, checkpointer, lr_scheduler]"
      ]
    },
    {
      "attachments": {},
      "cell_type": "markdown",
      "id": "6591887d",
      "metadata": {},
      "source": [
        "Model Training\n"
      ]
    },
    {
      "cell_type": "code",
      "execution_count": 22,
      "id": "h0jl4qCjapIq",
      "metadata": {
        "colab": {
          "base_uri": "https://localhost:8080/"
        },
        "id": "h0jl4qCjapIq",
        "outputId": "87062685-6a19-43d4-9c7a-28080836bf9a"
      },
      "outputs": [
        {
          "name": "stderr",
          "output_type": "stream",
          "text": [
            "<ipython-input-22-13082ddda168>:1: UserWarning: `Model.fit_generator` is deprecated and will be removed in a future version. Please use `Model.fit`, which supports generators.\n",
            "  history = model.fit_generator(train_batches, steps_per_epoch=train_steps,\n"
          ]
        },
        {
          "name": "stdout",
          "output_type": "stream",
          "text": [
            "\n",
            "Epoch 1: LearningRateScheduler setting learning rate to 2e-05.\n",
            "Epoch 1/30\n",
            "51/51 [==============================] - ETA: 0s - loss: 0.7506 - accuracy: 0.6804\n",
            "Epoch 1: val_accuracy improved from -inf to 0.79375, saving model to model.hdf5\n",
            "51/51 [==============================] - 166s 2s/step - loss: 0.7506 - accuracy: 0.6804 - val_loss: 0.6330 - val_accuracy: 0.7937 - lr: 2.0000e-05\n",
            "\n",
            "Epoch 2: LearningRateScheduler setting learning rate to 2e-05.\n",
            "Epoch 2/30\n",
            "51/51 [==============================] - ETA: 0s - loss: 0.6572 - accuracy: 0.7312\n",
            "Epoch 2: val_accuracy did not improve from 0.79375\n",
            "51/51 [==============================] - 71s 1s/step - loss: 0.6572 - accuracy: 0.7312 - val_loss: 0.6809 - val_accuracy: 0.6938 - lr: 2.0000e-05\n",
            "\n",
            "Epoch 3: LearningRateScheduler setting learning rate to 2e-05.\n",
            "Epoch 3/30\n",
            "51/51 [==============================] - ETA: 0s - loss: 0.5879 - accuracy: 0.8000\n",
            "Epoch 3: val_accuracy did not improve from 0.79375\n",
            "51/51 [==============================] - 54s 1s/step - loss: 0.5879 - accuracy: 0.8000 - val_loss: 0.6167 - val_accuracy: 0.7188 - lr: 2.0000e-05\n",
            "\n",
            "Epoch 4: LearningRateScheduler setting learning rate to 2e-05.\n",
            "Epoch 4/30\n",
            "51/51 [==============================] - ETA: 0s - loss: 0.6022 - accuracy: 0.7765\n",
            "Epoch 4: val_accuracy did not improve from 0.79375\n",
            "51/51 [==============================] - 39s 752ms/step - loss: 0.6022 - accuracy: 0.7765 - val_loss: 0.8627 - val_accuracy: 0.6000 - lr: 2.0000e-05\n",
            "\n",
            "Epoch 5: LearningRateScheduler setting learning rate to 2e-05.\n",
            "Epoch 5/30\n",
            "51/51 [==============================] - ETA: 0s - loss: 0.5557 - accuracy: 0.8196\n",
            "Epoch 5: val_accuracy did not improve from 0.79375\n",
            "51/51 [==============================] - 34s 654ms/step - loss: 0.5557 - accuracy: 0.8196 - val_loss: 0.6896 - val_accuracy: 0.6750 - lr: 2.0000e-05\n",
            "\n",
            "Epoch 6: LearningRateScheduler setting learning rate to 2e-05.\n",
            "Epoch 6/30\n",
            "51/51 [==============================] - ETA: 0s - loss: 0.5846 - accuracy: 0.8118\n",
            "Epoch 6: val_accuracy improved from 0.79375 to 0.83750, saving model to model.hdf5\n",
            "51/51 [==============================] - 32s 630ms/step - loss: 0.5846 - accuracy: 0.8118 - val_loss: 0.5253 - val_accuracy: 0.8375 - lr: 2.0000e-05\n",
            "\n",
            "Epoch 7: LearningRateScheduler setting learning rate to 2e-05.\n",
            "Epoch 7/30\n",
            "51/51 [==============================] - ETA: 0s - loss: 0.5502 - accuracy: 0.8412\n",
            "Epoch 7: val_accuracy did not improve from 0.83750\n",
            "51/51 [==============================] - 28s 552ms/step - loss: 0.5502 - accuracy: 0.8412 - val_loss: 0.6038 - val_accuracy: 0.8125 - lr: 2.0000e-05\n",
            "\n",
            "Epoch 8: LearningRateScheduler setting learning rate to 2e-05.\n",
            "Epoch 8/30\n",
            "51/51 [==============================] - ETA: 0s - loss: 0.5338 - accuracy: 0.8458\n",
            "Epoch 8: val_accuracy did not improve from 0.83750\n",
            "51/51 [==============================] - 27s 536ms/step - loss: 0.5338 - accuracy: 0.8458 - val_loss: 0.6757 - val_accuracy: 0.7063 - lr: 2.0000e-05\n",
            "\n",
            "Epoch 9: LearningRateScheduler setting learning rate to 2e-05.\n",
            "Epoch 9/30\n",
            "51/51 [==============================] - ETA: 0s - loss: 0.4882 - accuracy: 0.8715\n",
            "Epoch 9: val_accuracy did not improve from 0.83750\n",
            "51/51 [==============================] - 25s 497ms/step - loss: 0.4882 - accuracy: 0.8715 - val_loss: 0.6158 - val_accuracy: 0.7437 - lr: 2.0000e-05\n",
            "\n",
            "Epoch 10: LearningRateScheduler setting learning rate to 2.0000000000000003e-06.\n",
            "Epoch 10/30\n",
            "51/51 [==============================] - ETA: 0s - loss: 0.5314 - accuracy: 0.8399\n",
            "Epoch 10: val_accuracy did not improve from 0.83750\n",
            "51/51 [==============================] - 26s 514ms/step - loss: 0.5314 - accuracy: 0.8399 - val_loss: 0.5438 - val_accuracy: 0.8250 - lr: 2.0000e-06\n",
            "\n",
            "Epoch 11: LearningRateScheduler setting learning rate to 2.0000000000000003e-06.\n",
            "Epoch 11/30\n",
            "51/51 [==============================] - ETA: 0s - loss: 0.5227 - accuracy: 0.8431\n",
            "Epoch 11: val_accuracy did not improve from 0.83750\n",
            "51/51 [==============================] - 27s 536ms/step - loss: 0.5227 - accuracy: 0.8431 - val_loss: 0.5598 - val_accuracy: 0.8062 - lr: 2.0000e-06\n",
            "\n",
            "Epoch 12: LearningRateScheduler setting learning rate to 2.0000000000000003e-06.\n",
            "Epoch 12/30\n",
            "51/51 [==============================] - ETA: 0s - loss: 0.5126 - accuracy: 0.8412\n",
            "Epoch 12: val_accuracy did not improve from 0.83750\n",
            "51/51 [==============================] - 27s 527ms/step - loss: 0.5126 - accuracy: 0.8412 - val_loss: 0.6878 - val_accuracy: 0.7375 - lr: 2.0000e-06\n",
            "\n",
            "Epoch 13: LearningRateScheduler setting learning rate to 2.0000000000000003e-06.\n",
            "Epoch 13/30\n",
            "51/51 [==============================] - ETA: 0s - loss: 0.4750 - accuracy: 0.8902\n",
            "Epoch 13: val_accuracy did not improve from 0.83750\n",
            "51/51 [==============================] - 25s 490ms/step - loss: 0.4750 - accuracy: 0.8902 - val_loss: 0.5580 - val_accuracy: 0.8188 - lr: 2.0000e-06\n",
            "\n",
            "Epoch 14: LearningRateScheduler setting learning rate to 2.0000000000000003e-06.\n",
            "Epoch 14/30\n",
            "51/51 [==============================] - ETA: 0s - loss: 0.4732 - accuracy: 0.8902\n",
            "Epoch 14: val_accuracy did not improve from 0.83750\n",
            "51/51 [==============================] - 25s 488ms/step - loss: 0.4732 - accuracy: 0.8902 - val_loss: 0.5949 - val_accuracy: 0.8000 - lr: 2.0000e-06\n"
          ]
        }
      ],
      "source": [
        "history = model.fit_generator(train_batches, steps_per_epoch=train_steps,\n",
        "                              validation_data=valid_batches,\n",
        "                              validation_steps=test_steps,\n",
        "                              epochs=30,\n",
        "                              callbacks=callbacks)"
      ]
    },
    {
      "cell_type": "code",
      "execution_count": 23,
      "id": "1a6c5f39",
      "metadata": {
        "colab": {
          "base_uri": "https://localhost:8080/",
          "height": 904
        },
        "id": "1a6c5f39",
        "outputId": "fc0e503b-8240-409f-e794-ee1beea5d4da"
      },
      "outputs": [
        {
          "data": {
            "image/png": "[encoded data removed]",
            "text/plain": [
              "<Figure size 640x480 with 1 Axes>"
            ]
          },
          "metadata": {},
          "output_type": "display_data"
        },
        {
          "data": {
            "image/png": "[encoded data removed]",
            "text/plain": [
              "<Figure size 640x480 with 1 Axes>"
            ]
          },
          "metadata": {},
          "output_type": "display_data"
        },
        {
          "data": {
            "text/plain": [
              "<Figure size 640x480 with 0 Axes>"
            ]
          },
          "metadata": {},
          "output_type": "display_data"
        }
      ],
      "source": [
        "graph_it(history)"
      ]
    },
    {
      "cell_type": "markdown",
      "id": "1a1bbbee",
      "metadata": {
        "id": "1a1bbbee"
      },
      "source": [
        "**Model Evaluation using test data**"
      ]
    },
    {
      "cell_type": "code",
      "execution_count": 24,
      "id": "f7da54c9",
      "metadata": {
        "colab": {
          "base_uri": "https://localhost:8080/",
          "height": 1000
        },
        "id": "f7da54c9",
        "outputId": "7c6240cb-7d73-462c-a058-1ed7565c1e19"
      },
      "outputs": [
        {
          "name": "stdout",
          "output_type": "stream",
          "text": [
            "483/483 [==============================] - 25s 46ms/step\n"
          ]
        },
        {
          "data": {
            "image/png": "[encoded data removed]",
            "text/plain": [
              "<Figure size 640x480 with 2 Axes>"
            ]
          },
          "metadata": {},
          "output_type": "display_data"
        },
        {
          "name": "stdout",
          "output_type": "stream",
          "text": [
            "\n",
            "               precision    recall  f1-score   support\n",
            "\n",
            "           0       0.96      0.78      0.86       393\n",
            "           1       0.47      0.87      0.61        90\n",
            "\n",
            "    accuracy                           0.80       483\n",
            "   macro avg       0.72      0.82      0.74       483\n",
            "weighted avg       0.87      0.80      0.81       483\n",
            "\n",
            "Sensitivity: 0.867 Specificity: 0.779 Precision: 0.871 ROC_AUC_SCORE: 0.918\n",
            "\n"
          ]
        },
        {
          "data": {
            "image/png": "[encoded data removed]",
            "text/plain": [
              "<Figure size 400x400 with 1 Axes>"
            ]
          },
          "metadata": {},
          "output_type": "display_data"
        }
      ],
      "source": [
        "model.load_weights(filepath = 'model.hdf5')\n",
        "test_it(model, test_batches)"
      ]
    },
    {
      "cell_type": "code",
      "execution_count": 25,
      "id": "6TNmz3Hg1BDJ",
      "metadata": {
        "colab": {
          "base_uri": "https://localhost:8080/"
        },
        "id": "6TNmz3Hg1BDJ",
        "outputId": "8261fe67-c3e8-4b33-f3b5-5e9492085dfc"
      },
      "outputs": [
        {
          "name": "stdout",
          "output_type": "stream",
          "text": [
            "\r  1/483 [..............................] - ETA: 52s"
          ]
        },
        {
          "name": "stderr",
          "output_type": "stream",
          "text": [
            "<ipython-input-25-3377af50feee>:3: UserWarning: `Model.predict_generator` is deprecated and will be removed in a future version. Please use `Model.predict`, which supports generators.\n",
            "  predictions = model.predict_generator(test_batches, steps=len(test_batches), verbose=1)\n"
          ]
        },
        {
          "name": "stdout",
          "output_type": "stream",
          "text": [
            "483/483 [==============================] - 21s 43ms/step\n",
            "Confusion Matrix : \n",
            " [[306  87]\n",
            " [ 12  78]]\n",
            "Accuracy :  0.7950310559006211\n",
            "Sensitivity :  0.9622641509433962\n",
            "Specificity :  0.4727272727272727\n"
          ]
        }
      ],
      "source": [
        "from sklearn.metrics import confusion_matrix\n",
        "\n",
        "predictions = model.predict_generator(test_batches, steps=len(test_batches), verbose=1)\n",
        "\n",
        "y_pred = np.argmax(predictions, axis=1)\n",
        "targetnames = ['mel','sb_nv']\n",
        "y_true = test_batches.classes\n",
        "\n",
        "cm1 = confusion_matrix(y_true,y_pred)\n",
        "print('Confusion Matrix : \\n', cm1)\n",
        "\n",
        "total1=sum(sum(cm1))\n",
        "#####from confusion matrix calculate accuracy\n",
        "accuracy1=(cm1[0,0]+cm1[1,1])/total1\n",
        "print ('Accuracy : ', accuracy1)\n",
        "\n",
        "sensitivity1 = cm1[0,0]/(cm1[0,0]+cm1[1,0])\n",
        "print('Sensitivity : ', sensitivity1 )\n",
        "\n",
        "specificity1 = cm1[1,1]/(cm1[1,1]+cm1[0,1])\n",
        "print('Specificity : ', specificity1)"
      ]
    }
  ],
  "metadata": {
    "accelerator": "GPU",
    "colab": {
      "gpuType": "T4",
      "provenance": []
    },
    "kernelspec": {
      "display_name": "Python 3",
      "name": "python3"
    },
    "language_info": {
      "codemirror_mode": {
        "name": "ipython",
        "version": 3
      },
      "file_extension": ".py",
      "mimetype": "text/x-python",
      "name": "python",
      "nbconvert_exporter": "python",
      "pygments_lexer": "ipython3",
      "version": "3.10.12"
    },
    "papermill": {
      "default_parameters": {},
      "duration": 6543.181713,
      "end_time": "2023-08-10T12:04:30.031582",
      "environment_variables": {},
      "exception": null,
      "input_path": "__notebook__.ipynb",
      "output_path": "__notebook__.ipynb",
      "parameters": {},
      "start_time": "2023-08-10T10:15:26.849869",
      "version": "2.4.0"
    }
  },
  "nbformat": 4,
  "nbformat_minor": 5
}
