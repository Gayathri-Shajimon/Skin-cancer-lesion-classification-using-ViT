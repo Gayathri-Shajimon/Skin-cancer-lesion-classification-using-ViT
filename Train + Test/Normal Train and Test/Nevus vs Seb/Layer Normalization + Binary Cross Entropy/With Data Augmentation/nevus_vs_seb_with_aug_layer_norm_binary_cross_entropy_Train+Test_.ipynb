{
  "cells": [
    {
      "cell_type": "code",
      "execution_count": 1,
      "id": "37d225cc",
      "metadata": {
        "colab": {
          "base_uri": "https://localhost:8080/"
        },
        "id": "37d225cc",
        "outputId": "cafb7c55-1217-409f-e0ed-a1f641f3c028"
      },
      "outputs": [
        {
          "name": "stdout",
          "output_type": "stream",
          "text": [
            "Collecting tensorflow_addons\n",
            "  Downloading tensorflow_addons-0.21.0-cp310-cp310-manylinux_2_17_x86_64.manylinux2014_x86_64.whl (612 kB)\n",
            "\u001b[2K     \u001b[90m━━━━━━━━━━━━━━━━━━━━━━━━━━━━━━━━━━━━━━━\u001b[0m \u001b[32m612.1/612.1 kB\u001b[0m \u001b[31m6.4 MB/s\u001b[0m eta \u001b[36m0:00:00\u001b[0m\n",
            "\u001b[?25hRequirement already satisfied: packaging in /usr/local/lib/python3.10/dist-packages (from tensorflow_addons) (23.1)\n",
            "Collecting typeguard<3.0.0,>=2.7 (from tensorflow_addons)\n",
            "  Downloading typeguard-2.13.3-py3-none-any.whl (17 kB)\n",
            "Installing collected packages: typeguard, tensorflow_addons\n",
            "Successfully installed tensorflow_addons-0.21.0 typeguard-2.13.3\n"
          ]
        }
      ],
      "source": [
        "!pip install --quiet vit-keras\n",
        "!pip install tensorflow_addons"
      ]
    },
    {
      "attachments": {},
      "cell_type": "markdown",
      "id": "67c2143d",
      "metadata": {},
      "source": [
        "Mount google drive"
      ]
    },
    {
      "cell_type": "code",
      "execution_count": 2,
      "id": "4dc3645e",
      "metadata": {
        "colab": {
          "base_uri": "https://localhost:8080/"
        },
        "id": "4dc3645e",
        "outputId": "5266493e-5ddd-45f0-d51a-799dc98a5334"
      },
      "outputs": [
        {
          "name": "stdout",
          "output_type": "stream",
          "text": [
            "Mounted at /content/drive\n"
          ]
        }
      ],
      "source": [
        "from google.colab import drive\n",
        "drive.mount('/content/drive')"
      ]
    },
    {
      "cell_type": "markdown",
      "id": "850ab923",
      "metadata": {
        "id": "850ab923"
      },
      "source": [
        "#Using our merged dataset train & test data\n",
        "\n",
        "This Task is (SEB VS NEVUS). PLEASE USE APPROPRIATE PATH TO TASK"
      ]
    },
    {
      "cell_type": "code",
      "execution_count": 3,
      "id": "afbabdb5",
      "metadata": {
        "id": "afbabdb5"
      },
      "outputs": [],
      "source": [
        "#please set title for saving model correctly!!!\n",
        "title = \"Test_TASK1\""
      ]
    },
    {
      "cell_type": "code",
      "execution_count": 4,
      "id": "afe143c1",
      "metadata": {
        "colab": {
          "base_uri": "https://localhost:8080/"
        },
        "id": "afe143c1",
        "outputId": "2d19ba11-047f-4126-9894-960b63d131f8"
      },
      "outputs": [
        {
          "name": "stderr",
          "output_type": "stream",
          "text": [
            "/usr/local/lib/python3.10/dist-packages/tensorflow_addons/utils/tfa_eol_msg.py:23: UserWarning: \n",
            "\n",
            "TensorFlow Addons (TFA) has ended development and introduction of new features.\n",
            "TFA has entered a minimal maintenance and release mode until a planned end of life in May 2024.\n",
            "Please modify downstream libraries to take dependencies from other repositories in our TensorFlow community (e.g. Keras, Keras-CV, and Keras-NLP). \n",
            "\n",
            "For more information see: https://github.com/tensorflow/addons/issues/2807 \n",
            "\n",
            "  warnings.warn(\n"
          ]
        }
      ],
      "source": [
        "import matplotlib.pyplot as plt\n",
        "import numpy as np\n",
        "import pandas as pd\n",
        "import os\n",
        "from glob import glob\n",
        "import seaborn as sns\n",
        "from PIL import Image\n",
        "np.random.seed(123)\n",
        "from sklearn.preprocessing import label_binarize\n",
        "from sklearn.metrics import confusion_matrix\n",
        "import itertools\n",
        "\n",
        "import pandas as pd\n",
        "import numpy as np\n",
        "import keras\n",
        "from keras import backend as K\n",
        "\n",
        "import tensorflow\n",
        "from tensorflow.keras.layers import Dropout, Dense, LayerNormalization, Flatten\n",
        "from tensorflow.keras.activations import gelu\n",
        "from tensorflow.keras.optimizers import Adam, SGD\n",
        "from tensorflow.keras.metrics import categorical_crossentropy\n",
        "from tensorflow.keras.preprocessing.image import ImageDataGenerator\n",
        "from tensorflow.keras.models import Model\n",
        "from tensorflow.keras.callbacks import EarlyStopping, ReduceLROnPlateau, ModelCheckpoint\n",
        "\n",
        "from vit_keras import vit\n",
        "import tensorflow_addons as tfa\n",
        "import math\n",
        "\n",
        "import os\n",
        "\n",
        "from sklearn.metrics import confusion_matrix\n",
        "from sklearn.model_selection import train_test_split\n",
        "import itertools\n",
        "import shutil\n",
        "import matplotlib.pyplot as plt\n",
        "\n",
        "from zipfile import ZipFile\n",
        "import time\n",
        "from sklearn.model_selection import StratifiedKFold, KFold\n",
        "\n",
        "from sklearn.metrics import roc_auc_score\n",
        "from sklearn.metrics import  precision_score, recall_score, accuracy_score\n",
        "from sklearn.metrics import roc_curve, auc\n",
        "from sklearn.metrics import classification_report\n",
        "\n",
        "import tensorflow as tf\n",
        "from tensorflow.keras import backend as K\n",
        "from collections import Counter\n",
        "\n",
        "import numpy as np\n",
        "import matplotlib.pyplot as plt\n",
        "from sklearn.metrics import confusion_matrix, roc_auc_score, classification_report, precision_score, roc_curve, ConfusionMatrixDisplay"
      ]
    },
    {
      "attachments": {},
      "cell_type": "markdown",
      "id": "07aef3b5",
      "metadata": {},
      "source": [
        "Initializing the ViT Model"
      ]
    },
    {
      "cell_type": "code",
      "execution_count": 5,
      "id": "0d8eb2cb",
      "metadata": {
        "colab": {
          "base_uri": "https://localhost:8080/"
        },
        "id": "0d8eb2cb",
        "outputId": "78e22179-0d2d-43c5-fca8-053698c75df2"
      },
      "outputs": [
        {
          "name": "stdout",
          "output_type": "stream",
          "text": [
            "Downloading data from https://github.com/faustomorales/vit-keras/releases/download/dl/ViT-B_16_imagenet21k+imagenet2012.npz\n",
            "347502902/347502902 [==============================] - 3s 0us/step\n"
          ]
        },
        {
          "name": "stderr",
          "output_type": "stream",
          "text": [
            "/usr/local/lib/python3.10/dist-packages/vit_keras/utils.py:81: UserWarning: Resizing position embeddings from 24, 24 to 14, 14\n",
            "  warnings.warn(\n"
          ]
        }
      ],
      "source": [
        "vit_model = vit.vit_b16(\n",
        "        image_size = 224,\n",
        "        activation = 'softmax',\n",
        "        pretrained = True,\n",
        "        include_top = False,\n",
        "        pretrained_top = False,\n",
        "        classes = 2)"
      ]
    },
    {
      "attachments": {},
      "cell_type": "markdown",
      "id": "c5c13ceb",
      "metadata": {},
      "source": [
        "Adding Additional layers on top of ViT Model"
      ]
    },
    {
      "cell_type": "code",
      "execution_count": 6,
      "id": "cc2ced1b",
      "metadata": {
        "colab": {
          "base_uri": "https://localhost:8080/"
        },
        "id": "cc2ced1b",
        "outputId": "f05965ba-5de3-4404-d332-ec7c12db20fd"
      },
      "outputs": [
        {
          "name": "stdout",
          "output_type": "stream",
          "text": [
            "Model: \"vision_transformer\"\n",
            "_________________________________________________________________\n",
            " Layer (type)                Output Shape              Param #   \n",
            "=================================================================\n",
            " vit-b16 (Functional)        (None, 768)               85798656  \n",
            "                                                                 \n",
            " flatten (Flatten)           (None, 768)               0         \n",
            "                                                                 \n",
            " dense (Dense)               (None, 128)               98432     \n",
            "                                                                 \n",
            " dropout (Dropout)           (None, 128)               0         \n",
            "                                                                 \n",
            " layer_normalization (LayerN  (None, 128)              256       \n",
            " ormalization)                                                   \n",
            "                                                                 \n",
            " dense_1 (Dense)             (None, 32)                4128      \n",
            "                                                                 \n",
            " dropout_1 (Dropout)         (None, 32)                0         \n",
            "                                                                 \n",
            " layer_normalization_1 (Laye  (None, 32)               64        \n",
            " rNormalization)                                                 \n",
            "                                                                 \n",
            " dense_2 (Dense)             (None, 2)                 66        \n",
            "                                                                 \n",
            "=================================================================\n",
            "Total params: 85,901,602\n",
            "Trainable params: 85,901,602\n",
            "Non-trainable params: 0\n",
            "_________________________________________________________________\n"
          ]
        }
      ],
      "source": [
        "model = tensorflow.keras.Sequential([\n",
        "    vit_model,\n",
        "    Flatten(),                                            # Flatten Layer\n",
        "    Dense(128, activation=gelu),                          # Dense Layer for feature extraction\n",
        "    Dropout(0.1),                                         # Dropout layer\n",
        "    LayerNormalization(epsilon=.000002),                  # Layer Normalization\n",
        "    Dense(32, activation=gelu),                           # Dense Layer\n",
        "    Dropout(0.1),                                         # Dropout\n",
        "    LayerNormalization(epsilon=.000002),                  # Layer Normalization\n",
        "    Dense(2, activation='softmax')                        # Dense Layer for final classification\n",
        "], name='vision_transformer')\n",
        "\n",
        "model.summary()"
      ]
    },
    {
      "attachments": {},
      "cell_type": "markdown",
      "id": "d69d2d68",
      "metadata": {},
      "source": [
        "Compiling the model using Binary Cross Entropy"
      ]
    },
    {
      "cell_type": "code",
      "execution_count": 7,
      "id": "f90cf531",
      "metadata": {
        "id": "f90cf531"
      },
      "outputs": [],
      "source": [
        "model.compile(optimizer='adam',loss='binary_crossentropy',metrics=['accuracy'])"
      ]
    },
    {
      "attachments": {},
      "cell_type": "markdown",
      "id": "6d2a7d8e",
      "metadata": {},
      "source": [
        "Function for plotting the graph of loss and accuracy"
      ]
    },
    {
      "cell_type": "code",
      "execution_count": 9,
      "id": "895825d0",
      "metadata": {
        "id": "895825d0"
      },
      "outputs": [],
      "source": [
        "def graph_it(history):\n",
        "  acc = history.history['accuracy']\n",
        "  val_acc = history.history['val_accuracy']\n",
        "  loss = history.history['loss']\n",
        "  val_loss = history.history['val_loss']\n",
        "  epochs = range(len(acc))\n",
        "\n",
        "  plt.plot(epochs, acc, 'r', label='Training accuracy')\n",
        "  plt.plot(epochs, val_acc, 'b', label='Validation accuracy')\n",
        "  plt.title('Model Accuracy: Training and Validation')\n",
        "  plt.legend(loc=0)\n",
        "  plt.figure()\n",
        "\n",
        "  plt.plot(epochs, loss, 'r', label='Training loss')\n",
        "  plt.plot(epochs, val_loss, 'b', label='Validation loss')\n",
        "  plt.title('Training and validation Loss')\n",
        "  plt.legend(loc=0)\n",
        "  plt.figure()\n"
      ]
    },
    {
      "attachments": {},
      "cell_type": "markdown",
      "id": "ee5f7113",
      "metadata": {},
      "source": [
        "Function for evaluation of model"
      ]
    },
    {
      "cell_type": "code",
      "execution_count": 10,
      "id": "d4a7c9c8",
      "metadata": {
        "id": "d4a7c9c8"
      },
      "outputs": [],
      "source": [
        "def test_it(model, test_generator):\n",
        "    test_labels = test_generator.classes\n",
        "\n",
        "    predictions = model.predict(test_generator)\n",
        "    predicted_labels = np.argmax(predictions, axis=1)\n",
        "\n",
        "    cm = confusion_matrix(test_labels, predicted_labels)\n",
        "    disp = ConfusionMatrixDisplay(confusion_matrix=cm)\n",
        "    disp.plot()\n",
        "    plt.show()\n",
        "\n",
        "\n",
        "\n",
        "    roc = roc_auc_score(test_labels, predictions[:, 1])  # Assuming binary classification\n",
        "\n",
        "    tn, fp, fn, tp = confusion_matrix(test_labels, predicted_labels).ravel()      # Calculating  tn, fp, fn, tp\n",
        "\n",
        "    sensitivity = tp / (tp + fn)       # Calculate sensitivity \n",
        "    specificity = tn / (tn + fp)       # Calculate specificity\n",
        "\n",
        "    report = classification_report(test_labels, predicted_labels)         # Classification Report\n",
        "\n",
        "    precision = precision_score(test_labels, predicted_labels, average='weighted') # Precision score calculation\n",
        "\n",
        "    print(\"\\n\", report)\n",
        "    print(f\"Sensitivity: {round(sensitivity, 3)} Specificity: {round(specificity, 3)} Precision: {round(precision, 3)} ROC_AUC_SCORE: {round(roc, 3)}\\n\")\n",
        "\n",
        "    # Plot AUC-ROC curve\n",
        "    fpr, tpr, thresholds = roc_curve(test_labels, predictions[:, 1])\n",
        "    plt.figure(figsize=(4, 4))\n",
        "    plt.plot(fpr, tpr, label='ROC curve (area = %0.2f)' % roc)\n",
        "    plt.plot([0, 1], [0, 1], 'k--')  # Random guessing line\n",
        "    plt.xlim([0.0, 1.0])\n",
        "    plt.ylim([0.0, 1.0])\n",
        "    plt.xlabel('False Positive Rate')\n",
        "    plt.ylabel('True Positive Rate')\n",
        "    plt.title('Receiver Operating Characteristic (ROC) Curve')\n",
        "    plt.legend(loc=\"lower right\")\n",
        "    plt.show()"
      ]
    },
    {
      "cell_type": "code",
      "execution_count": 11,
      "id": "9671fe3a",
      "metadata": {
        "id": "9671fe3a"
      },
      "outputs": [],
      "source": [
        "# Set the directories for the data for task1 (SEB VS NEVUS)\n",
        "train_dir = \"/content/drive/MyDrive/msc_project/train_splited\"\n",
        "test_dir = \"/content/drive/MyDrive/msc_project/test_splited\"\n",
        "val_dir = \"/content/drive/MyDrive/msc_project/val_splited\""
      ]
    },
    {
      "cell_type": "code",
      "execution_count": 12,
      "id": "e9e4b21a",
      "metadata": {
        "id": "e9e4b21a"
      },
      "outputs": [],
      "source": [
        "# Define the data generator\n",
        "datagen = ImageDataGenerator(\n",
        "    preprocessing_function= \\\n",
        "    tensorflow.keras.applications.mobilenet.preprocess_input)\n",
        "\n",
        "image_size = (224, 224)\n",
        "batch = 32"
      ]
    },
    {
      "cell_type": "code",
      "execution_count": 13,
      "id": "e95b7e5b",
      "metadata": {
        "id": "e95b7e5b"
      },
      "outputs": [],
      "source": [
        "model_path = f'/content/drive/MyDrive/msc_project/model/{title}'\n",
        "os.makedirs(model_path, exist_ok=True)"
      ]
    },
    {
      "cell_type": "code",
      "execution_count": 14,
      "id": "7ATMKowsaH4V",
      "metadata": {
        "colab": {
          "base_uri": "https://localhost:8080/"
        },
        "id": "7ATMKowsaH4V",
        "outputId": "372f5e08-4364-4e4b-942d-4a6f4296d2ac"
      },
      "outputs": [
        {
          "name": "stdout",
          "output_type": "stream",
          "text": [
            "Found 1626 images belonging to 2 classes.\n",
            "Found 483 images belonging to 2 classes.\n",
            "Found 483 images belonging to 2 classes.\n"
          ]
        }
      ],
      "source": [
        "datagen = ImageDataGenerator(\n",
        "    preprocessing_function= \\\n",
        "    tensorflow.keras.applications.mobilenet.preprocess_input)\n",
        "\n",
        "train_batches = datagen.flow_from_directory(train_dir,\n",
        "                                            target_size=(image_size),\n",
        "                                            batch_size=10)\n",
        "\n",
        "valid_batches = datagen.flow_from_directory(test_dir,\n",
        "                                            target_size=(image_size),\n",
        "                                            batch_size=10)\n",
        "\n",
        "# Note: shuffle=False causes the test dataset to not be shuffled\n",
        "test_batches = datagen.flow_from_directory(test_dir,\n",
        "                                            target_size=(image_size),\n",
        "                                            batch_size=1,\n",
        "                                            shuffle=False)"
      ]
    },
    {
      "cell_type": "code",
      "execution_count": 15,
      "id": "2GDPYOeaVw_n",
      "metadata": {
        "colab": {
          "base_uri": "https://localhost:8080/"
        },
        "id": "2GDPYOeaVw_n",
        "outputId": "b6d51f12-7c60-4453-a92a-8108257911f2"
      },
      "outputs": [
        {
          "data": {
            "text/plain": [
              "{'nevu': 0, 'seb': 1}"
            ]
          },
          "execution_count": 15,
          "metadata": {},
          "output_type": "execute_result"
        }
      ],
      "source": [
        "train_batches.class_indices"
      ]
    },
    {
      "cell_type": "code",
      "execution_count": 16,
      "id": "KiRi8zD6ZIyI",
      "metadata": {
        "colab": {
          "base_uri": "https://localhost:8080/"
        },
        "id": "KiRi8zD6ZIyI",
        "outputId": "3318fdcc-b6ea-442b-e230-73282f39fd2a"
      },
      "outputs": [
        {
          "data": {
            "text/plain": [
              "{'nevu': 0, 'seb': 1}"
            ]
          },
          "execution_count": 16,
          "metadata": {},
          "output_type": "execute_result"
        }
      ],
      "source": [
        "valid_batches.class_indices"
      ]
    },
    {
      "cell_type": "code",
      "execution_count": 17,
      "id": "kunFVJitV2gZ",
      "metadata": {
        "colab": {
          "base_uri": "https://localhost:8080/"
        },
        "id": "kunFVJitV2gZ",
        "outputId": "7396f2b1-bdba-4b5a-95da-2071f71a90f3"
      },
      "outputs": [
        {
          "name": "stdout",
          "output_type": "stream",
          "text": [
            "Number of images per class: Counter({0: 1372, 1: 254})\n"
          ]
        }
      ],
      "source": [
        "class_counts = Counter(train_batches.classes)\n",
        "print(\"Number of images per class:\", class_counts)\n"
      ]
    },
    {
      "cell_type": "code",
      "execution_count": 18,
      "id": "pZlJ57JkV_Pp",
      "metadata": {
        "colab": {
          "base_uri": "https://localhost:8080/"
        },
        "id": "pZlJ57JkV_Pp",
        "outputId": "2a650c57-0945-4f7c-ab70-6b5d7256d482"
      },
      "outputs": [
        {
          "name": "stdout",
          "output_type": "stream",
          "text": [
            "Number of images per class: {'nevu': 1372, 'seb': 254}\n"
          ]
        }
      ],
      "source": [
        "class_names = list(train_batches.class_indices.keys())\n",
        "class_counts_with_names = {class_names[idx]: count for idx, count in class_counts.items()}\n",
        "print(\"Number of images per class:\", class_counts_with_names)"
      ]
    },
    {
      "attachments": {},
      "cell_type": "markdown",
      "id": "626d53b1",
      "metadata": {},
      "source": [
        "Calculating the train, validation and test steps"
      ]
    },
    {
      "cell_type": "code",
      "execution_count": 19,
      "id": "FjZnz8QRO8xD",
      "metadata": {
        "id": "FjZnz8QRO8xD"
      },
      "outputs": [],
      "source": [
        "train_steps = np.ceil(train_batches.n / batch)\n",
        "test_steps = np.ceil(test_batches.n / batch)\n",
        "val_steps = np.ceil(valid_batches.n / batch)"
      ]
    },
    {
      "attachments": {},
      "cell_type": "markdown",
      "id": "df9a2d01",
      "metadata": {},
      "source": [
        "Model Training"
      ]
    },
    {
      "cell_type": "code",
      "execution_count": 20,
      "id": "lQnHiksDahxQ",
      "metadata": {
        "id": "lQnHiksDahxQ"
      },
      "outputs": [],
      "source": [
        "early_stopping = EarlyStopping(monitor='val_loss',patience=8)\n",
        "\n",
        "checkpointer = tf.keras.callbacks.ModelCheckpoint(filepath = 'model.hdf5',\n",
        "                                                  monitor = 'val_accuracy',\n",
        "                                                  verbose = 1,\n",
        "                                                  save_best_only = True,\n",
        "                                                  save_weights_only = True,\n",
        "                                                  mode = 'max')\n",
        "\n",
        "def step_decay(epoch):\n",
        "    initial_lrate = 0.00002\n",
        "    drop = 0.1\n",
        "    epochs_drop = 10.0\n",
        "    lrate = initial_lrate * math.pow(drop, math.floor((1+epoch)/epochs_drop))\n",
        "    return lrate\n",
        "\n",
        "lr_scheduler = tf.keras.callbacks.LearningRateScheduler(step_decay, verbose=1)"
      ]
    },
    {
      "cell_type": "code",
      "execution_count": 21,
      "id": "t9YyA-CMalyq",
      "metadata": {
        "id": "t9YyA-CMalyq"
      },
      "outputs": [],
      "source": [
        "callbacks = [early_stopping, checkpointer, lr_scheduler]"
      ]
    },
    {
      "cell_type": "code",
      "execution_count": 22,
      "id": "h0jl4qCjapIq",
      "metadata": {
        "colab": {
          "base_uri": "https://localhost:8080/"
        },
        "id": "h0jl4qCjapIq",
        "outputId": "239091bc-c4e1-47ca-f3df-922e6b4aedf7"
      },
      "outputs": [
        {
          "name": "stderr",
          "output_type": "stream",
          "text": [
            "<ipython-input-22-13082ddda168>:1: UserWarning: `Model.fit_generator` is deprecated and will be removed in a future version. Please use `Model.fit`, which supports generators.\n",
            "  history = model.fit_generator(train_batches, steps_per_epoch=train_steps,\n"
          ]
        },
        {
          "name": "stdout",
          "output_type": "stream",
          "text": [
            "\n",
            "Epoch 1: LearningRateScheduler setting learning rate to 2e-05.\n",
            "Epoch 1/30\n",
            "51/51 [==============================] - ETA: 0s - loss: 0.4171 - accuracy: 0.8275\n",
            "Epoch 1: val_accuracy improved from -inf to 0.78125, saving model to model.hdf5\n",
            "51/51 [==============================] - 131s 1s/step - loss: 0.4171 - accuracy: 0.8275 - val_loss: 0.4529 - val_accuracy: 0.7812 - lr: 2.0000e-05\n",
            "\n",
            "Epoch 2: LearningRateScheduler setting learning rate to 2e-05.\n",
            "Epoch 2/30\n",
            "51/51 [==============================] - ETA: 0s - loss: 0.2500 - accuracy: 0.9020\n",
            "Epoch 2: val_accuracy improved from 0.78125 to 0.83750, saving model to model.hdf5\n",
            "51/51 [==============================] - 47s 926ms/step - loss: 0.2500 - accuracy: 0.9020 - val_loss: 0.4605 - val_accuracy: 0.8375 - lr: 2.0000e-05\n",
            "\n",
            "Epoch 3: LearningRateScheduler setting learning rate to 2e-05.\n",
            "Epoch 3/30\n",
            "51/51 [==============================] - ETA: 0s - loss: 0.2611 - accuracy: 0.8913\n",
            "Epoch 3: val_accuracy did not improve from 0.83750\n",
            "51/51 [==============================] - 42s 834ms/step - loss: 0.2611 - accuracy: 0.8913 - val_loss: 0.3455 - val_accuracy: 0.8250 - lr: 2.0000e-05\n",
            "\n",
            "Epoch 4: LearningRateScheduler setting learning rate to 2e-05.\n",
            "Epoch 4/30\n",
            "51/51 [==============================] - ETA: 0s - loss: 0.2419 - accuracy: 0.9111\n",
            "Epoch 4: val_accuracy improved from 0.83750 to 0.88750, saving model to model.hdf5\n",
            "51/51 [==============================] - 31s 603ms/step - loss: 0.2419 - accuracy: 0.9111 - val_loss: 0.3441 - val_accuracy: 0.8875 - lr: 2.0000e-05\n",
            "\n",
            "Epoch 5: LearningRateScheduler setting learning rate to 2e-05.\n",
            "Epoch 5/30\n",
            "51/51 [==============================] - ETA: 0s - loss: 0.1729 - accuracy: 0.9368\n",
            "Epoch 5: val_accuracy did not improve from 0.88750\n",
            "51/51 [==============================] - 27s 538ms/step - loss: 0.1729 - accuracy: 0.9368 - val_loss: 0.4440 - val_accuracy: 0.7937 - lr: 2.0000e-05\n",
            "\n",
            "Epoch 6: LearningRateScheduler setting learning rate to 2e-05.\n",
            "Epoch 6/30\n",
            "51/51 [==============================] - ETA: 0s - loss: 0.1531 - accuracy: 0.9549\n",
            "Epoch 6: val_accuracy did not improve from 0.88750\n",
            "51/51 [==============================] - 26s 506ms/step - loss: 0.1531 - accuracy: 0.9549 - val_loss: 0.3053 - val_accuracy: 0.8562 - lr: 2.0000e-05\n",
            "\n",
            "Epoch 7: LearningRateScheduler setting learning rate to 2e-05.\n",
            "Epoch 7/30\n",
            "51/51 [==============================] - ETA: 0s - loss: 0.1570 - accuracy: 0.9506\n",
            "Epoch 7: val_accuracy did not improve from 0.88750\n",
            "51/51 [==============================] - 26s 514ms/step - loss: 0.1570 - accuracy: 0.9506 - val_loss: 0.4325 - val_accuracy: 0.8250 - lr: 2.0000e-05\n",
            "\n",
            "Epoch 8: LearningRateScheduler setting learning rate to 2e-05.\n",
            "Epoch 8/30\n",
            "51/51 [==============================] - ETA: 0s - loss: 0.1681 - accuracy: 0.9490\n",
            "Epoch 8: val_accuracy did not improve from 0.88750\n",
            "51/51 [==============================] - 27s 525ms/step - loss: 0.1681 - accuracy: 0.9490 - val_loss: 0.2778 - val_accuracy: 0.8813 - lr: 2.0000e-05\n",
            "\n",
            "Epoch 9: LearningRateScheduler setting learning rate to 2e-05.\n",
            "Epoch 9/30\n",
            "51/51 [==============================] - ETA: 0s - loss: 0.1000 - accuracy: 0.9723\n",
            "Epoch 9: val_accuracy did not improve from 0.88750\n",
            "51/51 [==============================] - 27s 528ms/step - loss: 0.1000 - accuracy: 0.9723 - val_loss: 0.3721 - val_accuracy: 0.8375 - lr: 2.0000e-05\n",
            "\n",
            "Epoch 10: LearningRateScheduler setting learning rate to 2.0000000000000003e-06.\n",
            "Epoch 10/30\n",
            "51/51 [==============================] - ETA: 0s - loss: 0.1231 - accuracy: 0.9686\n",
            "Epoch 10: val_accuracy did not improve from 0.88750\n",
            "51/51 [==============================] - 25s 478ms/step - loss: 0.1231 - accuracy: 0.9686 - val_loss: 0.4109 - val_accuracy: 0.8500 - lr: 2.0000e-06\n",
            "\n",
            "Epoch 11: LearningRateScheduler setting learning rate to 2.0000000000000003e-06.\n",
            "Epoch 11/30\n",
            "51/51 [==============================] - ETA: 0s - loss: 0.1327 - accuracy: 0.9549\n",
            "Epoch 11: val_accuracy did not improve from 0.88750\n",
            "51/51 [==============================] - 24s 470ms/step - loss: 0.1327 - accuracy: 0.9549 - val_loss: 0.3243 - val_accuracy: 0.8875 - lr: 2.0000e-06\n",
            "\n",
            "Epoch 12: LearningRateScheduler setting learning rate to 2.0000000000000003e-06.\n",
            "Epoch 12/30\n",
            "51/51 [==============================] - ETA: 0s - loss: 0.0896 - accuracy: 0.9804\n",
            "Epoch 12: val_accuracy improved from 0.88750 to 0.90625, saving model to model.hdf5\n",
            "51/51 [==============================] - 26s 502ms/step - loss: 0.0896 - accuracy: 0.9804 - val_loss: 0.2785 - val_accuracy: 0.9062 - lr: 2.0000e-06\n",
            "\n",
            "Epoch 13: LearningRateScheduler setting learning rate to 2.0000000000000003e-06.\n",
            "Epoch 13/30\n",
            "51/51 [==============================] - ETA: 0s - loss: 0.1077 - accuracy: 0.9667\n",
            "Epoch 13: val_accuracy did not improve from 0.90625\n",
            "51/51 [==============================] - 24s 472ms/step - loss: 0.1077 - accuracy: 0.9667 - val_loss: 0.2769 - val_accuracy: 0.8938 - lr: 2.0000e-06\n",
            "\n",
            "Epoch 14: LearningRateScheduler setting learning rate to 2.0000000000000003e-06.\n",
            "Epoch 14/30\n",
            "51/51 [==============================] - ETA: 0s - loss: 0.1038 - accuracy: 0.9704\n",
            "Epoch 14: val_accuracy did not improve from 0.90625\n",
            "51/51 [==============================] - 27s 529ms/step - loss: 0.1038 - accuracy: 0.9704 - val_loss: 0.3125 - val_accuracy: 0.8875 - lr: 2.0000e-06\n",
            "\n",
            "Epoch 15: LearningRateScheduler setting learning rate to 2.0000000000000003e-06.\n",
            "Epoch 15/30\n",
            "51/51 [==============================] - ETA: 0s - loss: 0.1015 - accuracy: 0.9704\n",
            "Epoch 15: val_accuracy did not improve from 0.90625\n",
            "51/51 [==============================] - 27s 520ms/step - loss: 0.1015 - accuracy: 0.9704 - val_loss: 0.2842 - val_accuracy: 0.8938 - lr: 2.0000e-06\n",
            "\n",
            "Epoch 16: LearningRateScheduler setting learning rate to 2.0000000000000003e-06.\n",
            "Epoch 16/30\n",
            "51/51 [==============================] - ETA: 0s - loss: 0.0897 - accuracy: 0.9784\n",
            "Epoch 16: val_accuracy did not improve from 0.90625\n",
            "51/51 [==============================] - 24s 474ms/step - loss: 0.0897 - accuracy: 0.9784 - val_loss: 0.2832 - val_accuracy: 0.9000 - lr: 2.0000e-06\n",
            "\n",
            "Epoch 17: LearningRateScheduler setting learning rate to 2.0000000000000003e-06.\n",
            "Epoch 17/30\n",
            "51/51 [==============================] - ETA: 0s - loss: 0.0979 - accuracy: 0.9784\n",
            "Epoch 17: val_accuracy did not improve from 0.90625\n",
            "51/51 [==============================] - 24s 480ms/step - loss: 0.0979 - accuracy: 0.9784 - val_loss: 0.2913 - val_accuracy: 0.9062 - lr: 2.0000e-06\n",
            "\n",
            "Epoch 18: LearningRateScheduler setting learning rate to 2.0000000000000003e-06.\n",
            "Epoch 18/30\n",
            "51/51 [==============================] - ETA: 0s - loss: 0.0910 - accuracy: 0.9743\n",
            "Epoch 18: val_accuracy did not improve from 0.90625\n",
            "51/51 [==============================] - 24s 468ms/step - loss: 0.0910 - accuracy: 0.9743 - val_loss: 0.3321 - val_accuracy: 0.8750 - lr: 2.0000e-06\n",
            "\n",
            "Epoch 19: LearningRateScheduler setting learning rate to 2.0000000000000003e-06.\n",
            "Epoch 19/30\n",
            "51/51 [==============================] - ETA: 0s - loss: 0.0803 - accuracy: 0.9843\n",
            "Epoch 19: val_accuracy improved from 0.90625 to 0.91875, saving model to model.hdf5\n",
            "51/51 [==============================] - 25s 494ms/step - loss: 0.0803 - accuracy: 0.9843 - val_loss: 0.2657 - val_accuracy: 0.9187 - lr: 2.0000e-06\n",
            "\n",
            "Epoch 20: LearningRateScheduler setting learning rate to 2.0000000000000004e-07.\n",
            "Epoch 20/30\n",
            "51/51 [==============================] - ETA: 0s - loss: 0.0889 - accuracy: 0.9824\n",
            "Epoch 20: val_accuracy did not improve from 0.91875\n",
            "51/51 [==============================] - 24s 472ms/step - loss: 0.0889 - accuracy: 0.9824 - val_loss: 0.3177 - val_accuracy: 0.8750 - lr: 2.0000e-07\n",
            "\n",
            "Epoch 21: LearningRateScheduler setting learning rate to 2.0000000000000004e-07.\n",
            "Epoch 21/30\n",
            "51/51 [==============================] - ETA: 0s - loss: 0.0879 - accuracy: 0.9804\n",
            "Epoch 21: val_accuracy did not improve from 0.91875\n",
            "51/51 [==============================] - 24s 477ms/step - loss: 0.0879 - accuracy: 0.9804 - val_loss: 0.3564 - val_accuracy: 0.8750 - lr: 2.0000e-07\n",
            "\n",
            "Epoch 22: LearningRateScheduler setting learning rate to 2.0000000000000004e-07.\n",
            "Epoch 22/30\n",
            "51/51 [==============================] - ETA: 0s - loss: 0.0960 - accuracy: 0.9784\n",
            "Epoch 22: val_accuracy did not improve from 0.91875\n",
            "51/51 [==============================] - 24s 478ms/step - loss: 0.0960 - accuracy: 0.9784 - val_loss: 0.3051 - val_accuracy: 0.8938 - lr: 2.0000e-07\n",
            "\n",
            "Epoch 23: LearningRateScheduler setting learning rate to 2.0000000000000004e-07.\n",
            "Epoch 23/30\n",
            "51/51 [==============================] - ETA: 0s - loss: 0.0972 - accuracy: 0.9784\n",
            "Epoch 23: val_accuracy improved from 0.91875 to 0.92500, saving model to model.hdf5\n",
            "51/51 [==============================] - 25s 494ms/step - loss: 0.0972 - accuracy: 0.9784 - val_loss: 0.2054 - val_accuracy: 0.9250 - lr: 2.0000e-07\n",
            "\n",
            "Epoch 24: LearningRateScheduler setting learning rate to 2.0000000000000004e-07.\n",
            "Epoch 24/30\n",
            "51/51 [==============================] - ETA: 0s - loss: 0.0575 - accuracy: 0.9922\n",
            "Epoch 24: val_accuracy did not improve from 0.92500\n",
            "51/51 [==============================] - 24s 474ms/step - loss: 0.0575 - accuracy: 0.9922 - val_loss: 0.3098 - val_accuracy: 0.8875 - lr: 2.0000e-07\n",
            "\n",
            "Epoch 25: LearningRateScheduler setting learning rate to 2.0000000000000004e-07.\n",
            "Epoch 25/30\n",
            "51/51 [==============================] - ETA: 0s - loss: 0.0813 - accuracy: 0.9824\n",
            "Epoch 25: val_accuracy improved from 0.92500 to 0.93125, saving model to model.hdf5\n",
            "51/51 [==============================] - 26s 510ms/step - loss: 0.0813 - accuracy: 0.9824 - val_loss: 0.2029 - val_accuracy: 0.9312 - lr: 2.0000e-07\n",
            "\n",
            "Epoch 26: LearningRateScheduler setting learning rate to 2.0000000000000004e-07.\n",
            "Epoch 26/30\n",
            "51/51 [==============================] - ETA: 0s - loss: 0.0856 - accuracy: 0.9802\n",
            "Epoch 26: val_accuracy did not improve from 0.93125\n",
            "51/51 [==============================] - 24s 468ms/step - loss: 0.0856 - accuracy: 0.9802 - val_loss: 0.2657 - val_accuracy: 0.9125 - lr: 2.0000e-07\n",
            "\n",
            "Epoch 27: LearningRateScheduler setting learning rate to 2.0000000000000004e-07.\n",
            "Epoch 27/30\n",
            "51/51 [==============================] - ETA: 0s - loss: 0.0895 - accuracy: 0.9804\n",
            "Epoch 27: val_accuracy did not improve from 0.93125\n",
            "51/51 [==============================] - 25s 481ms/step - loss: 0.0895 - accuracy: 0.9804 - val_loss: 0.3395 - val_accuracy: 0.8750 - lr: 2.0000e-07\n",
            "\n",
            "Epoch 28: LearningRateScheduler setting learning rate to 2.0000000000000004e-07.\n",
            "Epoch 28/30\n",
            "51/51 [==============================] - ETA: 0s - loss: 0.0727 - accuracy: 0.9882\n",
            "Epoch 28: val_accuracy improved from 0.93125 to 0.93750, saving model to model.hdf5\n",
            "51/51 [==============================] - 25s 499ms/step - loss: 0.0727 - accuracy: 0.9882 - val_loss: 0.2203 - val_accuracy: 0.9375 - lr: 2.0000e-07\n",
            "\n",
            "Epoch 29: LearningRateScheduler setting learning rate to 2.0000000000000004e-07.\n",
            "Epoch 29/30\n",
            "51/51 [==============================] - ETA: 0s - loss: 0.1001 - accuracy: 0.9784\n",
            "Epoch 29: val_accuracy did not improve from 0.93750\n",
            "51/51 [==============================] - 24s 467ms/step - loss: 0.1001 - accuracy: 0.9784 - val_loss: 0.2657 - val_accuracy: 0.9125 - lr: 2.0000e-07\n",
            "\n",
            "Epoch 30: LearningRateScheduler setting learning rate to 2.0000000000000007e-08.\n",
            "Epoch 30/30\n",
            "51/51 [==============================] - ETA: 0s - loss: 0.0745 - accuracy: 0.9824\n",
            "Epoch 30: val_accuracy did not improve from 0.93750\n",
            "51/51 [==============================] - 24s 477ms/step - loss: 0.0745 - accuracy: 0.9824 - val_loss: 0.3080 - val_accuracy: 0.8875 - lr: 2.0000e-08\n"
          ]
        }
      ],
      "source": [
        "history = model.fit_generator(train_batches, steps_per_epoch=train_steps,\n",
        "                              validation_data=valid_batches,\n",
        "                              validation_steps=test_steps,\n",
        "                              epochs=30,\n",
        "                              callbacks=callbacks)"
      ]
    },
    {
      "cell_type": "code",
      "execution_count": 23,
      "id": "tJVtJ6W2PNQi",
      "metadata": {
        "id": "tJVtJ6W2PNQi"
      },
      "outputs": [],
      "source": [
        "# Compile the model\n",
        "model.compile(optimizer='adam',loss='binary_crossentropy',metrics=['accuracy'])"
      ]
    },
    {
      "cell_type": "code",
      "execution_count": 24,
      "id": "1a6c5f39",
      "metadata": {
        "colab": {
          "base_uri": "https://localhost:8080/",
          "height": 904
        },
        "id": "1a6c5f39",
        "outputId": "bc2f13e2-2a50-494e-d835-801b29c16135"
      },
      "outputs": [
        {
          "data": {
            "image/png": "[encoded data removed]",
            "text/plain": [
              "<Figure size 640x480 with 1 Axes>"
            ]
          },
          "metadata": {},
          "output_type": "display_data"
        },
        {
          "data": {
            "image/png": "[encoded data removed]",
            "text/plain": [
              "<Figure size 640x480 with 1 Axes>"
            ]
          },
          "metadata": {},
          "output_type": "display_data"
        },
        {
          "data": {
            "text/plain": [
              "<Figure size 640x480 with 0 Axes>"
            ]
          },
          "metadata": {},
          "output_type": "display_data"
        }
      ],
      "source": [
        "graph_it(history)"
      ]
    },
    {
      "cell_type": "markdown",
      "id": "1a1bbbee",
      "metadata": {
        "id": "1a1bbbee"
      },
      "source": [
        "**Model Evaluation using test data**"
      ]
    },
    {
      "cell_type": "code",
      "execution_count": 25,
      "id": "f7da54c9",
      "metadata": {
        "colab": {
          "base_uri": "https://localhost:8080/",
          "height": 1000
        },
        "id": "f7da54c9",
        "outputId": "497cf17e-0b33-4d1a-c0f5-24517d13652d"
      },
      "outputs": [
        {
          "name": "stdout",
          "output_type": "stream",
          "text": [
            "483/483 [==============================] - 23s 39ms/step\n"
          ]
        },
        {
          "data": {
            "image/png": "[encoded data removed]",
            "text/plain": [
              "<Figure size 640x480 with 2 Axes>"
            ]
          },
          "metadata": {},
          "output_type": "display_data"
        },
        {
          "name": "stdout",
          "output_type": "stream",
          "text": [
            "\n",
            "               precision    recall  f1-score   support\n",
            "\n",
            "           0       0.94      0.93      0.94       393\n",
            "           1       0.71      0.74      0.73        90\n",
            "\n",
            "    accuracy                           0.90       483\n",
            "   macro avg       0.83      0.84      0.83       483\n",
            "weighted avg       0.90      0.90      0.90       483\n",
            "\n",
            "Sensitivity: 0.744 Specificity: 0.931 Precision: 0.898 ROC_AUC_SCORE: 0.905\n",
            "\n"
          ]
        },
        {
          "data": {
            "image/png": "[encoded data removed]",
            "text/plain": [
              "<Figure size 400x400 with 1 Axes>"
            ]
          },
          "metadata": {},
          "output_type": "display_data"
        }
      ],
      "source": [
        "model.load_weights(filepath = 'model.hdf5')\n",
        "test_it(model, test_batches)"
      ]
    },
    {
      "cell_type": "code",
      "execution_count": 26,
      "id": "aTd2X0IOBWcH",
      "metadata": {
        "colab": {
          "base_uri": "https://localhost:8080/"
        },
        "id": "aTd2X0IOBWcH",
        "outputId": "dd7efe0d-52ca-4132-e350-1db83df8809b"
      },
      "outputs": [
        {
          "name": "stdout",
          "output_type": "stream",
          "text": [
            "\r  1/483 [..............................] - ETA: 37s"
          ]
        },
        {
          "name": "stderr",
          "output_type": "stream",
          "text": [
            "<ipython-input-26-3377af50feee>:3: UserWarning: `Model.predict_generator` is deprecated and will be removed in a future version. Please use `Model.predict`, which supports generators.\n",
            "  predictions = model.predict_generator(test_batches, steps=len(test_batches), verbose=1)\n"
          ]
        },
        {
          "name": "stdout",
          "output_type": "stream",
          "text": [
            "483/483 [==============================] - 21s 43ms/step\n",
            "Confusion Matrix : \n",
            " [[366  27]\n",
            " [ 23  67]]\n",
            "Accuracy :  0.8964803312629399\n",
            "Sensitivity :  0.9408740359897172\n",
            "Specificity :  0.7127659574468085\n"
          ]
        }
      ],
      "source": [
        "from sklearn.metrics import confusion_matrix\n",
        "\n",
        "predictions = model.predict_generator(test_batches, steps=len(test_batches), verbose=1)\n",
        "\n",
        "y_pred = np.argmax(predictions, axis=1)\n",
        "targetnames = ['mel','sb_nv']\n",
        "y_true = test_batches.classes\n",
        "\n",
        "cm1 = confusion_matrix(y_true,y_pred)\n",
        "print('Confusion Matrix : \\n', cm1)\n",
        "\n",
        "total1=sum(sum(cm1))\n",
        "#####from confusion matrix calculate accuracy\n",
        "accuracy1=(cm1[0,0]+cm1[1,1])/total1\n",
        "print ('Accuracy : ', accuracy1)\n",
        "\n",
        "sensitivity1 = cm1[0,0]/(cm1[0,0]+cm1[1,0])\n",
        "print('Sensitivity : ', sensitivity1 )\n",
        "\n",
        "specificity1 = cm1[1,1]/(cm1[1,1]+cm1[0,1])\n",
        "print('Specificity : ', specificity1)"
      ]
    },
    {
      "cell_type": "code",
      "execution_count": 26,
      "id": "b0c097c1",
      "metadata": {
        "id": "b0c097c1"
      },
      "outputs": [],
      "source": []
    }
  ],
  "metadata": {
    "accelerator": "GPU",
    "colab": {
      "gpuType": "T4",
      "provenance": []
    },
    "kernelspec": {
      "display_name": "Python 3",
      "name": "python3"
    },
    "language_info": {
      "codemirror_mode": {
        "name": "ipython",
        "version": 3
      },
      "file_extension": ".py",
      "mimetype": "text/x-python",
      "name": "python",
      "nbconvert_exporter": "python",
      "pygments_lexer": "ipython3",
      "version": "3.10.12"
    },
    "papermill": {
      "default_parameters": {},
      "duration": 6543.181713,
      "end_time": "2023-08-10T12:04:30.031582",
      "environment_variables": {},
      "exception": null,
      "input_path": "__notebook__.ipynb",
      "output_path": "__notebook__.ipynb",
      "parameters": {},
      "start_time": "2023-08-10T10:15:26.849869",
      "version": "2.4.0"
    }
  },
  "nbformat": 4,
  "nbformat_minor": 5
}
