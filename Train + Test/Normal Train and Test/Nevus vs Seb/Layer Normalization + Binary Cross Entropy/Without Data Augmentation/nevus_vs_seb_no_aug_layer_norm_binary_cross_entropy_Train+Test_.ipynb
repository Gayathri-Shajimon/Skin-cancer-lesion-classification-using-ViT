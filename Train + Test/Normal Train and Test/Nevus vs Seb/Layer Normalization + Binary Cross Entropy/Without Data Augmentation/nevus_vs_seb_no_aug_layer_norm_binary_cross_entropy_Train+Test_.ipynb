{
  "cells": [
    {
      "cell_type": "code",
      "execution_count": 1,
      "id": "37d225cc",
      "metadata": {
        "colab": {
          "base_uri": "https://localhost:8080/"
        },
        "id": "37d225cc",
        "outputId": "3a308966-56d6-4eb5-980c-5911ac5376b6"
      },
      "outputs": [
        {
          "name": "stdout",
          "output_type": "stream",
          "text": [
            "Collecting tensorflow_addons\n",
            "  Downloading tensorflow_addons-0.21.0-cp310-cp310-manylinux_2_17_x86_64.manylinux2014_x86_64.whl (612 kB)\n",
            "\u001b[2K     \u001b[90m━━━━━━━━━━━━━━━━━━━━━━━━━━━━━━━━━━━━━━━\u001b[0m \u001b[32m612.1/612.1 kB\u001b[0m \u001b[31m4.7 MB/s\u001b[0m eta \u001b[36m0:00:00\u001b[0m\n",
            "\u001b[?25hRequirement already satisfied: packaging in /usr/local/lib/python3.10/dist-packages (from tensorflow_addons) (23.1)\n",
            "Collecting typeguard<3.0.0,>=2.7 (from tensorflow_addons)\n",
            "  Downloading typeguard-2.13.3-py3-none-any.whl (17 kB)\n",
            "Installing collected packages: typeguard, tensorflow_addons\n",
            "Successfully installed tensorflow_addons-0.21.0 typeguard-2.13.3\n"
          ]
        }
      ],
      "source": [
        "!pip install --quiet vit-keras\n",
        "!pip install tensorflow_addons"
      ]
    },
    {
      "attachments": {},
      "cell_type": "markdown",
      "id": "81407766",
      "metadata": {},
      "source": [
        "Mount google drive"
      ]
    },
    {
      "cell_type": "code",
      "execution_count": 2,
      "id": "4dc3645e",
      "metadata": {
        "colab": {
          "base_uri": "https://localhost:8080/"
        },
        "id": "4dc3645e",
        "outputId": "807823ca-85b8-4651-c971-a83902e19c53"
      },
      "outputs": [
        {
          "name": "stdout",
          "output_type": "stream",
          "text": [
            "Mounted at /content/drive\n"
          ]
        }
      ],
      "source": [
        "from google.colab import drive\n",
        "drive.mount('/content/drive')"
      ]
    },
    {
      "cell_type": "code",
      "execution_count": 4,
      "id": "afe143c1",
      "metadata": {
        "colab": {
          "base_uri": "https://localhost:8080/"
        },
        "id": "afe143c1",
        "outputId": "d2a97b07-c4ab-4a83-9470-987ae0573b46"
      },
      "outputs": [
        {
          "name": "stderr",
          "output_type": "stream",
          "text": [
            "/usr/local/lib/python3.10/dist-packages/tensorflow_addons/utils/tfa_eol_msg.py:23: UserWarning: \n",
            "\n",
            "TensorFlow Addons (TFA) has ended development and introduction of new features.\n",
            "TFA has entered a minimal maintenance and release mode until a planned end of life in May 2024.\n",
            "Please modify downstream libraries to take dependencies from other repositories in our TensorFlow community (e.g. Keras, Keras-CV, and Keras-NLP). \n",
            "\n",
            "For more information see: https://github.com/tensorflow/addons/issues/2807 \n",
            "\n",
            "  warnings.warn(\n"
          ]
        }
      ],
      "source": [
        "import matplotlib.pyplot as plt\n",
        "import numpy as np\n",
        "import pandas as pd\n",
        "import os\n",
        "from glob import glob\n",
        "import seaborn as sns\n",
        "from PIL import Image\n",
        "np.random.seed(123)\n",
        "from sklearn.preprocessing import label_binarize\n",
        "from sklearn.metrics import confusion_matrix\n",
        "import itertools\n",
        "import keras\n",
        "from keras import backend as K\n",
        "import tensorflow\n",
        "from tensorflow.keras.layers import Dropout, Dense, LayerNormalization, Flatten\n",
        "from tensorflow.keras.activations import gelu\n",
        "from tensorflow.keras.optimizers import Adam, SGD\n",
        "from tensorflow.keras.metrics import categorical_crossentropy\n",
        "from tensorflow.keras.preprocessing.image import ImageDataGenerator\n",
        "from tensorflow.keras.models import Model\n",
        "from tensorflow.keras.callbacks import EarlyStopping, ReduceLROnPlateau, ModelCheckpoint\n",
        "from vit_keras import vit\n",
        "import tensorflow_addons as tfa\n",
        "import math\n",
        "from sklearn.metrics import confusion_matrix\n",
        "from sklearn.model_selection import train_test_split\n",
        "import itertools\n",
        "import shutil\n",
        "import matplotlib.pyplot as plt\n",
        "from zipfile import ZipFile\n",
        "import time\n",
        "from sklearn.model_selection import StratifiedKFold, KFold\n",
        "from sklearn.metrics import roc_auc_score\n",
        "from sklearn.metrics import  precision_score, recall_score, accuracy_score\n",
        "from sklearn.metrics import roc_curve, auc\n",
        "from sklearn.metrics import classification_report\n",
        "import tensorflow as tf\n",
        "from tensorflow.keras import backend as K"
      ]
    },
    {
      "attachments": {},
      "cell_type": "markdown",
      "id": "16f5b482",
      "metadata": {},
      "source": [
        "Initializing the ViT Model"
      ]
    },
    {
      "cell_type": "code",
      "execution_count": 5,
      "id": "0d8eb2cb",
      "metadata": {
        "colab": {
          "base_uri": "https://localhost:8080/"
        },
        "id": "0d8eb2cb",
        "outputId": "b4cd6b5f-4d11-4186-a1d0-f9eb6aa50afa"
      },
      "outputs": [
        {
          "name": "stdout",
          "output_type": "stream",
          "text": [
            "Downloading data from https://github.com/faustomorales/vit-keras/releases/download/dl/ViT-B_16_imagenet21k+imagenet2012.npz\n",
            "347502902/347502902 [==============================] - 20s 0us/step\n"
          ]
        },
        {
          "name": "stderr",
          "output_type": "stream",
          "text": [
            "/usr/local/lib/python3.10/dist-packages/vit_keras/utils.py:81: UserWarning: Resizing position embeddings from 24, 24 to 14, 14\n",
            "  warnings.warn(\n"
          ]
        }
      ],
      "source": [
        "vit_model = vit.vit_b16(\n",
        "        image_size = 224,\n",
        "        activation = 'softmax',\n",
        "        pretrained = True,\n",
        "        include_top = False,\n",
        "        pretrained_top = False,\n",
        "        classes = 2)"
      ]
    },
    {
      "attachments": {},
      "cell_type": "markdown",
      "id": "e2918f7c",
      "metadata": {},
      "source": [
        "Adding Additional layers on top of ViT Model"
      ]
    },
    {
      "cell_type": "code",
      "execution_count": 6,
      "id": "cc2ced1b",
      "metadata": {
        "colab": {
          "base_uri": "https://localhost:8080/"
        },
        "id": "cc2ced1b",
        "outputId": "aea6673d-9a6b-466d-c0f8-23c6ad6a3c56"
      },
      "outputs": [
        {
          "name": "stdout",
          "output_type": "stream",
          "text": [
            "Model: \"vision_transformer\"\n",
            "_________________________________________________________________\n",
            " Layer (type)                Output Shape              Param #   \n",
            "=================================================================\n",
            " vit-b16 (Functional)        (None, 768)               85798656  \n",
            "                                                                 \n",
            " flatten (Flatten)           (None, 768)               0         \n",
            "                                                                 \n",
            " dense (Dense)               (None, 128)               98432     \n",
            "                                                                 \n",
            " dropout (Dropout)           (None, 128)               0         \n",
            "                                                                 \n",
            " layer_normalization (LayerN  (None, 128)              256       \n",
            " ormalization)                                                   \n",
            "                                                                 \n",
            " dense_1 (Dense)             (None, 32)                4128      \n",
            "                                                                 \n",
            " dropout_1 (Dropout)         (None, 32)                0         \n",
            "                                                                 \n",
            " layer_normalization_1 (Laye  (None, 32)               64        \n",
            " rNormalization)                                                 \n",
            "                                                                 \n",
            " dense_2 (Dense)             (None, 2)                 66        \n",
            "                                                                 \n",
            "=================================================================\n",
            "Total params: 85,901,602\n",
            "Trainable params: 85,901,602\n",
            "Non-trainable params: 0\n",
            "_________________________________________________________________\n"
          ]
        }
      ],
      "source": [
        "model = tensorflow.keras.Sequential([\n",
        "    vit_model,\n",
        "    Flatten(),\n",
        "    Dense(128, activation=gelu),\n",
        "    Dropout(0.1),\n",
        "    LayerNormalization(epsilon=.000002),\n",
        "    Dense(32, activation=gelu),\n",
        "    Dropout(0.1),\n",
        "    LayerNormalization(epsilon=.000002),\n",
        "    Dense(2, activation='softmax')\n",
        "], name='vision_transformer')\n",
        "\n",
        "model.summary()"
      ]
    },
    {
      "attachments": {},
      "cell_type": "markdown",
      "id": "e8ca219a",
      "metadata": {},
      "source": [
        "Compiling the model using Binary Cross Entropy"
      ]
    },
    {
      "cell_type": "code",
      "execution_count": 7,
      "id": "f90cf531",
      "metadata": {
        "id": "f90cf531"
      },
      "outputs": [],
      "source": [
        "model.compile(optimizer='adam',loss='binary_crossentropy',metrics=['accuracy'])"
      ]
    },
    {
      "attachments": {},
      "cell_type": "markdown",
      "id": "23dc4ee4",
      "metadata": {},
      "source": [
        "Function for plotting the graph of loss and accuracy"
      ]
    },
    {
      "cell_type": "code",
      "execution_count": 9,
      "id": "895825d0",
      "metadata": {
        "id": "895825d0"
      },
      "outputs": [],
      "source": [
        "def graph_it(history):\n",
        "  acc = history.history['accuracy']\n",
        "  val_acc = history.history['val_accuracy']\n",
        "  loss = history.history['loss']\n",
        "  val_loss = history.history['val_loss']\n",
        "  epochs = range(len(acc))\n",
        "\n",
        "  #Plotting graph for Train and Validation Accuracy\n",
        "  plt.plot(epochs, acc, 'r', label='Training accuracy')\n",
        "  plt.plot(epochs, val_acc, 'b', label='Validation accuracy')\n",
        "  plt.title('Model Accuracy: Training and Validation')\n",
        "  plt.legend(loc=0)\n",
        "  plt.figure()\n",
        "\n",
        "  #Plotting graph for Train and Validation Loss\n",
        "  plt.plot(epochs, loss, 'r', label='Training loss')\n",
        "  plt.plot(epochs, val_loss, 'b', label='Validation loss')\n",
        "  plt.title('Training and validation Loss')\n",
        "  plt.legend(loc=0)\n",
        "  plt.figure()\n"
      ]
    },
    {
      "attachments": {},
      "cell_type": "markdown",
      "id": "71aedd30",
      "metadata": {},
      "source": [
        "Function for Model Evaluation"
      ]
    },
    {
      "cell_type": "code",
      "execution_count": 10,
      "id": "d4a7c9c8",
      "metadata": {
        "id": "d4a7c9c8"
      },
      "outputs": [],
      "source": [
        "from sklearn.metrics import confusion_matrix, roc_auc_score, classification_report, precision_score, roc_curve, ConfusionMatrixDisplay\n",
        "\n",
        "def test_it(model, test_generator):\n",
        "    test_labels = test_generator.classes\n",
        "\n",
        "    predictions = model.predict(test_generator)\n",
        "    predicted_labels = np.argmax(predictions, axis=1)\n",
        "\n",
        "    cm = confusion_matrix(test_labels, predicted_labels)\n",
        "    disp = ConfusionMatrixDisplay(confusion_matrix=cm)\n",
        "    disp.plot()\n",
        "    plt.show()\n",
        "\n",
        "\n",
        "\n",
        "    roc = roc_auc_score(test_labels, predictions[:, 1])  # Assuming binary classification\n",
        "\n",
        "    # Calculate confusion matrix\n",
        "    tn, fp, fn, tp = confusion_matrix(test_labels, predicted_labels).ravel()\n",
        "\n",
        "    # Calculate sensitivity and specificity\n",
        "    sensitivity = tp / (tp + fn)\n",
        "    specificity = tn / (tn + fp)\n",
        "\n",
        "    report = classification_report(test_labels, predicted_labels)\n",
        "\n",
        "    precision = precision_score(test_labels, predicted_labels, average='weighted')\n",
        "\n",
        "    print(\"\\n\", report)\n",
        "    print(f\"Sensitivity: {round(sensitivity, 3)} Specificity: {round(specificity, 3)} Precision: {round(precision, 3)} ROC_AUC_SCORE: {round(roc, 3)}\\n\")\n",
        "\n",
        "    # Plot AUC-ROC curve\n",
        "    fpr, tpr, thresholds = roc_curve(test_labels, predictions[:, 1])\n",
        "    plt.figure(figsize=(4, 4))\n",
        "    plt.plot(fpr, tpr, label='ROC curve (area = %0.2f)' % roc)\n",
        "    plt.plot([0, 1], [0, 1], 'k--')  # Random guessing line\n",
        "    plt.xlim([0.0, 1.0])\n",
        "    plt.ylim([0.0, 1.0])\n",
        "    plt.xlabel('False Positive Rate')\n",
        "    plt.ylabel('True Positive Rate')\n",
        "    plt.title('Receiver Operating Characteristic (ROC) Curve')\n",
        "    plt.legend(loc=\"lower right\")\n",
        "    plt.show()"
      ]
    },
    {
      "cell_type": "code",
      "execution_count": 11,
      "id": "9671fe3a",
      "metadata": {
        "id": "9671fe3a"
      },
      "outputs": [],
      "source": [
        "# Set the directories for the data for task1 (SEB VS NEVUS)\n",
        "train_dir = \"/content/drive/MyDrive/msc_project/train_splited\"\n",
        "test_dir = \"/content/drive/MyDrive/msc_project/test_splited\"\n",
        "val_dir = \"/content/drive/MyDrive/msc_project/val_splited\""
      ]
    },
    {
      "cell_type": "code",
      "execution_count": 12,
      "id": "e9e4b21a",
      "metadata": {
        "id": "e9e4b21a"
      },
      "outputs": [],
      "source": [
        "# Define the data generator\n",
        "datagen = ImageDataGenerator(\n",
        "    preprocessing_function= \\\n",
        "    tensorflow.keras.applications.mobilenet.preprocess_input)\n",
        "\n",
        "image_size = (224, 224)\n",
        "batch = 32"
      ]
    },
    {
      "attachments": {},
      "cell_type": "markdown",
      "id": "e377b3f7",
      "metadata": {},
      "source": [
        "Creating batches to improve memory optimization"
      ]
    },
    {
      "cell_type": "code",
      "execution_count": 14,
      "id": "7ATMKowsaH4V",
      "metadata": {
        "colab": {
          "base_uri": "https://localhost:8080/"
        },
        "id": "7ATMKowsaH4V",
        "outputId": "928b85cc-fa61-459f-b56a-5b4a747e49a5"
      },
      "outputs": [
        {
          "name": "stdout",
          "output_type": "stream",
          "text": [
            "Found 1626 images belonging to 2 classes.\n",
            "Found 483 images belonging to 2 classes.\n",
            "Found 483 images belonging to 2 classes.\n"
          ]
        }
      ],
      "source": [
        "\n",
        "train_batches = datagen.flow_from_directory(train_dir,\n",
        "                                            target_size=(image_size),\n",
        "                                            batch_size=10)\n",
        "\n",
        "valid_batches = datagen.flow_from_directory(test_dir,\n",
        "                                            target_size=(image_size),\n",
        "                                            batch_size=10)\n",
        "\n",
        "# Note: shuffle=False causes the test dataset to not be shuffled\n",
        "test_batches = datagen.flow_from_directory(test_dir,\n",
        "                                            target_size=(image_size),\n",
        "                                            batch_size=1,\n",
        "                                            shuffle=False)"
      ]
    },
    {
      "cell_type": "code",
      "execution_count": 15,
      "id": "2GDPYOeaVw_n",
      "metadata": {
        "colab": {
          "base_uri": "https://localhost:8080/"
        },
        "id": "2GDPYOeaVw_n",
        "outputId": "2f423160-9187-4cb1-cb15-4337e0c6ea49"
      },
      "outputs": [
        {
          "data": {
            "text/plain": [
              "{'nevu': 0, 'seb': 1}"
            ]
          },
          "execution_count": 15,
          "metadata": {},
          "output_type": "execute_result"
        }
      ],
      "source": [
        "train_batches.class_indices"
      ]
    },
    {
      "cell_type": "code",
      "execution_count": 16,
      "id": "KiRi8zD6ZIyI",
      "metadata": {
        "colab": {
          "base_uri": "https://localhost:8080/"
        },
        "id": "KiRi8zD6ZIyI",
        "outputId": "bba243de-2bdc-4ab0-9e29-a278c1ddda9d"
      },
      "outputs": [
        {
          "data": {
            "text/plain": [
              "{'nevu': 0, 'seb': 1}"
            ]
          },
          "execution_count": 16,
          "metadata": {},
          "output_type": "execute_result"
        }
      ],
      "source": [
        "valid_batches.class_indices"
      ]
    },
    {
      "cell_type": "code",
      "execution_count": 17,
      "id": "kunFVJitV2gZ",
      "metadata": {
        "colab": {
          "base_uri": "https://localhost:8080/"
        },
        "id": "kunFVJitV2gZ",
        "outputId": "51a704d0-bd4a-4aa9-bacd-7642c9e467d4"
      },
      "outputs": [
        {
          "name": "stdout",
          "output_type": "stream",
          "text": [
            "Number of images per class: Counter({0: 1372, 1: 254})\n"
          ]
        }
      ],
      "source": [
        "from collections import Counter\n",
        "\n",
        "class_counts = Counter(train_batches.classes)\n",
        "print(\"Number of images per class:\", class_counts)\n"
      ]
    },
    {
      "cell_type": "code",
      "execution_count": 18,
      "id": "pZlJ57JkV_Pp",
      "metadata": {
        "colab": {
          "base_uri": "https://localhost:8080/"
        },
        "id": "pZlJ57JkV_Pp",
        "outputId": "bebc1e13-fc5a-471e-bd0b-019ab13cffaa"
      },
      "outputs": [
        {
          "name": "stdout",
          "output_type": "stream",
          "text": [
            "Number of images per class: {'nevu': 1372, 'seb': 254}\n"
          ]
        }
      ],
      "source": [
        "class_names = list(train_batches.class_indices.keys())\n",
        "class_counts_with_names = {class_names[idx]: count for idx, count in class_counts.items()}\n",
        "print(\"Number of images per class:\", class_counts_with_names)"
      ]
    },
    {
      "cell_type": "code",
      "execution_count": 19,
      "id": "FjZnz8QRO8xD",
      "metadata": {
        "id": "FjZnz8QRO8xD"
      },
      "outputs": [],
      "source": [
        "train_steps = np.ceil(train_batches.n / batch)\n",
        "test_steps = np.ceil(test_batches.n / batch)\n",
        "val_steps = np.ceil(valid_batches.n / batch)"
      ]
    },
    {
      "attachments": {},
      "cell_type": "markdown",
      "id": "d47b2bdb",
      "metadata": {},
      "source": [
        "Configuration of Early stopping criteria, learning rate"
      ]
    },
    {
      "cell_type": "code",
      "execution_count": 20,
      "id": "lQnHiksDahxQ",
      "metadata": {
        "id": "lQnHiksDahxQ"
      },
      "outputs": [],
      "source": [
        "early_stopping = EarlyStopping(monitor='val_loss',patience=8)\n",
        "\n",
        "checkpointer = tf.keras.callbacks.ModelCheckpoint(filepath = 'model.hdf5',\n",
        "                                                  monitor = 'val_accuracy',\n",
        "                                                  verbose = 1,\n",
        "                                                  save_best_only = True,\n",
        "                                                  save_weights_only = True,\n",
        "                                                  mode = 'max')\n",
        "\n",
        "def step_decay(epoch):\n",
        "    initial_lrate = 0.00002\n",
        "    drop = 0.1\n",
        "    epochs_drop = 10.0\n",
        "    lrate = initial_lrate * math.pow(drop, math.floor((1+epoch)/epochs_drop))\n",
        "    return lrate\n",
        "\n",
        "lr_scheduler = tf.keras.callbacks.LearningRateScheduler(step_decay, verbose=1)"
      ]
    },
    {
      "cell_type": "code",
      "execution_count": 21,
      "id": "t9YyA-CMalyq",
      "metadata": {
        "id": "t9YyA-CMalyq"
      },
      "outputs": [],
      "source": [
        "callbacks = [early_stopping, checkpointer, lr_scheduler]"
      ]
    },
    {
      "attachments": {},
      "cell_type": "markdown",
      "id": "aa70ce2a",
      "metadata": {},
      "source": [
        "Model Training"
      ]
    },
    {
      "cell_type": "code",
      "execution_count": 22,
      "id": "h0jl4qCjapIq",
      "metadata": {
        "colab": {
          "base_uri": "https://localhost:8080/"
        },
        "id": "h0jl4qCjapIq",
        "outputId": "6d4e8e24-1e66-479c-bf9c-9452187355dd"
      },
      "outputs": [
        {
          "name": "stderr",
          "output_type": "stream",
          "text": [
            "<ipython-input-22-13082ddda168>:1: UserWarning: `Model.fit_generator` is deprecated and will be removed in a future version. Please use `Model.fit`, which supports generators.\n",
            "  history = model.fit_generator(train_batches, steps_per_epoch=train_steps,\n"
          ]
        },
        {
          "name": "stdout",
          "output_type": "stream",
          "text": [
            "\n",
            "Epoch 1: LearningRateScheduler setting learning rate to 2e-05.\n",
            "Epoch 1/30\n",
            "51/51 [==============================] - ETA: 0s - loss: 0.4350 - accuracy: 0.8043\n",
            "Epoch 1: val_accuracy improved from -inf to 0.80625, saving model to model.hdf5\n",
            "51/51 [==============================] - 215s 3s/step - loss: 0.4350 - accuracy: 0.8043 - val_loss: 0.4904 - val_accuracy: 0.8062 - lr: 2.0000e-05\n",
            "\n",
            "Epoch 2: LearningRateScheduler setting learning rate to 2e-05.\n",
            "Epoch 2/30\n",
            "51/51 [==============================] - ETA: 0s - loss: 0.2572 - accuracy: 0.9091\n",
            "Epoch 2: val_accuracy improved from 0.80625 to 0.86875, saving model to model.hdf5\n",
            "51/51 [==============================] - 95s 2s/step - loss: 0.2572 - accuracy: 0.9091 - val_loss: 0.3135 - val_accuracy: 0.8687 - lr: 2.0000e-05\n",
            "\n",
            "Epoch 3: LearningRateScheduler setting learning rate to 2e-05.\n",
            "Epoch 3/30\n",
            "51/51 [==============================] - ETA: 0s - loss: 0.2391 - accuracy: 0.8980\n",
            "Epoch 3: val_accuracy did not improve from 0.86875\n",
            "51/51 [==============================] - 72s 1s/step - loss: 0.2391 - accuracy: 0.8980 - val_loss: 0.4321 - val_accuracy: 0.7688 - lr: 2.0000e-05\n",
            "\n",
            "Epoch 4: LearningRateScheduler setting learning rate to 2e-05.\n",
            "Epoch 4/30\n",
            "51/51 [==============================] - ETA: 0s - loss: 0.2065 - accuracy: 0.9118\n",
            "Epoch 4: val_accuracy did not improve from 0.86875\n",
            "51/51 [==============================] - 54s 1s/step - loss: 0.2065 - accuracy: 0.9118 - val_loss: 0.3610 - val_accuracy: 0.8500 - lr: 2.0000e-05\n",
            "\n",
            "Epoch 5: LearningRateScheduler setting learning rate to 2e-05.\n",
            "Epoch 5/30\n",
            "51/51 [==============================] - ETA: 0s - loss: 0.2011 - accuracy: 0.9314\n",
            "Epoch 5: val_accuracy did not improve from 0.86875\n",
            "51/51 [==============================] - 44s 865ms/step - loss: 0.2011 - accuracy: 0.9314 - val_loss: 0.3376 - val_accuracy: 0.8500 - lr: 2.0000e-05\n",
            "\n",
            "Epoch 6: LearningRateScheduler setting learning rate to 2e-05.\n",
            "Epoch 6/30\n",
            "51/51 [==============================] - ETA: 0s - loss: 0.1878 - accuracy: 0.9078\n",
            "Epoch 6: val_accuracy did not improve from 0.86875\n",
            "51/51 [==============================] - 33s 645ms/step - loss: 0.1878 - accuracy: 0.9078 - val_loss: 0.3399 - val_accuracy: 0.8313 - lr: 2.0000e-05\n",
            "\n",
            "Epoch 7: LearningRateScheduler setting learning rate to 2e-05.\n",
            "Epoch 7/30\n",
            "51/51 [==============================] - ETA: 0s - loss: 0.1515 - accuracy: 0.9387\n",
            "Epoch 7: val_accuracy improved from 0.86875 to 0.88125, saving model to model.hdf5\n",
            "51/51 [==============================] - 35s 689ms/step - loss: 0.1515 - accuracy: 0.9387 - val_loss: 0.2864 - val_accuracy: 0.8813 - lr: 2.0000e-05\n",
            "\n",
            "Epoch 8: LearningRateScheduler setting learning rate to 2e-05.\n",
            "Epoch 8/30\n",
            "51/51 [==============================] - ETA: 0s - loss: 0.1801 - accuracy: 0.9353\n",
            "Epoch 8: val_accuracy did not improve from 0.88125\n",
            "51/51 [==============================] - 30s 581ms/step - loss: 0.1801 - accuracy: 0.9353 - val_loss: 0.3028 - val_accuracy: 0.8562 - lr: 2.0000e-05\n",
            "\n",
            "Epoch 9: LearningRateScheduler setting learning rate to 2e-05.\n",
            "Epoch 9/30\n",
            "51/51 [==============================] - ETA: 0s - loss: 0.1024 - accuracy: 0.9605\n",
            "Epoch 9: val_accuracy improved from 0.88125 to 0.89375, saving model to model.hdf5\n",
            "51/51 [==============================] - 30s 587ms/step - loss: 0.1024 - accuracy: 0.9605 - val_loss: 0.2829 - val_accuracy: 0.8938 - lr: 2.0000e-05\n",
            "\n",
            "Epoch 10: LearningRateScheduler setting learning rate to 2.0000000000000003e-06.\n",
            "Epoch 10/30\n",
            "51/51 [==============================] - ETA: 0s - loss: 0.1058 - accuracy: 0.9684\n",
            "Epoch 10: val_accuracy did not improve from 0.89375\n",
            "51/51 [==============================] - 28s 546ms/step - loss: 0.1058 - accuracy: 0.9684 - val_loss: 0.3420 - val_accuracy: 0.8813 - lr: 2.0000e-06\n",
            "\n",
            "Epoch 11: LearningRateScheduler setting learning rate to 2.0000000000000003e-06.\n",
            "Epoch 11/30\n",
            "51/51 [==============================] - ETA: 0s - loss: 0.0986 - accuracy: 0.9765\n",
            "Epoch 11: val_accuracy did not improve from 0.89375\n",
            "51/51 [==============================] - 27s 529ms/step - loss: 0.0986 - accuracy: 0.9765 - val_loss: 0.2989 - val_accuracy: 0.8938 - lr: 2.0000e-06\n",
            "\n",
            "Epoch 12: LearningRateScheduler setting learning rate to 2.0000000000000003e-06.\n",
            "Epoch 12/30\n",
            "51/51 [==============================] - ETA: 0s - loss: 0.1270 - accuracy: 0.9529\n",
            "Epoch 12: val_accuracy did not improve from 0.89375\n",
            "51/51 [==============================] - 27s 529ms/step - loss: 0.1270 - accuracy: 0.9529 - val_loss: 0.3703 - val_accuracy: 0.8562 - lr: 2.0000e-06\n",
            "\n",
            "Epoch 13: LearningRateScheduler setting learning rate to 2.0000000000000003e-06.\n",
            "Epoch 13/30\n",
            "51/51 [==============================] - ETA: 0s - loss: 0.0801 - accuracy: 0.9804\n",
            "Epoch 13: val_accuracy did not improve from 0.89375\n",
            "51/51 [==============================] - 26s 518ms/step - loss: 0.0801 - accuracy: 0.9804 - val_loss: 0.2969 - val_accuracy: 0.8938 - lr: 2.0000e-06\n",
            "\n",
            "Epoch 14: LearningRateScheduler setting learning rate to 2.0000000000000003e-06.\n",
            "Epoch 14/30\n",
            "51/51 [==============================] - ETA: 0s - loss: 0.0723 - accuracy: 0.9863\n",
            "Epoch 14: val_accuracy did not improve from 0.89375\n",
            "51/51 [==============================] - 29s 560ms/step - loss: 0.0723 - accuracy: 0.9863 - val_loss: 0.2855 - val_accuracy: 0.8875 - lr: 2.0000e-06\n",
            "\n",
            "Epoch 15: LearningRateScheduler setting learning rate to 2.0000000000000003e-06.\n",
            "Epoch 15/30\n",
            "51/51 [==============================] - ETA: 0s - loss: 0.0810 - accuracy: 0.9824\n",
            "Epoch 15: val_accuracy improved from 0.89375 to 0.90625, saving model to model.hdf5\n",
            "51/51 [==============================] - 27s 536ms/step - loss: 0.0810 - accuracy: 0.9824 - val_loss: 0.2461 - val_accuracy: 0.9062 - lr: 2.0000e-06\n",
            "\n",
            "Epoch 16: LearningRateScheduler setting learning rate to 2.0000000000000003e-06.\n",
            "Epoch 16/30\n",
            "51/51 [==============================] - ETA: 0s - loss: 0.0703 - accuracy: 0.9842\n",
            "Epoch 16: val_accuracy did not improve from 0.90625\n",
            "51/51 [==============================] - 26s 507ms/step - loss: 0.0703 - accuracy: 0.9842 - val_loss: 0.3078 - val_accuracy: 0.8813 - lr: 2.0000e-06\n",
            "\n",
            "Epoch 17: LearningRateScheduler setting learning rate to 2.0000000000000003e-06.\n",
            "Epoch 17/30\n",
            "51/51 [==============================] - ETA: 0s - loss: 0.0629 - accuracy: 0.9842\n",
            "Epoch 17: val_accuracy improved from 0.90625 to 0.91250, saving model to model.hdf5\n",
            "51/51 [==============================] - 27s 522ms/step - loss: 0.0629 - accuracy: 0.9842 - val_loss: 0.2662 - val_accuracy: 0.9125 - lr: 2.0000e-06\n",
            "\n",
            "Epoch 18: LearningRateScheduler setting learning rate to 2.0000000000000003e-06.\n",
            "Epoch 18/30\n",
            "51/51 [==============================] - ETA: 0s - loss: 0.0639 - accuracy: 0.9842\n",
            "Epoch 18: val_accuracy did not improve from 0.91250\n",
            "51/51 [==============================] - 26s 507ms/step - loss: 0.0639 - accuracy: 0.9842 - val_loss: 0.2580 - val_accuracy: 0.9000 - lr: 2.0000e-06\n",
            "\n",
            "Epoch 19: LearningRateScheduler setting learning rate to 2.0000000000000003e-06.\n",
            "Epoch 19/30\n",
            "51/51 [==============================] - ETA: 0s - loss: 0.0613 - accuracy: 0.9824\n",
            "Epoch 19: val_accuracy did not improve from 0.91250\n",
            "51/51 [==============================] - 26s 510ms/step - loss: 0.0613 - accuracy: 0.9824 - val_loss: 0.2546 - val_accuracy: 0.8813 - lr: 2.0000e-06\n",
            "\n",
            "Epoch 20: LearningRateScheduler setting learning rate to 2.0000000000000004e-07.\n",
            "Epoch 20/30\n",
            "51/51 [==============================] - ETA: 0s - loss: 0.0736 - accuracy: 0.9824\n",
            "Epoch 20: val_accuracy did not improve from 0.91250\n",
            "51/51 [==============================] - 26s 516ms/step - loss: 0.0736 - accuracy: 0.9824 - val_loss: 0.2754 - val_accuracy: 0.9000 - lr: 2.0000e-07\n",
            "\n",
            "Epoch 21: LearningRateScheduler setting learning rate to 2.0000000000000004e-07.\n",
            "Epoch 21/30\n",
            "51/51 [==============================] - ETA: 0s - loss: 0.0679 - accuracy: 0.9822\n",
            "Epoch 21: val_accuracy did not improve from 0.91250\n",
            "51/51 [==============================] - 25s 497ms/step - loss: 0.0679 - accuracy: 0.9822 - val_loss: 0.3133 - val_accuracy: 0.8813 - lr: 2.0000e-07\n",
            "\n",
            "Epoch 22: LearningRateScheduler setting learning rate to 2.0000000000000004e-07.\n",
            "Epoch 22/30\n",
            "51/51 [==============================] - ETA: 0s - loss: 0.0674 - accuracy: 0.9822\n",
            "Epoch 22: val_accuracy did not improve from 0.91250\n",
            "51/51 [==============================] - 26s 510ms/step - loss: 0.0674 - accuracy: 0.9822 - val_loss: 0.3603 - val_accuracy: 0.8500 - lr: 2.0000e-07\n",
            "\n",
            "Epoch 23: LearningRateScheduler setting learning rate to 2.0000000000000004e-07.\n",
            "Epoch 23/30\n",
            "51/51 [==============================] - ETA: 0s - loss: 0.0610 - accuracy: 0.9843\n",
            "Epoch 23: val_accuracy did not improve from 0.91250\n",
            "51/51 [==============================] - 26s 503ms/step - loss: 0.0610 - accuracy: 0.9843 - val_loss: 0.1901 - val_accuracy: 0.9125 - lr: 2.0000e-07\n",
            "\n",
            "Epoch 24: LearningRateScheduler setting learning rate to 2.0000000000000004e-07.\n",
            "Epoch 24/30\n",
            "51/51 [==============================] - ETA: 0s - loss: 0.0601 - accuracy: 0.9901\n",
            "Epoch 24: val_accuracy did not improve from 0.91250\n",
            "51/51 [==============================] - 26s 506ms/step - loss: 0.0601 - accuracy: 0.9901 - val_loss: 0.2976 - val_accuracy: 0.8750 - lr: 2.0000e-07\n",
            "\n",
            "Epoch 25: LearningRateScheduler setting learning rate to 2.0000000000000004e-07.\n",
            "Epoch 25/30\n",
            "51/51 [==============================] - ETA: 0s - loss: 0.0460 - accuracy: 0.9901\n",
            "Epoch 25: val_accuracy did not improve from 0.91250\n",
            "51/51 [==============================] - 26s 500ms/step - loss: 0.0460 - accuracy: 0.9901 - val_loss: 0.3541 - val_accuracy: 0.8750 - lr: 2.0000e-07\n",
            "\n",
            "Epoch 26: LearningRateScheduler setting learning rate to 2.0000000000000004e-07.\n",
            "Epoch 26/30\n",
            "51/51 [==============================] - ETA: 0s - loss: 0.0667 - accuracy: 0.9882\n",
            "Epoch 26: val_accuracy did not improve from 0.91250\n",
            "51/51 [==============================] - 26s 506ms/step - loss: 0.0667 - accuracy: 0.9882 - val_loss: 0.3209 - val_accuracy: 0.8875 - lr: 2.0000e-07\n",
            "\n",
            "Epoch 27: LearningRateScheduler setting learning rate to 2.0000000000000004e-07.\n",
            "Epoch 27/30\n",
            "51/51 [==============================] - ETA: 0s - loss: 0.0602 - accuracy: 0.9824\n",
            "Epoch 27: val_accuracy did not improve from 0.91250\n",
            "51/51 [==============================] - 26s 510ms/step - loss: 0.0602 - accuracy: 0.9824 - val_loss: 0.3488 - val_accuracy: 0.8687 - lr: 2.0000e-07\n",
            "\n",
            "Epoch 28: LearningRateScheduler setting learning rate to 2.0000000000000004e-07.\n",
            "Epoch 28/30\n",
            "51/51 [==============================] - ETA: 0s - loss: 0.0736 - accuracy: 0.9784\n",
            "Epoch 28: val_accuracy did not improve from 0.91250\n",
            "51/51 [==============================] - 26s 502ms/step - loss: 0.0736 - accuracy: 0.9784 - val_loss: 0.2520 - val_accuracy: 0.8938 - lr: 2.0000e-07\n",
            "\n",
            "Epoch 29: LearningRateScheduler setting learning rate to 2.0000000000000004e-07.\n",
            "Epoch 29/30\n",
            "51/51 [==============================] - ETA: 0s - loss: 0.0477 - accuracy: 0.9902\n",
            "Epoch 29: val_accuracy did not improve from 0.91250\n",
            "51/51 [==============================] - 26s 501ms/step - loss: 0.0477 - accuracy: 0.9902 - val_loss: 0.3095 - val_accuracy: 0.8687 - lr: 2.0000e-07\n",
            "\n",
            "Epoch 30: LearningRateScheduler setting learning rate to 2.0000000000000007e-08.\n",
            "Epoch 30/30\n",
            "51/51 [==============================] - ETA: 0s - loss: 0.0749 - accuracy: 0.9824\n",
            "Epoch 30: val_accuracy did not improve from 0.91250\n",
            "51/51 [==============================] - 26s 503ms/step - loss: 0.0749 - accuracy: 0.9824 - val_loss: 0.2757 - val_accuracy: 0.9062 - lr: 2.0000e-08\n"
          ]
        }
      ],
      "source": [
        "history = model.fit_generator(train_batches, steps_per_epoch=train_steps,\n",
        "                              validation_data=valid_batches,\n",
        "                              validation_steps=test_steps,\n",
        "                              epochs=30,\n",
        "                              callbacks=callbacks)"
      ]
    },
    {
      "cell_type": "code",
      "execution_count": 23,
      "id": "tJVtJ6W2PNQi",
      "metadata": {
        "id": "tJVtJ6W2PNQi"
      },
      "outputs": [],
      "source": [
        "# Compile the model\n",
        "model.compile(optimizer='adam',loss='binary_crossentropy',metrics=['accuracy'])"
      ]
    },
    {
      "cell_type": "code",
      "execution_count": 24,
      "id": "1a6c5f39",
      "metadata": {
        "colab": {
          "base_uri": "https://localhost:8080/",
          "height": 904
        },
        "id": "1a6c5f39",
        "outputId": "221fb240-fd8f-46a6-d72b-a29b8d591150"
      },
      "outputs": [
        {
          "data": {
            "image/png": "[encoded data removed]",
            "text/plain": [
              "<Figure size 640x480 with 1 Axes>"
            ]
          },
          "metadata": {},
          "output_type": "display_data"
        },
        {
          "data": {
            "image/png": "[encoded data removed]",
            "text/plain": [
              "<Figure size 640x480 with 1 Axes>"
            ]
          },
          "metadata": {},
          "output_type": "display_data"
        },
        {
          "data": {
            "text/plain": [
              "<Figure size 640x480 with 0 Axes>"
            ]
          },
          "metadata": {},
          "output_type": "display_data"
        }
      ],
      "source": [
        "graph_it(history)"
      ]
    },
    {
      "cell_type": "markdown",
      "id": "1a1bbbee",
      "metadata": {
        "id": "1a1bbbee"
      },
      "source": [
        "**Model Evaluation using test data**"
      ]
    },
    {
      "cell_type": "code",
      "execution_count": 25,
      "id": "f7da54c9",
      "metadata": {
        "colab": {
          "base_uri": "https://localhost:8080/",
          "height": 1000
        },
        "id": "f7da54c9",
        "outputId": "3e643378-b6bc-496d-c651-9eeb80fc370a"
      },
      "outputs": [
        {
          "name": "stdout",
          "output_type": "stream",
          "text": [
            "483/483 [==============================] - 24s 44ms/step\n"
          ]
        },
        {
          "data": {
            "image/png": "[encoded data removed]",
            "text/plain": [
              "<Figure size 640x480 with 2 Axes>"
            ]
          },
          "metadata": {},
          "output_type": "display_data"
        },
        {
          "name": "stdout",
          "output_type": "stream",
          "text": [
            "\n",
            "               precision    recall  f1-score   support\n",
            "\n",
            "           0       0.94      0.94      0.94       393\n",
            "           1       0.75      0.72      0.73        90\n",
            "\n",
            "    accuracy                           0.90       483\n",
            "   macro avg       0.84      0.83      0.84       483\n",
            "weighted avg       0.90      0.90      0.90       483\n",
            "\n",
            "Sensitivity: 0.722 Specificity: 0.944 Precision: 0.902 ROC_AUC_SCORE: 0.929\n",
            "\n"
          ]
        },
        {
          "data": {
            "image/png": "[encoded data removed]",
            "text/plain": [
              "<Figure size 400x400 with 1 Axes>"
            ]
          },
          "metadata": {},
          "output_type": "display_data"
        }
      ],
      "source": [
        "model.load_weights(filepath = 'model.hdf5')\n",
        "test_it(model, test_batches)"
      ]
    },
    {
      "cell_type": "code",
      "execution_count": 26,
      "id": "aTd2X0IOBWcH",
      "metadata": {
        "colab": {
          "base_uri": "https://localhost:8080/"
        },
        "id": "aTd2X0IOBWcH",
        "outputId": "f7f3e014-724d-4eee-b2dd-c9e5a2f7c654"
      },
      "outputs": [
        {
          "name": "stdout",
          "output_type": "stream",
          "text": [
            "  2/483 [..............................] - ETA: 26s"
          ]
        },
        {
          "name": "stderr",
          "output_type": "stream",
          "text": [
            "<ipython-input-26-3377af50feee>:3: UserWarning: `Model.predict_generator` is deprecated and will be removed in a future version. Please use `Model.predict`, which supports generators.\n",
            "  predictions = model.predict_generator(test_batches, steps=len(test_batches), verbose=1)\n"
          ]
        },
        {
          "name": "stdout",
          "output_type": "stream",
          "text": [
            "483/483 [==============================] - 20s 41ms/step\n",
            "Confusion Matrix : \n",
            " [[371  22]\n",
            " [ 25  65]]\n",
            "Accuracy :  0.9026915113871635\n",
            "Sensitivity :  0.9368686868686869\n",
            "Specificity :  0.7471264367816092\n"
          ]
        }
      ],
      "source": [
        "from sklearn.metrics import confusion_matrix\n",
        "\n",
        "predictions = model.predict_generator(test_batches, steps=len(test_batches), verbose=1)\n",
        "\n",
        "y_pred = np.argmax(predictions, axis=1)\n",
        "targetnames = ['mel','sb_nv']\n",
        "y_true = test_batches.classes\n",
        "\n",
        "cm1 = confusion_matrix(y_true,y_pred)\n",
        "print('Confusion Matrix : \\n', cm1)\n",
        "\n",
        "total1=sum(sum(cm1))\n",
        "#####from confusion matrix calculate accuracy\n",
        "accuracy1=(cm1[0,0]+cm1[1,1])/total1\n",
        "print ('Accuracy : ', accuracy1)\n",
        "\n",
        "sensitivity1 = cm1[0,0]/(cm1[0,0]+cm1[1,0])\n",
        "print('Sensitivity : ', sensitivity1 )\n",
        "\n",
        "specificity1 = cm1[1,1]/(cm1[1,1]+cm1[0,1])\n",
        "print('Specificity : ', specificity1)"
      ]
    },
    {
      "cell_type": "code",
      "execution_count": 26,
      "id": "b0c097c1",
      "metadata": {
        "id": "b0c097c1"
      },
      "outputs": [],
      "source": []
    }
  ],
  "metadata": {
    "accelerator": "GPU",
    "colab": {
      "gpuType": "T4",
      "provenance": []
    },
    "kernelspec": {
      "display_name": "Python 3",
      "name": "python3"
    },
    "language_info": {
      "codemirror_mode": {
        "name": "ipython",
        "version": 3
      },
      "file_extension": ".py",
      "mimetype": "text/x-python",
      "name": "python",
      "nbconvert_exporter": "python",
      "pygments_lexer": "ipython3",
      "version": "3.10.12"
    },
    "papermill": {
      "default_parameters": {},
      "duration": 6543.181713,
      "end_time": "2023-08-10T12:04:30.031582",
      "environment_variables": {},
      "exception": null,
      "input_path": "__notebook__.ipynb",
      "output_path": "__notebook__.ipynb",
      "parameters": {},
      "start_time": "2023-08-10T10:15:26.849869",
      "version": "2.4.0"
    }
  },
  "nbformat": 4,
  "nbformat_minor": 5
}
