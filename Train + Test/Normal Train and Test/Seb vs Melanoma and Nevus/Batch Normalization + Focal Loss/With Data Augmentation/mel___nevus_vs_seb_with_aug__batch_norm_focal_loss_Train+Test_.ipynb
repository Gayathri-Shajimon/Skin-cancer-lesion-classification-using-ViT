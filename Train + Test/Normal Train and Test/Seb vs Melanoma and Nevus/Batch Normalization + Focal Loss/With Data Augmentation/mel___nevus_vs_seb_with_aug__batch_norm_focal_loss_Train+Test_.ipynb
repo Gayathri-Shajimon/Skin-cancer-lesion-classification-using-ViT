{
  "cells": [
    {
      "cell_type": "code",
      "execution_count": 1,
      "id": "37d225cc",
      "metadata": {
        "colab": {
          "base_uri": "https://localhost:8080/"
        },
        "id": "37d225cc",
        "outputId": "3e94935b-bbac-4cd9-c772-02043a28feba"
      },
      "outputs": [
        {
          "name": "stdout",
          "output_type": "stream",
          "text": [
            "Collecting tensorflow_addons\n",
            "  Downloading tensorflow_addons-0.21.0-cp310-cp310-manylinux_2_17_x86_64.manylinux2014_x86_64.whl (612 kB)\n",
            "\u001b[2K     \u001b[90m━━━━━━━━━━━━━━━━━━━━━━━━━━━━━━━━━━━━━━━\u001b[0m \u001b[32m612.1/612.1 kB\u001b[0m \u001b[31m9.7 MB/s\u001b[0m eta \u001b[36m0:00:00\u001b[0m\n",
            "\u001b[?25hRequirement already satisfied: packaging in /usr/local/lib/python3.10/dist-packages (from tensorflow_addons) (23.1)\n",
            "Collecting typeguard<3.0.0,>=2.7 (from tensorflow_addons)\n",
            "  Downloading typeguard-2.13.3-py3-none-any.whl (17 kB)\n",
            "Installing collected packages: typeguard, tensorflow_addons\n",
            "Successfully installed tensorflow_addons-0.21.0 typeguard-2.13.3\n"
          ]
        }
      ],
      "source": [
        "!pip install --quiet vit-keras\n",
        "!pip install tensorflow_addons"
      ]
    },
    {
      "attachments": {},
      "cell_type": "markdown",
      "id": "36707b3c",
      "metadata": {},
      "source": [
        "Mount google drive"
      ]
    },
    {
      "cell_type": "code",
      "execution_count": 2,
      "id": "4dc3645e",
      "metadata": {
        "colab": {
          "base_uri": "https://localhost:8080/"
        },
        "id": "4dc3645e",
        "outputId": "3c3d5e22-7f42-4976-ffc1-e0834c01d56b"
      },
      "outputs": [
        {
          "name": "stdout",
          "output_type": "stream",
          "text": [
            "Mounted at /content/drive\n"
          ]
        }
      ],
      "source": [
        "from google.colab import drive\n",
        "drive.mount('/content/drive')"
      ]
    },
    {
      "cell_type": "code",
      "execution_count": 4,
      "id": "afe143c1",
      "metadata": {
        "colab": {
          "base_uri": "https://localhost:8080/"
        },
        "id": "afe143c1",
        "outputId": "fa928c2b-24de-44df-ba9a-aa063e03795b"
      },
      "outputs": [
        {
          "name": "stderr",
          "output_type": "stream",
          "text": [
            "/usr/local/lib/python3.10/dist-packages/tensorflow_addons/utils/tfa_eol_msg.py:23: UserWarning: \n",
            "\n",
            "TensorFlow Addons (TFA) has ended development and introduction of new features.\n",
            "TFA has entered a minimal maintenance and release mode until a planned end of life in May 2024.\n",
            "Please modify downstream libraries to take dependencies from other repositories in our TensorFlow community (e.g. Keras, Keras-CV, and Keras-NLP). \n",
            "\n",
            "For more information see: https://github.com/tensorflow/addons/issues/2807 \n",
            "\n",
            "  warnings.warn(\n"
          ]
        }
      ],
      "source": [
        "import matplotlib.pyplot as plt\n",
        "import numpy as np\n",
        "import pandas as pd\n",
        "import os\n",
        "from glob import glob\n",
        "import seaborn as sns\n",
        "from PIL import Image\n",
        "np.random.seed(123)\n",
        "from sklearn.preprocessing import label_binarize\n",
        "from sklearn.metrics import confusion_matrix\n",
        "import itertools\n",
        "import keras\n",
        "from keras import backend as K\n",
        "import tensorflow\n",
        "from tensorflow.keras.layers import Dropout, Dense, LayerNormalization, Flatten\n",
        "from tensorflow.keras.activations import gelu\n",
        "from tensorflow.keras.optimizers import Adam, SGD\n",
        "from tensorflow.keras.metrics import categorical_crossentropy\n",
        "from tensorflow.keras.preprocessing.image import ImageDataGenerator\n",
        "from tensorflow.keras.models import Model\n",
        "from tensorflow.keras.callbacks import EarlyStopping, ReduceLROnPlateau, ModelCheckpoint\n",
        "from vit_keras import vit\n",
        "import tensorflow_addons as tfa\n",
        "import math\n",
        "from sklearn.metrics import confusion_matrix\n",
        "from sklearn.model_selection import train_test_split\n",
        "import itertools\n",
        "import shutil\n",
        "import matplotlib.pyplot as plt\n",
        "from zipfile import ZipFile\n",
        "import time\n",
        "from sklearn.model_selection import StratifiedKFold, KFold\n",
        "from sklearn.metrics import roc_auc_score\n",
        "from sklearn.metrics import  precision_score, recall_score, accuracy_score\n",
        "from sklearn.metrics import roc_curve, auc\n",
        "from sklearn.metrics import classification_report\n",
        "import tensorflow as tf\n",
        "from tensorflow.keras import backend as K"
      ]
    },
    {
      "attachments": {},
      "cell_type": "markdown",
      "id": "176ba60f",
      "metadata": {},
      "source": [
        "Initializing the ViT Model"
      ]
    },
    {
      "cell_type": "code",
      "execution_count": 5,
      "id": "0d8eb2cb",
      "metadata": {
        "colab": {
          "base_uri": "https://localhost:8080/"
        },
        "id": "0d8eb2cb",
        "outputId": "44022623-6744-4152-cbca-12a532daf2e1"
      },
      "outputs": [
        {
          "name": "stdout",
          "output_type": "stream",
          "text": [
            "Downloading data from https://github.com/faustomorales/vit-keras/releases/download/dl/ViT-B_16_imagenet21k+imagenet2012.npz\n",
            "347502902/347502902 [==============================] - 20s 0us/step\n"
          ]
        },
        {
          "name": "stderr",
          "output_type": "stream",
          "text": [
            "/usr/local/lib/python3.10/dist-packages/vit_keras/utils.py:81: UserWarning: Resizing position embeddings from 24, 24 to 14, 14\n",
            "  warnings.warn(\n"
          ]
        }
      ],
      "source": [
        "vit_model = vit.vit_b16(\n",
        "        image_size = 224,\n",
        "        activation = 'softmax',\n",
        "        pretrained = True,\n",
        "        include_top = False,\n",
        "        pretrained_top = False,\n",
        "        classes = 2)"
      ]
    },
    {
      "attachments": {},
      "cell_type": "markdown",
      "id": "d8f5d56a",
      "metadata": {},
      "source": [
        "Adding Additional layers on top of ViT Model"
      ]
    },
    {
      "cell_type": "code",
      "execution_count": 6,
      "id": "cc2ced1b",
      "metadata": {
        "colab": {
          "base_uri": "https://localhost:8080/"
        },
        "id": "cc2ced1b",
        "outputId": "27c4afae-4d99-4601-be43-7accd3af370a"
      },
      "outputs": [
        {
          "name": "stdout",
          "output_type": "stream",
          "text": [
            "Model: \"vision_transformer\"\n",
            "_________________________________________________________________\n",
            " Layer (type)                Output Shape              Param #   \n",
            "=================================================================\n",
            " vit-b16 (Functional)        (None, 768)               85798656  \n",
            "                                                                 \n",
            " flatten (Flatten)           (None, 768)               0         \n",
            "                                                                 \n",
            " batch_normalization (BatchN  (None, 768)              3072      \n",
            " ormalization)                                                   \n",
            "                                                                 \n",
            " dense (Dense)               (None, 11)                8459      \n",
            "                                                                 \n",
            " batch_normalization_1 (Batc  (None, 11)               44        \n",
            " hNormalization)                                                 \n",
            "                                                                 \n",
            " dense_1 (Dense)             (None, 2)                 24        \n",
            "                                                                 \n",
            "=================================================================\n",
            "Total params: 85,810,255\n",
            "Trainable params: 85,808,697\n",
            "Non-trainable params: 1,558\n",
            "_________________________________________________________________\n"
          ]
        }
      ],
      "source": [
        "model = tf.keras.Sequential([\n",
        "        vit_model,\n",
        "        tf.keras.layers.Flatten(),\n",
        "        tf.keras.layers.BatchNormalization(),\n",
        "        tf.keras.layers.Dense(11, activation = tfa.activations.gelu),\n",
        "        tf.keras.layers.BatchNormalization(),\n",
        "        tf.keras.layers.Dense(2, 'softmax')\n",
        "    ],\n",
        "    name = 'vision_transformer')\n",
        "\n",
        "model.summary()"
      ]
    },
    {
      "attachments": {},
      "cell_type": "markdown",
      "id": "6a9f2f75",
      "metadata": {},
      "source": [
        "Compiling the model using Focal Loss"
      ]
    },
    {
      "cell_type": "code",
      "execution_count": 7,
      "id": "f90cf531",
      "metadata": {
        "id": "f90cf531"
      },
      "outputs": [],
      "source": [
        "def focal_loss(gamma=2, alpha=0.5):\n",
        "    def focal_loss_fn(y_true, y_pred):\n",
        "        y_pred = K.clip(y_pred, K.epsilon(), 1.0 - K.epsilon())\n",
        "        focal_loss = -alpha * y_true * K.pow(1.0 - y_pred, gamma) * K.log(y_pred)\n",
        "        return K.mean(focal_loss, axis=-1)\n",
        "    return focal_loss_fn\n",
        "\n",
        "model.compile(optimizer='adam', loss=focal_loss(), metrics=['accuracy'])"
      ]
    },
    {
      "attachments": {},
      "cell_type": "markdown",
      "id": "764e59d1",
      "metadata": {},
      "source": [
        "Function for plotting the graph of Train and Validation Accuracy and loss"
      ]
    },
    {
      "cell_type": "code",
      "execution_count": 9,
      "id": "895825d0",
      "metadata": {
        "id": "895825d0"
      },
      "outputs": [],
      "source": [
        "def graph_it(history):\n",
        "  acc = history.history['accuracy']\n",
        "  val_acc = history.history['val_accuracy']\n",
        "  loss = history.history['loss']\n",
        "  val_loss = history.history['val_loss']\n",
        "  epochs = range(len(acc))\n",
        "\n",
        "   #Plot Train and Validation Accuracy\n",
        "  plt.plot(epochs, acc, 'r', label='Training accuracy')\n",
        "  plt.plot(epochs, val_acc, 'b', label='Validation accuracy')\n",
        "  plt.title('Model Accuracy: Training and Validation')\n",
        "  plt.legend(loc=0)\n",
        "  plt.figure()\n",
        "\n",
        "  #Plot Train and Validation Loss\n",
        "  plt.plot(epochs, loss, 'r', label='Training loss')\n",
        "  plt.plot(epochs, val_loss, 'b', label='Validation loss')\n",
        "  plt.title('Training and validation Loss')\n",
        "  plt.legend(loc=0)\n",
        "  plt.figure()\n"
      ]
    },
    {
      "attachments": {},
      "cell_type": "markdown",
      "id": "58dbf710",
      "metadata": {},
      "source": [
        "Function for Model Evaluation"
      ]
    },
    {
      "cell_type": "code",
      "execution_count": 10,
      "id": "d4a7c9c8",
      "metadata": {
        "id": "d4a7c9c8"
      },
      "outputs": [],
      "source": [
        "from sklearn.metrics import confusion_matrix, roc_auc_score, classification_report, precision_score, roc_curve, ConfusionMatrixDisplay\n",
        "\n",
        "def test_it(model, test_generator):\n",
        "    test_labels = test_generator.classes\n",
        "\n",
        "    predictions = model.predict(test_generator)\n",
        "    predicted_labels = np.argmax(predictions, axis=1)\n",
        "\n",
        "    cm = confusion_matrix(test_labels, predicted_labels)\n",
        "    disp = ConfusionMatrixDisplay(confusion_matrix=cm)\n",
        "    disp.plot()\n",
        "    plt.show()\n",
        "\n",
        "    roc = roc_auc_score(test_labels, predictions[:, 1]) \n",
        "\n",
        "    # Calculate confusion matrix \n",
        "    tn, fp, fn, tp = confusion_matrix(test_labels, predicted_labels).ravel()\n",
        "\n",
        "    # Calculate sensitivity and specificity\n",
        "    sensitivity = tp / (tp + fn)\n",
        "    specificity = tn / (tn + fp)\n",
        "\n",
        "    report = classification_report(test_labels, predicted_labels)\n",
        "\n",
        "    precision = precision_score(test_labels, predicted_labels, average='weighted')\n",
        "\n",
        "    print(\"\\n\", report)\n",
        "    print(f\"Sensitivity: {round(sensitivity, 3)} Specificity: {round(specificity, 3)} Precision: {round(precision, 3)} ROC_AUC_SCORE: {round(roc, 3)}\\n\")\n",
        "\n",
        "    # Plot AUC-ROC curve\n",
        "    fpr, tpr, thresholds = roc_curve(test_labels, predictions[:, 1])\n",
        "    plt.figure(figsize=(4, 4))\n",
        "    plt.plot(fpr, tpr, label='ROC curve (area = %0.2f)' % roc)\n",
        "    plt.plot([0, 1], [0, 1], 'k--')  # Random guessing line\n",
        "    plt.xlim([0.0, 1.0])\n",
        "    plt.ylim([0.0, 1.0])\n",
        "    plt.xlabel('False Positive Rate')\n",
        "    plt.ylabel('True Positive Rate')\n",
        "    plt.title('Receiver Operating Characteristic (ROC) Curve')\n",
        "    plt.legend(loc=\"lower right\")\n",
        "    plt.show()"
      ]
    },
    {
      "cell_type": "code",
      "execution_count": 11,
      "id": "9671fe3a",
      "metadata": {
        "id": "9671fe3a"
      },
      "outputs": [],
      "source": [
        "# Set the directories for the data for task1 (SEB VS NEVUS)\n",
        "train_dir = \"/content/drive/MyDrive/msc_project/train_augumented/task2\"\n",
        "test_dir = \"/content/drive/MyDrive/msc_project/test/task2\"\n",
        "val_dir = \"/content/drive/MyDrive/msc_project/test/task2\""
      ]
    },
    {
      "cell_type": "code",
      "execution_count": 12,
      "id": "e9e4b21a",
      "metadata": {
        "id": "e9e4b21a"
      },
      "outputs": [],
      "source": [
        "# Define the data generator\n",
        "datagen = ImageDataGenerator(\n",
        "    preprocessing_function= \\\n",
        "    tensorflow.keras.applications.mobilenet.preprocess_input)\n",
        "\n",
        "image_size = (224, 224)\n",
        "batch = 32"
      ]
    },
    {
      "cell_type": "code",
      "execution_count": 13,
      "id": "e95b7e5b",
      "metadata": {
        "id": "e95b7e5b"
      },
      "outputs": [],
      "source": [
        "model_path = f'/content/drive/MyDrive/msc_project/model/{title}'\n",
        "os.makedirs(model_path, exist_ok=True)"
      ]
    },
    {
      "attachments": {},
      "cell_type": "markdown",
      "id": "0813398c",
      "metadata": {},
      "source": [
        "Creating batches to improve memory optimization"
      ]
    },
    {
      "cell_type": "code",
      "execution_count": 14,
      "id": "7ATMKowsaH4V",
      "metadata": {
        "colab": {
          "base_uri": "https://localhost:8080/"
        },
        "id": "7ATMKowsaH4V",
        "outputId": "ea630be7-6306-4cdf-b714-5dcba2d9b359"
      },
      "outputs": [
        {
          "name": "stdout",
          "output_type": "stream",
          "text": [
            "Found 12000 images belonging to 2 classes.\n",
            "Found 600 images belonging to 2 classes.\n",
            "Found 600 images belonging to 2 classes.\n"
          ]
        }
      ],
      "source": [
        "\n",
        "train_batches = datagen.flow_from_directory(train_dir,\n",
        "                                            target_size=(image_size),\n",
        "                                            batch_size=10)\n",
        "\n",
        "valid_batches = datagen.flow_from_directory(test_dir,\n",
        "                                            target_size=(image_size),\n",
        "                                            batch_size=10)\n",
        "\n",
        "# Note: shuffle=False causes the test dataset to not be shuffled\n",
        "test_batches = datagen.flow_from_directory(test_dir,\n",
        "                                            target_size=(image_size),\n",
        "                                            batch_size=1,\n",
        "                                            shuffle=False)"
      ]
    },
    {
      "cell_type": "code",
      "execution_count": 15,
      "id": "2GDPYOeaVw_n",
      "metadata": {
        "colab": {
          "base_uri": "https://localhost:8080/"
        },
        "id": "2GDPYOeaVw_n",
        "outputId": "197c710d-b5a4-4c3e-c1c9-96b5fdc6020c"
      },
      "outputs": [
        {
          "data": {
            "text/plain": [
              "{'Seb': 0, 'nevus_mel': 1}"
            ]
          },
          "execution_count": 15,
          "metadata": {},
          "output_type": "execute_result"
        }
      ],
      "source": [
        "train_batches.class_indices"
      ]
    },
    {
      "cell_type": "code",
      "execution_count": 16,
      "id": "KiRi8zD6ZIyI",
      "metadata": {
        "colab": {
          "base_uri": "https://localhost:8080/"
        },
        "id": "KiRi8zD6ZIyI",
        "outputId": "9fb9fb7a-c279-4af8-ac3a-22cfe4070085"
      },
      "outputs": [
        {
          "data": {
            "text/plain": [
              "{'Seb': 0, 'nevus_mel': 1}"
            ]
          },
          "execution_count": 16,
          "metadata": {},
          "output_type": "execute_result"
        }
      ],
      "source": [
        "valid_batches.class_indices"
      ]
    },
    {
      "cell_type": "code",
      "execution_count": 17,
      "id": "kunFVJitV2gZ",
      "metadata": {
        "colab": {
          "base_uri": "https://localhost:8080/"
        },
        "id": "kunFVJitV2gZ",
        "outputId": "8c1ed2e0-add9-474d-df60-36f35d8d33d8"
      },
      "outputs": [
        {
          "name": "stdout",
          "output_type": "stream",
          "text": [
            "Number of images per class: Counter({1: 10476, 0: 1524})\n"
          ]
        }
      ],
      "source": [
        "from collections import Counter\n",
        "\n",
        "class_counts = Counter(train_batches.classes)\n",
        "print(\"Number of images per class:\", class_counts)\n"
      ]
    },
    {
      "cell_type": "code",
      "execution_count": 18,
      "id": "pZlJ57JkV_Pp",
      "metadata": {
        "colab": {
          "base_uri": "https://localhost:8080/"
        },
        "id": "pZlJ57JkV_Pp",
        "outputId": "32ff2a80-1d1c-4e6a-83de-943dde2cfa56"
      },
      "outputs": [
        {
          "name": "stdout",
          "output_type": "stream",
          "text": [
            "Number of images per class: {'Seb': 1524, 'nevus_mel': 10476}\n"
          ]
        }
      ],
      "source": [
        "class_names = list(train_batches.class_indices.keys())\n",
        "class_counts_with_names = {class_names[idx]: count for idx, count in class_counts.items()}\n",
        "print(\"Number of images per class:\", class_counts_with_names)"
      ]
    },
    {
      "cell_type": "code",
      "execution_count": 19,
      "id": "FjZnz8QRO8xD",
      "metadata": {
        "id": "FjZnz8QRO8xD"
      },
      "outputs": [],
      "source": [
        "train_steps = np.ceil(train_batches.n / batch)\n",
        "test_steps = np.ceil(test_batches.n / batch)\n",
        "val_steps = np.ceil(valid_batches.n / batch)"
      ]
    },
    {
      "attachments": {},
      "cell_type": "markdown",
      "id": "96f3e3bb",
      "metadata": {},
      "source": [
        "Configuration of Early stopping criteria, learning rate"
      ]
    },
    {
      "cell_type": "code",
      "execution_count": 20,
      "id": "lQnHiksDahxQ",
      "metadata": {
        "id": "lQnHiksDahxQ"
      },
      "outputs": [],
      "source": [
        "early_stopping = EarlyStopping(monitor='val_loss',patience=8)\n",
        "\n",
        "checkpointer = tf.keras.callbacks.ModelCheckpoint(filepath = 'model.hdf5',\n",
        "                                                  monitor = 'val_accuracy',\n",
        "                                                  verbose = 1,\n",
        "                                                  save_best_only = True,\n",
        "                                                  save_weights_only = True,\n",
        "                                                  mode = 'max')\n",
        "\n",
        "def step_decay(epoch):\n",
        "    initial_lrate = 0.00002\n",
        "    drop = 0.1\n",
        "    epochs_drop = 10.0\n",
        "    lrate = initial_lrate * math.pow(drop, math.floor((1+epoch)/epochs_drop))\n",
        "    return lrate\n",
        "\n",
        "lr_scheduler = tf.keras.callbacks.LearningRateScheduler(step_decay, verbose=1)"
      ]
    },
    {
      "cell_type": "code",
      "execution_count": 21,
      "id": "t9YyA-CMalyq",
      "metadata": {
        "id": "t9YyA-CMalyq"
      },
      "outputs": [],
      "source": [
        "callbacks = [early_stopping, checkpointer, lr_scheduler]"
      ]
    },
    {
      "attachments": {},
      "cell_type": "markdown",
      "id": "26081142",
      "metadata": {},
      "source": [
        "Configuration of Early stopping criteria, learning rate"
      ]
    },
    {
      "cell_type": "code",
      "execution_count": 22,
      "id": "h0jl4qCjapIq",
      "metadata": {
        "colab": {
          "base_uri": "https://localhost:8080/"
        },
        "id": "h0jl4qCjapIq",
        "outputId": "235ee0ea-e133-412d-fb97-efc532803239"
      },
      "outputs": [
        {
          "name": "stderr",
          "output_type": "stream",
          "text": [
            "<ipython-input-22-13082ddda168>:1: UserWarning: `Model.fit_generator` is deprecated and will be removed in a future version. Please use `Model.fit`, which supports generators.\n",
            "  history = model.fit_generator(train_batches, steps_per_epoch=train_steps,\n"
          ]
        },
        {
          "name": "stdout",
          "output_type": "stream",
          "text": [
            "\n",
            "Epoch 1: LearningRateScheduler setting learning rate to 2e-05.\n",
            "Epoch 1/30\n",
            "375/375 [==============================] - ETA: 0s - loss: 0.0804 - accuracy: 0.5845\n",
            "Epoch 1: val_accuracy improved from -inf to 0.71579, saving model to model.hdf5\n",
            "375/375 [==============================] - 2827s 7s/step - loss: 0.0804 - accuracy: 0.5845 - val_loss: 0.0450 - val_accuracy: 0.7158 - lr: 2.0000e-05\n",
            "\n",
            "Epoch 2: LearningRateScheduler setting learning rate to 2e-05.\n",
            "Epoch 2/30\n",
            "375/375 [==============================] - ETA: 0s - loss: 0.0487 - accuracy: 0.6397\n",
            "Epoch 2: val_accuracy did not improve from 0.71579\n",
            "375/375 [==============================] - 1660s 4s/step - loss: 0.0487 - accuracy: 0.6397 - val_loss: 0.0627 - val_accuracy: 0.6474 - lr: 2.0000e-05\n",
            "\n",
            "Epoch 3: LearningRateScheduler setting learning rate to 2e-05.\n",
            "Epoch 3/30\n",
            "375/375 [==============================] - ETA: 0s - loss: 0.0393 - accuracy: 0.6981\n",
            "Epoch 3: val_accuracy improved from 0.71579 to 0.76316, saving model to model.hdf5\n",
            "375/375 [==============================] - 1038s 3s/step - loss: 0.0393 - accuracy: 0.6981 - val_loss: 0.0356 - val_accuracy: 0.7632 - lr: 2.0000e-05\n",
            "\n",
            "Epoch 4: LearningRateScheduler setting learning rate to 2e-05.\n",
            "Epoch 4/30\n",
            "375/375 [==============================] - ETA: 0s - loss: 0.0349 - accuracy: 0.7531\n",
            "Epoch 4: val_accuracy improved from 0.76316 to 0.81053, saving model to model.hdf5\n",
            "375/375 [==============================] - 730s 2s/step - loss: 0.0349 - accuracy: 0.7531 - val_loss: 0.0331 - val_accuracy: 0.8105 - lr: 2.0000e-05\n",
            "\n",
            "Epoch 5: LearningRateScheduler setting learning rate to 2e-05.\n",
            "Epoch 5/30\n",
            "375/375 [==============================] - ETA: 0s - loss: 0.0303 - accuracy: 0.7931\n",
            "Epoch 5: val_accuracy improved from 0.81053 to 0.82632, saving model to model.hdf5\n",
            "375/375 [==============================] - 503s 1s/step - loss: 0.0303 - accuracy: 0.7931 - val_loss: 0.0335 - val_accuracy: 0.8263 - lr: 2.0000e-05\n",
            "\n",
            "Epoch 6: LearningRateScheduler setting learning rate to 2e-05.\n",
            "Epoch 6/30\n",
            "375/375 [==============================] - ETA: 0s - loss: 0.0277 - accuracy: 0.8269\n",
            "Epoch 6: val_accuracy improved from 0.82632 to 0.83158, saving model to model.hdf5\n",
            "375/375 [==============================] - 382s 1s/step - loss: 0.0277 - accuracy: 0.8269 - val_loss: 0.0325 - val_accuracy: 0.8316 - lr: 2.0000e-05\n",
            "\n",
            "Epoch 7: LearningRateScheduler setting learning rate to 2e-05.\n",
            "Epoch 7/30\n",
            "375/375 [==============================] - ETA: 0s - loss: 0.0243 - accuracy: 0.8651\n",
            "Epoch 7: val_accuracy did not improve from 0.83158\n",
            "375/375 [==============================] - 278s 742ms/step - loss: 0.0243 - accuracy: 0.8651 - val_loss: 0.0272 - val_accuracy: 0.8316 - lr: 2.0000e-05\n",
            "\n",
            "Epoch 8: LearningRateScheduler setting learning rate to 2e-05.\n",
            "Epoch 8/30\n",
            "375/375 [==============================] - ETA: 0s - loss: 0.0220 - accuracy: 0.8856\n",
            "Epoch 8: val_accuracy improved from 0.83158 to 0.90000, saving model to model.hdf5\n",
            "375/375 [==============================] - 234s 625ms/step - loss: 0.0220 - accuracy: 0.8856 - val_loss: 0.0209 - val_accuracy: 0.9000 - lr: 2.0000e-05\n",
            "\n",
            "Epoch 9: LearningRateScheduler setting learning rate to 2e-05.\n",
            "Epoch 9/30\n",
            "375/375 [==============================] - ETA: 0s - loss: 0.0197 - accuracy: 0.9005\n",
            "Epoch 9: val_accuracy improved from 0.90000 to 0.91053, saving model to model.hdf5\n",
            "375/375 [==============================] - 204s 544ms/step - loss: 0.0197 - accuracy: 0.9005 - val_loss: 0.0209 - val_accuracy: 0.9105 - lr: 2.0000e-05\n",
            "\n",
            "Epoch 10: LearningRateScheduler setting learning rate to 2.0000000000000003e-06.\n",
            "Epoch 10/30\n",
            "375/375 [==============================] - ETA: 0s - loss: 0.0184 - accuracy: 0.9192\n",
            "Epoch 10: val_accuracy did not improve from 0.91053\n",
            "375/375 [==============================] - 196s 522ms/step - loss: 0.0184 - accuracy: 0.9192 - val_loss: 0.0360 - val_accuracy: 0.8632 - lr: 2.0000e-06\n",
            "\n",
            "Epoch 11: LearningRateScheduler setting learning rate to 2.0000000000000003e-06.\n",
            "Epoch 11/30\n",
            "375/375 [==============================] - ETA: 0s - loss: 0.0177 - accuracy: 0.9197\n",
            "Epoch 11: val_accuracy did not improve from 0.91053\n",
            "375/375 [==============================] - 189s 505ms/step - loss: 0.0177 - accuracy: 0.9197 - val_loss: 0.0333 - val_accuracy: 0.8789 - lr: 2.0000e-06\n",
            "\n",
            "Epoch 12: LearningRateScheduler setting learning rate to 2.0000000000000003e-06.\n",
            "Epoch 12/30\n",
            "375/375 [==============================] - ETA: 0s - loss: 0.0173 - accuracy: 0.9219\n",
            "Epoch 12: val_accuracy did not improve from 0.91053\n",
            "375/375 [==============================] - 180s 480ms/step - loss: 0.0173 - accuracy: 0.9219 - val_loss: 0.0278 - val_accuracy: 0.8842 - lr: 2.0000e-06\n",
            "\n",
            "Epoch 13: LearningRateScheduler setting learning rate to 2.0000000000000003e-06.\n",
            "Epoch 13/30\n",
            "375/375 [==============================] - ETA: 0s - loss: 0.0172 - accuracy: 0.9272\n",
            "Epoch 13: val_accuracy did not improve from 0.91053\n",
            "375/375 [==============================] - 174s 463ms/step - loss: 0.0172 - accuracy: 0.9272 - val_loss: 0.0295 - val_accuracy: 0.8789 - lr: 2.0000e-06\n",
            "\n",
            "Epoch 14: LearningRateScheduler setting learning rate to 2.0000000000000003e-06.\n",
            "Epoch 14/30\n",
            "375/375 [==============================] - ETA: 0s - loss: 0.0162 - accuracy: 0.9299\n",
            "Epoch 14: val_accuracy did not improve from 0.91053\n",
            "375/375 [==============================] - 172s 458ms/step - loss: 0.0162 - accuracy: 0.9299 - val_loss: 0.0338 - val_accuracy: 0.8632 - lr: 2.0000e-06\n",
            "\n",
            "Epoch 15: LearningRateScheduler setting learning rate to 2.0000000000000003e-06.\n",
            "Epoch 15/30\n",
            "375/375 [==============================] - ETA: 0s - loss: 0.0162 - accuracy: 0.9365\n",
            "Epoch 15: val_accuracy did not improve from 0.91053\n",
            "375/375 [==============================] - 169s 452ms/step - loss: 0.0162 - accuracy: 0.9365 - val_loss: 0.0287 - val_accuracy: 0.8789 - lr: 2.0000e-06\n",
            "\n",
            "Epoch 16: LearningRateScheduler setting learning rate to 2.0000000000000003e-06.\n",
            "Epoch 16/30\n",
            "375/375 [==============================] - ETA: 0s - loss: 0.0156 - accuracy: 0.9427\n",
            "Epoch 16: val_accuracy did not improve from 0.91053\n",
            "375/375 [==============================] - 170s 452ms/step - loss: 0.0156 - accuracy: 0.9427 - val_loss: 0.0268 - val_accuracy: 0.8842 - lr: 2.0000e-06\n",
            "\n",
            "Epoch 17: LearningRateScheduler setting learning rate to 2.0000000000000003e-06.\n",
            "Epoch 17/30\n",
            "375/375 [==============================] - ETA: 0s - loss: 0.0146 - accuracy: 0.9429\n",
            "Epoch 17: val_accuracy did not improve from 0.91053\n",
            "375/375 [==============================] - 168s 449ms/step - loss: 0.0146 - accuracy: 0.9429 - val_loss: 0.0362 - val_accuracy: 0.8316 - lr: 2.0000e-06\n"
          ]
        }
      ],
      "source": [
        "history = model.fit_generator(train_batches, steps_per_epoch=train_steps,\n",
        "                              validation_data=valid_batches,\n",
        "                              validation_steps=test_steps,\n",
        "                              epochs=30,\n",
        "                              callbacks=callbacks)"
      ]
    },
    {
      "cell_type": "code",
      "execution_count": 23,
      "id": "1a6c5f39",
      "metadata": {
        "colab": {
          "base_uri": "https://localhost:8080/",
          "height": 904
        },
        "id": "1a6c5f39",
        "outputId": "4e02c6ca-973a-4bc8-c889-434bd7c6b8a9"
      },
      "outputs": [
        {
          "data": {
            "image/png": "[encoded data removed]",
            "text/plain": [
              "<Figure size 640x480 with 1 Axes>"
            ]
          },
          "metadata": {},
          "output_type": "display_data"
        },
        {
          "data": {
            "image/png": "[encoded data removed]",
            "text/plain": [
              "<Figure size 640x480 with 1 Axes>"
            ]
          },
          "metadata": {},
          "output_type": "display_data"
        },
        {
          "data": {
            "text/plain": [
              "<Figure size 640x480 with 0 Axes>"
            ]
          },
          "metadata": {},
          "output_type": "display_data"
        }
      ],
      "source": [
        "graph_it(history)"
      ]
    },
    {
      "cell_type": "markdown",
      "id": "1a1bbbee",
      "metadata": {
        "id": "1a1bbbee"
      },
      "source": [
        "**Model Evaluation using test data**"
      ]
    },
    {
      "cell_type": "code",
      "execution_count": 24,
      "id": "f7da54c9",
      "metadata": {
        "colab": {
          "base_uri": "https://localhost:8080/",
          "height": 1000
        },
        "id": "f7da54c9",
        "outputId": "b28ef62a-e6d0-4462-d27c-863c5f60975c"
      },
      "outputs": [
        {
          "name": "stdout",
          "output_type": "stream",
          "text": [
            "600/600 [==============================] - 28s 43ms/step\n"
          ]
        },
        {
          "data": {
            "image/png": "[encoded data removed]",
            "text/plain": [
              "<Figure size 640x480 with 2 Axes>"
            ]
          },
          "metadata": {},
          "output_type": "display_data"
        },
        {
          "name": "stdout",
          "output_type": "stream",
          "text": [
            "\n",
            "               precision    recall  f1-score   support\n",
            "\n",
            "           0       0.61      0.70      0.65        90\n",
            "           1       0.95      0.92      0.93       510\n",
            "\n",
            "    accuracy                           0.89       600\n",
            "   macro avg       0.78      0.81      0.79       600\n",
            "weighted avg       0.90      0.89      0.89       600\n",
            "\n",
            "Sensitivity: 0.922 Specificity: 0.7 Precision: 0.896 ROC_AUC_SCORE: 0.895\n",
            "\n"
          ]
        },
        {
          "data": {
            "image/png": "[encoded data removed]",
            "text/plain": [
              "<Figure size 400x400 with 1 Axes>"
            ]
          },
          "metadata": {},
          "output_type": "display_data"
        }
      ],
      "source": [
        "model.load_weights(filepath = 'model.hdf5')\n",
        "test_it(model, test_batches)"
      ]
    }
  ],
  "metadata": {
    "accelerator": "GPU",
    "colab": {
      "gpuType": "T4",
      "provenance": []
    },
    "kernelspec": {
      "display_name": "Python 3",
      "name": "python3"
    },
    "language_info": {
      "codemirror_mode": {
        "name": "ipython",
        "version": 3
      },
      "file_extension": ".py",
      "mimetype": "text/x-python",
      "name": "python",
      "nbconvert_exporter": "python",
      "pygments_lexer": "ipython3",
      "version": "3.10.12"
    },
    "papermill": {
      "default_parameters": {},
      "duration": 6543.181713,
      "end_time": "2023-08-10T12:04:30.031582",
      "environment_variables": {},
      "exception": null,
      "input_path": "__notebook__.ipynb",
      "output_path": "__notebook__.ipynb",
      "parameters": {},
      "start_time": "2023-08-10T10:15:26.849869",
      "version": "2.4.0"
    }
  },
  "nbformat": 4,
  "nbformat_minor": 5
}
