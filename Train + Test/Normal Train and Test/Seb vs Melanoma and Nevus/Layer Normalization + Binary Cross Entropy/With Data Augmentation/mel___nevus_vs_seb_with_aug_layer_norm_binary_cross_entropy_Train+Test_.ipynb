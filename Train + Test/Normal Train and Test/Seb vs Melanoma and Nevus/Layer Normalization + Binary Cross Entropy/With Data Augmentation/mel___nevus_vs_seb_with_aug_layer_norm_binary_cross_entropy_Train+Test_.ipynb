{
  "cells": [
    {
      "cell_type": "code",
      "execution_count": 15,
      "metadata": {
        "colab": {
          "base_uri": "https://localhost:8080/"
        },
        "id": "37d225cc",
        "outputId": "b91f0915-1510-4b29-caed-dbe2ae31d9d2"
      },
      "outputs": [
        {
          "output_type": "stream",
          "name": "stdout",
          "text": [
            "Requirement already satisfied: tensorflow_addons in /usr/local/lib/python3.10/dist-packages (0.21.0)\n",
            "Requirement already satisfied: packaging in /usr/local/lib/python3.10/dist-packages (from tensorflow_addons) (23.1)\n",
            "Requirement already satisfied: typeguard<3.0.0,>=2.7 in /usr/local/lib/python3.10/dist-packages (from tensorflow_addons) (2.13.3)\n"
          ]
        }
      ],
      "source": [
        "!pip install --quiet vit-keras\n",
        "!pip install tensorflow_addons"
      ],
      "id": "37d225cc"
    },
    {
      "cell_type": "code",
      "execution_count": 16,
      "metadata": {
        "id": "4dc3645e",
        "colab": {
          "base_uri": "https://localhost:8080/"
        },
        "outputId": "2617d4f6-090a-4a2c-c9f7-7f11acb989e4"
      },
      "outputs": [
        {
          "output_type": "stream",
          "name": "stdout",
          "text": [
            "Drive already mounted at /content/drive; to attempt to forcibly remount, call drive.mount(\"/content/drive\", force_remount=True).\n"
          ]
        }
      ],
      "source": [
        "from google.colab import drive\n",
        "drive.mount('/content/drive')"
      ],
      "id": "4dc3645e"
    },
    {
      "cell_type": "markdown",
      "metadata": {
        "id": "850ab923"
      },
      "source": [
        "#Using our merged dataset train & test data\n",
        "\n",
        "This Task is (SEB VS NEVUS). PLEASE USE APPROPRIATE PATH TO TASK"
      ],
      "id": "850ab923"
    },
    {
      "cell_type": "code",
      "execution_count": 17,
      "metadata": {
        "id": "afbabdb5"
      },
      "outputs": [],
      "source": [
        "#please set title for saving model correctly!!!\n",
        "title = \"Test_TASK1\""
      ],
      "id": "afbabdb5"
    },
    {
      "cell_type": "code",
      "execution_count": 18,
      "metadata": {
        "id": "afe143c1"
      },
      "outputs": [],
      "source": [
        "import matplotlib.pyplot as plt\n",
        "import numpy as np\n",
        "import pandas as pd\n",
        "import os\n",
        "from glob import glob\n",
        "import seaborn as sns\n",
        "from PIL import Image\n",
        "np.random.seed(123)\n",
        "from sklearn.preprocessing import label_binarize\n",
        "from sklearn.metrics import confusion_matrix\n",
        "import itertools\n",
        "\n",
        "import pandas as pd\n",
        "import numpy as np\n",
        "import keras\n",
        "from keras import backend as K\n",
        "\n",
        "import tensorflow\n",
        "from tensorflow.keras.layers import Dropout, Dense, LayerNormalization, Flatten\n",
        "from tensorflow.keras.activations import gelu\n",
        "from tensorflow.keras.optimizers import Adam, SGD\n",
        "from tensorflow.keras.metrics import categorical_crossentropy\n",
        "from tensorflow.keras.preprocessing.image import ImageDataGenerator\n",
        "from tensorflow.keras.models import Model\n",
        "from tensorflow.keras.callbacks import EarlyStopping, ReduceLROnPlateau, ModelCheckpoint\n",
        "\n",
        "from vit_keras import vit\n",
        "import tensorflow_addons as tfa\n",
        "import math\n",
        "\n",
        "import os\n",
        "\n",
        "from sklearn.metrics import confusion_matrix\n",
        "from sklearn.model_selection import train_test_split\n",
        "import itertools\n",
        "import shutil\n",
        "import matplotlib.pyplot as plt\n",
        "\n",
        "from zipfile import ZipFile\n",
        "import time\n",
        "from sklearn.model_selection import StratifiedKFold, KFold\n",
        "\n",
        "from sklearn.metrics import roc_auc_score\n",
        "from sklearn.metrics import  precision_score, recall_score, accuracy_score\n",
        "from sklearn.metrics import roc_curve, auc\n",
        "from sklearn.metrics import classification_report\n",
        "\n",
        "import tensorflow as tf\n",
        "from tensorflow.keras import backend as K"
      ],
      "id": "afe143c1"
    },
    {
      "cell_type": "code",
      "execution_count": 19,
      "metadata": {
        "id": "0d8eb2cb"
      },
      "outputs": [],
      "source": [
        "vit_model = vit.vit_b16(\n",
        "        image_size = 224,\n",
        "        activation = 'softmax',\n",
        "        pretrained = True,\n",
        "        include_top = False,\n",
        "        pretrained_top = False,\n",
        "        classes = 2)"
      ],
      "id": "0d8eb2cb"
    },
    {
      "cell_type": "code",
      "execution_count": 20,
      "metadata": {
        "id": "cc2ced1b",
        "colab": {
          "base_uri": "https://localhost:8080/"
        },
        "outputId": "a1793d68-67b2-4890-8660-8fcf061e1104"
      },
      "outputs": [
        {
          "output_type": "stream",
          "name": "stdout",
          "text": [
            "Model: \"vision_transformer\"\n",
            "_________________________________________________________________\n",
            " Layer (type)                Output Shape              Param #   \n",
            "=================================================================\n",
            " vit-b16 (Functional)        (None, 768)               85798656  \n",
            "                                                                 \n",
            " flatten_1 (Flatten)         (None, 768)               0         \n",
            "                                                                 \n",
            " dense_3 (Dense)             (None, 128)               98432     \n",
            "                                                                 \n",
            " dropout_2 (Dropout)         (None, 128)               0         \n",
            "                                                                 \n",
            " layer_normalization_2 (Laye  (None, 128)              256       \n",
            " rNormalization)                                                 \n",
            "                                                                 \n",
            " dense_4 (Dense)             (None, 32)                4128      \n",
            "                                                                 \n",
            " dropout_3 (Dropout)         (None, 32)                0         \n",
            "                                                                 \n",
            " layer_normalization_3 (Laye  (None, 32)               64        \n",
            " rNormalization)                                                 \n",
            "                                                                 \n",
            " dense_5 (Dense)             (None, 2)                 66        \n",
            "                                                                 \n",
            "=================================================================\n",
            "Total params: 85,901,602\n",
            "Trainable params: 85,901,602\n",
            "Non-trainable params: 0\n",
            "_________________________________________________________________\n"
          ]
        }
      ],
      "source": [
        "model = tensorflow.keras.Sequential([\n",
        "    vit_model,\n",
        "    Flatten(),\n",
        "    Dense(128, activation=gelu),\n",
        "    Dropout(0.1),\n",
        "    LayerNormalization(epsilon=.000002),\n",
        "    Dense(32, activation=gelu),\n",
        "    Dropout(0.1),\n",
        "    LayerNormalization(epsilon=.000002),\n",
        "    Dense(2, activation='softmax')\n",
        "], name='vision_transformer')\n",
        "\n",
        "model.summary()"
      ],
      "id": "cc2ced1b"
    },
    {
      "cell_type": "code",
      "execution_count": 21,
      "metadata": {
        "id": "f90cf531"
      },
      "outputs": [],
      "source": [
        "import tensorflow as tf\n",
        "from tensorflow.keras import backend as K\n",
        "model.compile(optimizer='adam',loss='binary_crossentropy',metrics=['accuracy'])"
      ],
      "id": "f90cf531"
    },
    {
      "cell_type": "code",
      "execution_count": 22,
      "metadata": {
        "id": "2bca8772"
      },
      "outputs": [],
      "source": [
        "early_stopping = EarlyStopping(monitor='val_loss',patience=2)\n",
        "\n",
        "def step_decay(epoch):\n",
        "    initial_lrate = 0.00002\n",
        "    drop = 0.1\n",
        "    epochs_drop = 10.0\n",
        "    lrate = initial_lrate * math.pow(drop, math.floor((1+epoch)/epochs_drop))\n",
        "    return lrate\n",
        "\n",
        "lr_scheduler = tf.keras.callbacks.LearningRateScheduler(step_decay, verbose=1)"
      ],
      "id": "2bca8772"
    },
    {
      "cell_type": "code",
      "execution_count": 23,
      "metadata": {
        "id": "895825d0"
      },
      "outputs": [],
      "source": [
        "def graph_it(history):\n",
        "  acc = history.history['accuracy']\n",
        "  val_acc = history.history['val_accuracy']\n",
        "  loss = history.history['loss']\n",
        "  val_loss = history.history['val_loss']\n",
        "  epochs = range(len(acc))\n",
        "\n",
        "  plt.plot(epochs, acc, 'r', label='Training accuracy')\n",
        "  plt.plot(epochs, val_acc, 'b', label='Validation accuracy')\n",
        "  plt.title('Model Accuracy: Training and Validation')\n",
        "  plt.legend(loc=0)\n",
        "  plt.figure()\n",
        "\n",
        "  plt.plot(epochs, loss, 'r', label='Training loss')\n",
        "  plt.plot(epochs, val_loss, 'b', label='Validation loss')\n",
        "  plt.title('Training and validation Loss')\n",
        "  plt.legend(loc=0)\n",
        "  plt.figure()\n"
      ],
      "id": "895825d0"
    },
    {
      "cell_type": "code",
      "execution_count": 24,
      "metadata": {
        "id": "d4a7c9c8"
      },
      "outputs": [],
      "source": [
        "import numpy as np\n",
        "import matplotlib.pyplot as plt\n",
        "from sklearn.metrics import confusion_matrix, roc_auc_score, classification_report, precision_score, roc_curve, ConfusionMatrixDisplay\n",
        "\n",
        "def test_it(model, test_generator):\n",
        "    test_labels = test_generator.classes\n",
        "\n",
        "    predictions = model.predict(test_generator)\n",
        "    predicted_labels = np.argmax(predictions, axis=1)\n",
        "\n",
        "    cm = confusion_matrix(test_labels, predicted_labels)\n",
        "    disp = ConfusionMatrixDisplay(confusion_matrix=cm)\n",
        "    disp.plot()\n",
        "    plt.show()\n",
        "\n",
        "\n",
        "\n",
        "    roc = roc_auc_score(test_labels, predictions[:, 1])  # Assuming binary classification\n",
        "\n",
        "    # Calculate confusion matrix CHANGE THIS TO CM\n",
        "    tn, fp, fn, tp = confusion_matrix(test_labels, predicted_labels).ravel()\n",
        "\n",
        "    # Calculate sensitivity and specificity\n",
        "    sensitivity = tp / (tp + fn)\n",
        "    specificity = tn / (tn + fp)\n",
        "\n",
        "    report = classification_report(test_labels, predicted_labels)\n",
        "\n",
        "    precision = precision_score(test_labels, predicted_labels, average='weighted')\n",
        "\n",
        "    print(\"\\n\", report)\n",
        "    print(f\"Sensitivity: {round(sensitivity, 3)} Specificity: {round(specificity, 3)} Precision: {round(precision, 3)} ROC_AUC_SCORE: {round(roc, 3)}\\n\")\n",
        "\n",
        "    # Plot AUC-ROC curve\n",
        "    fpr, tpr, thresholds = roc_curve(test_labels, predictions[:, 1])\n",
        "    plt.figure(figsize=(4, 4))\n",
        "    plt.plot(fpr, tpr, label='ROC curve (area = %0.2f)' % roc)\n",
        "    plt.plot([0, 1], [0, 1], 'k--')  # Random guessing line\n",
        "    plt.xlim([0.0, 1.0])\n",
        "    plt.ylim([0.0, 1.0])\n",
        "    plt.xlabel('False Positive Rate')\n",
        "    plt.ylabel('True Positive Rate')\n",
        "    plt.title('Receiver Operating Characteristic (ROC) Curve')\n",
        "    plt.legend(loc=\"lower right\")\n",
        "    plt.show()"
      ],
      "id": "d4a7c9c8"
    },
    {
      "cell_type": "code",
      "execution_count": 25,
      "metadata": {
        "id": "9671fe3a"
      },
      "outputs": [],
      "source": [
        "# Set the directories for the data for task1 (SEB VS NEVUS)\n",
        "train_dir = \"/content/drive/MyDrive/msc_project/train_augumented/task2\"\n",
        "test_dir = \"/content/drive/MyDrive/msc_project/test/task2\"\n",
        "val_dir = \"/content/drive/MyDrive/msc_project/test/task2\""
      ],
      "id": "9671fe3a"
    },
    {
      "cell_type": "code",
      "execution_count": 26,
      "metadata": {
        "id": "e9e4b21a"
      },
      "outputs": [],
      "source": [
        "# Define the data generator\n",
        "datagen = ImageDataGenerator(\n",
        "    preprocessing_function= \\\n",
        "    tensorflow.keras.applications.mobilenet.preprocess_input)\n",
        "\n",
        "image_size = (224, 224)\n",
        "batch = 32"
      ],
      "id": "e9e4b21a"
    },
    {
      "cell_type": "code",
      "execution_count": 27,
      "metadata": {
        "id": "e95b7e5b"
      },
      "outputs": [],
      "source": [
        "model_path = f'/content/drive/MyDrive/msc_project/model/{title}'\n",
        "os.makedirs(model_path, exist_ok=True)"
      ],
      "id": "e95b7e5b"
    },
    {
      "cell_type": "code",
      "source": [
        "datagen = ImageDataGenerator(\n",
        "    preprocessing_function= \\\n",
        "    tensorflow.keras.applications.mobilenet.preprocess_input)\n",
        "\n",
        "train_batches = datagen.flow_from_directory(train_dir,\n",
        "                                            target_size=(image_size),\n",
        "                                            batch_size=10)\n",
        "\n",
        "valid_batches = datagen.flow_from_directory(test_dir,\n",
        "                                            target_size=(image_size),\n",
        "                                            batch_size=10)\n",
        "\n",
        "# Note: shuffle=False causes the test dataset to not be shuffled\n",
        "test_batches = datagen.flow_from_directory(test_dir,\n",
        "                                            target_size=(image_size),\n",
        "                                            batch_size=1,\n",
        "                                            shuffle=False)"
      ],
      "metadata": {
        "id": "7ATMKowsaH4V",
        "colab": {
          "base_uri": "https://localhost:8080/"
        },
        "outputId": "b1f53716-b431-4a66-a578-07784f84e167"
      },
      "id": "7ATMKowsaH4V",
      "execution_count": 28,
      "outputs": [
        {
          "output_type": "stream",
          "name": "stdout",
          "text": [
            "Found 12000 images belonging to 2 classes.\n",
            "Found 600 images belonging to 2 classes.\n",
            "Found 600 images belonging to 2 classes.\n"
          ]
        }
      ]
    },
    {
      "cell_type": "code",
      "source": [
        "train_batches.class_indices"
      ],
      "metadata": {
        "id": "2GDPYOeaVw_n",
        "colab": {
          "base_uri": "https://localhost:8080/"
        },
        "outputId": "04866302-3d29-4736-818f-e5093830c285"
      },
      "id": "2GDPYOeaVw_n",
      "execution_count": 29,
      "outputs": [
        {
          "output_type": "execute_result",
          "data": {
            "text/plain": [
              "{'Seb': 0, 'nevus_mel': 1}"
            ]
          },
          "metadata": {},
          "execution_count": 29
        }
      ]
    },
    {
      "cell_type": "code",
      "source": [
        "valid_batches.class_indices"
      ],
      "metadata": {
        "id": "KiRi8zD6ZIyI",
        "colab": {
          "base_uri": "https://localhost:8080/"
        },
        "outputId": "723dbc62-882d-4b8c-e766-2ae73c1b3e58"
      },
      "id": "KiRi8zD6ZIyI",
      "execution_count": 30,
      "outputs": [
        {
          "output_type": "execute_result",
          "data": {
            "text/plain": [
              "{'Seb': 0, 'nevus_mel': 1}"
            ]
          },
          "metadata": {},
          "execution_count": 30
        }
      ]
    },
    {
      "cell_type": "code",
      "source": [
        "from collections import Counter\n",
        "\n",
        "class_counts = Counter(train_batches.classes)\n",
        "print(\"Number of images per class:\", class_counts)\n"
      ],
      "metadata": {
        "id": "kunFVJitV2gZ",
        "colab": {
          "base_uri": "https://localhost:8080/"
        },
        "outputId": "8958abec-771f-4247-bdfa-3e137c512adf"
      },
      "id": "kunFVJitV2gZ",
      "execution_count": 31,
      "outputs": [
        {
          "output_type": "stream",
          "name": "stdout",
          "text": [
            "Number of images per class: Counter({1: 10476, 0: 1524})\n"
          ]
        }
      ]
    },
    {
      "cell_type": "code",
      "source": [
        "class_names = list(train_batches.class_indices.keys())\n",
        "class_counts_with_names = {class_names[idx]: count for idx, count in class_counts.items()}\n",
        "print(\"Number of images per class:\", class_counts_with_names)"
      ],
      "metadata": {
        "id": "pZlJ57JkV_Pp",
        "colab": {
          "base_uri": "https://localhost:8080/"
        },
        "outputId": "e2441250-61fa-4e05-e6b6-ff65fd4cc54c"
      },
      "id": "pZlJ57JkV_Pp",
      "execution_count": 32,
      "outputs": [
        {
          "output_type": "stream",
          "name": "stdout",
          "text": [
            "Number of images per class: {'Seb': 1524, 'nevus_mel': 10476}\n"
          ]
        }
      ]
    },
    {
      "cell_type": "code",
      "source": [
        "train_steps = np.ceil(train_batches.n / batch)\n",
        "test_steps = np.ceil(test_batches.n / batch)\n",
        "val_steps = np.ceil(valid_batches.n / batch)"
      ],
      "metadata": {
        "id": "FjZnz8QRO8xD"
      },
      "id": "FjZnz8QRO8xD",
      "execution_count": 33,
      "outputs": []
    },
    {
      "cell_type": "code",
      "source": [
        "early_stopping = EarlyStopping(monitor='val_loss',patience=8)\n",
        "\n",
        "checkpointer = tf.keras.callbacks.ModelCheckpoint(filepath = 'model.hdf5',\n",
        "                                                  monitor = 'val_accuracy',\n",
        "                                                  verbose = 1,\n",
        "                                                  save_best_only = True,\n",
        "                                                  save_weights_only = True,\n",
        "                                                  mode = 'max')\n",
        "\n",
        "def step_decay(epoch):\n",
        "    initial_lrate = 0.00002\n",
        "    drop = 0.1\n",
        "    epochs_drop = 10.0\n",
        "    lrate = initial_lrate * math.pow(drop, math.floor((1+epoch)/epochs_drop))\n",
        "    return lrate\n",
        "\n",
        "lr_scheduler = tf.keras.callbacks.LearningRateScheduler(step_decay, verbose=1)"
      ],
      "metadata": {
        "id": "lQnHiksDahxQ"
      },
      "id": "lQnHiksDahxQ",
      "execution_count": 34,
      "outputs": []
    },
    {
      "cell_type": "code",
      "source": [
        "callbacks = [early_stopping, checkpointer, lr_scheduler]"
      ],
      "metadata": {
        "id": "t9YyA-CMalyq"
      },
      "id": "t9YyA-CMalyq",
      "execution_count": 35,
      "outputs": []
    },
    {
      "cell_type": "code",
      "source": [
        "history = model.fit_generator(train_batches, steps_per_epoch=train_steps,\n",
        "                              validation_data=valid_batches,\n",
        "                              validation_steps=test_steps,\n",
        "                              epochs=30,\n",
        "                              callbacks=callbacks)"
      ],
      "metadata": {
        "id": "h0jl4qCjapIq",
        "colab": {
          "base_uri": "https://localhost:8080/"
        },
        "outputId": "dac2ba6e-dfe9-4ea4-8454-a3b8901cc788"
      },
      "id": "h0jl4qCjapIq",
      "execution_count": 36,
      "outputs": [
        {
          "output_type": "stream",
          "name": "stderr",
          "text": [
            "<ipython-input-36-13082ddda168>:1: UserWarning: `Model.fit_generator` is deprecated and will be removed in a future version. Please use `Model.fit`, which supports generators.\n",
            "  history = model.fit_generator(train_batches, steps_per_epoch=train_steps,\n"
          ]
        },
        {
          "output_type": "stream",
          "name": "stdout",
          "text": [
            "\n",
            "Epoch 1: LearningRateScheduler setting learning rate to 2e-05.\n",
            "Epoch 1/30\n",
            "375/375 [==============================] - ETA: 0s - loss: 0.2571 - accuracy: 0.9040\n",
            "Epoch 1: val_accuracy improved from -inf to 0.88421, saving model to model.hdf5\n",
            "375/375 [==============================] - 2973s 8s/step - loss: 0.2571 - accuracy: 0.9040 - val_loss: 0.2587 - val_accuracy: 0.8842 - lr: 2.0000e-05\n",
            "\n",
            "Epoch 2: LearningRateScheduler setting learning rate to 2e-05.\n",
            "Epoch 2/30\n",
            "375/375 [==============================] - ETA: 0s - loss: 0.1822 - accuracy: 0.9325\n",
            "Epoch 2: val_accuracy did not improve from 0.88421\n",
            "375/375 [==============================] - 1897s 5s/step - loss: 0.1822 - accuracy: 0.9325 - val_loss: 0.2633 - val_accuracy: 0.8737 - lr: 2.0000e-05\n",
            "\n",
            "Epoch 3: LearningRateScheduler setting learning rate to 2e-05.\n",
            "Epoch 3/30\n",
            "375/375 [==============================] - ETA: 0s - loss: 0.1423 - accuracy: 0.9509\n",
            "Epoch 3: val_accuracy improved from 0.88421 to 0.92105, saving model to model.hdf5\n",
            "375/375 [==============================] - 1188s 3s/step - loss: 0.1423 - accuracy: 0.9509 - val_loss: 0.2022 - val_accuracy: 0.9211 - lr: 2.0000e-05\n",
            "\n",
            "Epoch 4: LearningRateScheduler setting learning rate to 2e-05.\n",
            "Epoch 4/30\n",
            "375/375 [==============================] - ETA: 0s - loss: 0.1030 - accuracy: 0.9675\n",
            "Epoch 4: val_accuracy did not improve from 0.92105\n",
            "375/375 [==============================] - 742s 2s/step - loss: 0.1030 - accuracy: 0.9675 - val_loss: 0.4716 - val_accuracy: 0.8053 - lr: 2.0000e-05\n",
            "\n",
            "Epoch 5: LearningRateScheduler setting learning rate to 2e-05.\n",
            "Epoch 5/30\n",
            "375/375 [==============================] - ETA: 0s - loss: 0.0795 - accuracy: 0.9792\n",
            "Epoch 5: val_accuracy did not improve from 0.92105\n",
            "375/375 [==============================] - 513s 1s/step - loss: 0.0795 - accuracy: 0.9792 - val_loss: 0.3969 - val_accuracy: 0.8684 - lr: 2.0000e-05\n",
            "\n",
            "Epoch 6: LearningRateScheduler setting learning rate to 2e-05.\n",
            "Epoch 6/30\n",
            "375/375 [==============================] - ETA: 0s - loss: 0.0756 - accuracy: 0.9776\n",
            "Epoch 6: val_accuracy did not improve from 0.92105\n",
            "375/375 [==============================] - 375s 995ms/step - loss: 0.0756 - accuracy: 0.9776 - val_loss: 0.4409 - val_accuracy: 0.8158 - lr: 2.0000e-05\n",
            "\n",
            "Epoch 7: LearningRateScheduler setting learning rate to 2e-05.\n",
            "Epoch 7/30\n",
            "375/375 [==============================] - ETA: 0s - loss: 0.0664 - accuracy: 0.9829\n",
            "Epoch 7: val_accuracy did not improve from 0.92105\n",
            "375/375 [==============================] - 293s 781ms/step - loss: 0.0664 - accuracy: 0.9829 - val_loss: 0.2462 - val_accuracy: 0.9105 - lr: 2.0000e-05\n",
            "\n",
            "Epoch 8: LearningRateScheduler setting learning rate to 2e-05.\n",
            "Epoch 8/30\n",
            "375/375 [==============================] - ETA: 0s - loss: 0.0545 - accuracy: 0.9848\n",
            "Epoch 8: val_accuracy improved from 0.92105 to 0.92632, saving model to model.hdf5\n",
            "375/375 [==============================] - 252s 670ms/step - loss: 0.0545 - accuracy: 0.9848 - val_loss: 0.2819 - val_accuracy: 0.9263 - lr: 2.0000e-05\n",
            "\n",
            "Epoch 9: LearningRateScheduler setting learning rate to 2e-05.\n",
            "Epoch 9/30\n",
            "375/375 [==============================] - ETA: 0s - loss: 0.0470 - accuracy: 0.9877\n",
            "Epoch 9: val_accuracy did not improve from 0.92632\n",
            "375/375 [==============================] - 216s 577ms/step - loss: 0.0470 - accuracy: 0.9877 - val_loss: 0.3469 - val_accuracy: 0.8947 - lr: 2.0000e-05\n",
            "\n",
            "Epoch 10: LearningRateScheduler setting learning rate to 2.0000000000000003e-06.\n",
            "Epoch 10/30\n",
            "375/375 [==============================] - ETA: 0s - loss: 0.0314 - accuracy: 0.9944\n",
            "Epoch 10: val_accuracy did not improve from 0.92632\n",
            "375/375 [==============================] - 202s 539ms/step - loss: 0.0314 - accuracy: 0.9944 - val_loss: 0.4287 - val_accuracy: 0.8684 - lr: 2.0000e-06\n",
            "\n",
            "Epoch 11: LearningRateScheduler setting learning rate to 2.0000000000000003e-06.\n",
            "Epoch 11/30\n",
            "375/375 [==============================] - ETA: 0s - loss: 0.0287 - accuracy: 0.9955\n",
            "Epoch 11: val_accuracy did not improve from 0.92632\n",
            "375/375 [==============================] - 188s 501ms/step - loss: 0.0287 - accuracy: 0.9955 - val_loss: 0.3755 - val_accuracy: 0.8789 - lr: 2.0000e-06\n"
          ]
        }
      ]
    },
    {
      "cell_type": "code",
      "source": [
        "# Compile the model\n",
        "model.compile(optimizer='adam',loss='binary_crossentropy',metrics=['accuracy'])"
      ],
      "metadata": {
        "id": "tJVtJ6W2PNQi"
      },
      "id": "tJVtJ6W2PNQi",
      "execution_count": 37,
      "outputs": []
    },
    {
      "cell_type": "code",
      "execution_count": 38,
      "metadata": {
        "id": "1a6c5f39",
        "colab": {
          "base_uri": "https://localhost:8080/",
          "height": 904
        },
        "outputId": "c795e983-b3d8-4cc2-b21e-e56fafaab075"
      },
      "outputs": [
        {
          "output_type": "display_data",
          "data": {
            "text/plain": [
              "<Figure size 640x480 with 1 Axes>"
            ],
            "image/png": "[encoded data removed]"
          },
          "metadata": {}
        },
        {
          "output_type": "display_data",
          "data": {
            "text/plain": [
              "<Figure size 640x480 with 1 Axes>"
            ],
            "image/png": "[encoded data removed]"
          },
          "metadata": {}
        },
        {
          "output_type": "display_data",
          "data": {
            "text/plain": [
              "<Figure size 640x480 with 0 Axes>"
            ]
          },
          "metadata": {}
        }
      ],
      "source": [
        "graph_it(history)"
      ],
      "id": "1a6c5f39"
    },
    {
      "cell_type": "markdown",
      "metadata": {
        "id": "1a1bbbee"
      },
      "source": [
        "**Model Evaluation using test data**"
      ],
      "id": "1a1bbbee"
    },
    {
      "cell_type": "code",
      "execution_count": 39,
      "metadata": {
        "id": "f7da54c9",
        "colab": {
          "base_uri": "https://localhost:8080/",
          "height": 1000
        },
        "outputId": "49192a5f-1376-46f6-b9f8-1794d1e34163"
      },
      "outputs": [
        {
          "output_type": "stream",
          "name": "stdout",
          "text": [
            "600/600 [==============================] - 34s 53ms/step\n"
          ]
        },
        {
          "output_type": "display_data",
          "data": {
            "text/plain": [
              "<Figure size 640x480 with 2 Axes>"
            ],
            "image/png": "[encoded data removed]"
          },
          "metadata": {}
        },
        {
          "output_type": "stream",
          "name": "stdout",
          "text": [
            "\n",
            "               precision    recall  f1-score   support\n",
            "\n",
            "           0       0.70      0.67      0.68        90\n",
            "           1       0.94      0.95      0.95       510\n",
            "\n",
            "    accuracy                           0.91       600\n",
            "   macro avg       0.82      0.81      0.81       600\n",
            "weighted avg       0.91      0.91      0.91       600\n",
            "\n",
            "Sensitivity: 0.949 Specificity: 0.667 Precision: 0.905 ROC_AUC_SCORE: 0.909\n",
            "\n"
          ]
        },
        {
          "output_type": "display_data",
          "data": {
            "text/plain": [
              "<Figure size 400x400 with 1 Axes>"
            ],
            "image/png": "[encoded data removed]"
          },
          "metadata": {}
        }
      ],
      "source": [
        "model.load_weights(filepath = 'model.hdf5')\n",
        "test_it(model, test_batches)"
      ],
      "id": "f7da54c9"
    },
    {
      "cell_type": "code",
      "source": [
        "from sklearn.metrics import confusion_matrix\n",
        "\n",
        "predictions = model.predict_generator(test_batches, steps=len(test_batches), verbose=1)\n",
        "\n",
        "y_pred = np.argmax(predictions, axis=1)\n",
        "targetnames = ['mel','sb_nv']\n",
        "y_true = test_batches.classes\n",
        "\n",
        "cm1 = confusion_matrix(y_true,y_pred)\n",
        "print('Confusion Matrix : \\n', cm1)\n",
        "\n",
        "total1=sum(sum(cm1))\n",
        "#####from confusion matrix calculate accuracy\n",
        "accuracy1=(cm1[0,0]+cm1[1,1])/total1\n",
        "print ('Accuracy : ', accuracy1)\n",
        "\n",
        "sensitivity1 = cm1[0,0]/(cm1[0,0]+cm1[1,0])\n",
        "print('Sensitivity : ', sensitivity1 )\n",
        "\n",
        "specificity1 = cm1[1,1]/(cm1[1,1]+cm1[0,1])\n",
        "print('Specificity : ', specificity1)"
      ],
      "metadata": {
        "colab": {
          "base_uri": "https://localhost:8080/"
        },
        "id": "aTd2X0IOBWcH",
        "outputId": "28652bf4-d0ea-4a5d-9bb1-13abf4ea8895"
      },
      "id": "aTd2X0IOBWcH",
      "execution_count": null,
      "outputs": [
        {
          "output_type": "stream",
          "name": "stdout",
          "text": [
            "  2/600 [..............................] - ETA: 31s"
          ]
        },
        {
          "output_type": "stream",
          "name": "stderr",
          "text": [
            "<ipython-input-40-3377af50feee>:3: UserWarning: `Model.predict_generator` is deprecated and will be removed in a future version. Please use `Model.predict`, which supports generators.\n",
            "  predictions = model.predict_generator(test_batches, steps=len(test_batches), verbose=1)\n"
          ]
        },
        {
          "output_type": "stream",
          "name": "stdout",
          "text": [
            "399/600 [==================>...........] - ETA: 8s"
          ]
        }
      ]
    },
    {
      "cell_type": "code",
      "execution_count": null,
      "metadata": {
        "id": "b0c097c1"
      },
      "outputs": [],
      "source": [],
      "id": "b0c097c1"
    }
  ],
  "metadata": {
    "colab": {
      "provenance": [],
      "gpuType": "T4"
    },
    "kernelspec": {
      "display_name": "Python 3",
      "name": "python3"
    },
    "language_info": {
      "codemirror_mode": {
        "name": "ipython",
        "version": 3
      },
      "file_extension": ".py",
      "mimetype": "text/x-python",
      "name": "python",
      "nbconvert_exporter": "python",
      "pygments_lexer": "ipython3",
      "version": "3.10.12"
    },
    "papermill": {
      "default_parameters": {},
      "duration": 6543.181713,
      "end_time": "2023-08-10T12:04:30.031582",
      "environment_variables": {},
      "exception": null,
      "input_path": "__notebook__.ipynb",
      "output_path": "__notebook__.ipynb",
      "parameters": {},
      "start_time": "2023-08-10T10:15:26.849869",
      "version": "2.4.0"
    },
    "accelerator": "GPU"
  },
  "nbformat": 4,
  "nbformat_minor": 5
}