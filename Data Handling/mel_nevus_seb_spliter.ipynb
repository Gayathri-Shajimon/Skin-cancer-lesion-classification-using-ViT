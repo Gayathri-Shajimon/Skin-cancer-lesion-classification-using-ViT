{
 "cells": [
  {
   "cell_type": "code",
   "execution_count": 1,
   "id": "1dd5a84b",
   "metadata": {},
   "outputs": [],
   "source": [
    "from zipfile import ZipFile\n",
    "import numpy as np\n",
    "import pandas as pd\n",
    "import shutil\n",
    "import os\n",
    "import time\n",
    "from PIL import Image"
   ]
  },
  {
   "cell_type": "code",
   "execution_count": 48,
   "id": "933dbdcb",
   "metadata": {},
   "outputs": [],
   "source": [
    "# Set the paths for the data and the ground truth files\n",
    "train_dir = \"D:/msc/data/ISIC-2017_Training_Data\"\n",
    "train_truth = \"D:/msc/data/ISIC-2017_Training_Part3_GroundTruth.csv\"\n",
    "\n",
    "test_dir = \"D:/msc/data/ISIC-2017_Test_v2_Data\"\n",
    "test_truth = \"D:/msc/data/ISIC-2017_Test_v2_Part3_GroundTruth.csv\"\n",
    "\n",
    "val_dir = \"D:/msc/data/ISIC-2017_Validation_Data\"\n",
    "val_truth = \"D:/msc/data/ISIC-2017_Validation_Part3_GroundTruth.csv\""
   ]
  },
  {
   "cell_type": "code",
   "execution_count": 6,
   "id": "3f23a5b0",
   "metadata": {},
   "outputs": [],
   "source": [
    "# Read the CSV file into a Pandas dataframe\n",
    "df_train = pd.read_csv(train_truth)\n",
    "df_test = pd.read_csv(test_truth)\n",
    "df_val = pd.read_csv(val_truth)"
   ]
  },
  {
   "cell_type": "code",
   "execution_count": 7,
   "id": "de0865cd",
   "metadata": {},
   "outputs": [
    {
     "data": {
      "text/html": [
       "<div>\n",
       "<style scoped>\n",
       "    .dataframe tbody tr th:only-of-type {\n",
       "        vertical-align: middle;\n",
       "    }\n",
       "\n",
       "    .dataframe tbody tr th {\n",
       "        vertical-align: top;\n",
       "    }\n",
       "\n",
       "    .dataframe thead th {\n",
       "        text-align: right;\n",
       "    }\n",
       "</style>\n",
       "<table border=\"1\" class=\"dataframe\">\n",
       "  <thead>\n",
       "    <tr style=\"text-align: right;\">\n",
       "      <th></th>\n",
       "      <th>image_id</th>\n",
       "      <th>melanoma</th>\n",
       "      <th>seborrheic_keratosis</th>\n",
       "    </tr>\n",
       "  </thead>\n",
       "  <tbody>\n",
       "    <tr>\n",
       "      <th>0</th>\n",
       "      <td>ISIC_0000000</td>\n",
       "      <td>0.0</td>\n",
       "      <td>0.0</td>\n",
       "    </tr>\n",
       "    <tr>\n",
       "      <th>1</th>\n",
       "      <td>ISIC_0000001</td>\n",
       "      <td>0.0</td>\n",
       "      <td>0.0</td>\n",
       "    </tr>\n",
       "    <tr>\n",
       "      <th>2</th>\n",
       "      <td>ISIC_0000002</td>\n",
       "      <td>1.0</td>\n",
       "      <td>0.0</td>\n",
       "    </tr>\n",
       "    <tr>\n",
       "      <th>3</th>\n",
       "      <td>ISIC_0000003</td>\n",
       "      <td>0.0</td>\n",
       "      <td>0.0</td>\n",
       "    </tr>\n",
       "    <tr>\n",
       "      <th>4</th>\n",
       "      <td>ISIC_0000004</td>\n",
       "      <td>1.0</td>\n",
       "      <td>0.0</td>\n",
       "    </tr>\n",
       "  </tbody>\n",
       "</table>\n",
       "</div>"
      ],
      "text/plain": [
       "       image_id  melanoma  seborrheic_keratosis\n",
       "0  ISIC_0000000       0.0                   0.0\n",
       "1  ISIC_0000001       0.0                   0.0\n",
       "2  ISIC_0000002       1.0                   0.0\n",
       "3  ISIC_0000003       0.0                   0.0\n",
       "4  ISIC_0000004       1.0                   0.0"
      ]
     },
     "execution_count": 7,
     "metadata": {},
     "output_type": "execute_result"
    }
   ],
   "source": [
    "df_train.head()"
   ]
  },
  {
   "cell_type": "code",
   "execution_count": 8,
   "id": "a6e946bb",
   "metadata": {},
   "outputs": [
    {
     "data": {
      "text/plain": [
       "0.0    1746\n",
       "1.0     254\n",
       "Name: seborrheic_keratosis, dtype: int64"
      ]
     },
     "execution_count": 8,
     "metadata": {},
     "output_type": "execute_result"
    }
   ],
   "source": [
    "df_train[\"seborrheic_keratosis\"].value_counts()"
   ]
  },
  {
   "cell_type": "code",
   "execution_count": 9,
   "id": "3418b90e",
   "metadata": {},
   "outputs": [
    {
     "data": {
      "text/plain": [
       "0.0    1626\n",
       "1.0     374\n",
       "Name: melanoma, dtype: int64"
      ]
     },
     "execution_count": 9,
     "metadata": {},
     "output_type": "execute_result"
    }
   ],
   "source": [
    "df_train[\"melanoma\"].value_counts()"
   ]
  },
  {
   "cell_type": "code",
   "execution_count": 19,
   "id": "2de518b0",
   "metadata": {},
   "outputs": [
    {
     "data": {
      "text/plain": [
       "1052    0.0\n",
       "1056    0.0\n",
       "1061    0.0\n",
       "1068    0.0\n",
       "1072    0.0\n",
       "       ... \n",
       "1989    0.0\n",
       "1995    0.0\n",
       "1996    0.0\n",
       "1997    0.0\n",
       "1999    0.0\n",
       "Name: melanoma, Length: 254, dtype: float64"
      ]
     },
     "execution_count": 19,
     "metadata": {},
     "output_type": "execute_result"
    }
   ],
   "source": [
    "df_train.melanoma[df_train.iloc[:, 1] == 1]"
   ]
  },
  {
   "cell_type": "code",
   "execution_count": 27,
   "id": "4ca65c72",
   "metadata": {},
   "outputs": [],
   "source": [
    "# Define a function to add an 'id' column to a ground truth dataset\n",
    "def add_id_column(ground_truth):\n",
    "    # Create a new column named 'id' with default value 'nevu'\n",
    "    ground_truth['id'] = 'nevu'\n",
    "\n",
    "    # Set the value of the 'id' column to 'mel' for melanoma images\n",
    "    ground_truth.loc[ground_truth.iloc[:, 1] == 1, 'id'] = 'mel'\n",
    "\n",
    "    # Set the value of the 'id' column to 'seb' for seborrheic keratosis images\n",
    "    ground_truth.loc[ground_truth.iloc[:, 2] == 1, 'id'] = 'seb'\n"
   ]
  },
  {
   "cell_type": "code",
   "execution_count": 29,
   "id": "bf4eb81c",
   "metadata": {},
   "outputs": [],
   "source": [
    "# Add an 'id' column to each ground truth dataset\n",
    "add_id_column(df_train)\n",
    "add_id_column(df_test)\n",
    "add_id_column(df_val)"
   ]
  },
  {
   "cell_type": "code",
   "execution_count": 36,
   "id": "e89bbecb",
   "metadata": {},
   "outputs": [
    {
     "data": {
      "text/plain": [
       "<AxesSubplot:title={'center':'Training Data Distribution'}>"
      ]
     },
     "execution_count": 36,
     "metadata": {},
     "output_type": "execute_result"
    },
    {
     "data": {
      "image/png": "[encoded data removed]",
      "text/plain": [
       "<Figure size 640x480 with 1 Axes>"
      ]
     },
     "metadata": {},
     "output_type": "display_data"
    }
   ],
   "source": [
    "df_train[\"id\"].value_counts().plot(kind=\"barh\", title=\"Training Data Distribution\")"
   ]
  },
  {
   "cell_type": "code",
   "execution_count": 37,
   "id": "7d416c77",
   "metadata": {},
   "outputs": [
    {
     "data": {
      "text/plain": [
       "<AxesSubplot:title={'center':'Test Data Distribution'}>"
      ]
     },
     "execution_count": 37,
     "metadata": {},
     "output_type": "execute_result"
    },
    {
     "data": {
      "image/png": "[encoded data removed]",
      "text/plain": [
       "<Figure size 640x480 with 1 Axes>"
      ]
     },
     "metadata": {},
     "output_type": "display_data"
    }
   ],
   "source": [
    "df_test[\"id\"].value_counts().plot(kind=\"barh\", title=\"Test Data Distribution\")"
   ]
  },
  {
   "cell_type": "code",
   "execution_count": 38,
   "id": "356f7775",
   "metadata": {
    "scrolled": true
   },
   "outputs": [
    {
     "data": {
      "text/plain": [
       "<AxesSubplot:title={'center':'Val Data Distribution'}>"
      ]
     },
     "execution_count": 38,
     "metadata": {},
     "output_type": "execute_result"
    },
    {
     "data": {
      "image/png": "[encoded data removed]",
      "text/plain": [
       "<Figure size 640x480 with 1 Axes>"
      ]
     },
     "metadata": {},
     "output_type": "display_data"
    }
   ],
   "source": [
    "df_val[\"id\"].value_counts().plot(kind=\"barh\", title=\"Val Data Distribution\")"
   ]
  },
  {
   "cell_type": "code",
   "execution_count": 39,
   "id": "75e91410",
   "metadata": {},
   "outputs": [],
   "source": [
    "# Set the directories for the data\n",
    "data_dir = 'D:/msc/data/'\n",
    "\n",
    "# Set the directories for the split datasets\n",
    "train_splited_dir = os.path.join(data_dir, 'train_splited')\n",
    "test_splited_dir = os.path.join(data_dir, 'test_splited')\n",
    "val_splited_dir = os.path.join(data_dir, 'val_splited')"
   ]
  },
  {
   "cell_type": "code",
   "execution_count": 53,
   "id": "5255230d",
   "metadata": {},
   "outputs": [],
   "source": [
    "# Define a function to split a dataset based on the ground truth 'id' values\n",
    "def split_dataset(dataset_dir, ground_truth, splited_dir):\n",
    "    # Create new directories for each 'id' value\n",
    "    mel_dir = os.path.join(splited_dir, 'mel')\n",
    "    seb_dir = os.path.join(splited_dir, 'seb')\n",
    "    nevu_dir = os.path.join(splited_dir, 'nevu')\n",
    "    os.makedirs(mel_dir, exist_ok=True)\n",
    "    os.makedirs(seb_dir, exist_ok=True)\n",
    "    os.makedirs(nevu_dir, exist_ok=True)\n",
    "    \n",
    "    # Loop over each row in the ground truth data\n",
    "    for index, row in ground_truth.iterrows():\n",
    "        # Get the image ID and 'id' value for this row\n",
    "        image_id = row.iloc[0]\n",
    "        image_type = row['id']\n",
    "        \n",
    "        # Set the destination directory based on the 'id' value\n",
    "        if image_type == 'mel':\n",
    "            dst_dir = mel_dir\n",
    "        elif image_type == 'seb':\n",
    "            dst_dir = seb_dir\n",
    "        else:\n",
    "            dst_dir = nevu_dir\n",
    "        \n",
    "        # Copy the image file from the dataset directory to the destination directory\n",
    "        src_file = os.path.join(dataset_dir, f'{image_id}.jpg')\n",
    "        dst_file = os.path.join(dst_dir, f'{image_id}.jpg')\n",
    "        shutil.copy(src_file, dst_file)\n",
    "        \n",
    "    # Print a completion message\n",
    "    print(f'Done splitting dataset in {dataset_dir}!')    "
   ]
  },
  {
   "cell_type": "code",
   "execution_count": null,
   "id": "44d7402c",
   "metadata": {},
   "outputs": [],
   "source": [
    "# Split the train, test, and validation datasets based on the ground truth 'id' values\n",
    "split_dataset(train_dir, df_train, train_splited_dir)\n",
    "split_dataset(test_dir, df_test, test_splited_dir)\n",
    "split_dataset(val_dir, df_val, val_splited_dir)"
   ]
  }
 ],
 "metadata": {
  "kernelspec": {
   "display_name": "Python 3 (ipykernel)",
   "language": "python",
   "name": "python3"
  },
  "language_info": {
   "codemirror_mode": {
    "name": "ipython",
    "version": 3
   },
   "file_extension": ".py",
   "mimetype": "text/x-python",
   "name": "python",
   "nbconvert_exporter": "python",
   "pygments_lexer": "ipython3",
   "version": "3.9.13"
  }
 },
 "nbformat": 4,
 "nbformat_minor": 5
}
