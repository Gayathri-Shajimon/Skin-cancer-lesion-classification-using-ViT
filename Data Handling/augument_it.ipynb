{
 "cells": [
  {
   "cell_type": "code",
   "execution_count": 9,
   "id": "a909f88f",
   "metadata": {},
   "outputs": [],
   "source": [
    "from keras.preprocessing.image import ImageDataGenerator\n",
    "from shutil import copyfile\n",
    "import os\n",
    "import shutil"
   ]
  },
  {
   "cell_type": "code",
   "execution_count": 10,
   "id": "99cb69d6",
   "metadata": {},
   "outputs": [],
   "source": [
    "# Define the data generator with the desired data augmentation\n",
    "datagen = ImageDataGenerator(\n",
    "    rotation_range=180,\n",
    "    width_shift_range=0.1,\n",
    "    height_shift_range=0.1,\n",
    "    zoom_range=0.2,\n",
    "    horizontal_flip=True,\n",
    "    vertical_flip=True,\n",
    "    fill_mode='nearest')"
   ]
  },
  {
   "cell_type": "code",
   "execution_count": 12,
   "id": "73f9f390",
   "metadata": {},
   "outputs": [],
   "source": [
    "def augment_data(data_dir, aug_dir, merged_dir, n_augmented = 5):\n",
    "    # Get the list of tasks in the data directory\n",
    "    tasks = os.listdir(data_dir)\n",
    "\n",
    "    # Loop over each task\n",
    "    for task in tasks:\n",
    "        task_dir = os.path.join(data_dir, task)\n",
    "\n",
    "        # Get the list of classes in the task directory\n",
    "        classes = os.listdir(task_dir)\n",
    "\n",
    "        # Loop over each class\n",
    "        for class_name in classes:\n",
    "            class_dir = os.path.join(task_dir, class_name)\n",
    "\n",
    "            # Create a directory to save the augmented images\n",
    "            save_dir = os.path.join(aug_dir, task, class_name)\n",
    "            if not os.path.exists(save_dir):\n",
    "                os.makedirs(save_dir)\n",
    "\n",
    "            # Create a data generator for the class\n",
    "            generator = datagen.flow_from_directory(\n",
    "                task_dir,\n",
    "                classes=[class_name],\n",
    "                target_size=(224, 224),\n",
    "                batch_size=1,\n",
    "                class_mode='categorical',\n",
    "                save_to_dir=save_dir,\n",
    "                save_prefix='aug',\n",
    "                save_format='jpg'\n",
    "            )\n",
    "\n",
    "            # Generate augmented images for each image in the class\n",
    "            n_original = len(os.listdir(class_dir))\n",
    "            for i in range(n_augmented * n_original):\n",
    "                next(generator)\n",
    "\n",
    "            # Print the total number of images for this class\n",
    "            n_total = n_original + n_augmented * n_original\n",
    "            print(f'Total number of images for {task}/{class_name}: {n_total}')\n",
    "\n",
    "    # Move augmented images to the merged directory\n",
    "    for root, _, files in os.walk(aug_dir):\n",
    "        for file in files:\n",
    "            src_file = os.path.join(root, file)\n",
    "            dest_file = os.path.join(merged_dir, os.path.relpath(src_file, aug_dir))\n",
    "            os.makedirs(os.path.dirname(dest_file), exist_ok=True)\n",
    "            shutil.move(src_file, dest_file)\n",
    "\n",
    "    # Copy original images to the merged directory\n",
    "    for root, _, files in os.walk(data_dir):\n",
    "        for file in files:\n",
    "            src_file = os.path.join(root, file)\n",
    "            dest_file = os.path.join(merged_dir, os.path.relpath(src_file, data_dir))\n",
    "            os.makedirs(os.path.dirname(dest_file), exist_ok=True)\n",
    "            shutil.copy(src_file, dest_file)\n",
    "\n",
    "    # Optionally, delete the data_dir and aug_dir if needed\n",
    "    shutil.rmtree(aug_dir)"
   ]
  },
  {
   "cell_type": "code",
   "execution_count": 13,
   "id": "ad5f31d2",
   "metadata": {},
   "outputs": [
    {
     "name": "stdout",
     "output_type": "stream",
     "text": [
      "Found 1626 images belonging to 1 classes.\n",
      "Total number of images for task1/combined: 9756\n",
      "Found 374 images belonging to 1 classes.\n",
      "Total number of images for task1/mel: 2244\n",
      "Found 1746 images belonging to 1 classes.\n",
      "Total number of images for task2/combined: 10476\n",
      "Found 254 images belonging to 1 classes.\n",
      "Total number of images for task2/Seb: 1524\n"
     ]
    }
   ],
   "source": [
    "augment_data(\"D:/msc/data/train\", \"D:/msc/data/temp\", \"D:/msc/data/train_augumented\")"
   ]
  },
  {
   "cell_type": "code",
   "execution_count": 15,
   "id": "757fbe59",
   "metadata": {},
   "outputs": [
    {
     "name": "stdout",
     "output_type": "stream",
     "text": [
      "Found 1746 images belonging to 1 classes.\n",
      "Total number of images for task1/combined: 10476\n",
      "Found 404 images belonging to 1 classes.\n",
      "Total number of images for task1/mel: 2424\n",
      "Found 1854 images belonging to 1 classes.\n",
      "Total number of images for task2/combined: 11124\n",
      "Found 296 images belonging to 1 classes.\n",
      "Total number of images for task2/seb: 1776\n"
     ]
    }
   ],
   "source": [
    "augment_data(\"D:/msc/data/train_merged\", \"D:/msc/data/temp\", \"D:/msc/data/train_merged_augumented\")"
   ]
  }
 ],
 "metadata": {
  "kernelspec": {
   "display_name": "Python 3 (ipykernel)",
   "language": "python",
   "name": "python3"
  },
  "language_info": {
   "codemirror_mode": {
    "name": "ipython",
    "version": 3
   },
   "file_extension": ".py",
   "mimetype": "text/x-python",
   "name": "python",
   "nbconvert_exporter": "python",
   "pygments_lexer": "ipython3",
   "version": "3.9.13"
  }
 },
 "nbformat": 4,
 "nbformat_minor": 5
}
